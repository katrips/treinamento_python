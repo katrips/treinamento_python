{
 "cells": [
  {
   "cell_type": "markdown",
   "source": [
    "# 4. Junção de tabelas"
   ],
   "metadata": {
    "collapsed": false
   }
  },
  {
   "cell_type": "code",
   "execution_count": 1,
   "outputs": [],
   "source": [
    "import numpy as np\n",
    "import pandas as pd"
   ],
   "metadata": {
    "collapsed": false,
    "ExecuteTime": {
     "end_time": "2023-07-21T17:55:36.057455100Z",
     "start_time": "2023-07-21T17:55:35.650028300Z"
    }
   }
  },
  {
   "cell_type": "markdown",
   "source": [
    "Vimos aqui como criar DFs, como filtrá-los, adicionar valores e agregar em novos DFs. O último ponto para manipulação de DFs é como será a interação entre dois diferentes DataFrames.\n",
    "\n",
    "Há 3 principais modos de integração de dataframes:\n",
    "    - **.merge()** - muito utilizado, se assemelha ao procv/procx/etc. do excel;\n",
    "    - **.concat()** - parecido com concatenar strings só que em dataframes/tabelas, só adiciona do lado ou no final\n",
    "    - **.join()** - confesso que nunca uso, tipo um .merge() com os parâmetros left_index e right_index = True, assim como o .groupby() está para o .pivot_table(), prefiro simplesmente ignorar a existência dessa função por ser um .merge() com menos opções"
   ],
   "metadata": {
    "collapsed": false
   }
  },
  {
   "cell_type": "code",
   "execution_count": 28,
   "outputs": [
    {
     "data": {
      "text/plain": "                  Mundiais  Libertadores  Fundação\nCorinthians            2.0           1.0      1910\nPalmeiras              NaN           3.0      1914\nSantos                 2.0           3.0      1912\nSão Paulo              3.0           3.0      1930\nXV de Piracicaba       NaN           NaN      1913",
      "text/html": "<div>\n<style scoped>\n    .dataframe tbody tr th:only-of-type {\n        vertical-align: middle;\n    }\n\n    .dataframe tbody tr th {\n        vertical-align: top;\n    }\n\n    .dataframe thead th {\n        text-align: right;\n    }\n</style>\n<table border=\"1\" class=\"dataframe\">\n  <thead>\n    <tr style=\"text-align: right;\">\n      <th></th>\n      <th>Mundiais</th>\n      <th>Libertadores</th>\n      <th>Fundação</th>\n    </tr>\n  </thead>\n  <tbody>\n    <tr>\n      <th>Corinthians</th>\n      <td>2.0</td>\n      <td>1.0</td>\n      <td>1910</td>\n    </tr>\n    <tr>\n      <th>Palmeiras</th>\n      <td>NaN</td>\n      <td>3.0</td>\n      <td>1914</td>\n    </tr>\n    <tr>\n      <th>Santos</th>\n      <td>2.0</td>\n      <td>3.0</td>\n      <td>1912</td>\n    </tr>\n    <tr>\n      <th>São Paulo</th>\n      <td>3.0</td>\n      <td>3.0</td>\n      <td>1930</td>\n    </tr>\n    <tr>\n      <th>XV de Piracicaba</th>\n      <td>NaN</td>\n      <td>NaN</td>\n      <td>1913</td>\n    </tr>\n  </tbody>\n</table>\n</div>"
     },
     "execution_count": 28,
     "metadata": {},
     "output_type": "execute_result"
    }
   ],
   "source": [
    "df_times = pd.DataFrame(\n",
    "    {\n",
    "        \"Mundiais\": [2, np.nan, 2, 3, np.nan],\n",
    "        \"Libertadores\": [1, 3, 3, 3, np.nan],\n",
    "        \"Fundação\": [1910, 1914, 1912, 1930, 1913]\n",
    "    },\n",
    "    index=[\"Corinthians\", \"Palmeiras\", \"Santos\", \"São Paulo\", \"XV de Piracicaba\"]\n",
    ")\n",
    "\n",
    "df_times_plus = pd.DataFrame(\n",
    "    {\n",
    "        \"Mundiais\": [np.nan, np.nan, np.nan, 2],\n",
    "        \"Libertadores\": [np.nan, 2, 1, 1],\n",
    "        \"Fundação\": [1902, 1921, 1898, 1910]\n",
    "    },\n",
    "    index=[\"Fluminense\", \"Cruzeiro\", \"Vasco\", \"Corinthians\"]\n",
    ")\n",
    "\n",
    "df_times_2 = pd.DataFrame(\n",
    "    {\n",
    "        \"Estádio\": [\"Arena Neo Química\", \"Allianz Park\", \"Vila Belmiro\", \"Barão da Serra Negra\", \"Maracanã\"],\n",
    "        \"Cidade\": [\"São Paulo\", \"São Paulo\", \"Santos\", \"Piracicaba\", \"Maracanã\"],\n",
    "        \"Mundiais\": [2, np.nan, 2, np.nan, 1],\n",
    "    },\n",
    "    index=[\"Corinthians\", \"Palmeiras\", \"Santos\", \"XV de Piracicaba\", \"Flamengo\"]\n",
    ")\n",
    "\n",
    "\n",
    "\n",
    "df_times"
   ],
   "metadata": {
    "collapsed": false,
    "ExecuteTime": {
     "end_time": "2023-07-21T18:31:36.191558300Z",
     "start_time": "2023-07-21T18:31:36.165088700Z"
    }
   }
  },
  {
   "cell_type": "code",
   "execution_count": 29,
   "outputs": [
    {
     "data": {
      "text/plain": "             Mundiais  Libertadores  Fundação\nFluminense        NaN           NaN      1902\nCruzeiro          NaN           2.0      1921\nVasco             NaN           1.0      1898\nCorinthians       2.0           1.0      1910",
      "text/html": "<div>\n<style scoped>\n    .dataframe tbody tr th:only-of-type {\n        vertical-align: middle;\n    }\n\n    .dataframe tbody tr th {\n        vertical-align: top;\n    }\n\n    .dataframe thead th {\n        text-align: right;\n    }\n</style>\n<table border=\"1\" class=\"dataframe\">\n  <thead>\n    <tr style=\"text-align: right;\">\n      <th></th>\n      <th>Mundiais</th>\n      <th>Libertadores</th>\n      <th>Fundação</th>\n    </tr>\n  </thead>\n  <tbody>\n    <tr>\n      <th>Fluminense</th>\n      <td>NaN</td>\n      <td>NaN</td>\n      <td>1902</td>\n    </tr>\n    <tr>\n      <th>Cruzeiro</th>\n      <td>NaN</td>\n      <td>2.0</td>\n      <td>1921</td>\n    </tr>\n    <tr>\n      <th>Vasco</th>\n      <td>NaN</td>\n      <td>1.0</td>\n      <td>1898</td>\n    </tr>\n    <tr>\n      <th>Corinthians</th>\n      <td>2.0</td>\n      <td>1.0</td>\n      <td>1910</td>\n    </tr>\n  </tbody>\n</table>\n</div>"
     },
     "execution_count": 29,
     "metadata": {},
     "output_type": "execute_result"
    }
   ],
   "source": [
    "df_times_plus"
   ],
   "metadata": {
    "collapsed": false,
    "ExecuteTime": {
     "end_time": "2023-07-21T18:31:38.685982700Z",
     "start_time": "2023-07-21T18:31:38.657518300Z"
    }
   }
  },
  {
   "cell_type": "code",
   "execution_count": 30,
   "outputs": [
    {
     "data": {
      "text/plain": "                               Estádio      Cidade  Mundiais\nCorinthians          Arena Neo Química   São Paulo       2.0\nPalmeiras                 Allianz Park   São Paulo       NaN\nSantos                    Vila Belmiro      Santos       2.0\nXV de Piracicaba  Barão da Serra Negra  Piracicaba       NaN\nFlamengo                      Maracanã    Maracanã       1.0",
      "text/html": "<div>\n<style scoped>\n    .dataframe tbody tr th:only-of-type {\n        vertical-align: middle;\n    }\n\n    .dataframe tbody tr th {\n        vertical-align: top;\n    }\n\n    .dataframe thead th {\n        text-align: right;\n    }\n</style>\n<table border=\"1\" class=\"dataframe\">\n  <thead>\n    <tr style=\"text-align: right;\">\n      <th></th>\n      <th>Estádio</th>\n      <th>Cidade</th>\n      <th>Mundiais</th>\n    </tr>\n  </thead>\n  <tbody>\n    <tr>\n      <th>Corinthians</th>\n      <td>Arena Neo Química</td>\n      <td>São Paulo</td>\n      <td>2.0</td>\n    </tr>\n    <tr>\n      <th>Palmeiras</th>\n      <td>Allianz Park</td>\n      <td>São Paulo</td>\n      <td>NaN</td>\n    </tr>\n    <tr>\n      <th>Santos</th>\n      <td>Vila Belmiro</td>\n      <td>Santos</td>\n      <td>2.0</td>\n    </tr>\n    <tr>\n      <th>XV de Piracicaba</th>\n      <td>Barão da Serra Negra</td>\n      <td>Piracicaba</td>\n      <td>NaN</td>\n    </tr>\n    <tr>\n      <th>Flamengo</th>\n      <td>Maracanã</td>\n      <td>Maracanã</td>\n      <td>1.0</td>\n    </tr>\n  </tbody>\n</table>\n</div>"
     },
     "execution_count": 30,
     "metadata": {},
     "output_type": "execute_result"
    }
   ],
   "source": [
    "df_times_2"
   ],
   "metadata": {
    "collapsed": false,
    "ExecuteTime": {
     "end_time": "2023-07-21T18:31:38.947712200Z",
     "start_time": "2023-07-21T18:31:38.883020Z"
    }
   }
  },
  {
   "cell_type": "code",
   "execution_count": 31,
   "outputs": [
    {
     "data": {
      "text/plain": "             Mundiais  Libertadores  Fundação\nFluminense        NaN           NaN      1902\nCruzeiro          NaN           2.0      1921\nVasco             NaN           1.0      1898\nCorinthians       2.0           1.0      1910",
      "text/html": "<div>\n<style scoped>\n    .dataframe tbody tr th:only-of-type {\n        vertical-align: middle;\n    }\n\n    .dataframe tbody tr th {\n        vertical-align: top;\n    }\n\n    .dataframe thead th {\n        text-align: right;\n    }\n</style>\n<table border=\"1\" class=\"dataframe\">\n  <thead>\n    <tr style=\"text-align: right;\">\n      <th></th>\n      <th>Mundiais</th>\n      <th>Libertadores</th>\n      <th>Fundação</th>\n    </tr>\n  </thead>\n  <tbody>\n    <tr>\n      <th>Fluminense</th>\n      <td>NaN</td>\n      <td>NaN</td>\n      <td>1902</td>\n    </tr>\n    <tr>\n      <th>Cruzeiro</th>\n      <td>NaN</td>\n      <td>2.0</td>\n      <td>1921</td>\n    </tr>\n    <tr>\n      <th>Vasco</th>\n      <td>NaN</td>\n      <td>1.0</td>\n      <td>1898</td>\n    </tr>\n    <tr>\n      <th>Corinthians</th>\n      <td>2.0</td>\n      <td>1.0</td>\n      <td>1910</td>\n    </tr>\n  </tbody>\n</table>\n</div>"
     },
     "execution_count": 31,
     "metadata": {},
     "output_type": "execute_result"
    }
   ],
   "source": [
    "df_times_plus"
   ],
   "metadata": {
    "collapsed": false,
    "ExecuteTime": {
     "end_time": "2023-07-21T18:31:39.158683100Z",
     "start_time": "2023-07-21T18:31:39.077174600Z"
    }
   }
  },
  {
   "cell_type": "markdown",
   "source": [
    "## 4.1. .concat()"
   ],
   "metadata": {
    "collapsed": false
   }
  },
  {
   "cell_type": "markdown",
   "source": [
    "Seguiremos primeiramente com a função .concat() pois é a mais simples"
   ],
   "metadata": {
    "collapsed": false
   }
  },
  {
   "cell_type": "code",
   "execution_count": 32,
   "outputs": [
    {
     "data": {
      "text/plain": "                  Mundiais  Libertadores  Fundação\nCorinthians            2.0           1.0      1910\nPalmeiras              NaN           3.0      1914\nSantos                 2.0           3.0      1912\nSão Paulo              3.0           3.0      1930\nXV de Piracicaba       NaN           NaN      1913\nFluminense             NaN           NaN      1902\nCruzeiro               NaN           2.0      1921\nVasco                  NaN           1.0      1898\nCorinthians            2.0           1.0      1910",
      "text/html": "<div>\n<style scoped>\n    .dataframe tbody tr th:only-of-type {\n        vertical-align: middle;\n    }\n\n    .dataframe tbody tr th {\n        vertical-align: top;\n    }\n\n    .dataframe thead th {\n        text-align: right;\n    }\n</style>\n<table border=\"1\" class=\"dataframe\">\n  <thead>\n    <tr style=\"text-align: right;\">\n      <th></th>\n      <th>Mundiais</th>\n      <th>Libertadores</th>\n      <th>Fundação</th>\n    </tr>\n  </thead>\n  <tbody>\n    <tr>\n      <th>Corinthians</th>\n      <td>2.0</td>\n      <td>1.0</td>\n      <td>1910</td>\n    </tr>\n    <tr>\n      <th>Palmeiras</th>\n      <td>NaN</td>\n      <td>3.0</td>\n      <td>1914</td>\n    </tr>\n    <tr>\n      <th>Santos</th>\n      <td>2.0</td>\n      <td>3.0</td>\n      <td>1912</td>\n    </tr>\n    <tr>\n      <th>São Paulo</th>\n      <td>3.0</td>\n      <td>3.0</td>\n      <td>1930</td>\n    </tr>\n    <tr>\n      <th>XV de Piracicaba</th>\n      <td>NaN</td>\n      <td>NaN</td>\n      <td>1913</td>\n    </tr>\n    <tr>\n      <th>Fluminense</th>\n      <td>NaN</td>\n      <td>NaN</td>\n      <td>1902</td>\n    </tr>\n    <tr>\n      <th>Cruzeiro</th>\n      <td>NaN</td>\n      <td>2.0</td>\n      <td>1921</td>\n    </tr>\n    <tr>\n      <th>Vasco</th>\n      <td>NaN</td>\n      <td>1.0</td>\n      <td>1898</td>\n    </tr>\n    <tr>\n      <th>Corinthians</th>\n      <td>2.0</td>\n      <td>1.0</td>\n      <td>1910</td>\n    </tr>\n  </tbody>\n</table>\n</div>"
     },
     "execution_count": 32,
     "metadata": {},
     "output_type": "execute_result"
    }
   ],
   "source": [
    "pd.concat([df_times, df_times_plus]) # Perceba que os dois DataFrames foram unidos, concatenando as linhas"
   ],
   "metadata": {
    "collapsed": false,
    "ExecuteTime": {
     "end_time": "2023-07-21T18:31:40.903453400Z",
     "start_time": "2023-07-21T18:31:40.884199Z"
    }
   }
  },
  {
   "cell_type": "code",
   "execution_count": 34,
   "outputs": [
    {
     "data": {
      "text/plain": "                  Mundiais  Libertadores  Fundação  Mundiais  Libertadores  \\\nCorinthians            2.0           1.0    1910.0       2.0           1.0   \nPalmeiras              NaN           3.0    1914.0       NaN           NaN   \nSantos                 2.0           3.0    1912.0       NaN           NaN   \nSão Paulo              3.0           3.0    1930.0       NaN           NaN   \nXV de Piracicaba       NaN           NaN    1913.0       NaN           NaN   \nFluminense             NaN           NaN       NaN       NaN           NaN   \nCruzeiro               NaN           NaN       NaN       NaN           2.0   \nVasco                  NaN           NaN       NaN       NaN           1.0   \n\n                  Fundação  \nCorinthians         1910.0  \nPalmeiras              NaN  \nSantos                 NaN  \nSão Paulo              NaN  \nXV de Piracicaba       NaN  \nFluminense          1902.0  \nCruzeiro            1921.0  \nVasco               1898.0  ",
      "text/html": "<div>\n<style scoped>\n    .dataframe tbody tr th:only-of-type {\n        vertical-align: middle;\n    }\n\n    .dataframe tbody tr th {\n        vertical-align: top;\n    }\n\n    .dataframe thead th {\n        text-align: right;\n    }\n</style>\n<table border=\"1\" class=\"dataframe\">\n  <thead>\n    <tr style=\"text-align: right;\">\n      <th></th>\n      <th>Mundiais</th>\n      <th>Libertadores</th>\n      <th>Fundação</th>\n      <th>Mundiais</th>\n      <th>Libertadores</th>\n      <th>Fundação</th>\n    </tr>\n  </thead>\n  <tbody>\n    <tr>\n      <th>Corinthians</th>\n      <td>2.0</td>\n      <td>1.0</td>\n      <td>1910.0</td>\n      <td>2.0</td>\n      <td>1.0</td>\n      <td>1910.0</td>\n    </tr>\n    <tr>\n      <th>Palmeiras</th>\n      <td>NaN</td>\n      <td>3.0</td>\n      <td>1914.0</td>\n      <td>NaN</td>\n      <td>NaN</td>\n      <td>NaN</td>\n    </tr>\n    <tr>\n      <th>Santos</th>\n      <td>2.0</td>\n      <td>3.0</td>\n      <td>1912.0</td>\n      <td>NaN</td>\n      <td>NaN</td>\n      <td>NaN</td>\n    </tr>\n    <tr>\n      <th>São Paulo</th>\n      <td>3.0</td>\n      <td>3.0</td>\n      <td>1930.0</td>\n      <td>NaN</td>\n      <td>NaN</td>\n      <td>NaN</td>\n    </tr>\n    <tr>\n      <th>XV de Piracicaba</th>\n      <td>NaN</td>\n      <td>NaN</td>\n      <td>1913.0</td>\n      <td>NaN</td>\n      <td>NaN</td>\n      <td>NaN</td>\n    </tr>\n    <tr>\n      <th>Fluminense</th>\n      <td>NaN</td>\n      <td>NaN</td>\n      <td>NaN</td>\n      <td>NaN</td>\n      <td>NaN</td>\n      <td>1902.0</td>\n    </tr>\n    <tr>\n      <th>Cruzeiro</th>\n      <td>NaN</td>\n      <td>NaN</td>\n      <td>NaN</td>\n      <td>NaN</td>\n      <td>2.0</td>\n      <td>1921.0</td>\n    </tr>\n    <tr>\n      <th>Vasco</th>\n      <td>NaN</td>\n      <td>NaN</td>\n      <td>NaN</td>\n      <td>NaN</td>\n      <td>1.0</td>\n      <td>1898.0</td>\n    </tr>\n  </tbody>\n</table>\n</div>"
     },
     "execution_count": 34,
     "metadata": {},
     "output_type": "execute_result"
    }
   ],
   "source": [
    "pd.concat([df_times, df_times_plus], axis=1) # Perceba a concatenação por coluna\n",
    "\n",
    "## ATENÇÃO\n",
    "#  Tome muito cuidado para que não ocorra o que acontece abaixo, de ter mais de uma coluna com o msm nome [\"Mundiais\", \"Libertadores\", \"Fundação\", isso faria muito difícil de selecionar/filtrar uma coluna única (sem .iloc())"
   ],
   "metadata": {
    "collapsed": false,
    "ExecuteTime": {
     "end_time": "2023-07-21T18:34:20.663692500Z",
     "start_time": "2023-07-21T18:34:20.630852Z"
    }
   }
  },
  {
   "cell_type": "code",
   "execution_count": 36,
   "outputs": [
    {
     "data": {
      "text/plain": "             Mundiais  Libertadores  Fundação  Mundiais  Libertadores  \\\nCorinthians       2.0           1.0      1910       2.0           1.0   \n\n             Fundação  \nCorinthians      1910  ",
      "text/html": "<div>\n<style scoped>\n    .dataframe tbody tr th:only-of-type {\n        vertical-align: middle;\n    }\n\n    .dataframe tbody tr th {\n        vertical-align: top;\n    }\n\n    .dataframe thead th {\n        text-align: right;\n    }\n</style>\n<table border=\"1\" class=\"dataframe\">\n  <thead>\n    <tr style=\"text-align: right;\">\n      <th></th>\n      <th>Mundiais</th>\n      <th>Libertadores</th>\n      <th>Fundação</th>\n      <th>Mundiais</th>\n      <th>Libertadores</th>\n      <th>Fundação</th>\n    </tr>\n  </thead>\n  <tbody>\n    <tr>\n      <th>Corinthians</th>\n      <td>2.0</td>\n      <td>1.0</td>\n      <td>1910</td>\n      <td>2.0</td>\n      <td>1.0</td>\n      <td>1910</td>\n    </tr>\n  </tbody>\n</table>\n</div>"
     },
     "execution_count": 36,
     "metadata": {},
     "output_type": "execute_result"
    }
   ],
   "source": [
    "pd.concat([df_times, df_times_plus], axis=1, join=\"inner\") # O join default é Outer (União), podemos selecionar Inner (Intersecção), caso necessário"
   ],
   "metadata": {
    "collapsed": false,
    "ExecuteTime": {
     "end_time": "2023-07-21T19:05:05.258960600Z",
     "start_time": "2023-07-21T19:05:05.214498200Z"
    }
   }
  },
  {
   "cell_type": "markdown",
   "source": [
    "Há outros parâmetors no .concat(), porém muito provávelmente serão utilizados em casos específicos, como sempre segue a documentação para aprofundamento:\n",
    " <a href=\"https://pandas.pydata.org/docs/reference/api/pandas.concat.html?highlight=concat#pandas.concat\">pandas.concat() </a>"
   ],
   "metadata": {
    "collapsed": false
   }
  },
  {
   "cell_type": "markdown",
   "source": [
    "# 4.2) .merge()"
   ],
   "metadata": {
    "collapsed": false
   }
  },
  {
   "cell_type": "markdown",
   "source": [
    "Partiremos agora para o .merge()"
   ],
   "metadata": {
    "collapsed": false
   }
  },
  {
   "cell_type": "markdown",
   "source": [
    "Algumas informações sobre o parâmetro how da .merge(), há 4 opções:\n",
    "- inner (Default) - Pega somente a intersecção, ou seja, valores nos dois DataFrames\n",
    "- outer - Pega a união, ou seja, os valores nos dois DataFrames, com valores nulos se não tem no DataFrame em questão\n",
    "- left - Todos os valores do DataFrame da esquerda (o qual chama a função) são mantidos, tipo um procv()\n",
    "- right - msm coisa com o DataFrame da direita, procv() inverso?"
   ],
   "metadata": {
    "collapsed": false
   }
  },
  {
   "cell_type": "code",
   "execution_count": 39,
   "outputs": [
    {
     "data": {
      "text/plain": "                  Mundiais_x  Libertadores  Fundação               Estádio  \\\nCorinthians              2.0           1.0    1910.0     Arena Neo Química   \nFlamengo                 NaN           NaN       NaN              Maracanã   \nPalmeiras                NaN           3.0    1914.0          Allianz Park   \nSantos                   2.0           3.0    1912.0          Vila Belmiro   \nSão Paulo                3.0           3.0    1930.0                   NaN   \nXV de Piracicaba         NaN           NaN    1913.0  Barão da Serra Negra   \n\n                      Cidade  Mundiais_y  \nCorinthians        São Paulo         2.0  \nFlamengo            Maracanã         1.0  \nPalmeiras          São Paulo         NaN  \nSantos                Santos         2.0  \nSão Paulo                NaN         NaN  \nXV de Piracicaba  Piracicaba         NaN  ",
      "text/html": "<div>\n<style scoped>\n    .dataframe tbody tr th:only-of-type {\n        vertical-align: middle;\n    }\n\n    .dataframe tbody tr th {\n        vertical-align: top;\n    }\n\n    .dataframe thead th {\n        text-align: right;\n    }\n</style>\n<table border=\"1\" class=\"dataframe\">\n  <thead>\n    <tr style=\"text-align: right;\">\n      <th></th>\n      <th>Mundiais_x</th>\n      <th>Libertadores</th>\n      <th>Fundação</th>\n      <th>Estádio</th>\n      <th>Cidade</th>\n      <th>Mundiais_y</th>\n    </tr>\n  </thead>\n  <tbody>\n    <tr>\n      <th>Corinthians</th>\n      <td>2.0</td>\n      <td>1.0</td>\n      <td>1910.0</td>\n      <td>Arena Neo Química</td>\n      <td>São Paulo</td>\n      <td>2.0</td>\n    </tr>\n    <tr>\n      <th>Flamengo</th>\n      <td>NaN</td>\n      <td>NaN</td>\n      <td>NaN</td>\n      <td>Maracanã</td>\n      <td>Maracanã</td>\n      <td>1.0</td>\n    </tr>\n    <tr>\n      <th>Palmeiras</th>\n      <td>NaN</td>\n      <td>3.0</td>\n      <td>1914.0</td>\n      <td>Allianz Park</td>\n      <td>São Paulo</td>\n      <td>NaN</td>\n    </tr>\n    <tr>\n      <th>Santos</th>\n      <td>2.0</td>\n      <td>3.0</td>\n      <td>1912.0</td>\n      <td>Vila Belmiro</td>\n      <td>Santos</td>\n      <td>2.0</td>\n    </tr>\n    <tr>\n      <th>São Paulo</th>\n      <td>3.0</td>\n      <td>3.0</td>\n      <td>1930.0</td>\n      <td>NaN</td>\n      <td>NaN</td>\n      <td>NaN</td>\n    </tr>\n    <tr>\n      <th>XV de Piracicaba</th>\n      <td>NaN</td>\n      <td>NaN</td>\n      <td>1913.0</td>\n      <td>Barão da Serra Negra</td>\n      <td>Piracicaba</td>\n      <td>NaN</td>\n    </tr>\n  </tbody>\n</table>\n</div>"
     },
     "execution_count": 39,
     "metadata": {},
     "output_type": "execute_result"
    }
   ],
   "source": [
    "df_times.merge(\n",
    "    right=df_times_2,\n",
    "    left_index=True,\n",
    "    right_index=True,\n",
    "    how=\"outer\",\n",
    "\n",
    ")"
   ],
   "metadata": {
    "collapsed": false,
    "ExecuteTime": {
     "end_time": "2023-07-21T19:34:28.956579200Z",
     "start_time": "2023-07-21T19:34:28.940009300Z"
    }
   }
  },
  {
   "cell_type": "code",
   "execution_count": 35,
   "outputs": [
    {
     "data": {
      "text/plain": "                  Mundiais_x  Libertadores_x  Fundação_x  Mundiais_y  \\\nCorinthians              2.0             1.0        1910         2.0   \nPalmeiras                NaN             3.0        1914         NaN   \nSantos                   2.0             3.0        1912         NaN   \nSão Paulo                3.0             3.0        1930         NaN   \nXV de Piracicaba         NaN             NaN        1913         NaN   \n\n                  Libertadores_y  Fundação_y  \nCorinthians                  1.0      1910.0  \nPalmeiras                    NaN         NaN  \nSantos                       NaN         NaN  \nSão Paulo                    NaN         NaN  \nXV de Piracicaba             NaN         NaN  ",
      "text/html": "<div>\n<style scoped>\n    .dataframe tbody tr th:only-of-type {\n        vertical-align: middle;\n    }\n\n    .dataframe tbody tr th {\n        vertical-align: top;\n    }\n\n    .dataframe thead th {\n        text-align: right;\n    }\n</style>\n<table border=\"1\" class=\"dataframe\">\n  <thead>\n    <tr style=\"text-align: right;\">\n      <th></th>\n      <th>Mundiais_x</th>\n      <th>Libertadores_x</th>\n      <th>Fundação_x</th>\n      <th>Mundiais_y</th>\n      <th>Libertadores_y</th>\n      <th>Fundação_y</th>\n    </tr>\n  </thead>\n  <tbody>\n    <tr>\n      <th>Corinthians</th>\n      <td>2.0</td>\n      <td>1.0</td>\n      <td>1910</td>\n      <td>2.0</td>\n      <td>1.0</td>\n      <td>1910.0</td>\n    </tr>\n    <tr>\n      <th>Palmeiras</th>\n      <td>NaN</td>\n      <td>3.0</td>\n      <td>1914</td>\n      <td>NaN</td>\n      <td>NaN</td>\n      <td>NaN</td>\n    </tr>\n    <tr>\n      <th>Santos</th>\n      <td>2.0</td>\n      <td>3.0</td>\n      <td>1912</td>\n      <td>NaN</td>\n      <td>NaN</td>\n      <td>NaN</td>\n    </tr>\n    <tr>\n      <th>São Paulo</th>\n      <td>3.0</td>\n      <td>3.0</td>\n      <td>1930</td>\n      <td>NaN</td>\n      <td>NaN</td>\n      <td>NaN</td>\n    </tr>\n    <tr>\n      <th>XV de Piracicaba</th>\n      <td>NaN</td>\n      <td>NaN</td>\n      <td>1913</td>\n      <td>NaN</td>\n      <td>NaN</td>\n      <td>NaN</td>\n    </tr>\n  </tbody>\n</table>\n</div>"
     },
     "execution_count": 35,
     "metadata": {},
     "output_type": "execute_result"
    }
   ],
   "source": [
    "df_times.merge(df_times_plus, left_index=True, right_index=True, how=\"left\")"
   ],
   "metadata": {
    "collapsed": false,
    "ExecuteTime": {
     "end_time": "2023-07-21T18:34:35.110212600Z",
     "start_time": "2023-07-21T18:34:35.080838500Z"
    }
   }
  },
  {
   "cell_type": "code",
   "execution_count": 14,
   "outputs": [
    {
     "data": {
      "text/plain": "                  Mundiais_left  Libertadores  Fundação               Estádio  \\\nCorinthians                 2.0           1.0      1910     Arena Neo Química   \nPalmeiras                   NaN           3.0      1914          Allianz Park   \nSantos                      2.0           3.0      1912          Vila Belmiro   \nSão Paulo                   3.0           3.0      1930  Barão da Serra Negra   \nXV de Piracicaba            NaN           NaN      1913                   NaN   \n\n                      Cidade  Mundiais_right  \nCorinthians        São Paulo             2.0  \nPalmeiras          São Paulo             NaN  \nSantos                Santos             2.0  \nSão Paulo         Piracicaba             NaN  \nXV de Piracicaba         NaN             NaN  ",
      "text/html": "<div>\n<style scoped>\n    .dataframe tbody tr th:only-of-type {\n        vertical-align: middle;\n    }\n\n    .dataframe tbody tr th {\n        vertical-align: top;\n    }\n\n    .dataframe thead th {\n        text-align: right;\n    }\n</style>\n<table border=\"1\" class=\"dataframe\">\n  <thead>\n    <tr style=\"text-align: right;\">\n      <th></th>\n      <th>Mundiais_left</th>\n      <th>Libertadores</th>\n      <th>Fundação</th>\n      <th>Estádio</th>\n      <th>Cidade</th>\n      <th>Mundiais_right</th>\n    </tr>\n  </thead>\n  <tbody>\n    <tr>\n      <th>Corinthians</th>\n      <td>2.0</td>\n      <td>1.0</td>\n      <td>1910</td>\n      <td>Arena Neo Química</td>\n      <td>São Paulo</td>\n      <td>2.0</td>\n    </tr>\n    <tr>\n      <th>Palmeiras</th>\n      <td>NaN</td>\n      <td>3.0</td>\n      <td>1914</td>\n      <td>Allianz Park</td>\n      <td>São Paulo</td>\n      <td>NaN</td>\n    </tr>\n    <tr>\n      <th>Santos</th>\n      <td>2.0</td>\n      <td>3.0</td>\n      <td>1912</td>\n      <td>Vila Belmiro</td>\n      <td>Santos</td>\n      <td>2.0</td>\n    </tr>\n    <tr>\n      <th>São Paulo</th>\n      <td>3.0</td>\n      <td>3.0</td>\n      <td>1930</td>\n      <td>Barão da Serra Negra</td>\n      <td>Piracicaba</td>\n      <td>NaN</td>\n    </tr>\n    <tr>\n      <th>XV de Piracicaba</th>\n      <td>NaN</td>\n      <td>NaN</td>\n      <td>1913</td>\n      <td>NaN</td>\n      <td>NaN</td>\n      <td>NaN</td>\n    </tr>\n  </tbody>\n</table>\n</div>"
     },
     "execution_count": 14,
     "metadata": {},
     "output_type": "execute_result"
    }
   ],
   "source": [
    "df_times.join(df_times_plus, lsuffix=\"_left\", rsuffix=\"_right\")"
   ],
   "metadata": {
    "collapsed": false,
    "ExecuteTime": {
     "end_time": "2023-07-21T18:17:53.267312700Z",
     "start_time": "2023-07-21T18:17:53.226998900Z"
    }
   }
  },
  {
   "cell_type": "code",
   "execution_count": null,
   "outputs": [],
   "source": [],
   "metadata": {
    "collapsed": false
   }
  }
 ],
 "metadata": {
  "kernelspec": {
   "display_name": "Python 3",
   "language": "python",
   "name": "python3"
  },
  "language_info": {
   "codemirror_mode": {
    "name": "ipython",
    "version": 2
   },
   "file_extension": ".py",
   "mimetype": "text/x-python",
   "name": "python",
   "nbconvert_exporter": "python",
   "pygments_lexer": "ipython2",
   "version": "2.7.6"
  }
 },
 "nbformat": 4,
 "nbformat_minor": 0
}
