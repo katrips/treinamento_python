{
 "cells": [
  {
   "cell_type": "markdown",
   "source": [
    "# Pandas"
   ],
   "metadata": {
    "collapsed": false
   }
  },
  {
   "cell_type": "markdown",
   "source": [
    "\n",
    "pandas é um biblioteca de python com o foco em manipulação e análise de dados. O nome vem do termo \"<b>pa</b>nel <b>da</b>ta\".\n",
    "\n",
    "A biblioteca é construida a partir do NumPy, uma outra biblioteca que permite cálculos de formas mais rápidas do que o padrão do python (Usa C para realizar a maioria das contas)\n"
   ],
   "metadata": {
    "collapsed": false
   }
  },
  {
   "cell_type": "markdown",
   "source": [
    "O uso do pandas é realizado a partir de Series e DataFrames, a ideia é trazer para o python a visualização que é possível via Excel, PowerBI ou R"
   ],
   "metadata": {
    "collapsed": false
   }
  },
  {
   "cell_type": "code",
   "execution_count": 3,
   "outputs": [],
   "source": [
    "# Primeiro passo importação da biblioteca\n",
    "import pandas as pd\n",
    "\n",
    "import numpy as np"
   ],
   "metadata": {
    "collapsed": false,
    "ExecuteTime": {
     "end_time": "2023-07-18T14:49:17.437140300Z",
     "start_time": "2023-07-18T14:49:17.394416200Z"
    }
   }
  },
  {
   "cell_type": "markdown",
   "source": [
    "## Criando uma série"
   ],
   "metadata": {
    "collapsed": false
   }
  },
  {
   "cell_type": "markdown",
   "source": [
    "Você pode converter listas, numpy Arrays ou dicionários para Séries:"
   ],
   "metadata": {
    "collapsed": false
   }
  },
  {
   "cell_type": "code",
   "execution_count": 4,
   "outputs": [],
   "source": [
    "legenda = [\"a\", \"b\", \"c\"]\n",
    "valores = [10, 20, 30]\n",
    "vetor = np.array([10, 20, 30])\n",
    "dicionario = {\n",
    "    \"a\": 10,\n",
    "    \"b\": 20,\n",
    "    \"c\": 30,\n",
    "}"
   ],
   "metadata": {
    "collapsed": false,
    "ExecuteTime": {
     "end_time": "2023-07-18T14:49:35.176316700Z",
     "start_time": "2023-07-18T14:49:35.146416Z"
    }
   }
  },
  {
   "cell_type": "code",
   "execution_count": 5,
   "outputs": [
    {
     "data": {
      "text/plain": "0    10\n1    20\n2    30\ndtype: int64"
     },
     "execution_count": 5,
     "metadata": {},
     "output_type": "execute_result"
    }
   ],
   "source": [
    "## Usando Listas\n",
    "\n",
    "pd.Series(data=valores)"
   ],
   "metadata": {
    "collapsed": false,
    "ExecuteTime": {
     "end_time": "2023-07-18T14:49:45.271426800Z",
     "start_time": "2023-07-18T14:49:45.175281200Z"
    }
   }
  },
  {
   "cell_type": "code",
   "execution_count": 6,
   "outputs": [
    {
     "data": {
      "text/plain": "a    10\nb    20\nc    30\ndtype: int64"
     },
     "execution_count": 6,
     "metadata": {},
     "output_type": "execute_result"
    }
   ],
   "source": [
    "## Definindo o índice\n",
    "\n",
    "pd.Series(data=valores, index=legenda)"
   ],
   "metadata": {
    "collapsed": false,
    "ExecuteTime": {
     "end_time": "2023-07-18T14:50:13.980141300Z",
     "start_time": "2023-07-18T14:50:13.945571300Z"
    }
   }
  },
  {
   "cell_type": "code",
   "execution_count": 10,
   "outputs": [
    {
     "data": {
      "text/plain": "a    10\nb    20\nc    30\ndtype: int64"
     },
     "execution_count": 10,
     "metadata": {},
     "output_type": "execute_result"
    }
   ],
   "source": [
    "## Definindo o índice\n",
    "\n",
    "pd.Series(valores, legenda) # Se colocado na ordem, nomear os parâmetros demonstra opcional"
   ],
   "metadata": {
    "collapsed": false,
    "ExecuteTime": {
     "end_time": "2023-07-18T14:52:47.524867200Z",
     "start_time": "2023-07-18T14:52:47.444604500Z"
    }
   }
  },
  {
   "cell_type": "code",
   "execution_count": 11,
   "outputs": [
    {
     "data": {
      "text/plain": "a    10\nb    20\nc    30\nName: Valores, dtype: int64"
     },
     "execution_count": 11,
     "metadata": {},
     "output_type": "execute_result"
    }
   ],
   "source": [
    "## Renomeando a Série\n",
    "\n",
    "pd.Series(data=valores, index=legenda).rename(\"Valores\")"
   ],
   "metadata": {
    "collapsed": false,
    "ExecuteTime": {
     "end_time": "2023-07-18T14:52:48.096541300Z",
     "start_time": "2023-07-18T14:52:48.025238900Z"
    }
   }
  },
  {
   "cell_type": "code",
   "execution_count": 12,
   "outputs": [
    {
     "data": {
      "text/plain": "a    10\nb    20\nc    30\ndtype: int64"
     },
     "execution_count": 12,
     "metadata": {},
     "output_type": "execute_result"
    }
   ],
   "source": [
    "## Utilizando um dicionário\n",
    "\n",
    "pd.Series(dicionario)"
   ],
   "metadata": {
    "collapsed": false,
    "ExecuteTime": {
     "end_time": "2023-07-18T16:51:37.563345500Z",
     "start_time": "2023-07-18T16:51:37.554366100Z"
    }
   }
  },
  {
   "cell_type": "code",
   "execution_count": 15,
   "outputs": [
    {
     "data": {
      "text/plain": "0    10\n1    20\n2    30\ndtype: int32"
     },
     "execution_count": 15,
     "metadata": {},
     "output_type": "execute_result"
    }
   ],
   "source": [
    "## Utilizando um Numpy array\n",
    "\n",
    "pd.Series(vetor)"
   ],
   "metadata": {
    "collapsed": false,
    "ExecuteTime": {
     "end_time": "2023-07-18T16:59:25.674464800Z",
     "start_time": "2023-07-18T16:59:25.610009200Z"
    }
   }
  },
  {
   "cell_type": "markdown",
   "source": [
    "## Usando Index"
   ],
   "metadata": {
    "collapsed": false
   }
  },
  {
   "cell_type": "markdown",
   "source": [
    "Os index definidos anteriormente podem ser utilizados para rápidas obtenções de valores. A forma de uso é muito semelhante ao jeito que é utilizado para dicionários."
   ],
   "metadata": {
    "collapsed": false
   }
  },
  {
   "cell_type": "code",
   "execution_count": 22,
   "outputs": [
    {
     "data": {
      "text/plain": "Pizza      1\nPastel     2\nCoxinha    3\nAlface     5\ndtype: int64"
     },
     "execution_count": 22,
     "metadata": {},
     "output_type": "execute_result"
    }
   ],
   "source": [
    "serie1 = pd.Series([1, 2, 3, 5], index = [\"Pizza\", \"Pastel\", \"Coxinha\", \"Alface\"])\n",
    "serie2 = pd.Series([6, 8, 9, 11], index = [\"Pizza\", \"Pastel\", \"Coxinha\", \"Tomate\"])\n",
    "\n",
    "serie1"
   ],
   "metadata": {
    "collapsed": false,
    "ExecuteTime": {
     "end_time": "2023-07-18T17:05:38.788233100Z",
     "start_time": "2023-07-18T17:05:38.711155100Z"
    }
   }
  },
  {
   "cell_type": "code",
   "execution_count": 23,
   "outputs": [
    {
     "data": {
      "text/plain": "1"
     },
     "execution_count": 23,
     "metadata": {},
     "output_type": "execute_result"
    }
   ],
   "source": [
    "serie1[\"Pizza\"]"
   ],
   "metadata": {
    "collapsed": false,
    "ExecuteTime": {
     "end_time": "2023-07-18T17:05:38.973742Z",
     "start_time": "2023-07-18T17:05:38.931954400Z"
    }
   }
  },
  {
   "cell_type": "code",
   "execution_count": 24,
   "outputs": [
    {
     "data": {
      "text/plain": "8"
     },
     "execution_count": 24,
     "metadata": {},
     "output_type": "execute_result"
    }
   ],
   "source": [
    "serie2[\"Pastel\"]"
   ],
   "metadata": {
    "collapsed": false,
    "ExecuteTime": {
     "end_time": "2023-07-18T17:05:39.149067300Z",
     "start_time": "2023-07-18T17:05:39.111135100Z"
    }
   }
  },
  {
   "cell_type": "code",
   "execution_count": 26,
   "outputs": [
    {
     "data": {
      "text/plain": "Alface      NaN\nCoxinha    12.0\nPastel     10.0\nPizza       7.0\nTomate      NaN\ndtype: float64"
     },
     "execution_count": 26,
     "metadata": {},
     "output_type": "execute_result"
    }
   ],
   "source": [
    "serie1 + serie2"
   ],
   "metadata": {
    "collapsed": false,
    "ExecuteTime": {
     "end_time": "2023-07-18T17:05:57.718757300Z",
     "start_time": "2023-07-18T17:05:57.691184700Z"
    }
   }
  }
 ],
 "metadata": {
  "kernelspec": {
   "display_name": "Python 3",
   "language": "python",
   "name": "python3"
  },
  "language_info": {
   "codemirror_mode": {
    "name": "ipython",
    "version": 2
   },
   "file_extension": ".py",
   "mimetype": "text/x-python",
   "name": "python",
   "nbconvert_exporter": "python",
   "pygments_lexer": "ipython2",
   "version": "2.7.6"
  }
 },
 "nbformat": 4,
 "nbformat_minor": 0
}
