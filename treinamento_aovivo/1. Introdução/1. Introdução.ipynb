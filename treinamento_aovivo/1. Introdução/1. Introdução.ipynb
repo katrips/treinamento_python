{
 "cells": [
  {
   "cell_type": "markdown",
   "id": "72deb5b7-6435-4f97-a1d1-8e9c63339bac",
   "metadata": {},
   "source": [
    "# 1. Introdução"
   ]
  },
  {
   "cell_type": "markdown",
   "id": "0c737ea0-4808-481a-b416-8ffac14d35fa",
   "metadata": {
    "tags": []
   },
   "source": [
    "## 1.1 Segundo header"
   ]
  },
  {
   "cell_type": "markdown",
   "id": "359f9720-7977-41fa-8c03-95f822311f1f",
   "metadata": {},
   "source": [
    "### 1.1.1 Terceiro header"
   ]
  },
  {
   "cell_type": "markdown",
   "id": "e692d474-e866-4aa9-9cc4-858da6156796",
   "metadata": {},
   "source": [
    "- item1\n",
    "- item 2\n",
    "- item 3"
   ]
  },
  {
   "cell_type": "markdown",
   "id": "07044c61-31ca-4ca1-b55f-5b2f151406aa",
   "metadata": {},
   "source": [
    "<h1> Header HTML </h1>"
   ]
  },
  {
   "cell_type": "markdown",
   "id": "115f3945-88f3-44aa-8643-e6903879cd47",
   "metadata": {},
   "source": [
    "<img src=\"../../ppt/icons/Python-Logo.png\" width=400 />"
   ]
  },
  {
   "cell_type": "markdown",
   "id": "16d41506-4f61-42a1-a71b-2abf1af0b061",
   "metadata": {},
   "source": [
    "<img src=\"https://images.saymedia-content.com/.image/t_share/MTk3MDE5MTQ2NzUwMjczMjg1/best-pet-snake-species-for-children-of-any-age.jpg\" width=400 />"
   ]
  },
  {
   "cell_type": "code",
   "execution_count": 5,
   "id": "45253ead-d826-44f5-95b8-99a338c04bac",
   "metadata": {},
   "outputs": [
    {
     "name": "stdout",
     "output_type": "stream",
     "text": [
      "4\n"
     ]
    }
   ],
   "source": [
    "print(2 + 2)"
   ]
  },
  {
   "cell_type": "code",
   "execution_count": 13,
   "id": "fbf717c1-5a39-455c-8330-537400f38104",
   "metadata": {},
   "outputs": [
    {
     "data": {
      "text/plain": [
       "2"
      ]
     },
     "execution_count": 13,
     "metadata": {},
     "output_type": "execute_result"
    }
   ],
   "source": [
    "a = 2\n",
    "b = 3\n",
    "a"
   ]
  },
  {
   "cell_type": "code",
   "execution_count": 11,
   "id": "90e6b626-bc6c-4055-b428-0e83ca878fe5",
   "metadata": {},
   "outputs": [
    {
     "data": {
      "text/plain": [
       "2"
      ]
     },
     "execution_count": 11,
     "metadata": {},
     "output_type": "execute_result"
    }
   ],
   "source": [
    "a"
   ]
  },
  {
   "cell_type": "markdown",
   "id": "a1b79c16-55f4-44a1-a775-6fa9f2363867",
   "metadata": {},
   "source": [
    "## Hotkeys"
   ]
  },
  {
   "cell_type": "code",
   "execution_count": 16,
   "id": "5021d32e-8466-4bbe-95cf-70f98fd4768b",
   "metadata": {},
   "outputs": [],
   "source": [
    "import random as rd"
   ]
  },
  {
   "cell_type": "code",
   "execution_count": 17,
   "id": "675b3905-a733-4a11-a0ff-252326fcab8d",
   "metadata": {},
   "outputs": [
    {
     "data": {
      "text/plain": [
       "2"
      ]
     },
     "execution_count": 17,
     "metadata": {},
     "output_type": "execute_result"
    }
   ],
   "source": [
    "rd.randint(0, 5)"
   ]
  }
 ],
 "metadata": {
  "kernelspec": {
   "display_name": "Python 3 (ipykernel)",
   "language": "python",
   "name": "python3"
  },
  "language_info": {
   "codemirror_mode": {
    "name": "ipython",
    "version": 3
   },
   "file_extension": ".py",
   "mimetype": "text/x-python",
   "name": "python",
   "nbconvert_exporter": "python",
   "pygments_lexer": "ipython3",
   "version": "3.10.9"
  }
 },
 "nbformat": 4,
 "nbformat_minor": 5
}
