{
 "cells": [
  {
   "cell_type": "markdown",
   "id": "dc31db7f-3ec2-44d6-b50e-b301440e36b0",
   "metadata": {},
   "source": [
    "# Pandas - Series"
   ]
  },
  {
   "cell_type": "code",
   "execution_count": 2,
   "id": "d947afc7-a0d4-46d5-a473-a19b607c7c10",
   "metadata": {},
   "outputs": [],
   "source": [
    "import pandas as pd\n",
    "import numpy as np"
   ]
  },
  {
   "cell_type": "code",
   "execution_count": 24,
   "id": "4653a096-1077-485b-9dd0-2b4da489d7e2",
   "metadata": {},
   "outputs": [
    {
     "data": {
      "text/plain": [
       "['a', 'b', 'c', 'd']"
      ]
     },
     "execution_count": 24,
     "metadata": {},
     "output_type": "execute_result"
    }
   ],
   "source": [
    "legenda = [\"a\", \"b\", \"c\", \"d\"]\n",
    "valores = [10, 20, 30, 40]\n",
    "\n",
    "dict1 = {\n",
    "    \"a\": 10,\n",
    "    \"b\": 20,\n",
    "    \"c\": 30\n",
    "}\n",
    "\n",
    "dict2 = {\n",
    "    \"a\": \"10\",\n",
    "    \"b\": \"20\",\n",
    "    \"c\": \"30\"\n",
    "}\n",
    "\n",
    "legenda"
   ]
  },
  {
   "cell_type": "code",
   "execution_count": 15,
   "id": "05ceedbc-f861-47ee-830b-b099787f9938",
   "metadata": {},
   "outputs": [
    {
     "data": {
      "text/plain": [
       "0    10\n",
       "1    20\n",
       "2    30\n",
       "3    40\n",
       "dtype: int64"
      ]
     },
     "execution_count": 15,
     "metadata": {},
     "output_type": "execute_result"
    }
   ],
   "source": [
    "serie_numero = pd.Series(data=valores)\n",
    "serie_numero"
   ]
  },
  {
   "cell_type": "code",
   "execution_count": 25,
   "id": "5784a382-efaf-45e6-a9b4-7151de8d0c7c",
   "metadata": {},
   "outputs": [
    {
     "data": {
      "text/plain": [
       "a    10\n",
       "b    20\n",
       "c    30\n",
       "d    40\n",
       "dtype: int64"
      ]
     },
     "execution_count": 25,
     "metadata": {},
     "output_type": "execute_result"
    }
   ],
   "source": [
    "serie1 = pd.Series(data=valores, index=legenda)\n",
    "serie2 = pd.Series(data=dict2)\n",
    "serie1"
   ]
  },
  {
   "cell_type": "code",
   "execution_count": 13,
   "id": "ce600ffa-ed5b-49ac-b646-9654a927e08c",
   "metadata": {},
   "outputs": [
    {
     "data": {
      "text/plain": [
       "a    10\n",
       "b    20\n",
       "c    30\n",
       "Name: Valores, dtype: int64"
      ]
     },
     "execution_count": 13,
     "metadata": {},
     "output_type": "execute_result"
    }
   ],
   "source": [
    "serie_dict = pd.Series(data=dict1).rename(\"Valores\")\n",
    "serie_dict"
   ]
  },
  {
   "cell_type": "code",
   "execution_count": 14,
   "id": "e484ed5d-fa35-40be-8c87-d58a5990aef7",
   "metadata": {},
   "outputs": [
    {
     "data": {
      "text/plain": [
       "30"
      ]
     },
     "execution_count": 14,
     "metadata": {},
     "output_type": "execute_result"
    }
   ],
   "source": [
    "serie1[\"c\"]"
   ]
  },
  {
   "cell_type": "code",
   "execution_count": 16,
   "id": "1c7f59e7-61a9-43a5-9b7b-eb610ad07f3a",
   "metadata": {},
   "outputs": [
    {
     "data": {
      "text/plain": [
       "30"
      ]
     },
     "execution_count": 16,
     "metadata": {},
     "output_type": "execute_result"
    }
   ],
   "source": [
    "serie1[2]"
   ]
  },
  {
   "cell_type": "code",
   "execution_count": 17,
   "id": "281bfd04-e47d-487c-9cad-bd3173e5457e",
   "metadata": {},
   "outputs": [
    {
     "data": {
      "text/plain": [
       "a    20.0\n",
       "b    40.0\n",
       "c    60.0\n",
       "d     NaN\n",
       "dtype: float64"
      ]
     },
     "execution_count": 17,
     "metadata": {},
     "output_type": "execute_result"
    }
   ],
   "source": [
    "serie1 + serie_dict"
   ]
  },
  {
   "cell_type": "markdown",
   "id": "b7ce2324-12e1-4cb8-a786-b3414d101588",
   "metadata": {},
   "source": [
    "## Funções"
   ]
  },
  {
   "cell_type": "code",
   "execution_count": 18,
   "id": "6c3cf835-df00-4f81-88ef-ae01ed79c022",
   "metadata": {},
   "outputs": [
    {
     "data": {
      "text/plain": [
       "100"
      ]
     },
     "execution_count": 18,
     "metadata": {},
     "output_type": "execute_result"
    }
   ],
   "source": [
    "serie1.sum()"
   ]
  },
  {
   "cell_type": "code",
   "execution_count": 19,
   "id": "f922ec64-b831-4d79-8497-d298f21fa270",
   "metadata": {},
   "outputs": [
    {
     "data": {
      "text/plain": [
       "a    10\n",
       "b    20\n",
       "c    30\n",
       "d    40\n",
       "dtype: int64"
      ]
     },
     "execution_count": 19,
     "metadata": {},
     "output_type": "execute_result"
    }
   ],
   "source": [
    "serie1"
   ]
  },
  {
   "cell_type": "code",
   "execution_count": 20,
   "id": "d126fbf9-59d4-4dda-a75e-a855a4931ef3",
   "metadata": {},
   "outputs": [
    {
     "data": {
      "text/plain": [
       "25.0"
      ]
     },
     "execution_count": 20,
     "metadata": {},
     "output_type": "execute_result"
    }
   ],
   "source": [
    "serie1.mean()"
   ]
  },
  {
   "cell_type": "code",
   "execution_count": 21,
   "id": "97ce9992-557b-478f-b05e-85c461680272",
   "metadata": {},
   "outputs": [
    {
     "data": {
      "text/plain": [
       "10"
      ]
     },
     "execution_count": 21,
     "metadata": {},
     "output_type": "execute_result"
    }
   ],
   "source": [
    "serie1.min()"
   ]
  },
  {
   "cell_type": "code",
   "execution_count": 22,
   "id": "5649b675-e16e-4c29-adc6-49c4acc5909d",
   "metadata": {},
   "outputs": [
    {
     "data": {
      "text/plain": [
       "40"
      ]
     },
     "execution_count": 22,
     "metadata": {},
     "output_type": "execute_result"
    }
   ],
   "source": [
    "serie1.max()"
   ]
  },
  {
   "cell_type": "code",
   "execution_count": 23,
   "id": "0bffb5e6-46a9-458e-b88e-d2452e7d8f94",
   "metadata": {},
   "outputs": [
    {
     "data": {
      "text/plain": [
       "a     10\n",
       "b     30\n",
       "c     60\n",
       "d    100\n",
       "dtype: int64"
      ]
     },
     "execution_count": 23,
     "metadata": {},
     "output_type": "execute_result"
    }
   ],
   "source": [
    "serie1.cumsum()"
   ]
  },
  {
   "cell_type": "code",
   "execution_count": 27,
   "id": "eb4a3cff-c06c-4945-b8cc-3977b5300c92",
   "metadata": {},
   "outputs": [
    {
     "data": {
      "text/plain": [
       "a    1\n",
       "b    1\n",
       "c    1\n",
       "dtype: int64"
      ]
     },
     "execution_count": 27,
     "metadata": {},
     "output_type": "execute_result"
    }
   ],
   "source": [
    "serie2.str.find(\"0\")"
   ]
  },
  {
   "cell_type": "code",
   "execution_count": null,
   "id": "d4affdaa-28c3-462f-82cd-b6cdd9d3608c",
   "metadata": {},
   "outputs": [],
   "source": []
  }
 ],
 "metadata": {
  "kernelspec": {
   "display_name": "Python 3 (ipykernel)",
   "language": "python",
   "name": "python3"
  },
  "language_info": {
   "codemirror_mode": {
    "name": "ipython",
    "version": 3
   },
   "file_extension": ".py",
   "mimetype": "text/x-python",
   "name": "python",
   "nbconvert_exporter": "python",
   "pygments_lexer": "ipython3",
   "version": "3.10.9"
  }
 },
 "nbformat": 4,
 "nbformat_minor": 5
}
