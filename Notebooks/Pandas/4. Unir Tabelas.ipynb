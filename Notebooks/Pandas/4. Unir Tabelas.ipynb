{
 "cells": [
  {
   "cell_type": "markdown",
   "source": [
    "# 4. Junção de tabelas"
   ],
   "metadata": {
    "collapsed": false
   }
  },
  {
   "cell_type": "code",
   "execution_count": 2,
   "outputs": [],
   "source": [
    "import numpy as np\n",
    "import pandas as pd"
   ],
   "metadata": {
    "collapsed": false,
    "ExecuteTime": {
     "end_time": "2023-07-23T01:20:55.184822300Z",
     "start_time": "2023-07-23T01:20:54.676070600Z"
    }
   }
  },
  {
   "cell_type": "markdown",
   "source": [
    "Vimos aqui como criar DFs, como filtrá-los, adicionar valores e agregar em novos DFs. O último ponto para manipulação de DFs é como será a interação entre dois diferentes DataFrames.\n",
    "\n",
    "Há 3 principais modos de integração de dataframes:\n",
    "    - **.merge()** - muito utilizado, se assemelha ao procv/procx/etc. do excel;\n",
    "    - **.concat()** - parecido com concatenar strings só que em dataframes/tabelas, só adiciona do lado ou no final\n",
    "    - **.join()** - confesso que nunca uso, tipo um .merge() com os parâmetros left_index e right_index = True, assim como o .groupby() está para o .pivot_table(), prefiro simplesmente ignorar a existência dessa função por ser um .merge() com menos opções"
   ],
   "metadata": {
    "collapsed": false
   }
  },
  {
   "cell_type": "code",
   "execution_count": 34,
   "outputs": [],
   "source": [
    "df_siglas = pd.read_json(\"Paises/names.json\", orient=\"index\").reset_index().rename(columns={\"index\": \"Sigla\", 0: \"Nome\"})\n",
    "df_continentes = pd.read_json(\"Paises/continent.json\", orient=\"index\").reset_index().rename(columns={\"index\": \"Sigla\", 0: \"Continente\"})"
   ],
   "metadata": {
    "collapsed": false,
    "ExecuteTime": {
     "end_time": "2023-07-23T01:27:04.395546300Z",
     "start_time": "2023-07-23T01:27:04.369959100Z"
    }
   }
  },
  {
   "cell_type": "code",
   "execution_count": 25,
   "outputs": [
    {
     "data": {
      "text/plain": "                  Mundiais  Libertadores  Fundação\nCorinthians            2.0           1.0      1910\nPalmeiras              NaN           3.0      1914\nSantos                 2.0           3.0      1912\nSão Paulo              3.0           3.0      1930\nXV de Piracicaba       NaN           NaN      1913",
      "text/html": "<div>\n<style scoped>\n    .dataframe tbody tr th:only-of-type {\n        vertical-align: middle;\n    }\n\n    .dataframe tbody tr th {\n        vertical-align: top;\n    }\n\n    .dataframe thead th {\n        text-align: right;\n    }\n</style>\n<table border=\"1\" class=\"dataframe\">\n  <thead>\n    <tr style=\"text-align: right;\">\n      <th></th>\n      <th>Mundiais</th>\n      <th>Libertadores</th>\n      <th>Fundação</th>\n    </tr>\n  </thead>\n  <tbody>\n    <tr>\n      <th>Corinthians</th>\n      <td>2.0</td>\n      <td>1.0</td>\n      <td>1910</td>\n    </tr>\n    <tr>\n      <th>Palmeiras</th>\n      <td>NaN</td>\n      <td>3.0</td>\n      <td>1914</td>\n    </tr>\n    <tr>\n      <th>Santos</th>\n      <td>2.0</td>\n      <td>3.0</td>\n      <td>1912</td>\n    </tr>\n    <tr>\n      <th>São Paulo</th>\n      <td>3.0</td>\n      <td>3.0</td>\n      <td>1930</td>\n    </tr>\n    <tr>\n      <th>XV de Piracicaba</th>\n      <td>NaN</td>\n      <td>NaN</td>\n      <td>1913</td>\n    </tr>\n  </tbody>\n</table>\n</div>"
     },
     "execution_count": 25,
     "metadata": {},
     "output_type": "execute_result"
    }
   ],
   "source": [
    "df_times = pd.DataFrame(\n",
    "    {\n",
    "        \"Mundiais\": [2, np.nan, 2, 3, np.nan],\n",
    "        \"Libertadores\": [1, 3, 3, 3, np.nan],\n",
    "        \"Fundação\": [1910, 1914, 1912, 1930, 1913]\n",
    "    },\n",
    "    index=[\"Corinthians\", \"Palmeiras\", \"Santos\", \"São Paulo\", \"XV de Piracicaba\"]\n",
    ")\n",
    "\n",
    "df_times_plus = pd.DataFrame(\n",
    "    {\n",
    "        \"Mundiais\": [np.nan, np.nan, np.nan, 2],\n",
    "        \"Libertadores\": [np.nan, 2, 1, 1],\n",
    "        \"Fundação\": [1902, 1921, 1898, 1910]\n",
    "    },\n",
    "    index=[\"Fluminense\", \"Cruzeiro\", \"Vasco\", \"Corinthians\"]\n",
    ")\n",
    "\n",
    "df_times_2 = pd.DataFrame(\n",
    "    {\n",
    "        \"Estádio\": [\"Arena Neo Química\", \"Allianz Park\", \"Vila Belmiro\", \"Barão da Serra Negra\", \"Maracanã\"],\n",
    "        \"Cidade\": [\"São Paulo\", \"São Paulo\", \"Santos\", \"Piracicaba\", \"Maracanã\"],\n",
    "        \"Mundiais\": [2, np.nan, 2, np.nan, 1],\n",
    "    },\n",
    "    index=[\"Corinthians\", \"Palmeiras\", \"Santos\", \"XV de Piracicaba\", \"Flamengo\"]\n",
    ")\n",
    "\n",
    "\n",
    "\n",
    "df_times"
   ],
   "metadata": {
    "collapsed": false,
    "ExecuteTime": {
     "end_time": "2023-07-23T01:26:44.836299700Z",
     "start_time": "2023-07-23T01:26:44.800798800Z"
    }
   }
  },
  {
   "cell_type": "code",
   "execution_count": 26,
   "outputs": [
    {
     "data": {
      "text/plain": "             Mundiais  Libertadores  Fundação\nFluminense        NaN           NaN      1902\nCruzeiro          NaN           2.0      1921\nVasco             NaN           1.0      1898\nCorinthians       2.0           1.0      1910",
      "text/html": "<div>\n<style scoped>\n    .dataframe tbody tr th:only-of-type {\n        vertical-align: middle;\n    }\n\n    .dataframe tbody tr th {\n        vertical-align: top;\n    }\n\n    .dataframe thead th {\n        text-align: right;\n    }\n</style>\n<table border=\"1\" class=\"dataframe\">\n  <thead>\n    <tr style=\"text-align: right;\">\n      <th></th>\n      <th>Mundiais</th>\n      <th>Libertadores</th>\n      <th>Fundação</th>\n    </tr>\n  </thead>\n  <tbody>\n    <tr>\n      <th>Fluminense</th>\n      <td>NaN</td>\n      <td>NaN</td>\n      <td>1902</td>\n    </tr>\n    <tr>\n      <th>Cruzeiro</th>\n      <td>NaN</td>\n      <td>2.0</td>\n      <td>1921</td>\n    </tr>\n    <tr>\n      <th>Vasco</th>\n      <td>NaN</td>\n      <td>1.0</td>\n      <td>1898</td>\n    </tr>\n    <tr>\n      <th>Corinthians</th>\n      <td>2.0</td>\n      <td>1.0</td>\n      <td>1910</td>\n    </tr>\n  </tbody>\n</table>\n</div>"
     },
     "execution_count": 26,
     "metadata": {},
     "output_type": "execute_result"
    }
   ],
   "source": [
    "df_times_plus"
   ],
   "metadata": {
    "collapsed": false,
    "ExecuteTime": {
     "end_time": "2023-07-23T01:26:45.367696600Z",
     "start_time": "2023-07-23T01:26:45.330261200Z"
    }
   }
  },
  {
   "cell_type": "code",
   "execution_count": 27,
   "outputs": [
    {
     "data": {
      "text/plain": "                               Estádio      Cidade  Mundiais\nCorinthians          Arena Neo Química   São Paulo       2.0\nPalmeiras                 Allianz Park   São Paulo       NaN\nSantos                    Vila Belmiro      Santos       2.0\nXV de Piracicaba  Barão da Serra Negra  Piracicaba       NaN\nFlamengo                      Maracanã    Maracanã       1.0",
      "text/html": "<div>\n<style scoped>\n    .dataframe tbody tr th:only-of-type {\n        vertical-align: middle;\n    }\n\n    .dataframe tbody tr th {\n        vertical-align: top;\n    }\n\n    .dataframe thead th {\n        text-align: right;\n    }\n</style>\n<table border=\"1\" class=\"dataframe\">\n  <thead>\n    <tr style=\"text-align: right;\">\n      <th></th>\n      <th>Estádio</th>\n      <th>Cidade</th>\n      <th>Mundiais</th>\n    </tr>\n  </thead>\n  <tbody>\n    <tr>\n      <th>Corinthians</th>\n      <td>Arena Neo Química</td>\n      <td>São Paulo</td>\n      <td>2.0</td>\n    </tr>\n    <tr>\n      <th>Palmeiras</th>\n      <td>Allianz Park</td>\n      <td>São Paulo</td>\n      <td>NaN</td>\n    </tr>\n    <tr>\n      <th>Santos</th>\n      <td>Vila Belmiro</td>\n      <td>Santos</td>\n      <td>2.0</td>\n    </tr>\n    <tr>\n      <th>XV de Piracicaba</th>\n      <td>Barão da Serra Negra</td>\n      <td>Piracicaba</td>\n      <td>NaN</td>\n    </tr>\n    <tr>\n      <th>Flamengo</th>\n      <td>Maracanã</td>\n      <td>Maracanã</td>\n      <td>1.0</td>\n    </tr>\n  </tbody>\n</table>\n</div>"
     },
     "execution_count": 27,
     "metadata": {},
     "output_type": "execute_result"
    }
   ],
   "source": [
    "df_times_2"
   ],
   "metadata": {
    "collapsed": false,
    "ExecuteTime": {
     "end_time": "2023-07-23T01:26:45.617976400Z",
     "start_time": "2023-07-23T01:26:45.567333100Z"
    }
   }
  },
  {
   "cell_type": "code",
   "execution_count": 28,
   "outputs": [
    {
     "data": {
      "text/plain": "             Mundiais  Libertadores  Fundação\nFluminense        NaN           NaN      1902\nCruzeiro          NaN           2.0      1921\nVasco             NaN           1.0      1898\nCorinthians       2.0           1.0      1910",
      "text/html": "<div>\n<style scoped>\n    .dataframe tbody tr th:only-of-type {\n        vertical-align: middle;\n    }\n\n    .dataframe tbody tr th {\n        vertical-align: top;\n    }\n\n    .dataframe thead th {\n        text-align: right;\n    }\n</style>\n<table border=\"1\" class=\"dataframe\">\n  <thead>\n    <tr style=\"text-align: right;\">\n      <th></th>\n      <th>Mundiais</th>\n      <th>Libertadores</th>\n      <th>Fundação</th>\n    </tr>\n  </thead>\n  <tbody>\n    <tr>\n      <th>Fluminense</th>\n      <td>NaN</td>\n      <td>NaN</td>\n      <td>1902</td>\n    </tr>\n    <tr>\n      <th>Cruzeiro</th>\n      <td>NaN</td>\n      <td>2.0</td>\n      <td>1921</td>\n    </tr>\n    <tr>\n      <th>Vasco</th>\n      <td>NaN</td>\n      <td>1.0</td>\n      <td>1898</td>\n    </tr>\n    <tr>\n      <th>Corinthians</th>\n      <td>2.0</td>\n      <td>1.0</td>\n      <td>1910</td>\n    </tr>\n  </tbody>\n</table>\n</div>"
     },
     "execution_count": 28,
     "metadata": {},
     "output_type": "execute_result"
    }
   ],
   "source": [
    "df_times_plus"
   ],
   "metadata": {
    "collapsed": false,
    "ExecuteTime": {
     "end_time": "2023-07-23T01:26:45.918558500Z",
     "start_time": "2023-07-23T01:26:45.846148800Z"
    }
   }
  },
  {
   "cell_type": "markdown",
   "source": [
    "## 4.1. .concat()"
   ],
   "metadata": {
    "collapsed": false
   }
  },
  {
   "cell_type": "markdown",
   "source": [
    "Seguiremos primeiramente com a função .concat() pois é a mais simples"
   ],
   "metadata": {
    "collapsed": false
   }
  },
  {
   "cell_type": "code",
   "execution_count": 29,
   "outputs": [
    {
     "data": {
      "text/plain": "                  Mundiais  Libertadores  Fundação\nCorinthians            2.0           1.0      1910\nPalmeiras              NaN           3.0      1914\nSantos                 2.0           3.0      1912\nSão Paulo              3.0           3.0      1930\nXV de Piracicaba       NaN           NaN      1913\nFluminense             NaN           NaN      1902\nCruzeiro               NaN           2.0      1921\nVasco                  NaN           1.0      1898\nCorinthians            2.0           1.0      1910",
      "text/html": "<div>\n<style scoped>\n    .dataframe tbody tr th:only-of-type {\n        vertical-align: middle;\n    }\n\n    .dataframe tbody tr th {\n        vertical-align: top;\n    }\n\n    .dataframe thead th {\n        text-align: right;\n    }\n</style>\n<table border=\"1\" class=\"dataframe\">\n  <thead>\n    <tr style=\"text-align: right;\">\n      <th></th>\n      <th>Mundiais</th>\n      <th>Libertadores</th>\n      <th>Fundação</th>\n    </tr>\n  </thead>\n  <tbody>\n    <tr>\n      <th>Corinthians</th>\n      <td>2.0</td>\n      <td>1.0</td>\n      <td>1910</td>\n    </tr>\n    <tr>\n      <th>Palmeiras</th>\n      <td>NaN</td>\n      <td>3.0</td>\n      <td>1914</td>\n    </tr>\n    <tr>\n      <th>Santos</th>\n      <td>2.0</td>\n      <td>3.0</td>\n      <td>1912</td>\n    </tr>\n    <tr>\n      <th>São Paulo</th>\n      <td>3.0</td>\n      <td>3.0</td>\n      <td>1930</td>\n    </tr>\n    <tr>\n      <th>XV de Piracicaba</th>\n      <td>NaN</td>\n      <td>NaN</td>\n      <td>1913</td>\n    </tr>\n    <tr>\n      <th>Fluminense</th>\n      <td>NaN</td>\n      <td>NaN</td>\n      <td>1902</td>\n    </tr>\n    <tr>\n      <th>Cruzeiro</th>\n      <td>NaN</td>\n      <td>2.0</td>\n      <td>1921</td>\n    </tr>\n    <tr>\n      <th>Vasco</th>\n      <td>NaN</td>\n      <td>1.0</td>\n      <td>1898</td>\n    </tr>\n    <tr>\n      <th>Corinthians</th>\n      <td>2.0</td>\n      <td>1.0</td>\n      <td>1910</td>\n    </tr>\n  </tbody>\n</table>\n</div>"
     },
     "execution_count": 29,
     "metadata": {},
     "output_type": "execute_result"
    }
   ],
   "source": [
    "pd.concat([df_times, df_times_plus]) # Perceba que os dois DataFrames foram unidos, concatenando as linhas"
   ],
   "metadata": {
    "collapsed": false,
    "ExecuteTime": {
     "end_time": "2023-07-23T01:26:46.992236400Z",
     "start_time": "2023-07-23T01:26:46.921019600Z"
    }
   }
  },
  {
   "cell_type": "code",
   "execution_count": 30,
   "outputs": [
    {
     "data": {
      "text/plain": "                  Mundiais  Libertadores  Fundação  Mundiais  Libertadores  \\\nCorinthians            2.0           1.0    1910.0       2.0           1.0   \nPalmeiras              NaN           3.0    1914.0       NaN           NaN   \nSantos                 2.0           3.0    1912.0       NaN           NaN   \nSão Paulo              3.0           3.0    1930.0       NaN           NaN   \nXV de Piracicaba       NaN           NaN    1913.0       NaN           NaN   \nFluminense             NaN           NaN       NaN       NaN           NaN   \nCruzeiro               NaN           NaN       NaN       NaN           2.0   \nVasco                  NaN           NaN       NaN       NaN           1.0   \n\n                  Fundação  \nCorinthians         1910.0  \nPalmeiras              NaN  \nSantos                 NaN  \nSão Paulo              NaN  \nXV de Piracicaba       NaN  \nFluminense          1902.0  \nCruzeiro            1921.0  \nVasco               1898.0  ",
      "text/html": "<div>\n<style scoped>\n    .dataframe tbody tr th:only-of-type {\n        vertical-align: middle;\n    }\n\n    .dataframe tbody tr th {\n        vertical-align: top;\n    }\n\n    .dataframe thead th {\n        text-align: right;\n    }\n</style>\n<table border=\"1\" class=\"dataframe\">\n  <thead>\n    <tr style=\"text-align: right;\">\n      <th></th>\n      <th>Mundiais</th>\n      <th>Libertadores</th>\n      <th>Fundação</th>\n      <th>Mundiais</th>\n      <th>Libertadores</th>\n      <th>Fundação</th>\n    </tr>\n  </thead>\n  <tbody>\n    <tr>\n      <th>Corinthians</th>\n      <td>2.0</td>\n      <td>1.0</td>\n      <td>1910.0</td>\n      <td>2.0</td>\n      <td>1.0</td>\n      <td>1910.0</td>\n    </tr>\n    <tr>\n      <th>Palmeiras</th>\n      <td>NaN</td>\n      <td>3.0</td>\n      <td>1914.0</td>\n      <td>NaN</td>\n      <td>NaN</td>\n      <td>NaN</td>\n    </tr>\n    <tr>\n      <th>Santos</th>\n      <td>2.0</td>\n      <td>3.0</td>\n      <td>1912.0</td>\n      <td>NaN</td>\n      <td>NaN</td>\n      <td>NaN</td>\n    </tr>\n    <tr>\n      <th>São Paulo</th>\n      <td>3.0</td>\n      <td>3.0</td>\n      <td>1930.0</td>\n      <td>NaN</td>\n      <td>NaN</td>\n      <td>NaN</td>\n    </tr>\n    <tr>\n      <th>XV de Piracicaba</th>\n      <td>NaN</td>\n      <td>NaN</td>\n      <td>1913.0</td>\n      <td>NaN</td>\n      <td>NaN</td>\n      <td>NaN</td>\n    </tr>\n    <tr>\n      <th>Fluminense</th>\n      <td>NaN</td>\n      <td>NaN</td>\n      <td>NaN</td>\n      <td>NaN</td>\n      <td>NaN</td>\n      <td>1902.0</td>\n    </tr>\n    <tr>\n      <th>Cruzeiro</th>\n      <td>NaN</td>\n      <td>NaN</td>\n      <td>NaN</td>\n      <td>NaN</td>\n      <td>2.0</td>\n      <td>1921.0</td>\n    </tr>\n    <tr>\n      <th>Vasco</th>\n      <td>NaN</td>\n      <td>NaN</td>\n      <td>NaN</td>\n      <td>NaN</td>\n      <td>1.0</td>\n      <td>1898.0</td>\n    </tr>\n  </tbody>\n</table>\n</div>"
     },
     "execution_count": 30,
     "metadata": {},
     "output_type": "execute_result"
    }
   ],
   "source": [
    "pd.concat([df_times, df_times_plus], axis=1) # Perceba a concatenação por coluna\n",
    "\n",
    "## ATENÇÃO\n",
    "#  Tome muito cuidado para que não ocorra o que acontece abaixo, de ter mais de uma coluna com o msm nome [\"Mundiais\", \"Libertadores\", \"Fundação\", isso faria muito difícil de selecionar/filtrar uma coluna única (sem .iloc())"
   ],
   "metadata": {
    "collapsed": false,
    "ExecuteTime": {
     "end_time": "2023-07-23T01:26:47.407660100Z",
     "start_time": "2023-07-23T01:26:47.275622Z"
    }
   }
  },
  {
   "cell_type": "code",
   "execution_count": 31,
   "outputs": [
    {
     "data": {
      "text/plain": "             Mundiais  Libertadores  Fundação  Mundiais  Libertadores  \\\nCorinthians       2.0           1.0      1910       2.0           1.0   \n\n             Fundação  \nCorinthians      1910  ",
      "text/html": "<div>\n<style scoped>\n    .dataframe tbody tr th:only-of-type {\n        vertical-align: middle;\n    }\n\n    .dataframe tbody tr th {\n        vertical-align: top;\n    }\n\n    .dataframe thead th {\n        text-align: right;\n    }\n</style>\n<table border=\"1\" class=\"dataframe\">\n  <thead>\n    <tr style=\"text-align: right;\">\n      <th></th>\n      <th>Mundiais</th>\n      <th>Libertadores</th>\n      <th>Fundação</th>\n      <th>Mundiais</th>\n      <th>Libertadores</th>\n      <th>Fundação</th>\n    </tr>\n  </thead>\n  <tbody>\n    <tr>\n      <th>Corinthians</th>\n      <td>2.0</td>\n      <td>1.0</td>\n      <td>1910</td>\n      <td>2.0</td>\n      <td>1.0</td>\n      <td>1910</td>\n    </tr>\n  </tbody>\n</table>\n</div>"
     },
     "execution_count": 31,
     "metadata": {},
     "output_type": "execute_result"
    }
   ],
   "source": [
    "pd.concat([df_times, df_times_plus], axis=1, join=\"inner\") # O join default é Outer (União), podemos selecionar Inner (Intersecção), caso necessário"
   ],
   "metadata": {
    "collapsed": false,
    "ExecuteTime": {
     "end_time": "2023-07-23T01:26:47.639008100Z",
     "start_time": "2023-07-23T01:26:47.552155900Z"
    }
   }
  },
  {
   "cell_type": "markdown",
   "source": [
    "Há outros parâmetors no .concat(), porém muito provávelmente serão utilizados em casos específicos, como sempre segue a documentação para aprofundamento:\n",
    " <a href=\"https://pandas.pydata.org/docs/reference/api/pandas.concat.html?highlight=concat#pandas.concat\">pandas.concat() </a>"
   ],
   "metadata": {
    "collapsed": false
   }
  },
  {
   "cell_type": "markdown",
   "source": [
    "# 4.2) .merge()"
   ],
   "metadata": {
    "collapsed": false
   }
  },
  {
   "cell_type": "markdown",
   "source": [
    "Partiremos agora para o .merge()"
   ],
   "metadata": {
    "collapsed": false
   }
  },
  {
   "cell_type": "markdown",
   "source": [
    "Algumas informações sobre o parâmetro how da .merge(), há 4 opções:\n",
    "- inner (Default) - Pega somente a intersecção, ou seja, valores nos dois DataFrames\n",
    "- outer - Pega a união, ou seja, os valores nos dois DataFrames, com valores nulos se não tem no DataFrame em questão\n",
    "- left - Todos os valores do DataFrame da esquerda (o qual chama a função) são mantidos, tipo um procv()\n",
    "- right - msm coisa com o DataFrame da direita, procv() inverso?"
   ],
   "metadata": {
    "collapsed": false
   }
  },
  {
   "cell_type": "code",
   "execution_count": 55,
   "outputs": [
    {
     "data": {
      "text/plain": "                  Mundiais_base1  Libertadores  Fundação  \\\nCorinthians                  2.0           1.0    1910.0   \nFlamengo                     NaN           NaN       NaN   \nPalmeiras                    NaN           3.0    1914.0   \nSantos                       2.0           3.0    1912.0   \nSão Paulo                    3.0           3.0    1930.0   \nXV de Piracicaba             NaN           NaN    1913.0   \n\n                               Estádio      Cidade  Mundiais_base2  \nCorinthians          Arena Neo Química   São Paulo             2.0  \nFlamengo                      Maracanã    Maracanã             1.0  \nPalmeiras                 Allianz Park   São Paulo             NaN  \nSantos                    Vila Belmiro      Santos             2.0  \nSão Paulo                          NaN         NaN             NaN  \nXV de Piracicaba  Barão da Serra Negra  Piracicaba             NaN  ",
      "text/html": "<div>\n<style scoped>\n    .dataframe tbody tr th:only-of-type {\n        vertical-align: middle;\n    }\n\n    .dataframe tbody tr th {\n        vertical-align: top;\n    }\n\n    .dataframe thead th {\n        text-align: right;\n    }\n</style>\n<table border=\"1\" class=\"dataframe\">\n  <thead>\n    <tr style=\"text-align: right;\">\n      <th></th>\n      <th>Mundiais_base1</th>\n      <th>Libertadores</th>\n      <th>Fundação</th>\n      <th>Estádio</th>\n      <th>Cidade</th>\n      <th>Mundiais_base2</th>\n    </tr>\n  </thead>\n  <tbody>\n    <tr>\n      <th>Corinthians</th>\n      <td>2.0</td>\n      <td>1.0</td>\n      <td>1910.0</td>\n      <td>Arena Neo Química</td>\n      <td>São Paulo</td>\n      <td>2.0</td>\n    </tr>\n    <tr>\n      <th>Flamengo</th>\n      <td>NaN</td>\n      <td>NaN</td>\n      <td>NaN</td>\n      <td>Maracanã</td>\n      <td>Maracanã</td>\n      <td>1.0</td>\n    </tr>\n    <tr>\n      <th>Palmeiras</th>\n      <td>NaN</td>\n      <td>3.0</td>\n      <td>1914.0</td>\n      <td>Allianz Park</td>\n      <td>São Paulo</td>\n      <td>NaN</td>\n    </tr>\n    <tr>\n      <th>Santos</th>\n      <td>2.0</td>\n      <td>3.0</td>\n      <td>1912.0</td>\n      <td>Vila Belmiro</td>\n      <td>Santos</td>\n      <td>2.0</td>\n    </tr>\n    <tr>\n      <th>São Paulo</th>\n      <td>3.0</td>\n      <td>3.0</td>\n      <td>1930.0</td>\n      <td>NaN</td>\n      <td>NaN</td>\n      <td>NaN</td>\n    </tr>\n    <tr>\n      <th>XV de Piracicaba</th>\n      <td>NaN</td>\n      <td>NaN</td>\n      <td>1913.0</td>\n      <td>Barão da Serra Negra</td>\n      <td>Piracicaba</td>\n      <td>NaN</td>\n    </tr>\n  </tbody>\n</table>\n</div>"
     },
     "execution_count": 55,
     "metadata": {},
     "output_type": "execute_result"
    }
   ],
   "source": [
    "\n",
    "df_times.merge( # Dataframe da esquerda\n",
    "    right=df_times_2, # Dataframe da direita\n",
    "    left_index=True, # A chave do dataframe da esquerda será o index\n",
    "    right_index=True, # A chave do dataframe da direita será o index\n",
    "    how=\"outer\", # how indicado a cima\n",
    "    suffixes=[\"_base1\", \"_base2\"] # Caso as colunas estejam duplicadas com valores diferentes, elas entram com esses sufixos\n",
    "\n",
    ")"
   ],
   "metadata": {
    "collapsed": false,
    "ExecuteTime": {
     "end_time": "2023-07-23T01:36:50.643242800Z",
     "start_time": "2023-07-23T01:36:50.615247700Z"
    }
   }
  },
  {
   "cell_type": "code",
   "execution_count": 36,
   "outputs": [
    {
     "data": {
      "text/plain": "  Sigla                    Nome\n0    BD              Bangladesh\n1    BE                 Belgium\n2    BF            Burkina Faso\n3    BG                Bulgaria\n4    BA  Bosnia and Herzegovina",
      "text/html": "<div>\n<style scoped>\n    .dataframe tbody tr th:only-of-type {\n        vertical-align: middle;\n    }\n\n    .dataframe tbody tr th {\n        vertical-align: top;\n    }\n\n    .dataframe thead th {\n        text-align: right;\n    }\n</style>\n<table border=\"1\" class=\"dataframe\">\n  <thead>\n    <tr style=\"text-align: right;\">\n      <th></th>\n      <th>Sigla</th>\n      <th>Nome</th>\n    </tr>\n  </thead>\n  <tbody>\n    <tr>\n      <th>0</th>\n      <td>BD</td>\n      <td>Bangladesh</td>\n    </tr>\n    <tr>\n      <th>1</th>\n      <td>BE</td>\n      <td>Belgium</td>\n    </tr>\n    <tr>\n      <th>2</th>\n      <td>BF</td>\n      <td>Burkina Faso</td>\n    </tr>\n    <tr>\n      <th>3</th>\n      <td>BG</td>\n      <td>Bulgaria</td>\n    </tr>\n    <tr>\n      <th>4</th>\n      <td>BA</td>\n      <td>Bosnia and Herzegovina</td>\n    </tr>\n  </tbody>\n</table>\n</div>"
     },
     "execution_count": 36,
     "metadata": {},
     "output_type": "execute_result"
    }
   ],
   "source": [
    "df_siglas.head()"
   ],
   "metadata": {
    "collapsed": false,
    "ExecuteTime": {
     "end_time": "2023-07-23T01:27:26.070121Z",
     "start_time": "2023-07-23T01:27:26.040107200Z"
    }
   }
  },
  {
   "cell_type": "code",
   "execution_count": 42,
   "outputs": [
    {
     "data": {
      "text/plain": "  Sigla Continente\n0    BD         AS\n1    BE         EU\n2    BF         AF\n3    BG         EU\n4    BA         EU",
      "text/html": "<div>\n<style scoped>\n    .dataframe tbody tr th:only-of-type {\n        vertical-align: middle;\n    }\n\n    .dataframe tbody tr th {\n        vertical-align: top;\n    }\n\n    .dataframe thead th {\n        text-align: right;\n    }\n</style>\n<table border=\"1\" class=\"dataframe\">\n  <thead>\n    <tr style=\"text-align: right;\">\n      <th></th>\n      <th>Sigla</th>\n      <th>Continente</th>\n    </tr>\n  </thead>\n  <tbody>\n    <tr>\n      <th>0</th>\n      <td>BD</td>\n      <td>AS</td>\n    </tr>\n    <tr>\n      <th>1</th>\n      <td>BE</td>\n      <td>EU</td>\n    </tr>\n    <tr>\n      <th>2</th>\n      <td>BF</td>\n      <td>AF</td>\n    </tr>\n    <tr>\n      <th>3</th>\n      <td>BG</td>\n      <td>EU</td>\n    </tr>\n    <tr>\n      <th>4</th>\n      <td>BA</td>\n      <td>EU</td>\n    </tr>\n  </tbody>\n</table>\n</div>"
     },
     "execution_count": 42,
     "metadata": {},
     "output_type": "execute_result"
    }
   ],
   "source": [
    "df_continentes.head()"
   ],
   "metadata": {
    "collapsed": false,
    "ExecuteTime": {
     "end_time": "2023-07-23T01:28:37.493652400Z",
     "start_time": "2023-07-23T01:28:37.456171700Z"
    }
   }
  },
  {
   "cell_type": "code",
   "execution_count": 43,
   "outputs": [
    {
     "data": {
      "text/plain": "    Sigla                    Nome Continente\n0      BD              Bangladesh         AS\n1      BE                 Belgium         EU\n2      BF            Burkina Faso         AF\n3      BG                Bulgaria         EU\n4      BA  Bosnia and Herzegovina         EU\n..    ...                     ...        ...\n245    IE                 Ireland         EU\n246    ID               Indonesia         AS\n247    UA                 Ukraine         EU\n248    QA                   Qatar         AS\n249    MZ              Mozambique         AF\n\n[250 rows x 3 columns]",
      "text/html": "<div>\n<style scoped>\n    .dataframe tbody tr th:only-of-type {\n        vertical-align: middle;\n    }\n\n    .dataframe tbody tr th {\n        vertical-align: top;\n    }\n\n    .dataframe thead th {\n        text-align: right;\n    }\n</style>\n<table border=\"1\" class=\"dataframe\">\n  <thead>\n    <tr style=\"text-align: right;\">\n      <th></th>\n      <th>Sigla</th>\n      <th>Nome</th>\n      <th>Continente</th>\n    </tr>\n  </thead>\n  <tbody>\n    <tr>\n      <th>0</th>\n      <td>BD</td>\n      <td>Bangladesh</td>\n      <td>AS</td>\n    </tr>\n    <tr>\n      <th>1</th>\n      <td>BE</td>\n      <td>Belgium</td>\n      <td>EU</td>\n    </tr>\n    <tr>\n      <th>2</th>\n      <td>BF</td>\n      <td>Burkina Faso</td>\n      <td>AF</td>\n    </tr>\n    <tr>\n      <th>3</th>\n      <td>BG</td>\n      <td>Bulgaria</td>\n      <td>EU</td>\n    </tr>\n    <tr>\n      <th>4</th>\n      <td>BA</td>\n      <td>Bosnia and Herzegovina</td>\n      <td>EU</td>\n    </tr>\n    <tr>\n      <th>...</th>\n      <td>...</td>\n      <td>...</td>\n      <td>...</td>\n    </tr>\n    <tr>\n      <th>245</th>\n      <td>IE</td>\n      <td>Ireland</td>\n      <td>EU</td>\n    </tr>\n    <tr>\n      <th>246</th>\n      <td>ID</td>\n      <td>Indonesia</td>\n      <td>AS</td>\n    </tr>\n    <tr>\n      <th>247</th>\n      <td>UA</td>\n      <td>Ukraine</td>\n      <td>EU</td>\n    </tr>\n    <tr>\n      <th>248</th>\n      <td>QA</td>\n      <td>Qatar</td>\n      <td>AS</td>\n    </tr>\n    <tr>\n      <th>249</th>\n      <td>MZ</td>\n      <td>Mozambique</td>\n      <td>AF</td>\n    </tr>\n  </tbody>\n</table>\n<p>250 rows × 3 columns</p>\n</div>"
     },
     "execution_count": 43,
     "metadata": {},
     "output_type": "execute_result"
    }
   ],
   "source": [
    "df_paises = df_siglas.copy()\n",
    "df_paises = df_paises.merge(df_continentes, on=\"Sigla\", how=\"left\")\n",
    "df_paises"
   ],
   "metadata": {
    "collapsed": false,
    "ExecuteTime": {
     "end_time": "2023-07-23T01:28:39.150903500Z",
     "start_time": "2023-07-23T01:28:39.065400500Z"
    }
   }
  },
  {
   "cell_type": "markdown",
   "source": [
    "## 4.3 .join()\n",
    "\n",
    "Segue um exemplo utilizando .join(), veja que o resultado é o msm que usando .merge(). Bom saber caso você pegue um código que tenha .join() e saiba do que se trata, porém não recomendo a utilização."
   ],
   "metadata": {
    "collapsed": false
   }
  },
  {
   "cell_type": "code",
   "execution_count": 56,
   "outputs": [
    {
     "data": {
      "text/plain": "                  Mundiais_left  Libertadores  Fundação               Estádio  \\\nCorinthians                 2.0           1.0      1910     Arena Neo Química   \nPalmeiras                   NaN           3.0      1914          Allianz Park   \nSantos                      2.0           3.0      1912          Vila Belmiro   \nSão Paulo                   3.0           3.0      1930                   NaN   \nXV de Piracicaba            NaN           NaN      1913  Barão da Serra Negra   \n\n                      Cidade  Mundiais_right  \nCorinthians        São Paulo             2.0  \nPalmeiras          São Paulo             NaN  \nSantos                Santos             2.0  \nSão Paulo                NaN             NaN  \nXV de Piracicaba  Piracicaba             NaN  ",
      "text/html": "<div>\n<style scoped>\n    .dataframe tbody tr th:only-of-type {\n        vertical-align: middle;\n    }\n\n    .dataframe tbody tr th {\n        vertical-align: top;\n    }\n\n    .dataframe thead th {\n        text-align: right;\n    }\n</style>\n<table border=\"1\" class=\"dataframe\">\n  <thead>\n    <tr style=\"text-align: right;\">\n      <th></th>\n      <th>Mundiais_left</th>\n      <th>Libertadores</th>\n      <th>Fundação</th>\n      <th>Estádio</th>\n      <th>Cidade</th>\n      <th>Mundiais_right</th>\n    </tr>\n  </thead>\n  <tbody>\n    <tr>\n      <th>Corinthians</th>\n      <td>2.0</td>\n      <td>1.0</td>\n      <td>1910</td>\n      <td>Arena Neo Química</td>\n      <td>São Paulo</td>\n      <td>2.0</td>\n    </tr>\n    <tr>\n      <th>Palmeiras</th>\n      <td>NaN</td>\n      <td>3.0</td>\n      <td>1914</td>\n      <td>Allianz Park</td>\n      <td>São Paulo</td>\n      <td>NaN</td>\n    </tr>\n    <tr>\n      <th>Santos</th>\n      <td>2.0</td>\n      <td>3.0</td>\n      <td>1912</td>\n      <td>Vila Belmiro</td>\n      <td>Santos</td>\n      <td>2.0</td>\n    </tr>\n    <tr>\n      <th>São Paulo</th>\n      <td>3.0</td>\n      <td>3.0</td>\n      <td>1930</td>\n      <td>NaN</td>\n      <td>NaN</td>\n      <td>NaN</td>\n    </tr>\n    <tr>\n      <th>XV de Piracicaba</th>\n      <td>NaN</td>\n      <td>NaN</td>\n      <td>1913</td>\n      <td>Barão da Serra Negra</td>\n      <td>Piracicaba</td>\n      <td>NaN</td>\n    </tr>\n  </tbody>\n</table>\n</div>"
     },
     "execution_count": 56,
     "metadata": {},
     "output_type": "execute_result"
    }
   ],
   "source": [
    "df_times.join(df_times_2, lsuffix=\"_left\", rsuffix=\"_right\")"
   ],
   "metadata": {
    "collapsed": false,
    "ExecuteTime": {
     "end_time": "2023-07-23T01:36:58.780747200Z",
     "start_time": "2023-07-23T01:36:58.752314600Z"
    }
   }
  },
  {
   "cell_type": "code",
   "execution_count": 57,
   "outputs": [
    {
     "data": {
      "text/plain": "                  Mundiais_left  Libertadores  Fundação               Estádio  \\\nCorinthians                 2.0           1.0      1910     Arena Neo Química   \nPalmeiras                   NaN           3.0      1914          Allianz Park   \nSantos                      2.0           3.0      1912          Vila Belmiro   \nSão Paulo                   3.0           3.0      1930                   NaN   \nXV de Piracicaba            NaN           NaN      1913  Barão da Serra Negra   \n\n                      Cidade  Mundiais_right  \nCorinthians        São Paulo             2.0  \nPalmeiras          São Paulo             NaN  \nSantos                Santos             2.0  \nSão Paulo                NaN             NaN  \nXV de Piracicaba  Piracicaba             NaN  ",
      "text/html": "<div>\n<style scoped>\n    .dataframe tbody tr th:only-of-type {\n        vertical-align: middle;\n    }\n\n    .dataframe tbody tr th {\n        vertical-align: top;\n    }\n\n    .dataframe thead th {\n        text-align: right;\n    }\n</style>\n<table border=\"1\" class=\"dataframe\">\n  <thead>\n    <tr style=\"text-align: right;\">\n      <th></th>\n      <th>Mundiais_left</th>\n      <th>Libertadores</th>\n      <th>Fundação</th>\n      <th>Estádio</th>\n      <th>Cidade</th>\n      <th>Mundiais_right</th>\n    </tr>\n  </thead>\n  <tbody>\n    <tr>\n      <th>Corinthians</th>\n      <td>2.0</td>\n      <td>1.0</td>\n      <td>1910</td>\n      <td>Arena Neo Química</td>\n      <td>São Paulo</td>\n      <td>2.0</td>\n    </tr>\n    <tr>\n      <th>Palmeiras</th>\n      <td>NaN</td>\n      <td>3.0</td>\n      <td>1914</td>\n      <td>Allianz Park</td>\n      <td>São Paulo</td>\n      <td>NaN</td>\n    </tr>\n    <tr>\n      <th>Santos</th>\n      <td>2.0</td>\n      <td>3.0</td>\n      <td>1912</td>\n      <td>Vila Belmiro</td>\n      <td>Santos</td>\n      <td>2.0</td>\n    </tr>\n    <tr>\n      <th>São Paulo</th>\n      <td>3.0</td>\n      <td>3.0</td>\n      <td>1930</td>\n      <td>NaN</td>\n      <td>NaN</td>\n      <td>NaN</td>\n    </tr>\n    <tr>\n      <th>XV de Piracicaba</th>\n      <td>NaN</td>\n      <td>NaN</td>\n      <td>1913</td>\n      <td>Barão da Serra Negra</td>\n      <td>Piracicaba</td>\n      <td>NaN</td>\n    </tr>\n  </tbody>\n</table>\n</div>"
     },
     "execution_count": 57,
     "metadata": {},
     "output_type": "execute_result"
    }
   ],
   "source": [
    "df_times.merge(df_times_2, left_index=True, right_index=True, how=\"left\", suffixes=[\"_left\", \"_right\"])"
   ],
   "metadata": {
    "collapsed": false,
    "ExecuteTime": {
     "end_time": "2023-07-23T01:36:59.035696500Z",
     "start_time": "2023-07-23T01:36:59.001228Z"
    }
   }
  }
 ],
 "metadata": {
  "kernelspec": {
   "display_name": "Python 3",
   "language": "python",
   "name": "python3"
  },
  "language_info": {
   "codemirror_mode": {
    "name": "ipython",
    "version": 2
   },
   "file_extension": ".py",
   "mimetype": "text/x-python",
   "name": "python",
   "nbconvert_exporter": "python",
   "pygments_lexer": "ipython2",
   "version": "2.7.6"
  }
 },
 "nbformat": 4,
 "nbformat_minor": 0
}
