{
 "cells": [
  {
   "cell_type": "markdown",
   "source": [
    "# 5. Funções em DataFrames"
   ],
   "metadata": {
    "collapsed": false
   }
  },
  {
   "cell_type": "code",
   "execution_count": 5,
   "metadata": {
    "collapsed": true,
    "ExecuteTime": {
     "end_time": "2023-07-23T01:50:38.671030600Z",
     "start_time": "2023-07-23T01:50:38.646909500Z"
    }
   },
   "outputs": [],
   "source": [
    "import pandas as pd\n",
    "import numpy as np"
   ]
  },
  {
   "cell_type": "markdown",
   "source": [
    "Agora que sabemos manipular DataFrames, ajeitar as tabelas de forma que sejam utilizáveis, partiremos para algumas funções úteis para suas análises no pandas, além de aprender como exportar as tabelas criadas no python.\n",
    "\n",
    "Esse notebook pode ser também usado como uma referência/biblioteca quando estiver codando, **talvez** eu vá colocando mais fórmulas úteis aqui conforme eu vá lembrando.\n",
    "\n",
    "Lembrando que as funções dessa seção compreendem apenas analises exclusivas do pandas, a análise de dados feita apenas com o pandas/tabelas as vezes não é suficiente (necessitando de gráficos, mapas, modelos de IA ou outras ferramentas para realizar uma análise completa, no treinamento dessa semana serão vistas análises tanto com gráficos quanto mapas com o python)"
   ],
   "metadata": {
    "collapsed": false
   }
  },
  {
   "cell_type": "markdown",
   "source": [
    "## 5.1 Valores únicos"
   ],
   "metadata": {
    "collapsed": false
   }
  },
  {
   "cell_type": "code",
   "execution_count": 73,
   "outputs": [
    {
     "data": {
      "text/plain": "         date home_team away_team  home_score  away_score tournament     city  \\\n0  1872-11-30  Scotland   England           0           0   Friendly  Glasgow   \n1  1873-03-08   England  Scotland           4           2   Friendly   London   \n2  1874-03-07  Scotland   England           2           1   Friendly  Glasgow   \n3  1875-03-06   England  Scotland           2           2   Friendly   London   \n4  1876-03-04  Scotland   England           3           0   Friendly  Glasgow   \n\n    country  neutral  \n0  Scotland    False  \n1   England    False  \n2  Scotland    False  \n3   England    False  \n4  Scotland    False  ",
      "text/html": "<div>\n<style scoped>\n    .dataframe tbody tr th:only-of-type {\n        vertical-align: middle;\n    }\n\n    .dataframe tbody tr th {\n        vertical-align: top;\n    }\n\n    .dataframe thead th {\n        text-align: right;\n    }\n</style>\n<table border=\"1\" class=\"dataframe\">\n  <thead>\n    <tr style=\"text-align: right;\">\n      <th></th>\n      <th>date</th>\n      <th>home_team</th>\n      <th>away_team</th>\n      <th>home_score</th>\n      <th>away_score</th>\n      <th>tournament</th>\n      <th>city</th>\n      <th>country</th>\n      <th>neutral</th>\n    </tr>\n  </thead>\n  <tbody>\n    <tr>\n      <th>0</th>\n      <td>1872-11-30</td>\n      <td>Scotland</td>\n      <td>England</td>\n      <td>0</td>\n      <td>0</td>\n      <td>Friendly</td>\n      <td>Glasgow</td>\n      <td>Scotland</td>\n      <td>False</td>\n    </tr>\n    <tr>\n      <th>1</th>\n      <td>1873-03-08</td>\n      <td>England</td>\n      <td>Scotland</td>\n      <td>4</td>\n      <td>2</td>\n      <td>Friendly</td>\n      <td>London</td>\n      <td>England</td>\n      <td>False</td>\n    </tr>\n    <tr>\n      <th>2</th>\n      <td>1874-03-07</td>\n      <td>Scotland</td>\n      <td>England</td>\n      <td>2</td>\n      <td>1</td>\n      <td>Friendly</td>\n      <td>Glasgow</td>\n      <td>Scotland</td>\n      <td>False</td>\n    </tr>\n    <tr>\n      <th>3</th>\n      <td>1875-03-06</td>\n      <td>England</td>\n      <td>Scotland</td>\n      <td>2</td>\n      <td>2</td>\n      <td>Friendly</td>\n      <td>London</td>\n      <td>England</td>\n      <td>False</td>\n    </tr>\n    <tr>\n      <th>4</th>\n      <td>1876-03-04</td>\n      <td>Scotland</td>\n      <td>England</td>\n      <td>3</td>\n      <td>0</td>\n      <td>Friendly</td>\n      <td>Glasgow</td>\n      <td>Scotland</td>\n      <td>False</td>\n    </tr>\n  </tbody>\n</table>\n</div>"
     },
     "execution_count": 73,
     "metadata": {},
     "output_type": "execute_result"
    }
   ],
   "source": [
    "path_resultados = \"Copa/results.csv\"\n",
    "df_resultados = pd.read_csv(path_resultados)\n",
    "df_resultados_small = df_resultados.iloc[0:20] # .iloc visto na seção 2.2\n",
    "df_resultados.head()"
   ],
   "metadata": {
    "collapsed": false,
    "ExecuteTime": {
     "end_time": "2023-07-23T02:20:15.022012100Z",
     "start_time": "2023-07-23T02:20:14.872036300Z"
    }
   }
  },
  {
   "cell_type": "code",
   "execution_count": 11,
   "outputs": [
    {
     "data": {
      "text/plain": "array(['Scotland', 'England', 'Wales', 'Northern Ireland',\n       'United States', 'Uruguay', 'Austria', 'Hungary', 'Argentina',\n       'Belgium', 'France', 'Netherlands', 'Czechoslovakia',\n       'Switzerland', 'Sweden', 'Germany', 'Italy', 'Chile', 'Norway',\n       'Finland', 'Luxembourg', 'Russia', 'Denmark', 'Catalonia',\n       'Basque Country', 'Brazil', 'Japan', 'Paraguay', 'Canada',\n       'Estonia', 'Costa Rica', 'Guatemala', 'Spain', 'Brittany',\n       'Poland', 'Yugoslavia', 'New Zealand', 'Romania', 'Latvia',\n       'Galicia', 'Portugal', 'Andalusia', 'China PR', 'Australia',\n       'Lithuania', 'Turkey', 'Central Spain', 'Mexico', 'Aruba', 'Egypt',\n       'Haiti', 'Philippines', 'Bulgaria', 'Jamaica', 'Kenya', 'Bolivia',\n       'Peru', 'Honduras', 'Guyana', 'Uganda', 'Belarus', 'El Salvador',\n       'Barbados', 'Republic of Ireland', 'Trinidad and Tobago', 'Greece',\n       'Curaçao', 'Dominica', 'Silesia', 'Guadeloupe', 'Israel',\n       'Suriname', 'French Guiana', 'Cuba', 'Colombia', 'Ecuador',\n       'Saint Kitts and Nevis', 'Panama', 'Slovakia', 'Manchukuo',\n       'Croatia', 'Nicaragua', 'Afghanistan', 'India', 'Martinique',\n       'Zimbabwe', 'Iceland', 'Albania', 'Venezuela', 'Madagascar',\n       'Zambia', 'Mauritius', 'Tanzania', 'Iran', 'Djibouti', 'DR Congo',\n       'Vietnam', 'Macau', 'Ethiopia', 'Puerto Rico', 'Réunion',\n       'Sierra Leone', 'Zanzibar', 'South Korea', 'Ghana', 'South Africa',\n       'New Caledonia', 'Fiji', 'Nigeria', 'Myanmar', 'Sri Lanka',\n       'Tahiti', 'Gambia', 'Hong Kong', 'Singapore', 'Malaysia',\n       'Indonesia', 'Guinea-Bissau', 'German DR', 'Vanuatu', 'Kernow',\n       'Saarland', 'Cambodia', 'Lebanon', 'Pakistan', 'Vietnam Republic',\n       'North Korea', 'Togo', 'Sudan', 'Malta', 'Syria', 'Tunisia',\n       'Malawi', 'Morocco', 'Benin', 'Cameroon',\n       'Central African Republic', 'Gabon', 'Ivory Coast', 'Congo',\n       'Mali', 'North Vietnam', 'Mongolia', 'Taiwan', 'Cyprus', 'Iraq',\n       'Saint Lucia', 'Grenada', 'Thailand', 'Senegal', 'Libya', 'Guinea',\n       'Algeria', 'Kuwait', 'Jordan', 'Solomon Islands', 'Liberia',\n       'Laos', 'Saint Vincent and the Grenadines', 'Bermuda', 'Niger',\n       'Montenegro', 'Palestine', 'Bahrain', 'Papua New Guinea',\n       'Burkina Faso', 'Mauritania', 'Saudi Arabia', 'Eswatini',\n       'Western Australia', 'Somalia', 'Lesotho', 'Cook Islands', 'Qatar',\n       'Antigua and Barbuda', 'Faroe Islands', 'Bangladesh', 'Yemen',\n       'Oman', 'Yemen DPR', 'Burundi', 'Mozambique', 'Guam', 'Chad',\n       'Angola', 'Dominican Republic', 'Seychelles', 'Rwanda',\n       'São Tomé and Príncipe', 'Botswana', 'Northern Cyprus',\n       'Cape Verde', 'Kyrgyzstan', 'Georgia', 'Azerbaijan', 'Kiribati',\n       'Tonga', 'Wallis Islands and Futuna', 'United Arab Emirates',\n       'Brunei', 'Equatorial Guinea', 'Liechtenstein', 'Nepal',\n       'Greenland', 'Niue', 'Samoa', 'American Samoa', 'Belize',\n       'Anguilla', 'Cayman Islands', 'Palau', 'Sint Maarten', 'Namibia',\n       'Åland Islands', 'Ynys Môn', 'Saint Martin', 'San Marino',\n       'Slovenia', 'Jersey', 'Shetland', 'Isle of Wight', 'Moldova',\n       'Ukraine', 'Kazakhstan', 'Tajikistan', 'Uzbekistan',\n       'Turkmenistan', 'Armenia', 'Czech Republic', 'Guernsey',\n       'Gibraltar', 'Isle of Man', 'North Macedonia', 'Montserrat',\n       'Serbia', 'Canary Islands', 'Bosnia and Herzegovina', 'Maldives',\n       'Andorra', 'British Virgin Islands', 'Frøya', 'Hitra',\n       'United States Virgin Islands', 'Corsica', 'Eritrea', 'Bahamas',\n       'Gotland', 'Saare County', 'Rhodes', 'Micronesia', 'Bhutan',\n       'Orkney', 'Monaco', 'Tuvalu', 'Sark', 'Alderney', 'Mayotte',\n       'Turks and Caicos Islands', 'Timor-Leste', 'Western Isles',\n       'Falkland Islands', 'Kosovo', 'Republic of St. Pauli', 'Găgăuzia',\n       'Tibet', 'Occitania', 'Sápmi', 'Northern Mariana Islands',\n       'Menorca', 'Comoros', 'Provence', 'Arameans Suryoye', 'Padania',\n       'Iraqi Kurdistan', 'Gozo', 'Bonaire', 'Western Sahara', 'Raetia',\n       'Darfur', 'Tamil Eelam', 'South Sudan', 'Abkhazia',\n       'Saint Pierre and Miquelon', 'Artsakh', 'Madrid', 'Vatican City',\n       'Ellan Vannin', 'South Ossetia', 'County of Nice', 'Székely Land',\n       'Romani people', 'Felvidék', 'Chagos Islands',\n       'United Koreans in Japan', 'Somaliland', 'Western Armenia',\n       'Barawa', 'Kárpátalja', 'Yorkshire', 'Panjab', 'Matabeleland',\n       'Cascadia', 'Kabylia', 'Parishes of Jersey', 'Chameria',\n       'Saint Helena', 'Yoruba Nation', 'Biafra', 'Mapuche', 'Aymara',\n       'Ticino'], dtype=object)"
     },
     "execution_count": 11,
     "metadata": {},
     "output_type": "execute_result"
    }
   ],
   "source": [
    "df_resultados[\"home_team\"].unique()"
   ],
   "metadata": {
    "collapsed": false,
    "ExecuteTime": {
     "end_time": "2023-07-23T01:55:24.180277700Z",
     "start_time": "2023-07-23T01:55:24.159415300Z"
    }
   }
  },
  {
   "cell_type": "code",
   "execution_count": 12,
   "outputs": [
    {
     "data": {
      "text/plain": "311"
     },
     "execution_count": 12,
     "metadata": {},
     "output_type": "execute_result"
    }
   ],
   "source": [
    "df_resultados[\"home_team\"].nunique()"
   ],
   "metadata": {
    "collapsed": false,
    "ExecuteTime": {
     "end_time": "2023-07-23T01:55:36.135460700Z",
     "start_time": "2023-07-23T01:55:36.109709900Z"
    }
   }
  },
  {
   "cell_type": "code",
   "execution_count": 14,
   "outputs": [
    {
     "data": {
      "text/plain": "311"
     },
     "execution_count": 14,
     "metadata": {},
     "output_type": "execute_result"
    }
   ],
   "source": [
    "len(df_resultados[\"home_team\"].unique())"
   ],
   "metadata": {
    "collapsed": false,
    "ExecuteTime": {
     "end_time": "2023-07-23T01:55:44.694530300Z",
     "start_time": "2023-07-23T01:55:44.666278200Z"
    }
   }
  },
  {
   "cell_type": "code",
   "execution_count": 15,
   "outputs": [
    {
     "data": {
      "text/plain": "Brazil                       597\nArgentina                    577\nMexico                       562\nGermany                      530\nEngland                      527\n                            ... \nRomani people                  1\nSaint Pierre and Miquelon      1\nCentral Spain                  1\nSark                           1\nTicino                         1\nName: home_team, Length: 311, dtype: int64"
     },
     "execution_count": 15,
     "metadata": {},
     "output_type": "execute_result"
    }
   ],
   "source": [
    "df_resultados[\"home_team\"].value_counts()"
   ],
   "metadata": {
    "collapsed": false,
    "ExecuteTime": {
     "end_time": "2023-07-23T01:56:02.777782400Z",
     "start_time": "2023-07-23T01:56:02.742394200Z"
    }
   }
  },
  {
   "cell_type": "code",
   "execution_count": 20,
   "outputs": [
    {
     "data": {
      "text/plain": "                           date\nhome_team                      \nBrazil                      597\nArgentina                   577\nMexico                      562\nGermany                     530\nEngland                     527\n...                         ...\nSaint Pierre and Miquelon     1\nKabylia                       1\nWestern Australia             1\nAymara                        1\nSark                          1\n\n[311 rows x 1 columns]",
      "text/html": "<div>\n<style scoped>\n    .dataframe tbody tr th:only-of-type {\n        vertical-align: middle;\n    }\n\n    .dataframe tbody tr th {\n        vertical-align: top;\n    }\n\n    .dataframe thead th {\n        text-align: right;\n    }\n</style>\n<table border=\"1\" class=\"dataframe\">\n  <thead>\n    <tr style=\"text-align: right;\">\n      <th></th>\n      <th>date</th>\n    </tr>\n    <tr>\n      <th>home_team</th>\n      <th></th>\n    </tr>\n  </thead>\n  <tbody>\n    <tr>\n      <th>Brazil</th>\n      <td>597</td>\n    </tr>\n    <tr>\n      <th>Argentina</th>\n      <td>577</td>\n    </tr>\n    <tr>\n      <th>Mexico</th>\n      <td>562</td>\n    </tr>\n    <tr>\n      <th>Germany</th>\n      <td>530</td>\n    </tr>\n    <tr>\n      <th>England</th>\n      <td>527</td>\n    </tr>\n    <tr>\n      <th>...</th>\n      <td>...</td>\n    </tr>\n    <tr>\n      <th>Saint Pierre and Miquelon</th>\n      <td>1</td>\n    </tr>\n    <tr>\n      <th>Kabylia</th>\n      <td>1</td>\n    </tr>\n    <tr>\n      <th>Western Australia</th>\n      <td>1</td>\n    </tr>\n    <tr>\n      <th>Aymara</th>\n      <td>1</td>\n    </tr>\n    <tr>\n      <th>Sark</th>\n      <td>1</td>\n    </tr>\n  </tbody>\n</table>\n<p>311 rows × 1 columns</p>\n</div>"
     },
     "execution_count": 20,
     "metadata": {},
     "output_type": "execute_result"
    }
   ],
   "source": [
    "df_resultados.pivot_table(index=\"home_team\", values=\"date\", aggfunc=\"count\").sort_values(\"date\", ascending=False)"
   ],
   "metadata": {
    "collapsed": false,
    "ExecuteTime": {
     "end_time": "2023-07-23T01:56:52.978714300Z",
     "start_time": "2023-07-23T01:56:52.918229900Z"
    }
   }
  },
  {
   "cell_type": "markdown",
   "source": [
    "## 5.2 Informações do DataFrame"
   ],
   "metadata": {
    "collapsed": false
   }
  },
  {
   "cell_type": "code",
   "execution_count": 70,
   "outputs": [
    {
     "name": "stdout",
     "output_type": "stream",
     "text": [
      "<class 'pandas.core.frame.DataFrame'>\n",
      "RangeIndex: 44762 entries, 0 to 44761\n",
      "Data columns (total 9 columns):\n",
      " #   Column      Non-Null Count  Dtype \n",
      "---  ------      --------------  ----- \n",
      " 0   date        44762 non-null  object\n",
      " 1   home_team   44762 non-null  object\n",
      " 2   away_team   44762 non-null  object\n",
      " 3   home_score  44762 non-null  int64 \n",
      " 4   away_score  44762 non-null  int64 \n",
      " 5   tournament  44762 non-null  object\n",
      " 6   city        44762 non-null  object\n",
      " 7   country     44762 non-null  object\n",
      " 8   neutral     44762 non-null  bool  \n",
      "dtypes: bool(1), int64(2), object(6)\n",
      "memory usage: 2.8+ MB\n"
     ]
    }
   ],
   "source": [
    "df_resultados.info()"
   ],
   "metadata": {
    "collapsed": false,
    "ExecuteTime": {
     "end_time": "2023-07-23T02:17:22.732107600Z",
     "start_time": "2023-07-23T02:17:22.656228Z"
    }
   }
  },
  {
   "cell_type": "code",
   "execution_count": 72,
   "outputs": [
    {
     "data": {
      "text/plain": "(44762, 9)"
     },
     "execution_count": 72,
     "metadata": {},
     "output_type": "execute_result"
    }
   ],
   "source": [
    "df_resultados.shape # Linhas por colunas"
   ],
   "metadata": {
    "collapsed": false,
    "ExecuteTime": {
     "end_time": "2023-07-23T02:17:37.429105300Z",
     "start_time": "2023-07-23T02:17:37.393880700Z"
    }
   }
  },
  {
   "cell_type": "markdown",
   "source": [
    "## 5.3 Alterando valores do DataFrame"
   ],
   "metadata": {
    "collapsed": false
   }
  },
  {
   "cell_type": "markdown",
   "source": [
    " Vimos as funções .loc e .index na seção 2.2 de pandas, caso tenha dúvidas nas linhas abaixo, reveja a seção 2.2\n"
   ],
   "metadata": {
    "collapsed": false
   }
  },
  {
   "cell_type": "code",
   "execution_count": 74,
   "outputs": [
    {
     "name": "stdout",
     "output_type": "stream",
     "text": [
      "Numero de gols que a Escócia marcou em casa: 35\n"
     ]
    },
    {
     "data": {
      "text/plain": "          date         home_team away_team  home_score  away_score tournament  \\\n0   1872-11-30          Scotland   England           0           0   Friendly   \n1   1873-03-08           England  Scotland           4           2   Friendly   \n2   1874-03-07          Scotland   England           2           1   Friendly   \n3   1875-03-06           England  Scotland           2           2   Friendly   \n4   1876-03-04          Scotland   England           3           0   Friendly   \n5   1876-03-25          Scotland     Wales           4           0   Friendly   \n6   1877-03-03           England  Scotland           1           3   Friendly   \n7   1877-03-05             Wales  Scotland           0           2   Friendly   \n8   1878-03-02          Scotland   England           7           2   Friendly   \n9   1878-03-23          Scotland     Wales           9           0   Friendly   \n10  1879-01-18           England     Wales           2           1   Friendly   \n11  1879-04-05           England  Scotland           5           4   Friendly   \n12  1879-04-07             Wales  Scotland           0           3   Friendly   \n13  1880-03-13          Scotland   England           5           4   Friendly   \n14  1880-03-15             Wales   England           2           3   Friendly   \n15  1880-03-27          Scotland     Wales           5           1   Friendly   \n16  1881-02-26           England     Wales           0           1   Friendly   \n17  1881-03-12           England  Scotland           1           6   Friendly   \n18  1881-03-14             Wales  Scotland           1           5   Friendly   \n19  1882-02-18  Northern Ireland   England           0          13   Friendly   \n\n         city   country  neutral  \n0     Glasgow  Scotland    False  \n1      London   England    False  \n2     Glasgow  Scotland    False  \n3      London   England    False  \n4     Glasgow  Scotland    False  \n5     Glasgow  Scotland    False  \n6      London   England    False  \n7     Wrexham     Wales    False  \n8     Glasgow  Scotland    False  \n9     Glasgow  Scotland    False  \n10     London   England    False  \n11     London   England    False  \n12    Wrexham     Wales    False  \n13    Glasgow  Scotland    False  \n14    Wrexham     Wales    False  \n15    Glasgow  Scotland    False  \n16  Blackburn   England    False  \n17     London   England    False  \n18    Wrexham     Wales    False  \n19    Belfast   Ireland    False  ",
      "text/html": "<div>\n<style scoped>\n    .dataframe tbody tr th:only-of-type {\n        vertical-align: middle;\n    }\n\n    .dataframe tbody tr th {\n        vertical-align: top;\n    }\n\n    .dataframe thead th {\n        text-align: right;\n    }\n</style>\n<table border=\"1\" class=\"dataframe\">\n  <thead>\n    <tr style=\"text-align: right;\">\n      <th></th>\n      <th>date</th>\n      <th>home_team</th>\n      <th>away_team</th>\n      <th>home_score</th>\n      <th>away_score</th>\n      <th>tournament</th>\n      <th>city</th>\n      <th>country</th>\n      <th>neutral</th>\n    </tr>\n  </thead>\n  <tbody>\n    <tr>\n      <th>0</th>\n      <td>1872-11-30</td>\n      <td>Scotland</td>\n      <td>England</td>\n      <td>0</td>\n      <td>0</td>\n      <td>Friendly</td>\n      <td>Glasgow</td>\n      <td>Scotland</td>\n      <td>False</td>\n    </tr>\n    <tr>\n      <th>1</th>\n      <td>1873-03-08</td>\n      <td>England</td>\n      <td>Scotland</td>\n      <td>4</td>\n      <td>2</td>\n      <td>Friendly</td>\n      <td>London</td>\n      <td>England</td>\n      <td>False</td>\n    </tr>\n    <tr>\n      <th>2</th>\n      <td>1874-03-07</td>\n      <td>Scotland</td>\n      <td>England</td>\n      <td>2</td>\n      <td>1</td>\n      <td>Friendly</td>\n      <td>Glasgow</td>\n      <td>Scotland</td>\n      <td>False</td>\n    </tr>\n    <tr>\n      <th>3</th>\n      <td>1875-03-06</td>\n      <td>England</td>\n      <td>Scotland</td>\n      <td>2</td>\n      <td>2</td>\n      <td>Friendly</td>\n      <td>London</td>\n      <td>England</td>\n      <td>False</td>\n    </tr>\n    <tr>\n      <th>4</th>\n      <td>1876-03-04</td>\n      <td>Scotland</td>\n      <td>England</td>\n      <td>3</td>\n      <td>0</td>\n      <td>Friendly</td>\n      <td>Glasgow</td>\n      <td>Scotland</td>\n      <td>False</td>\n    </tr>\n    <tr>\n      <th>5</th>\n      <td>1876-03-25</td>\n      <td>Scotland</td>\n      <td>Wales</td>\n      <td>4</td>\n      <td>0</td>\n      <td>Friendly</td>\n      <td>Glasgow</td>\n      <td>Scotland</td>\n      <td>False</td>\n    </tr>\n    <tr>\n      <th>6</th>\n      <td>1877-03-03</td>\n      <td>England</td>\n      <td>Scotland</td>\n      <td>1</td>\n      <td>3</td>\n      <td>Friendly</td>\n      <td>London</td>\n      <td>England</td>\n      <td>False</td>\n    </tr>\n    <tr>\n      <th>7</th>\n      <td>1877-03-05</td>\n      <td>Wales</td>\n      <td>Scotland</td>\n      <td>0</td>\n      <td>2</td>\n      <td>Friendly</td>\n      <td>Wrexham</td>\n      <td>Wales</td>\n      <td>False</td>\n    </tr>\n    <tr>\n      <th>8</th>\n      <td>1878-03-02</td>\n      <td>Scotland</td>\n      <td>England</td>\n      <td>7</td>\n      <td>2</td>\n      <td>Friendly</td>\n      <td>Glasgow</td>\n      <td>Scotland</td>\n      <td>False</td>\n    </tr>\n    <tr>\n      <th>9</th>\n      <td>1878-03-23</td>\n      <td>Scotland</td>\n      <td>Wales</td>\n      <td>9</td>\n      <td>0</td>\n      <td>Friendly</td>\n      <td>Glasgow</td>\n      <td>Scotland</td>\n      <td>False</td>\n    </tr>\n    <tr>\n      <th>10</th>\n      <td>1879-01-18</td>\n      <td>England</td>\n      <td>Wales</td>\n      <td>2</td>\n      <td>1</td>\n      <td>Friendly</td>\n      <td>London</td>\n      <td>England</td>\n      <td>False</td>\n    </tr>\n    <tr>\n      <th>11</th>\n      <td>1879-04-05</td>\n      <td>England</td>\n      <td>Scotland</td>\n      <td>5</td>\n      <td>4</td>\n      <td>Friendly</td>\n      <td>London</td>\n      <td>England</td>\n      <td>False</td>\n    </tr>\n    <tr>\n      <th>12</th>\n      <td>1879-04-07</td>\n      <td>Wales</td>\n      <td>Scotland</td>\n      <td>0</td>\n      <td>3</td>\n      <td>Friendly</td>\n      <td>Wrexham</td>\n      <td>Wales</td>\n      <td>False</td>\n    </tr>\n    <tr>\n      <th>13</th>\n      <td>1880-03-13</td>\n      <td>Scotland</td>\n      <td>England</td>\n      <td>5</td>\n      <td>4</td>\n      <td>Friendly</td>\n      <td>Glasgow</td>\n      <td>Scotland</td>\n      <td>False</td>\n    </tr>\n    <tr>\n      <th>14</th>\n      <td>1880-03-15</td>\n      <td>Wales</td>\n      <td>England</td>\n      <td>2</td>\n      <td>3</td>\n      <td>Friendly</td>\n      <td>Wrexham</td>\n      <td>Wales</td>\n      <td>False</td>\n    </tr>\n    <tr>\n      <th>15</th>\n      <td>1880-03-27</td>\n      <td>Scotland</td>\n      <td>Wales</td>\n      <td>5</td>\n      <td>1</td>\n      <td>Friendly</td>\n      <td>Glasgow</td>\n      <td>Scotland</td>\n      <td>False</td>\n    </tr>\n    <tr>\n      <th>16</th>\n      <td>1881-02-26</td>\n      <td>England</td>\n      <td>Wales</td>\n      <td>0</td>\n      <td>1</td>\n      <td>Friendly</td>\n      <td>Blackburn</td>\n      <td>England</td>\n      <td>False</td>\n    </tr>\n    <tr>\n      <th>17</th>\n      <td>1881-03-12</td>\n      <td>England</td>\n      <td>Scotland</td>\n      <td>1</td>\n      <td>6</td>\n      <td>Friendly</td>\n      <td>London</td>\n      <td>England</td>\n      <td>False</td>\n    </tr>\n    <tr>\n      <th>18</th>\n      <td>1881-03-14</td>\n      <td>Wales</td>\n      <td>Scotland</td>\n      <td>1</td>\n      <td>5</td>\n      <td>Friendly</td>\n      <td>Wrexham</td>\n      <td>Wales</td>\n      <td>False</td>\n    </tr>\n    <tr>\n      <th>19</th>\n      <td>1882-02-18</td>\n      <td>Northern Ireland</td>\n      <td>England</td>\n      <td>0</td>\n      <td>13</td>\n      <td>Friendly</td>\n      <td>Belfast</td>\n      <td>Ireland</td>\n      <td>False</td>\n    </tr>\n  </tbody>\n</table>\n</div>"
     },
     "execution_count": 74,
     "metadata": {},
     "output_type": "execute_result"
    }
   ],
   "source": [
    "df_resultados_aux = df_resultados_small.copy() # o .copy() cria uma copia do dataframe, assim se alterarmos valores esses valores não serão alterados no dataframe base (no caso df_resultados)\n",
    "\n",
    "print(f\"Numero de gols que a Escócia marcou em casa: {df_resultados_aux[df_resultados_aux['home_team'] == 'Scotland']['home_score'].sum()}\")\n",
    "df_resultados_aux"
   ],
   "metadata": {
    "collapsed": false,
    "ExecuteTime": {
     "end_time": "2023-07-23T02:20:26.562099400Z",
     "start_time": "2023-07-23T02:20:26.481934900Z"
    }
   }
  },
  {
   "cell_type": "code",
   "execution_count": 66,
   "outputs": [
    {
     "name": "stdout",
     "output_type": "stream",
     "text": [
      "Numero de gols que a Escócia marcou em casa: 37\n"
     ]
    },
    {
     "data": {
      "text/plain": "          date         home_team away_team  home_score  away_score tournament  \\\n0   1872-11-30          Scotland   England           2           0   Friendly   \n1   1873-03-08           England  Scotland           4           2   Friendly   \n2   1874-03-07          Scotland   England           2           1   Friendly   \n3   1875-03-06           England  Scotland           2           2   Friendly   \n4   1876-03-04          Scotland   England           3           0   Friendly   \n5   1876-03-25          Scotland     Wales           4           0   Friendly   \n6   1877-03-03           England  Scotland           1           3   Friendly   \n7   1877-03-05             Wales  Scotland           0           2   Friendly   \n8   1878-03-02          Scotland   England           7           2   Friendly   \n9   1878-03-23          Scotland     Wales           9           0   Friendly   \n10  1879-01-18           England     Wales           2           1   Friendly   \n11  1879-04-05           England  Scotland           5           4   Friendly   \n12  1879-04-07             Wales  Scotland           0           3   Friendly   \n13  1880-03-13          Scotland   England           5           4   Friendly   \n14  1880-03-15             Wales   England           2           3   Friendly   \n15  1880-03-27          Scotland     Wales           5           1   Friendly   \n16  1881-02-26           England     Wales           0           1   Friendly   \n17  1881-03-12           England  Scotland           1           6   Friendly   \n18  1881-03-14             Wales  Scotland           1           5   Friendly   \n19  1882-02-18  Northern Ireland   England           0          13   Friendly   \n\n         city   country  neutral  \n0     Glasgow  Scotland    False  \n1      London   England    False  \n2     Glasgow  Scotland    False  \n3      London   England    False  \n4     Glasgow  Scotland    False  \n5     Glasgow  Scotland    False  \n6      London   England    False  \n7     Wrexham     Wales    False  \n8     Glasgow  Scotland    False  \n9     Glasgow  Scotland    False  \n10     London   England    False  \n11     London   England    False  \n12    Wrexham     Wales    False  \n13    Glasgow  Scotland    False  \n14    Wrexham     Wales    False  \n15    Glasgow  Scotland    False  \n16  Blackburn   England    False  \n17     London   England    False  \n18    Wrexham     Wales    False  \n19    Belfast   Ireland    False  ",
      "text/html": "<div>\n<style scoped>\n    .dataframe tbody tr th:only-of-type {\n        vertical-align: middle;\n    }\n\n    .dataframe tbody tr th {\n        vertical-align: top;\n    }\n\n    .dataframe thead th {\n        text-align: right;\n    }\n</style>\n<table border=\"1\" class=\"dataframe\">\n  <thead>\n    <tr style=\"text-align: right;\">\n      <th></th>\n      <th>date</th>\n      <th>home_team</th>\n      <th>away_team</th>\n      <th>home_score</th>\n      <th>away_score</th>\n      <th>tournament</th>\n      <th>city</th>\n      <th>country</th>\n      <th>neutral</th>\n    </tr>\n  </thead>\n  <tbody>\n    <tr>\n      <th>0</th>\n      <td>1872-11-30</td>\n      <td>Scotland</td>\n      <td>England</td>\n      <td>2</td>\n      <td>0</td>\n      <td>Friendly</td>\n      <td>Glasgow</td>\n      <td>Scotland</td>\n      <td>False</td>\n    </tr>\n    <tr>\n      <th>1</th>\n      <td>1873-03-08</td>\n      <td>England</td>\n      <td>Scotland</td>\n      <td>4</td>\n      <td>2</td>\n      <td>Friendly</td>\n      <td>London</td>\n      <td>England</td>\n      <td>False</td>\n    </tr>\n    <tr>\n      <th>2</th>\n      <td>1874-03-07</td>\n      <td>Scotland</td>\n      <td>England</td>\n      <td>2</td>\n      <td>1</td>\n      <td>Friendly</td>\n      <td>Glasgow</td>\n      <td>Scotland</td>\n      <td>False</td>\n    </tr>\n    <tr>\n      <th>3</th>\n      <td>1875-03-06</td>\n      <td>England</td>\n      <td>Scotland</td>\n      <td>2</td>\n      <td>2</td>\n      <td>Friendly</td>\n      <td>London</td>\n      <td>England</td>\n      <td>False</td>\n    </tr>\n    <tr>\n      <th>4</th>\n      <td>1876-03-04</td>\n      <td>Scotland</td>\n      <td>England</td>\n      <td>3</td>\n      <td>0</td>\n      <td>Friendly</td>\n      <td>Glasgow</td>\n      <td>Scotland</td>\n      <td>False</td>\n    </tr>\n    <tr>\n      <th>5</th>\n      <td>1876-03-25</td>\n      <td>Scotland</td>\n      <td>Wales</td>\n      <td>4</td>\n      <td>0</td>\n      <td>Friendly</td>\n      <td>Glasgow</td>\n      <td>Scotland</td>\n      <td>False</td>\n    </tr>\n    <tr>\n      <th>6</th>\n      <td>1877-03-03</td>\n      <td>England</td>\n      <td>Scotland</td>\n      <td>1</td>\n      <td>3</td>\n      <td>Friendly</td>\n      <td>London</td>\n      <td>England</td>\n      <td>False</td>\n    </tr>\n    <tr>\n      <th>7</th>\n      <td>1877-03-05</td>\n      <td>Wales</td>\n      <td>Scotland</td>\n      <td>0</td>\n      <td>2</td>\n      <td>Friendly</td>\n      <td>Wrexham</td>\n      <td>Wales</td>\n      <td>False</td>\n    </tr>\n    <tr>\n      <th>8</th>\n      <td>1878-03-02</td>\n      <td>Scotland</td>\n      <td>England</td>\n      <td>7</td>\n      <td>2</td>\n      <td>Friendly</td>\n      <td>Glasgow</td>\n      <td>Scotland</td>\n      <td>False</td>\n    </tr>\n    <tr>\n      <th>9</th>\n      <td>1878-03-23</td>\n      <td>Scotland</td>\n      <td>Wales</td>\n      <td>9</td>\n      <td>0</td>\n      <td>Friendly</td>\n      <td>Glasgow</td>\n      <td>Scotland</td>\n      <td>False</td>\n    </tr>\n    <tr>\n      <th>10</th>\n      <td>1879-01-18</td>\n      <td>England</td>\n      <td>Wales</td>\n      <td>2</td>\n      <td>1</td>\n      <td>Friendly</td>\n      <td>London</td>\n      <td>England</td>\n      <td>False</td>\n    </tr>\n    <tr>\n      <th>11</th>\n      <td>1879-04-05</td>\n      <td>England</td>\n      <td>Scotland</td>\n      <td>5</td>\n      <td>4</td>\n      <td>Friendly</td>\n      <td>London</td>\n      <td>England</td>\n      <td>False</td>\n    </tr>\n    <tr>\n      <th>12</th>\n      <td>1879-04-07</td>\n      <td>Wales</td>\n      <td>Scotland</td>\n      <td>0</td>\n      <td>3</td>\n      <td>Friendly</td>\n      <td>Wrexham</td>\n      <td>Wales</td>\n      <td>False</td>\n    </tr>\n    <tr>\n      <th>13</th>\n      <td>1880-03-13</td>\n      <td>Scotland</td>\n      <td>England</td>\n      <td>5</td>\n      <td>4</td>\n      <td>Friendly</td>\n      <td>Glasgow</td>\n      <td>Scotland</td>\n      <td>False</td>\n    </tr>\n    <tr>\n      <th>14</th>\n      <td>1880-03-15</td>\n      <td>Wales</td>\n      <td>England</td>\n      <td>2</td>\n      <td>3</td>\n      <td>Friendly</td>\n      <td>Wrexham</td>\n      <td>Wales</td>\n      <td>False</td>\n    </tr>\n    <tr>\n      <th>15</th>\n      <td>1880-03-27</td>\n      <td>Scotland</td>\n      <td>Wales</td>\n      <td>5</td>\n      <td>1</td>\n      <td>Friendly</td>\n      <td>Glasgow</td>\n      <td>Scotland</td>\n      <td>False</td>\n    </tr>\n    <tr>\n      <th>16</th>\n      <td>1881-02-26</td>\n      <td>England</td>\n      <td>Wales</td>\n      <td>0</td>\n      <td>1</td>\n      <td>Friendly</td>\n      <td>Blackburn</td>\n      <td>England</td>\n      <td>False</td>\n    </tr>\n    <tr>\n      <th>17</th>\n      <td>1881-03-12</td>\n      <td>England</td>\n      <td>Scotland</td>\n      <td>1</td>\n      <td>6</td>\n      <td>Friendly</td>\n      <td>London</td>\n      <td>England</td>\n      <td>False</td>\n    </tr>\n    <tr>\n      <th>18</th>\n      <td>1881-03-14</td>\n      <td>Wales</td>\n      <td>Scotland</td>\n      <td>1</td>\n      <td>5</td>\n      <td>Friendly</td>\n      <td>Wrexham</td>\n      <td>Wales</td>\n      <td>False</td>\n    </tr>\n    <tr>\n      <th>19</th>\n      <td>1882-02-18</td>\n      <td>Northern Ireland</td>\n      <td>England</td>\n      <td>0</td>\n      <td>13</td>\n      <td>Friendly</td>\n      <td>Belfast</td>\n      <td>Ireland</td>\n      <td>False</td>\n    </tr>\n  </tbody>\n</table>\n</div>"
     },
     "execution_count": 66,
     "metadata": {},
     "output_type": "execute_result"
    }
   ],
   "source": [
    "# Mudando único valor\n",
    "\n",
    "df_resultados_aux.loc[0, \"home_score\"] = 5\n",
    "\n",
    "print(f\"Numero de gols que a Escócia marcou em casa: {df_resultados_aux[df_resultados_aux['home_team'] == 'Scotland']['home_score'].sum()}\")\n",
    "df_resultados_aux"
   ],
   "metadata": {
    "collapsed": false,
    "ExecuteTime": {
     "end_time": "2023-07-23T02:07:55.656167Z",
     "start_time": "2023-07-23T02:07:55.571928700Z"
    }
   }
  },
  {
   "cell_type": "code",
   "execution_count": 67,
   "outputs": [
    {
     "name": "stdout",
     "output_type": "stream",
     "text": [
      "Numero de gols que a Escócia marcou em casa: 16\n"
     ]
    },
    {
     "data": {
      "text/plain": "          date         home_team away_team  home_score  away_score tournament  \\\n0   1872-11-30          Scotland   England           2           0   Friendly   \n1   1873-03-08           England  Scotland           4           2   Friendly   \n2   1874-03-07          Scotland   England           2           1   Friendly   \n3   1875-03-06           England  Scotland           2           2   Friendly   \n4   1876-03-04          Scotland   England           2           0   Friendly   \n5   1876-03-25          Scotland     Wales           2           0   Friendly   \n6   1877-03-03           England  Scotland           1           3   Friendly   \n7   1877-03-05             Wales  Scotland           0           2   Friendly   \n8   1878-03-02          Scotland   England           2           2   Friendly   \n9   1878-03-23          Scotland     Wales           2           0   Friendly   \n10  1879-01-18           England     Wales           2           1   Friendly   \n11  1879-04-05           England  Scotland           5           4   Friendly   \n12  1879-04-07             Wales  Scotland           0           3   Friendly   \n13  1880-03-13          Scotland   England           2           4   Friendly   \n14  1880-03-15             Wales   England           2           3   Friendly   \n15  1880-03-27          Scotland     Wales           2           1   Friendly   \n16  1881-02-26           England     Wales           0           1   Friendly   \n17  1881-03-12           England  Scotland           1           6   Friendly   \n18  1881-03-14             Wales  Scotland           1           5   Friendly   \n19  1882-02-18  Northern Ireland   England           0          13   Friendly   \n\n         city   country  neutral  \n0     Glasgow  Scotland    False  \n1      London   England    False  \n2     Glasgow  Scotland    False  \n3      London   England    False  \n4     Glasgow  Scotland    False  \n5     Glasgow  Scotland    False  \n6      London   England    False  \n7     Wrexham     Wales    False  \n8     Glasgow  Scotland    False  \n9     Glasgow  Scotland    False  \n10     London   England    False  \n11     London   England    False  \n12    Wrexham     Wales    False  \n13    Glasgow  Scotland    False  \n14    Wrexham     Wales    False  \n15    Glasgow  Scotland    False  \n16  Blackburn   England    False  \n17     London   England    False  \n18    Wrexham     Wales    False  \n19    Belfast   Ireland    False  ",
      "text/html": "<div>\n<style scoped>\n    .dataframe tbody tr th:only-of-type {\n        vertical-align: middle;\n    }\n\n    .dataframe tbody tr th {\n        vertical-align: top;\n    }\n\n    .dataframe thead th {\n        text-align: right;\n    }\n</style>\n<table border=\"1\" class=\"dataframe\">\n  <thead>\n    <tr style=\"text-align: right;\">\n      <th></th>\n      <th>date</th>\n      <th>home_team</th>\n      <th>away_team</th>\n      <th>home_score</th>\n      <th>away_score</th>\n      <th>tournament</th>\n      <th>city</th>\n      <th>country</th>\n      <th>neutral</th>\n    </tr>\n  </thead>\n  <tbody>\n    <tr>\n      <th>0</th>\n      <td>1872-11-30</td>\n      <td>Scotland</td>\n      <td>England</td>\n      <td>2</td>\n      <td>0</td>\n      <td>Friendly</td>\n      <td>Glasgow</td>\n      <td>Scotland</td>\n      <td>False</td>\n    </tr>\n    <tr>\n      <th>1</th>\n      <td>1873-03-08</td>\n      <td>England</td>\n      <td>Scotland</td>\n      <td>4</td>\n      <td>2</td>\n      <td>Friendly</td>\n      <td>London</td>\n      <td>England</td>\n      <td>False</td>\n    </tr>\n    <tr>\n      <th>2</th>\n      <td>1874-03-07</td>\n      <td>Scotland</td>\n      <td>England</td>\n      <td>2</td>\n      <td>1</td>\n      <td>Friendly</td>\n      <td>Glasgow</td>\n      <td>Scotland</td>\n      <td>False</td>\n    </tr>\n    <tr>\n      <th>3</th>\n      <td>1875-03-06</td>\n      <td>England</td>\n      <td>Scotland</td>\n      <td>2</td>\n      <td>2</td>\n      <td>Friendly</td>\n      <td>London</td>\n      <td>England</td>\n      <td>False</td>\n    </tr>\n    <tr>\n      <th>4</th>\n      <td>1876-03-04</td>\n      <td>Scotland</td>\n      <td>England</td>\n      <td>2</td>\n      <td>0</td>\n      <td>Friendly</td>\n      <td>Glasgow</td>\n      <td>Scotland</td>\n      <td>False</td>\n    </tr>\n    <tr>\n      <th>5</th>\n      <td>1876-03-25</td>\n      <td>Scotland</td>\n      <td>Wales</td>\n      <td>2</td>\n      <td>0</td>\n      <td>Friendly</td>\n      <td>Glasgow</td>\n      <td>Scotland</td>\n      <td>False</td>\n    </tr>\n    <tr>\n      <th>6</th>\n      <td>1877-03-03</td>\n      <td>England</td>\n      <td>Scotland</td>\n      <td>1</td>\n      <td>3</td>\n      <td>Friendly</td>\n      <td>London</td>\n      <td>England</td>\n      <td>False</td>\n    </tr>\n    <tr>\n      <th>7</th>\n      <td>1877-03-05</td>\n      <td>Wales</td>\n      <td>Scotland</td>\n      <td>0</td>\n      <td>2</td>\n      <td>Friendly</td>\n      <td>Wrexham</td>\n      <td>Wales</td>\n      <td>False</td>\n    </tr>\n    <tr>\n      <th>8</th>\n      <td>1878-03-02</td>\n      <td>Scotland</td>\n      <td>England</td>\n      <td>2</td>\n      <td>2</td>\n      <td>Friendly</td>\n      <td>Glasgow</td>\n      <td>Scotland</td>\n      <td>False</td>\n    </tr>\n    <tr>\n      <th>9</th>\n      <td>1878-03-23</td>\n      <td>Scotland</td>\n      <td>Wales</td>\n      <td>2</td>\n      <td>0</td>\n      <td>Friendly</td>\n      <td>Glasgow</td>\n      <td>Scotland</td>\n      <td>False</td>\n    </tr>\n    <tr>\n      <th>10</th>\n      <td>1879-01-18</td>\n      <td>England</td>\n      <td>Wales</td>\n      <td>2</td>\n      <td>1</td>\n      <td>Friendly</td>\n      <td>London</td>\n      <td>England</td>\n      <td>False</td>\n    </tr>\n    <tr>\n      <th>11</th>\n      <td>1879-04-05</td>\n      <td>England</td>\n      <td>Scotland</td>\n      <td>5</td>\n      <td>4</td>\n      <td>Friendly</td>\n      <td>London</td>\n      <td>England</td>\n      <td>False</td>\n    </tr>\n    <tr>\n      <th>12</th>\n      <td>1879-04-07</td>\n      <td>Wales</td>\n      <td>Scotland</td>\n      <td>0</td>\n      <td>3</td>\n      <td>Friendly</td>\n      <td>Wrexham</td>\n      <td>Wales</td>\n      <td>False</td>\n    </tr>\n    <tr>\n      <th>13</th>\n      <td>1880-03-13</td>\n      <td>Scotland</td>\n      <td>England</td>\n      <td>2</td>\n      <td>4</td>\n      <td>Friendly</td>\n      <td>Glasgow</td>\n      <td>Scotland</td>\n      <td>False</td>\n    </tr>\n    <tr>\n      <th>14</th>\n      <td>1880-03-15</td>\n      <td>Wales</td>\n      <td>England</td>\n      <td>2</td>\n      <td>3</td>\n      <td>Friendly</td>\n      <td>Wrexham</td>\n      <td>Wales</td>\n      <td>False</td>\n    </tr>\n    <tr>\n      <th>15</th>\n      <td>1880-03-27</td>\n      <td>Scotland</td>\n      <td>Wales</td>\n      <td>2</td>\n      <td>1</td>\n      <td>Friendly</td>\n      <td>Glasgow</td>\n      <td>Scotland</td>\n      <td>False</td>\n    </tr>\n    <tr>\n      <th>16</th>\n      <td>1881-02-26</td>\n      <td>England</td>\n      <td>Wales</td>\n      <td>0</td>\n      <td>1</td>\n      <td>Friendly</td>\n      <td>Blackburn</td>\n      <td>England</td>\n      <td>False</td>\n    </tr>\n    <tr>\n      <th>17</th>\n      <td>1881-03-12</td>\n      <td>England</td>\n      <td>Scotland</td>\n      <td>1</td>\n      <td>6</td>\n      <td>Friendly</td>\n      <td>London</td>\n      <td>England</td>\n      <td>False</td>\n    </tr>\n    <tr>\n      <th>18</th>\n      <td>1881-03-14</td>\n      <td>Wales</td>\n      <td>Scotland</td>\n      <td>1</td>\n      <td>5</td>\n      <td>Friendly</td>\n      <td>Wrexham</td>\n      <td>Wales</td>\n      <td>False</td>\n    </tr>\n    <tr>\n      <th>19</th>\n      <td>1882-02-18</td>\n      <td>Northern Ireland</td>\n      <td>England</td>\n      <td>0</td>\n      <td>13</td>\n      <td>Friendly</td>\n      <td>Belfast</td>\n      <td>Ireland</td>\n      <td>False</td>\n    </tr>\n  </tbody>\n</table>\n</div>"
     },
     "execution_count": 67,
     "metadata": {},
     "output_type": "execute_result"
    }
   ],
   "source": [
    "# Mudando vários valores\n",
    "df_resultados_aux.loc[df_resultados_aux[df_resultados_aux[\"home_team\"] == \"Scotland\"].index, \"home_score\"] = 2\n",
    "\n",
    "print(f\"Numero de gols que a Escócia marcou em casa: {df_resultados_aux[df_resultados_aux['home_team'] == 'Scotland']['home_score'].sum()}\")\n",
    "df_resultados_aux"
   ],
   "metadata": {
    "collapsed": false,
    "ExecuteTime": {
     "end_time": "2023-07-23T02:08:12.642106900Z",
     "start_time": "2023-07-23T02:08:12.587815300Z"
    }
   }
  },
  {
   "cell_type": "code",
   "execution_count": 68,
   "outputs": [
    {
     "name": "stdout",
     "output_type": "stream",
     "text": [
      "Numero de gols que a Escócia marcou em casa: 24\n"
     ]
    },
    {
     "data": {
      "text/plain": "          date         home_team away_team  home_score  away_score tournament  \\\n0   1872-11-30          Scotland   England           2           0   Friendly   \n1   1873-03-08           England  Scotland           4           2   Friendly   \n2   1874-03-07          Scotland   England           3           1   Friendly   \n3   1875-03-06           England  Scotland           2           2   Friendly   \n4   1876-03-04          Scotland   England           2           0   Friendly   \n5   1876-03-25          Scotland     Wales           2           0   Friendly   \n6   1877-03-03           England  Scotland           1           3   Friendly   \n7   1877-03-05             Wales  Scotland           0           2   Friendly   \n8   1878-03-02          Scotland   England           4           2   Friendly   \n9   1878-03-23          Scotland     Wales           2           0   Friendly   \n10  1879-01-18           England     Wales           2           1   Friendly   \n11  1879-04-05           England  Scotland           5           4   Friendly   \n12  1879-04-07             Wales  Scotland           0           3   Friendly   \n13  1880-03-13          Scotland   England           6           4   Friendly   \n14  1880-03-15             Wales   England           2           3   Friendly   \n15  1880-03-27          Scotland     Wales           3           1   Friendly   \n16  1881-02-26           England     Wales           0           1   Friendly   \n17  1881-03-12           England  Scotland           1           6   Friendly   \n18  1881-03-14             Wales  Scotland           1           5   Friendly   \n19  1882-02-18  Northern Ireland   England           0          13   Friendly   \n\n         city   country  neutral  \n0     Glasgow  Scotland    False  \n1      London   England    False  \n2     Glasgow  Scotland    False  \n3      London   England    False  \n4     Glasgow  Scotland    False  \n5     Glasgow  Scotland    False  \n6      London   England    False  \n7     Wrexham     Wales    False  \n8     Glasgow  Scotland    False  \n9     Glasgow  Scotland    False  \n10     London   England    False  \n11     London   England    False  \n12    Wrexham     Wales    False  \n13    Glasgow  Scotland    False  \n14    Wrexham     Wales    False  \n15    Glasgow  Scotland    False  \n16  Blackburn   England    False  \n17     London   England    False  \n18    Wrexham     Wales    False  \n19    Belfast   Ireland    False  ",
      "text/html": "<div>\n<style scoped>\n    .dataframe tbody tr th:only-of-type {\n        vertical-align: middle;\n    }\n\n    .dataframe tbody tr th {\n        vertical-align: top;\n    }\n\n    .dataframe thead th {\n        text-align: right;\n    }\n</style>\n<table border=\"1\" class=\"dataframe\">\n  <thead>\n    <tr style=\"text-align: right;\">\n      <th></th>\n      <th>date</th>\n      <th>home_team</th>\n      <th>away_team</th>\n      <th>home_score</th>\n      <th>away_score</th>\n      <th>tournament</th>\n      <th>city</th>\n      <th>country</th>\n      <th>neutral</th>\n    </tr>\n  </thead>\n  <tbody>\n    <tr>\n      <th>0</th>\n      <td>1872-11-30</td>\n      <td>Scotland</td>\n      <td>England</td>\n      <td>2</td>\n      <td>0</td>\n      <td>Friendly</td>\n      <td>Glasgow</td>\n      <td>Scotland</td>\n      <td>False</td>\n    </tr>\n    <tr>\n      <th>1</th>\n      <td>1873-03-08</td>\n      <td>England</td>\n      <td>Scotland</td>\n      <td>4</td>\n      <td>2</td>\n      <td>Friendly</td>\n      <td>London</td>\n      <td>England</td>\n      <td>False</td>\n    </tr>\n    <tr>\n      <th>2</th>\n      <td>1874-03-07</td>\n      <td>Scotland</td>\n      <td>England</td>\n      <td>3</td>\n      <td>1</td>\n      <td>Friendly</td>\n      <td>Glasgow</td>\n      <td>Scotland</td>\n      <td>False</td>\n    </tr>\n    <tr>\n      <th>3</th>\n      <td>1875-03-06</td>\n      <td>England</td>\n      <td>Scotland</td>\n      <td>2</td>\n      <td>2</td>\n      <td>Friendly</td>\n      <td>London</td>\n      <td>England</td>\n      <td>False</td>\n    </tr>\n    <tr>\n      <th>4</th>\n      <td>1876-03-04</td>\n      <td>Scotland</td>\n      <td>England</td>\n      <td>2</td>\n      <td>0</td>\n      <td>Friendly</td>\n      <td>Glasgow</td>\n      <td>Scotland</td>\n      <td>False</td>\n    </tr>\n    <tr>\n      <th>5</th>\n      <td>1876-03-25</td>\n      <td>Scotland</td>\n      <td>Wales</td>\n      <td>2</td>\n      <td>0</td>\n      <td>Friendly</td>\n      <td>Glasgow</td>\n      <td>Scotland</td>\n      <td>False</td>\n    </tr>\n    <tr>\n      <th>6</th>\n      <td>1877-03-03</td>\n      <td>England</td>\n      <td>Scotland</td>\n      <td>1</td>\n      <td>3</td>\n      <td>Friendly</td>\n      <td>London</td>\n      <td>England</td>\n      <td>False</td>\n    </tr>\n    <tr>\n      <th>7</th>\n      <td>1877-03-05</td>\n      <td>Wales</td>\n      <td>Scotland</td>\n      <td>0</td>\n      <td>2</td>\n      <td>Friendly</td>\n      <td>Wrexham</td>\n      <td>Wales</td>\n      <td>False</td>\n    </tr>\n    <tr>\n      <th>8</th>\n      <td>1878-03-02</td>\n      <td>Scotland</td>\n      <td>England</td>\n      <td>4</td>\n      <td>2</td>\n      <td>Friendly</td>\n      <td>Glasgow</td>\n      <td>Scotland</td>\n      <td>False</td>\n    </tr>\n    <tr>\n      <th>9</th>\n      <td>1878-03-23</td>\n      <td>Scotland</td>\n      <td>Wales</td>\n      <td>2</td>\n      <td>0</td>\n      <td>Friendly</td>\n      <td>Glasgow</td>\n      <td>Scotland</td>\n      <td>False</td>\n    </tr>\n    <tr>\n      <th>10</th>\n      <td>1879-01-18</td>\n      <td>England</td>\n      <td>Wales</td>\n      <td>2</td>\n      <td>1</td>\n      <td>Friendly</td>\n      <td>London</td>\n      <td>England</td>\n      <td>False</td>\n    </tr>\n    <tr>\n      <th>11</th>\n      <td>1879-04-05</td>\n      <td>England</td>\n      <td>Scotland</td>\n      <td>5</td>\n      <td>4</td>\n      <td>Friendly</td>\n      <td>London</td>\n      <td>England</td>\n      <td>False</td>\n    </tr>\n    <tr>\n      <th>12</th>\n      <td>1879-04-07</td>\n      <td>Wales</td>\n      <td>Scotland</td>\n      <td>0</td>\n      <td>3</td>\n      <td>Friendly</td>\n      <td>Wrexham</td>\n      <td>Wales</td>\n      <td>False</td>\n    </tr>\n    <tr>\n      <th>13</th>\n      <td>1880-03-13</td>\n      <td>Scotland</td>\n      <td>England</td>\n      <td>6</td>\n      <td>4</td>\n      <td>Friendly</td>\n      <td>Glasgow</td>\n      <td>Scotland</td>\n      <td>False</td>\n    </tr>\n    <tr>\n      <th>14</th>\n      <td>1880-03-15</td>\n      <td>Wales</td>\n      <td>England</td>\n      <td>2</td>\n      <td>3</td>\n      <td>Friendly</td>\n      <td>Wrexham</td>\n      <td>Wales</td>\n      <td>False</td>\n    </tr>\n    <tr>\n      <th>15</th>\n      <td>1880-03-27</td>\n      <td>Scotland</td>\n      <td>Wales</td>\n      <td>3</td>\n      <td>1</td>\n      <td>Friendly</td>\n      <td>Glasgow</td>\n      <td>Scotland</td>\n      <td>False</td>\n    </tr>\n    <tr>\n      <th>16</th>\n      <td>1881-02-26</td>\n      <td>England</td>\n      <td>Wales</td>\n      <td>0</td>\n      <td>1</td>\n      <td>Friendly</td>\n      <td>Blackburn</td>\n      <td>England</td>\n      <td>False</td>\n    </tr>\n    <tr>\n      <th>17</th>\n      <td>1881-03-12</td>\n      <td>England</td>\n      <td>Scotland</td>\n      <td>1</td>\n      <td>6</td>\n      <td>Friendly</td>\n      <td>London</td>\n      <td>England</td>\n      <td>False</td>\n    </tr>\n    <tr>\n      <th>18</th>\n      <td>1881-03-14</td>\n      <td>Wales</td>\n      <td>Scotland</td>\n      <td>1</td>\n      <td>5</td>\n      <td>Friendly</td>\n      <td>Wrexham</td>\n      <td>Wales</td>\n      <td>False</td>\n    </tr>\n    <tr>\n      <th>19</th>\n      <td>1882-02-18</td>\n      <td>Northern Ireland</td>\n      <td>England</td>\n      <td>0</td>\n      <td>13</td>\n      <td>Friendly</td>\n      <td>Belfast</td>\n      <td>Ireland</td>\n      <td>False</td>\n    </tr>\n  </tbody>\n</table>\n</div>"
     },
     "execution_count": 68,
     "metadata": {},
     "output_type": "execute_result"
    }
   ],
   "source": [
    "# Inclusíve é possível usar funções ao msm tempo, nesse caso os gols da Escócia em casa serão a soma dos gols que tinham feito (no caso estabelecemos 2 na célula anterior) + os gols que tomaram do time visitante\n",
    "\n",
    "df_resultados_aux.loc[df_resultados_aux[df_resultados_aux[\"home_team\"] == \"Scotland\"].index, \"home_score\"] = df_resultados_aux.loc[df_resultados_aux[df_resultados_aux[\"home_team\"] == \"Scotland\"].index, \"away_score\"] + df_resultados_aux.loc[df_resultados_aux[df_resultados_aux[\"home_team\"] == \"Scotland\"].index, \"home_score\"]\n",
    "\n",
    "print(f\"Numero de gols que a Escócia marcou em casa: {df_resultados_aux[df_resultados_aux['home_team'] == 'Scotland']['home_score'].sum()}\")\n",
    "df_resultados_aux"
   ],
   "metadata": {
    "collapsed": false,
    "ExecuteTime": {
     "end_time": "2023-07-23T02:08:13.540091900Z",
     "start_time": "2023-07-23T02:08:13.509721500Z"
    }
   }
  },
  {
   "cell_type": "markdown",
   "source": [
    "## 5.4 Usando funções em colunas"
   ],
   "metadata": {
    "collapsed": false
   }
  },
  {
   "cell_type": "code",
   "execution_count": 85,
   "outputs": [
    {
     "data": {
      "text/plain": "          date         home_team away_team  home_score  away_score tournament  \\\n0   1872-11-30          Scotland   England           0           0   Friendly   \n1   1873-03-08           England  Scotland           4           2   Friendly   \n2   1874-03-07          Scotland   England           2           1   Friendly   \n3   1875-03-06           England  Scotland           2           2   Friendly   \n4   1876-03-04          Scotland   England           3           0   Friendly   \n5   1876-03-25          Scotland     Wales           4           0   Friendly   \n6   1877-03-03           England  Scotland           1           3   Friendly   \n7   1877-03-05             Wales  Scotland           0           2   Friendly   \n8   1878-03-02          Scotland   England           7           2   Friendly   \n9   1878-03-23          Scotland     Wales           9           0   Friendly   \n10  1879-01-18           England     Wales           2           1   Friendly   \n11  1879-04-05           England  Scotland           5           4   Friendly   \n12  1879-04-07             Wales  Scotland           0           3   Friendly   \n13  1880-03-13          Scotland   England           5           4   Friendly   \n14  1880-03-15             Wales   England           2           3   Friendly   \n15  1880-03-27          Scotland     Wales           5           1   Friendly   \n16  1881-02-26           England     Wales           0           1   Friendly   \n17  1881-03-12           England  Scotland           1           6   Friendly   \n18  1881-03-14             Wales  Scotland           1           5   Friendly   \n19  1882-02-18  Northern Ireland   England           0          13   Friendly   \n\n         city   country  neutral  Qtd de Letras  \n0     Glasgow  Scotland    False              8  \n1      London   England    False              7  \n2     Glasgow  Scotland    False              8  \n3      London   England    False              7  \n4     Glasgow  Scotland    False              8  \n5     Glasgow  Scotland    False              8  \n6      London   England    False              7  \n7     Wrexham     Wales    False              5  \n8     Glasgow  Scotland    False              8  \n9     Glasgow  Scotland    False              8  \n10     London   England    False              7  \n11     London   England    False              7  \n12    Wrexham     Wales    False              5  \n13    Glasgow  Scotland    False              8  \n14    Wrexham     Wales    False              5  \n15    Glasgow  Scotland    False              8  \n16  Blackburn   England    False              7  \n17     London   England    False              7  \n18    Wrexham     Wales    False              5  \n19    Belfast   Ireland    False             16  ",
      "text/html": "<div>\n<style scoped>\n    .dataframe tbody tr th:only-of-type {\n        vertical-align: middle;\n    }\n\n    .dataframe tbody tr th {\n        vertical-align: top;\n    }\n\n    .dataframe thead th {\n        text-align: right;\n    }\n</style>\n<table border=\"1\" class=\"dataframe\">\n  <thead>\n    <tr style=\"text-align: right;\">\n      <th></th>\n      <th>date</th>\n      <th>home_team</th>\n      <th>away_team</th>\n      <th>home_score</th>\n      <th>away_score</th>\n      <th>tournament</th>\n      <th>city</th>\n      <th>country</th>\n      <th>neutral</th>\n      <th>Qtd de Letras</th>\n    </tr>\n  </thead>\n  <tbody>\n    <tr>\n      <th>0</th>\n      <td>1872-11-30</td>\n      <td>Scotland</td>\n      <td>England</td>\n      <td>0</td>\n      <td>0</td>\n      <td>Friendly</td>\n      <td>Glasgow</td>\n      <td>Scotland</td>\n      <td>False</td>\n      <td>8</td>\n    </tr>\n    <tr>\n      <th>1</th>\n      <td>1873-03-08</td>\n      <td>England</td>\n      <td>Scotland</td>\n      <td>4</td>\n      <td>2</td>\n      <td>Friendly</td>\n      <td>London</td>\n      <td>England</td>\n      <td>False</td>\n      <td>7</td>\n    </tr>\n    <tr>\n      <th>2</th>\n      <td>1874-03-07</td>\n      <td>Scotland</td>\n      <td>England</td>\n      <td>2</td>\n      <td>1</td>\n      <td>Friendly</td>\n      <td>Glasgow</td>\n      <td>Scotland</td>\n      <td>False</td>\n      <td>8</td>\n    </tr>\n    <tr>\n      <th>3</th>\n      <td>1875-03-06</td>\n      <td>England</td>\n      <td>Scotland</td>\n      <td>2</td>\n      <td>2</td>\n      <td>Friendly</td>\n      <td>London</td>\n      <td>England</td>\n      <td>False</td>\n      <td>7</td>\n    </tr>\n    <tr>\n      <th>4</th>\n      <td>1876-03-04</td>\n      <td>Scotland</td>\n      <td>England</td>\n      <td>3</td>\n      <td>0</td>\n      <td>Friendly</td>\n      <td>Glasgow</td>\n      <td>Scotland</td>\n      <td>False</td>\n      <td>8</td>\n    </tr>\n    <tr>\n      <th>5</th>\n      <td>1876-03-25</td>\n      <td>Scotland</td>\n      <td>Wales</td>\n      <td>4</td>\n      <td>0</td>\n      <td>Friendly</td>\n      <td>Glasgow</td>\n      <td>Scotland</td>\n      <td>False</td>\n      <td>8</td>\n    </tr>\n    <tr>\n      <th>6</th>\n      <td>1877-03-03</td>\n      <td>England</td>\n      <td>Scotland</td>\n      <td>1</td>\n      <td>3</td>\n      <td>Friendly</td>\n      <td>London</td>\n      <td>England</td>\n      <td>False</td>\n      <td>7</td>\n    </tr>\n    <tr>\n      <th>7</th>\n      <td>1877-03-05</td>\n      <td>Wales</td>\n      <td>Scotland</td>\n      <td>0</td>\n      <td>2</td>\n      <td>Friendly</td>\n      <td>Wrexham</td>\n      <td>Wales</td>\n      <td>False</td>\n      <td>5</td>\n    </tr>\n    <tr>\n      <th>8</th>\n      <td>1878-03-02</td>\n      <td>Scotland</td>\n      <td>England</td>\n      <td>7</td>\n      <td>2</td>\n      <td>Friendly</td>\n      <td>Glasgow</td>\n      <td>Scotland</td>\n      <td>False</td>\n      <td>8</td>\n    </tr>\n    <tr>\n      <th>9</th>\n      <td>1878-03-23</td>\n      <td>Scotland</td>\n      <td>Wales</td>\n      <td>9</td>\n      <td>0</td>\n      <td>Friendly</td>\n      <td>Glasgow</td>\n      <td>Scotland</td>\n      <td>False</td>\n      <td>8</td>\n    </tr>\n    <tr>\n      <th>10</th>\n      <td>1879-01-18</td>\n      <td>England</td>\n      <td>Wales</td>\n      <td>2</td>\n      <td>1</td>\n      <td>Friendly</td>\n      <td>London</td>\n      <td>England</td>\n      <td>False</td>\n      <td>7</td>\n    </tr>\n    <tr>\n      <th>11</th>\n      <td>1879-04-05</td>\n      <td>England</td>\n      <td>Scotland</td>\n      <td>5</td>\n      <td>4</td>\n      <td>Friendly</td>\n      <td>London</td>\n      <td>England</td>\n      <td>False</td>\n      <td>7</td>\n    </tr>\n    <tr>\n      <th>12</th>\n      <td>1879-04-07</td>\n      <td>Wales</td>\n      <td>Scotland</td>\n      <td>0</td>\n      <td>3</td>\n      <td>Friendly</td>\n      <td>Wrexham</td>\n      <td>Wales</td>\n      <td>False</td>\n      <td>5</td>\n    </tr>\n    <tr>\n      <th>13</th>\n      <td>1880-03-13</td>\n      <td>Scotland</td>\n      <td>England</td>\n      <td>5</td>\n      <td>4</td>\n      <td>Friendly</td>\n      <td>Glasgow</td>\n      <td>Scotland</td>\n      <td>False</td>\n      <td>8</td>\n    </tr>\n    <tr>\n      <th>14</th>\n      <td>1880-03-15</td>\n      <td>Wales</td>\n      <td>England</td>\n      <td>2</td>\n      <td>3</td>\n      <td>Friendly</td>\n      <td>Wrexham</td>\n      <td>Wales</td>\n      <td>False</td>\n      <td>5</td>\n    </tr>\n    <tr>\n      <th>15</th>\n      <td>1880-03-27</td>\n      <td>Scotland</td>\n      <td>Wales</td>\n      <td>5</td>\n      <td>1</td>\n      <td>Friendly</td>\n      <td>Glasgow</td>\n      <td>Scotland</td>\n      <td>False</td>\n      <td>8</td>\n    </tr>\n    <tr>\n      <th>16</th>\n      <td>1881-02-26</td>\n      <td>England</td>\n      <td>Wales</td>\n      <td>0</td>\n      <td>1</td>\n      <td>Friendly</td>\n      <td>Blackburn</td>\n      <td>England</td>\n      <td>False</td>\n      <td>7</td>\n    </tr>\n    <tr>\n      <th>17</th>\n      <td>1881-03-12</td>\n      <td>England</td>\n      <td>Scotland</td>\n      <td>1</td>\n      <td>6</td>\n      <td>Friendly</td>\n      <td>London</td>\n      <td>England</td>\n      <td>False</td>\n      <td>7</td>\n    </tr>\n    <tr>\n      <th>18</th>\n      <td>1881-03-14</td>\n      <td>Wales</td>\n      <td>Scotland</td>\n      <td>1</td>\n      <td>5</td>\n      <td>Friendly</td>\n      <td>Wrexham</td>\n      <td>Wales</td>\n      <td>False</td>\n      <td>5</td>\n    </tr>\n    <tr>\n      <th>19</th>\n      <td>1882-02-18</td>\n      <td>Northern Ireland</td>\n      <td>England</td>\n      <td>0</td>\n      <td>13</td>\n      <td>Friendly</td>\n      <td>Belfast</td>\n      <td>Ireland</td>\n      <td>False</td>\n      <td>16</td>\n    </tr>\n  </tbody>\n</table>\n</div>"
     },
     "execution_count": 85,
     "metadata": {},
     "output_type": "execute_result"
    }
   ],
   "source": [
    "df_resultados_aux = df_resultados_small.copy()\n",
    "\n",
    "df_resultados_aux[\"Qtd de Letras\"] = df_resultados_aux[\"home_team\"].apply(len)\n",
    "\n",
    "df_resultados_aux"
   ],
   "metadata": {
    "collapsed": false,
    "ExecuteTime": {
     "end_time": "2023-07-23T02:30:10.095631800Z",
     "start_time": "2023-07-23T02:30:10.006316400Z"
    }
   }
  },
  {
   "cell_type": "code",
   "execution_count": 76,
   "outputs": [
    {
     "data": {
      "text/plain": "          date         home_team away_team  home_score  away_score tournament  \\\n0   1872-11-30          Scotland   England           0           0   Friendly   \n1   1873-03-08           England  Scotland           4           2   Friendly   \n2   1874-03-07          Scotland   England           2           1   Friendly   \n3   1875-03-06           England  Scotland           2           2   Friendly   \n4   1876-03-04          Scotland   England           3           0   Friendly   \n5   1876-03-25          Scotland     Wales           4           0   Friendly   \n6   1877-03-03           England  Scotland           1           3   Friendly   \n7   1877-03-05             Wales  Scotland           0           2   Friendly   \n8   1878-03-02          Scotland   England           7           2   Friendly   \n9   1878-03-23          Scotland     Wales           9           0   Friendly   \n10  1879-01-18           England     Wales           2           1   Friendly   \n11  1879-04-05           England  Scotland           5           4   Friendly   \n12  1879-04-07             Wales  Scotland           0           3   Friendly   \n13  1880-03-13          Scotland   England           5           4   Friendly   \n14  1880-03-15             Wales   England           2           3   Friendly   \n15  1880-03-27          Scotland     Wales           5           1   Friendly   \n16  1881-02-26           England     Wales           0           1   Friendly   \n17  1881-03-12           England  Scotland           1           6   Friendly   \n18  1881-03-14             Wales  Scotland           1           5   Friendly   \n19  1882-02-18  Northern Ireland   England           0          13   Friendly   \n\n         city   country  neutral Muitos Gols?  \n0     Glasgow  Scotland    False          Meh  \n1      London   England    False  Muitos Gols  \n2     Glasgow  Scotland    False          Meh  \n3      London   England    False          Meh  \n4     Glasgow  Scotland    False          Meh  \n5     Glasgow  Scotland    False  Muitos Gols  \n6      London   England    False          Meh  \n7     Wrexham     Wales    False          Meh  \n8     Glasgow  Scotland    False  Muitos Gols  \n9     Glasgow  Scotland    False  Muitos Gols  \n10     London   England    False          Meh  \n11     London   England    False  Muitos Gols  \n12    Wrexham     Wales    False          Meh  \n13    Glasgow  Scotland    False  Muitos Gols  \n14    Wrexham     Wales    False          Meh  \n15    Glasgow  Scotland    False  Muitos Gols  \n16  Blackburn   England    False          Meh  \n17     London   England    False          Meh  \n18    Wrexham     Wales    False          Meh  \n19    Belfast   Ireland    False          Meh  ",
      "text/html": "<div>\n<style scoped>\n    .dataframe tbody tr th:only-of-type {\n        vertical-align: middle;\n    }\n\n    .dataframe tbody tr th {\n        vertical-align: top;\n    }\n\n    .dataframe thead th {\n        text-align: right;\n    }\n</style>\n<table border=\"1\" class=\"dataframe\">\n  <thead>\n    <tr style=\"text-align: right;\">\n      <th></th>\n      <th>date</th>\n      <th>home_team</th>\n      <th>away_team</th>\n      <th>home_score</th>\n      <th>away_score</th>\n      <th>tournament</th>\n      <th>city</th>\n      <th>country</th>\n      <th>neutral</th>\n      <th>Muitos Gols?</th>\n    </tr>\n  </thead>\n  <tbody>\n    <tr>\n      <th>0</th>\n      <td>1872-11-30</td>\n      <td>Scotland</td>\n      <td>England</td>\n      <td>0</td>\n      <td>0</td>\n      <td>Friendly</td>\n      <td>Glasgow</td>\n      <td>Scotland</td>\n      <td>False</td>\n      <td>Meh</td>\n    </tr>\n    <tr>\n      <th>1</th>\n      <td>1873-03-08</td>\n      <td>England</td>\n      <td>Scotland</td>\n      <td>4</td>\n      <td>2</td>\n      <td>Friendly</td>\n      <td>London</td>\n      <td>England</td>\n      <td>False</td>\n      <td>Muitos Gols</td>\n    </tr>\n    <tr>\n      <th>2</th>\n      <td>1874-03-07</td>\n      <td>Scotland</td>\n      <td>England</td>\n      <td>2</td>\n      <td>1</td>\n      <td>Friendly</td>\n      <td>Glasgow</td>\n      <td>Scotland</td>\n      <td>False</td>\n      <td>Meh</td>\n    </tr>\n    <tr>\n      <th>3</th>\n      <td>1875-03-06</td>\n      <td>England</td>\n      <td>Scotland</td>\n      <td>2</td>\n      <td>2</td>\n      <td>Friendly</td>\n      <td>London</td>\n      <td>England</td>\n      <td>False</td>\n      <td>Meh</td>\n    </tr>\n    <tr>\n      <th>4</th>\n      <td>1876-03-04</td>\n      <td>Scotland</td>\n      <td>England</td>\n      <td>3</td>\n      <td>0</td>\n      <td>Friendly</td>\n      <td>Glasgow</td>\n      <td>Scotland</td>\n      <td>False</td>\n      <td>Meh</td>\n    </tr>\n    <tr>\n      <th>5</th>\n      <td>1876-03-25</td>\n      <td>Scotland</td>\n      <td>Wales</td>\n      <td>4</td>\n      <td>0</td>\n      <td>Friendly</td>\n      <td>Glasgow</td>\n      <td>Scotland</td>\n      <td>False</td>\n      <td>Muitos Gols</td>\n    </tr>\n    <tr>\n      <th>6</th>\n      <td>1877-03-03</td>\n      <td>England</td>\n      <td>Scotland</td>\n      <td>1</td>\n      <td>3</td>\n      <td>Friendly</td>\n      <td>London</td>\n      <td>England</td>\n      <td>False</td>\n      <td>Meh</td>\n    </tr>\n    <tr>\n      <th>7</th>\n      <td>1877-03-05</td>\n      <td>Wales</td>\n      <td>Scotland</td>\n      <td>0</td>\n      <td>2</td>\n      <td>Friendly</td>\n      <td>Wrexham</td>\n      <td>Wales</td>\n      <td>False</td>\n      <td>Meh</td>\n    </tr>\n    <tr>\n      <th>8</th>\n      <td>1878-03-02</td>\n      <td>Scotland</td>\n      <td>England</td>\n      <td>7</td>\n      <td>2</td>\n      <td>Friendly</td>\n      <td>Glasgow</td>\n      <td>Scotland</td>\n      <td>False</td>\n      <td>Muitos Gols</td>\n    </tr>\n    <tr>\n      <th>9</th>\n      <td>1878-03-23</td>\n      <td>Scotland</td>\n      <td>Wales</td>\n      <td>9</td>\n      <td>0</td>\n      <td>Friendly</td>\n      <td>Glasgow</td>\n      <td>Scotland</td>\n      <td>False</td>\n      <td>Muitos Gols</td>\n    </tr>\n    <tr>\n      <th>10</th>\n      <td>1879-01-18</td>\n      <td>England</td>\n      <td>Wales</td>\n      <td>2</td>\n      <td>1</td>\n      <td>Friendly</td>\n      <td>London</td>\n      <td>England</td>\n      <td>False</td>\n      <td>Meh</td>\n    </tr>\n    <tr>\n      <th>11</th>\n      <td>1879-04-05</td>\n      <td>England</td>\n      <td>Scotland</td>\n      <td>5</td>\n      <td>4</td>\n      <td>Friendly</td>\n      <td>London</td>\n      <td>England</td>\n      <td>False</td>\n      <td>Muitos Gols</td>\n    </tr>\n    <tr>\n      <th>12</th>\n      <td>1879-04-07</td>\n      <td>Wales</td>\n      <td>Scotland</td>\n      <td>0</td>\n      <td>3</td>\n      <td>Friendly</td>\n      <td>Wrexham</td>\n      <td>Wales</td>\n      <td>False</td>\n      <td>Meh</td>\n    </tr>\n    <tr>\n      <th>13</th>\n      <td>1880-03-13</td>\n      <td>Scotland</td>\n      <td>England</td>\n      <td>5</td>\n      <td>4</td>\n      <td>Friendly</td>\n      <td>Glasgow</td>\n      <td>Scotland</td>\n      <td>False</td>\n      <td>Muitos Gols</td>\n    </tr>\n    <tr>\n      <th>14</th>\n      <td>1880-03-15</td>\n      <td>Wales</td>\n      <td>England</td>\n      <td>2</td>\n      <td>3</td>\n      <td>Friendly</td>\n      <td>Wrexham</td>\n      <td>Wales</td>\n      <td>False</td>\n      <td>Meh</td>\n    </tr>\n    <tr>\n      <th>15</th>\n      <td>1880-03-27</td>\n      <td>Scotland</td>\n      <td>Wales</td>\n      <td>5</td>\n      <td>1</td>\n      <td>Friendly</td>\n      <td>Glasgow</td>\n      <td>Scotland</td>\n      <td>False</td>\n      <td>Muitos Gols</td>\n    </tr>\n    <tr>\n      <th>16</th>\n      <td>1881-02-26</td>\n      <td>England</td>\n      <td>Wales</td>\n      <td>0</td>\n      <td>1</td>\n      <td>Friendly</td>\n      <td>Blackburn</td>\n      <td>England</td>\n      <td>False</td>\n      <td>Meh</td>\n    </tr>\n    <tr>\n      <th>17</th>\n      <td>1881-03-12</td>\n      <td>England</td>\n      <td>Scotland</td>\n      <td>1</td>\n      <td>6</td>\n      <td>Friendly</td>\n      <td>London</td>\n      <td>England</td>\n      <td>False</td>\n      <td>Meh</td>\n    </tr>\n    <tr>\n      <th>18</th>\n      <td>1881-03-14</td>\n      <td>Wales</td>\n      <td>Scotland</td>\n      <td>1</td>\n      <td>5</td>\n      <td>Friendly</td>\n      <td>Wrexham</td>\n      <td>Wales</td>\n      <td>False</td>\n      <td>Meh</td>\n    </tr>\n    <tr>\n      <th>19</th>\n      <td>1882-02-18</td>\n      <td>Northern Ireland</td>\n      <td>England</td>\n      <td>0</td>\n      <td>13</td>\n      <td>Friendly</td>\n      <td>Belfast</td>\n      <td>Ireland</td>\n      <td>False</td>\n      <td>Meh</td>\n    </tr>\n  </tbody>\n</table>\n</div>"
     },
     "execution_count": 76,
     "metadata": {},
     "output_type": "execute_result"
    }
   ],
   "source": [
    "def muitos_gols(num_gols):\n",
    "    if num_gols > 3:\n",
    "        return \"Muitos Gols\"\n",
    "    else:\n",
    "        return \"Meh\"\n",
    "\n",
    "df_resultados_aux = df_resultados_small.copy()\n",
    "\n",
    "df_resultados_aux[\"Muitos Gols?\"] = df_resultados_aux[\"home_score\"].apply(muitos_gols)\n",
    "\n",
    "df_resultados_aux"
   ],
   "metadata": {
    "collapsed": false,
    "ExecuteTime": {
     "end_time": "2023-07-23T02:23:26.934569500Z",
     "start_time": "2023-07-23T02:23:26.848893500Z"
    }
   }
  },
  {
   "cell_type": "code",
   "execution_count": 77,
   "outputs": [
    {
     "data": {
      "text/plain": "          date         home_team away_team  home_score  away_score tournament  \\\n0   1872-11-30          Scotland   England           0           0   Friendly   \n1   1873-03-08           England  Scotland           4           2   Friendly   \n2   1874-03-07          Scotland   England           2           1   Friendly   \n3   1875-03-06           England  Scotland           2           2   Friendly   \n4   1876-03-04          Scotland   England           3           0   Friendly   \n5   1876-03-25          Scotland     Wales           4           0   Friendly   \n6   1877-03-03           England  Scotland           1           3   Friendly   \n7   1877-03-05             Wales  Scotland           0           2   Friendly   \n8   1878-03-02          Scotland   England           7           2   Friendly   \n9   1878-03-23          Scotland     Wales           9           0   Friendly   \n10  1879-01-18           England     Wales           2           1   Friendly   \n11  1879-04-05           England  Scotland           5           4   Friendly   \n12  1879-04-07             Wales  Scotland           0           3   Friendly   \n13  1880-03-13          Scotland   England           5           4   Friendly   \n14  1880-03-15             Wales   England           2           3   Friendly   \n15  1880-03-27          Scotland     Wales           5           1   Friendly   \n16  1881-02-26           England     Wales           0           1   Friendly   \n17  1881-03-12           England  Scotland           1           6   Friendly   \n18  1881-03-14             Wales  Scotland           1           5   Friendly   \n19  1882-02-18  Northern Ireland   England           0          13   Friendly   \n\n         city   country  neutral  Ganhou?  \n0     Glasgow  Scotland    False  Empatou  \n1      London   England    False   Ganhou  \n2     Glasgow  Scotland    False   Ganhou  \n3      London   England    False  Empatou  \n4     Glasgow  Scotland    False   Ganhou  \n5     Glasgow  Scotland    False   Ganhou  \n6      London   England    False   Perdeu  \n7     Wrexham     Wales    False   Perdeu  \n8     Glasgow  Scotland    False   Ganhou  \n9     Glasgow  Scotland    False   Ganhou  \n10     London   England    False   Ganhou  \n11     London   England    False   Ganhou  \n12    Wrexham     Wales    False   Perdeu  \n13    Glasgow  Scotland    False   Ganhou  \n14    Wrexham     Wales    False   Perdeu  \n15    Glasgow  Scotland    False   Ganhou  \n16  Blackburn   England    False   Perdeu  \n17     London   England    False   Perdeu  \n18    Wrexham     Wales    False   Perdeu  \n19    Belfast   Ireland    False   Perdeu  ",
      "text/html": "<div>\n<style scoped>\n    .dataframe tbody tr th:only-of-type {\n        vertical-align: middle;\n    }\n\n    .dataframe tbody tr th {\n        vertical-align: top;\n    }\n\n    .dataframe thead th {\n        text-align: right;\n    }\n</style>\n<table border=\"1\" class=\"dataframe\">\n  <thead>\n    <tr style=\"text-align: right;\">\n      <th></th>\n      <th>date</th>\n      <th>home_team</th>\n      <th>away_team</th>\n      <th>home_score</th>\n      <th>away_score</th>\n      <th>tournament</th>\n      <th>city</th>\n      <th>country</th>\n      <th>neutral</th>\n      <th>Ganhou?</th>\n    </tr>\n  </thead>\n  <tbody>\n    <tr>\n      <th>0</th>\n      <td>1872-11-30</td>\n      <td>Scotland</td>\n      <td>England</td>\n      <td>0</td>\n      <td>0</td>\n      <td>Friendly</td>\n      <td>Glasgow</td>\n      <td>Scotland</td>\n      <td>False</td>\n      <td>Empatou</td>\n    </tr>\n    <tr>\n      <th>1</th>\n      <td>1873-03-08</td>\n      <td>England</td>\n      <td>Scotland</td>\n      <td>4</td>\n      <td>2</td>\n      <td>Friendly</td>\n      <td>London</td>\n      <td>England</td>\n      <td>False</td>\n      <td>Ganhou</td>\n    </tr>\n    <tr>\n      <th>2</th>\n      <td>1874-03-07</td>\n      <td>Scotland</td>\n      <td>England</td>\n      <td>2</td>\n      <td>1</td>\n      <td>Friendly</td>\n      <td>Glasgow</td>\n      <td>Scotland</td>\n      <td>False</td>\n      <td>Ganhou</td>\n    </tr>\n    <tr>\n      <th>3</th>\n      <td>1875-03-06</td>\n      <td>England</td>\n      <td>Scotland</td>\n      <td>2</td>\n      <td>2</td>\n      <td>Friendly</td>\n      <td>London</td>\n      <td>England</td>\n      <td>False</td>\n      <td>Empatou</td>\n    </tr>\n    <tr>\n      <th>4</th>\n      <td>1876-03-04</td>\n      <td>Scotland</td>\n      <td>England</td>\n      <td>3</td>\n      <td>0</td>\n      <td>Friendly</td>\n      <td>Glasgow</td>\n      <td>Scotland</td>\n      <td>False</td>\n      <td>Ganhou</td>\n    </tr>\n    <tr>\n      <th>5</th>\n      <td>1876-03-25</td>\n      <td>Scotland</td>\n      <td>Wales</td>\n      <td>4</td>\n      <td>0</td>\n      <td>Friendly</td>\n      <td>Glasgow</td>\n      <td>Scotland</td>\n      <td>False</td>\n      <td>Ganhou</td>\n    </tr>\n    <tr>\n      <th>6</th>\n      <td>1877-03-03</td>\n      <td>England</td>\n      <td>Scotland</td>\n      <td>1</td>\n      <td>3</td>\n      <td>Friendly</td>\n      <td>London</td>\n      <td>England</td>\n      <td>False</td>\n      <td>Perdeu</td>\n    </tr>\n    <tr>\n      <th>7</th>\n      <td>1877-03-05</td>\n      <td>Wales</td>\n      <td>Scotland</td>\n      <td>0</td>\n      <td>2</td>\n      <td>Friendly</td>\n      <td>Wrexham</td>\n      <td>Wales</td>\n      <td>False</td>\n      <td>Perdeu</td>\n    </tr>\n    <tr>\n      <th>8</th>\n      <td>1878-03-02</td>\n      <td>Scotland</td>\n      <td>England</td>\n      <td>7</td>\n      <td>2</td>\n      <td>Friendly</td>\n      <td>Glasgow</td>\n      <td>Scotland</td>\n      <td>False</td>\n      <td>Ganhou</td>\n    </tr>\n    <tr>\n      <th>9</th>\n      <td>1878-03-23</td>\n      <td>Scotland</td>\n      <td>Wales</td>\n      <td>9</td>\n      <td>0</td>\n      <td>Friendly</td>\n      <td>Glasgow</td>\n      <td>Scotland</td>\n      <td>False</td>\n      <td>Ganhou</td>\n    </tr>\n    <tr>\n      <th>10</th>\n      <td>1879-01-18</td>\n      <td>England</td>\n      <td>Wales</td>\n      <td>2</td>\n      <td>1</td>\n      <td>Friendly</td>\n      <td>London</td>\n      <td>England</td>\n      <td>False</td>\n      <td>Ganhou</td>\n    </tr>\n    <tr>\n      <th>11</th>\n      <td>1879-04-05</td>\n      <td>England</td>\n      <td>Scotland</td>\n      <td>5</td>\n      <td>4</td>\n      <td>Friendly</td>\n      <td>London</td>\n      <td>England</td>\n      <td>False</td>\n      <td>Ganhou</td>\n    </tr>\n    <tr>\n      <th>12</th>\n      <td>1879-04-07</td>\n      <td>Wales</td>\n      <td>Scotland</td>\n      <td>0</td>\n      <td>3</td>\n      <td>Friendly</td>\n      <td>Wrexham</td>\n      <td>Wales</td>\n      <td>False</td>\n      <td>Perdeu</td>\n    </tr>\n    <tr>\n      <th>13</th>\n      <td>1880-03-13</td>\n      <td>Scotland</td>\n      <td>England</td>\n      <td>5</td>\n      <td>4</td>\n      <td>Friendly</td>\n      <td>Glasgow</td>\n      <td>Scotland</td>\n      <td>False</td>\n      <td>Ganhou</td>\n    </tr>\n    <tr>\n      <th>14</th>\n      <td>1880-03-15</td>\n      <td>Wales</td>\n      <td>England</td>\n      <td>2</td>\n      <td>3</td>\n      <td>Friendly</td>\n      <td>Wrexham</td>\n      <td>Wales</td>\n      <td>False</td>\n      <td>Perdeu</td>\n    </tr>\n    <tr>\n      <th>15</th>\n      <td>1880-03-27</td>\n      <td>Scotland</td>\n      <td>Wales</td>\n      <td>5</td>\n      <td>1</td>\n      <td>Friendly</td>\n      <td>Glasgow</td>\n      <td>Scotland</td>\n      <td>False</td>\n      <td>Ganhou</td>\n    </tr>\n    <tr>\n      <th>16</th>\n      <td>1881-02-26</td>\n      <td>England</td>\n      <td>Wales</td>\n      <td>0</td>\n      <td>1</td>\n      <td>Friendly</td>\n      <td>Blackburn</td>\n      <td>England</td>\n      <td>False</td>\n      <td>Perdeu</td>\n    </tr>\n    <tr>\n      <th>17</th>\n      <td>1881-03-12</td>\n      <td>England</td>\n      <td>Scotland</td>\n      <td>1</td>\n      <td>6</td>\n      <td>Friendly</td>\n      <td>London</td>\n      <td>England</td>\n      <td>False</td>\n      <td>Perdeu</td>\n    </tr>\n    <tr>\n      <th>18</th>\n      <td>1881-03-14</td>\n      <td>Wales</td>\n      <td>Scotland</td>\n      <td>1</td>\n      <td>5</td>\n      <td>Friendly</td>\n      <td>Wrexham</td>\n      <td>Wales</td>\n      <td>False</td>\n      <td>Perdeu</td>\n    </tr>\n    <tr>\n      <th>19</th>\n      <td>1882-02-18</td>\n      <td>Northern Ireland</td>\n      <td>England</td>\n      <td>0</td>\n      <td>13</td>\n      <td>Friendly</td>\n      <td>Belfast</td>\n      <td>Ireland</td>\n      <td>False</td>\n      <td>Perdeu</td>\n    </tr>\n  </tbody>\n</table>\n</div>"
     },
     "execution_count": 77,
     "metadata": {},
     "output_type": "execute_result"
    }
   ],
   "source": [
    "def ganhou_perdeu(gols_casa, gols_visitante):\n",
    "    if gols_casa > gols_visitante:\n",
    "        return \"Ganhou\"\n",
    "    elif gols_casa == gols_visitante:\n",
    "        return \"Empatou\"\n",
    "    else:\n",
    "        return \"Perdeu\"\n",
    "\n",
    "df_resultados_aux = df_resultados_small.copy()\n",
    "\n",
    "df_resultados_aux[\"Ganhou?\"] = df_resultados_aux.apply(lambda x: ganhou_perdeu(x[\"home_score\"], x[\"away_score\"]), axis=1)\n",
    "\n",
    "df_resultados_aux"
   ],
   "metadata": {
    "collapsed": false,
    "ExecuteTime": {
     "end_time": "2023-07-23T02:26:04.009123500Z",
     "start_time": "2023-07-23T02:26:03.955451500Z"
    }
   }
  },
  {
   "cell_type": "code",
   "execution_count": 80,
   "outputs": [
    {
     "data": {
      "text/plain": "Ganhou?           Empatou  Ganhou  Perdeu\nhome_team                                \nEngland               1.0     3.0     3.0\nNorthern Ireland      NaN     NaN     1.0\nScotland              1.0     7.0     NaN\nWales                 NaN     NaN     4.0",
      "text/html": "<div>\n<style scoped>\n    .dataframe tbody tr th:only-of-type {\n        vertical-align: middle;\n    }\n\n    .dataframe tbody tr th {\n        vertical-align: top;\n    }\n\n    .dataframe thead th {\n        text-align: right;\n    }\n</style>\n<table border=\"1\" class=\"dataframe\">\n  <thead>\n    <tr style=\"text-align: right;\">\n      <th>Ganhou?</th>\n      <th>Empatou</th>\n      <th>Ganhou</th>\n      <th>Perdeu</th>\n    </tr>\n    <tr>\n      <th>home_team</th>\n      <th></th>\n      <th></th>\n      <th></th>\n    </tr>\n  </thead>\n  <tbody>\n    <tr>\n      <th>England</th>\n      <td>1.0</td>\n      <td>3.0</td>\n      <td>3.0</td>\n    </tr>\n    <tr>\n      <th>Northern Ireland</th>\n      <td>NaN</td>\n      <td>NaN</td>\n      <td>1.0</td>\n    </tr>\n    <tr>\n      <th>Scotland</th>\n      <td>1.0</td>\n      <td>7.0</td>\n      <td>NaN</td>\n    </tr>\n    <tr>\n      <th>Wales</th>\n      <td>NaN</td>\n      <td>NaN</td>\n      <td>4.0</td>\n    </tr>\n  </tbody>\n</table>\n</div>"
     },
     "execution_count": 80,
     "metadata": {},
     "output_type": "execute_result"
    }
   ],
   "source": [
    "df_resultados_aux.pivot_table(index=\"home_team\", values=\"tournament\", columns=\"Ganhou?\", aggfunc=\"count\")"
   ],
   "metadata": {
    "collapsed": false,
    "ExecuteTime": {
     "end_time": "2023-07-23T02:27:18.503733800Z",
     "start_time": "2023-07-23T02:27:18.422788400Z"
    }
   }
  },
  {
   "cell_type": "markdown",
   "source": [
    "## 5.5 Depara/procv com dicionário"
   ],
   "metadata": {
    "collapsed": false
   }
  },
  {
   "cell_type": "markdown",
   "source": [
    "Como demonstrado na seção 4.2, também é possível fazer o depara/procv com .merge()"
   ],
   "metadata": {
    "collapsed": false
   }
  },
  {
   "cell_type": "code",
   "execution_count": 134,
   "outputs": [
    {
     "data": {
      "text/plain": "          date         home_team away_team  home_score  away_score tournament  \\\n0   1872-11-30          Scotland   England           0           0   Friendly   \n1   1873-03-08           England  Scotland           4           2   Friendly   \n2   1874-03-07          Scotland   England           2           1   Friendly   \n3   1875-03-06           England  Scotland           2           2   Friendly   \n4   1876-03-04          Scotland   England           3           0   Friendly   \n5   1876-03-25          Scotland     Wales           4           0   Friendly   \n6   1877-03-03           England  Scotland           1           3   Friendly   \n7   1877-03-05             Wales  Scotland           0           2   Friendly   \n8   1878-03-02          Scotland   England           7           2   Friendly   \n9   1878-03-23          Scotland     Wales           9           0   Friendly   \n10  1879-01-18           England     Wales           2           1   Friendly   \n11  1879-04-05           England  Scotland           5           4   Friendly   \n12  1879-04-07             Wales  Scotland           0           3   Friendly   \n13  1880-03-13          Scotland   England           5           4   Friendly   \n14  1880-03-15             Wales   England           2           3   Friendly   \n15  1880-03-27          Scotland     Wales           5           1   Friendly   \n16  1881-02-26           England     Wales           0           1   Friendly   \n17  1881-03-12           England  Scotland           1           6   Friendly   \n18  1881-03-14             Wales  Scotland           1           5   Friendly   \n19  1882-02-18  Northern Ireland   England           0          13   Friendly   \n\n         city   country  neutral          Tradução  \n0     Glasgow  Scotland    False           Escócia  \n1      London   England    False        Inglaterra  \n2     Glasgow  Scotland    False           Escócia  \n3      London   England    False        Inglaterra  \n4     Glasgow  Scotland    False           Escócia  \n5     Glasgow  Scotland    False           Escócia  \n6      London   England    False        Inglaterra  \n7     Wrexham     Wales    False     País de Gales  \n8     Glasgow  Scotland    False           Escócia  \n9     Glasgow  Scotland    False           Escócia  \n10     London   England    False        Inglaterra  \n11     London   England    False        Inglaterra  \n12    Wrexham     Wales    False     País de Gales  \n13    Glasgow  Scotland    False           Escócia  \n14    Wrexham     Wales    False     País de Gales  \n15    Glasgow  Scotland    False           Escócia  \n16  Blackburn   England    False        Inglaterra  \n17     London   England    False        Inglaterra  \n18    Wrexham     Wales    False     País de Gales  \n19    Belfast   Ireland    False  Irlanda do Norte  ",
      "text/html": "<div>\n<style scoped>\n    .dataframe tbody tr th:only-of-type {\n        vertical-align: middle;\n    }\n\n    .dataframe tbody tr th {\n        vertical-align: top;\n    }\n\n    .dataframe thead th {\n        text-align: right;\n    }\n</style>\n<table border=\"1\" class=\"dataframe\">\n  <thead>\n    <tr style=\"text-align: right;\">\n      <th></th>\n      <th>date</th>\n      <th>home_team</th>\n      <th>away_team</th>\n      <th>home_score</th>\n      <th>away_score</th>\n      <th>tournament</th>\n      <th>city</th>\n      <th>country</th>\n      <th>neutral</th>\n      <th>Tradução</th>\n    </tr>\n  </thead>\n  <tbody>\n    <tr>\n      <th>0</th>\n      <td>1872-11-30</td>\n      <td>Scotland</td>\n      <td>England</td>\n      <td>0</td>\n      <td>0</td>\n      <td>Friendly</td>\n      <td>Glasgow</td>\n      <td>Scotland</td>\n      <td>False</td>\n      <td>Escócia</td>\n    </tr>\n    <tr>\n      <th>1</th>\n      <td>1873-03-08</td>\n      <td>England</td>\n      <td>Scotland</td>\n      <td>4</td>\n      <td>2</td>\n      <td>Friendly</td>\n      <td>London</td>\n      <td>England</td>\n      <td>False</td>\n      <td>Inglaterra</td>\n    </tr>\n    <tr>\n      <th>2</th>\n      <td>1874-03-07</td>\n      <td>Scotland</td>\n      <td>England</td>\n      <td>2</td>\n      <td>1</td>\n      <td>Friendly</td>\n      <td>Glasgow</td>\n      <td>Scotland</td>\n      <td>False</td>\n      <td>Escócia</td>\n    </tr>\n    <tr>\n      <th>3</th>\n      <td>1875-03-06</td>\n      <td>England</td>\n      <td>Scotland</td>\n      <td>2</td>\n      <td>2</td>\n      <td>Friendly</td>\n      <td>London</td>\n      <td>England</td>\n      <td>False</td>\n      <td>Inglaterra</td>\n    </tr>\n    <tr>\n      <th>4</th>\n      <td>1876-03-04</td>\n      <td>Scotland</td>\n      <td>England</td>\n      <td>3</td>\n      <td>0</td>\n      <td>Friendly</td>\n      <td>Glasgow</td>\n      <td>Scotland</td>\n      <td>False</td>\n      <td>Escócia</td>\n    </tr>\n    <tr>\n      <th>5</th>\n      <td>1876-03-25</td>\n      <td>Scotland</td>\n      <td>Wales</td>\n      <td>4</td>\n      <td>0</td>\n      <td>Friendly</td>\n      <td>Glasgow</td>\n      <td>Scotland</td>\n      <td>False</td>\n      <td>Escócia</td>\n    </tr>\n    <tr>\n      <th>6</th>\n      <td>1877-03-03</td>\n      <td>England</td>\n      <td>Scotland</td>\n      <td>1</td>\n      <td>3</td>\n      <td>Friendly</td>\n      <td>London</td>\n      <td>England</td>\n      <td>False</td>\n      <td>Inglaterra</td>\n    </tr>\n    <tr>\n      <th>7</th>\n      <td>1877-03-05</td>\n      <td>Wales</td>\n      <td>Scotland</td>\n      <td>0</td>\n      <td>2</td>\n      <td>Friendly</td>\n      <td>Wrexham</td>\n      <td>Wales</td>\n      <td>False</td>\n      <td>País de Gales</td>\n    </tr>\n    <tr>\n      <th>8</th>\n      <td>1878-03-02</td>\n      <td>Scotland</td>\n      <td>England</td>\n      <td>7</td>\n      <td>2</td>\n      <td>Friendly</td>\n      <td>Glasgow</td>\n      <td>Scotland</td>\n      <td>False</td>\n      <td>Escócia</td>\n    </tr>\n    <tr>\n      <th>9</th>\n      <td>1878-03-23</td>\n      <td>Scotland</td>\n      <td>Wales</td>\n      <td>9</td>\n      <td>0</td>\n      <td>Friendly</td>\n      <td>Glasgow</td>\n      <td>Scotland</td>\n      <td>False</td>\n      <td>Escócia</td>\n    </tr>\n    <tr>\n      <th>10</th>\n      <td>1879-01-18</td>\n      <td>England</td>\n      <td>Wales</td>\n      <td>2</td>\n      <td>1</td>\n      <td>Friendly</td>\n      <td>London</td>\n      <td>England</td>\n      <td>False</td>\n      <td>Inglaterra</td>\n    </tr>\n    <tr>\n      <th>11</th>\n      <td>1879-04-05</td>\n      <td>England</td>\n      <td>Scotland</td>\n      <td>5</td>\n      <td>4</td>\n      <td>Friendly</td>\n      <td>London</td>\n      <td>England</td>\n      <td>False</td>\n      <td>Inglaterra</td>\n    </tr>\n    <tr>\n      <th>12</th>\n      <td>1879-04-07</td>\n      <td>Wales</td>\n      <td>Scotland</td>\n      <td>0</td>\n      <td>3</td>\n      <td>Friendly</td>\n      <td>Wrexham</td>\n      <td>Wales</td>\n      <td>False</td>\n      <td>País de Gales</td>\n    </tr>\n    <tr>\n      <th>13</th>\n      <td>1880-03-13</td>\n      <td>Scotland</td>\n      <td>England</td>\n      <td>5</td>\n      <td>4</td>\n      <td>Friendly</td>\n      <td>Glasgow</td>\n      <td>Scotland</td>\n      <td>False</td>\n      <td>Escócia</td>\n    </tr>\n    <tr>\n      <th>14</th>\n      <td>1880-03-15</td>\n      <td>Wales</td>\n      <td>England</td>\n      <td>2</td>\n      <td>3</td>\n      <td>Friendly</td>\n      <td>Wrexham</td>\n      <td>Wales</td>\n      <td>False</td>\n      <td>País de Gales</td>\n    </tr>\n    <tr>\n      <th>15</th>\n      <td>1880-03-27</td>\n      <td>Scotland</td>\n      <td>Wales</td>\n      <td>5</td>\n      <td>1</td>\n      <td>Friendly</td>\n      <td>Glasgow</td>\n      <td>Scotland</td>\n      <td>False</td>\n      <td>Escócia</td>\n    </tr>\n    <tr>\n      <th>16</th>\n      <td>1881-02-26</td>\n      <td>England</td>\n      <td>Wales</td>\n      <td>0</td>\n      <td>1</td>\n      <td>Friendly</td>\n      <td>Blackburn</td>\n      <td>England</td>\n      <td>False</td>\n      <td>Inglaterra</td>\n    </tr>\n    <tr>\n      <th>17</th>\n      <td>1881-03-12</td>\n      <td>England</td>\n      <td>Scotland</td>\n      <td>1</td>\n      <td>6</td>\n      <td>Friendly</td>\n      <td>London</td>\n      <td>England</td>\n      <td>False</td>\n      <td>Inglaterra</td>\n    </tr>\n    <tr>\n      <th>18</th>\n      <td>1881-03-14</td>\n      <td>Wales</td>\n      <td>Scotland</td>\n      <td>1</td>\n      <td>5</td>\n      <td>Friendly</td>\n      <td>Wrexham</td>\n      <td>Wales</td>\n      <td>False</td>\n      <td>País de Gales</td>\n    </tr>\n    <tr>\n      <th>19</th>\n      <td>1882-02-18</td>\n      <td>Northern Ireland</td>\n      <td>England</td>\n      <td>0</td>\n      <td>13</td>\n      <td>Friendly</td>\n      <td>Belfast</td>\n      <td>Ireland</td>\n      <td>False</td>\n      <td>Irlanda do Norte</td>\n    </tr>\n  </tbody>\n</table>\n</div>"
     },
     "execution_count": 134,
     "metadata": {},
     "output_type": "execute_result"
    }
   ],
   "source": [
    "dict_tradutor = {\n",
    "    \"England\": \"Inglaterra\",\n",
    "    \"Northern Ireland\": \"Irlanda do Norte\",\n",
    "    \"Scotland\": \"Escócia\",\n",
    "    \"Wales\": \"País de Gales\"\n",
    "}\n",
    "\n",
    "df_resultados_aux = df_resultados_small.copy()\n",
    "\n",
    "df_resultados_aux[\"Tradução\"] = df_resultados_small[\"home_team\"].map(dict_tradutor)\n",
    "df_resultados_aux"
   ],
   "metadata": {
    "collapsed": false,
    "ExecuteTime": {
     "end_time": "2023-07-23T03:07:12.809085100Z",
     "start_time": "2023-07-23T03:07:12.743255600Z"
    }
   }
  },
  {
   "cell_type": "markdown",
   "source": [
    "## 5.6 Criação de chaves"
   ],
   "metadata": {
    "collapsed": false
   }
  },
  {
   "cell_type": "code",
   "execution_count": 125,
   "outputs": [
    {
     "data": {
      "text/plain": "          date         home_team away_team  home_score  away_score tournament  \\\n0   1872-11-30          Scotland   England           0           0   Friendly   \n1   1873-03-08           England  Scotland           4           2   Friendly   \n2   1874-03-07          Scotland   England           2           1   Friendly   \n3   1875-03-06           England  Scotland           2           2   Friendly   \n4   1876-03-04          Scotland   England           3           0   Friendly   \n5   1876-03-25          Scotland     Wales           4           0   Friendly   \n6   1877-03-03           England  Scotland           1           3   Friendly   \n7   1877-03-05             Wales  Scotland           0           2   Friendly   \n8   1878-03-02          Scotland   England           7           2   Friendly   \n9   1878-03-23          Scotland     Wales           9           0   Friendly   \n10  1879-01-18           England     Wales           2           1   Friendly   \n11  1879-04-05           England  Scotland           5           4   Friendly   \n12  1879-04-07             Wales  Scotland           0           3   Friendly   \n13  1880-03-13          Scotland   England           5           4   Friendly   \n14  1880-03-15             Wales   England           2           3   Friendly   \n15  1880-03-27          Scotland     Wales           5           1   Friendly   \n16  1881-02-26           England     Wales           0           1   Friendly   \n17  1881-03-12           England  Scotland           1           6   Friendly   \n18  1881-03-14             Wales  Scotland           1           5   Friendly   \n19  1882-02-18  Northern Ireland   England           0          13   Friendly   \n\n         city   country  neutral                        chave  \n0     Glasgow  Scotland    False          (Scotland, England)  \n1      London   England    False          (England, Scotland)  \n2     Glasgow  Scotland    False          (Scotland, England)  \n3      London   England    False          (England, Scotland)  \n4     Glasgow  Scotland    False          (Scotland, England)  \n5     Glasgow  Scotland    False            (Scotland, Wales)  \n6      London   England    False          (England, Scotland)  \n7     Wrexham     Wales    False            (Wales, Scotland)  \n8     Glasgow  Scotland    False          (Scotland, England)  \n9     Glasgow  Scotland    False            (Scotland, Wales)  \n10     London   England    False             (England, Wales)  \n11     London   England    False          (England, Scotland)  \n12    Wrexham     Wales    False            (Wales, Scotland)  \n13    Glasgow  Scotland    False          (Scotland, England)  \n14    Wrexham     Wales    False             (Wales, England)  \n15    Glasgow  Scotland    False            (Scotland, Wales)  \n16  Blackburn   England    False             (England, Wales)  \n17     London   England    False          (England, Scotland)  \n18    Wrexham     Wales    False            (Wales, Scotland)  \n19    Belfast   Ireland    False  (Northern Ireland, England)  ",
      "text/html": "<div>\n<style scoped>\n    .dataframe tbody tr th:only-of-type {\n        vertical-align: middle;\n    }\n\n    .dataframe tbody tr th {\n        vertical-align: top;\n    }\n\n    .dataframe thead th {\n        text-align: right;\n    }\n</style>\n<table border=\"1\" class=\"dataframe\">\n  <thead>\n    <tr style=\"text-align: right;\">\n      <th></th>\n      <th>date</th>\n      <th>home_team</th>\n      <th>away_team</th>\n      <th>home_score</th>\n      <th>away_score</th>\n      <th>tournament</th>\n      <th>city</th>\n      <th>country</th>\n      <th>neutral</th>\n      <th>chave</th>\n    </tr>\n  </thead>\n  <tbody>\n    <tr>\n      <th>0</th>\n      <td>1872-11-30</td>\n      <td>Scotland</td>\n      <td>England</td>\n      <td>0</td>\n      <td>0</td>\n      <td>Friendly</td>\n      <td>Glasgow</td>\n      <td>Scotland</td>\n      <td>False</td>\n      <td>(Scotland, England)</td>\n    </tr>\n    <tr>\n      <th>1</th>\n      <td>1873-03-08</td>\n      <td>England</td>\n      <td>Scotland</td>\n      <td>4</td>\n      <td>2</td>\n      <td>Friendly</td>\n      <td>London</td>\n      <td>England</td>\n      <td>False</td>\n      <td>(England, Scotland)</td>\n    </tr>\n    <tr>\n      <th>2</th>\n      <td>1874-03-07</td>\n      <td>Scotland</td>\n      <td>England</td>\n      <td>2</td>\n      <td>1</td>\n      <td>Friendly</td>\n      <td>Glasgow</td>\n      <td>Scotland</td>\n      <td>False</td>\n      <td>(Scotland, England)</td>\n    </tr>\n    <tr>\n      <th>3</th>\n      <td>1875-03-06</td>\n      <td>England</td>\n      <td>Scotland</td>\n      <td>2</td>\n      <td>2</td>\n      <td>Friendly</td>\n      <td>London</td>\n      <td>England</td>\n      <td>False</td>\n      <td>(England, Scotland)</td>\n    </tr>\n    <tr>\n      <th>4</th>\n      <td>1876-03-04</td>\n      <td>Scotland</td>\n      <td>England</td>\n      <td>3</td>\n      <td>0</td>\n      <td>Friendly</td>\n      <td>Glasgow</td>\n      <td>Scotland</td>\n      <td>False</td>\n      <td>(Scotland, England)</td>\n    </tr>\n    <tr>\n      <th>5</th>\n      <td>1876-03-25</td>\n      <td>Scotland</td>\n      <td>Wales</td>\n      <td>4</td>\n      <td>0</td>\n      <td>Friendly</td>\n      <td>Glasgow</td>\n      <td>Scotland</td>\n      <td>False</td>\n      <td>(Scotland, Wales)</td>\n    </tr>\n    <tr>\n      <th>6</th>\n      <td>1877-03-03</td>\n      <td>England</td>\n      <td>Scotland</td>\n      <td>1</td>\n      <td>3</td>\n      <td>Friendly</td>\n      <td>London</td>\n      <td>England</td>\n      <td>False</td>\n      <td>(England, Scotland)</td>\n    </tr>\n    <tr>\n      <th>7</th>\n      <td>1877-03-05</td>\n      <td>Wales</td>\n      <td>Scotland</td>\n      <td>0</td>\n      <td>2</td>\n      <td>Friendly</td>\n      <td>Wrexham</td>\n      <td>Wales</td>\n      <td>False</td>\n      <td>(Wales, Scotland)</td>\n    </tr>\n    <tr>\n      <th>8</th>\n      <td>1878-03-02</td>\n      <td>Scotland</td>\n      <td>England</td>\n      <td>7</td>\n      <td>2</td>\n      <td>Friendly</td>\n      <td>Glasgow</td>\n      <td>Scotland</td>\n      <td>False</td>\n      <td>(Scotland, England)</td>\n    </tr>\n    <tr>\n      <th>9</th>\n      <td>1878-03-23</td>\n      <td>Scotland</td>\n      <td>Wales</td>\n      <td>9</td>\n      <td>0</td>\n      <td>Friendly</td>\n      <td>Glasgow</td>\n      <td>Scotland</td>\n      <td>False</td>\n      <td>(Scotland, Wales)</td>\n    </tr>\n    <tr>\n      <th>10</th>\n      <td>1879-01-18</td>\n      <td>England</td>\n      <td>Wales</td>\n      <td>2</td>\n      <td>1</td>\n      <td>Friendly</td>\n      <td>London</td>\n      <td>England</td>\n      <td>False</td>\n      <td>(England, Wales)</td>\n    </tr>\n    <tr>\n      <th>11</th>\n      <td>1879-04-05</td>\n      <td>England</td>\n      <td>Scotland</td>\n      <td>5</td>\n      <td>4</td>\n      <td>Friendly</td>\n      <td>London</td>\n      <td>England</td>\n      <td>False</td>\n      <td>(England, Scotland)</td>\n    </tr>\n    <tr>\n      <th>12</th>\n      <td>1879-04-07</td>\n      <td>Wales</td>\n      <td>Scotland</td>\n      <td>0</td>\n      <td>3</td>\n      <td>Friendly</td>\n      <td>Wrexham</td>\n      <td>Wales</td>\n      <td>False</td>\n      <td>(Wales, Scotland)</td>\n    </tr>\n    <tr>\n      <th>13</th>\n      <td>1880-03-13</td>\n      <td>Scotland</td>\n      <td>England</td>\n      <td>5</td>\n      <td>4</td>\n      <td>Friendly</td>\n      <td>Glasgow</td>\n      <td>Scotland</td>\n      <td>False</td>\n      <td>(Scotland, England)</td>\n    </tr>\n    <tr>\n      <th>14</th>\n      <td>1880-03-15</td>\n      <td>Wales</td>\n      <td>England</td>\n      <td>2</td>\n      <td>3</td>\n      <td>Friendly</td>\n      <td>Wrexham</td>\n      <td>Wales</td>\n      <td>False</td>\n      <td>(Wales, England)</td>\n    </tr>\n    <tr>\n      <th>15</th>\n      <td>1880-03-27</td>\n      <td>Scotland</td>\n      <td>Wales</td>\n      <td>5</td>\n      <td>1</td>\n      <td>Friendly</td>\n      <td>Glasgow</td>\n      <td>Scotland</td>\n      <td>False</td>\n      <td>(Scotland, Wales)</td>\n    </tr>\n    <tr>\n      <th>16</th>\n      <td>1881-02-26</td>\n      <td>England</td>\n      <td>Wales</td>\n      <td>0</td>\n      <td>1</td>\n      <td>Friendly</td>\n      <td>Blackburn</td>\n      <td>England</td>\n      <td>False</td>\n      <td>(England, Wales)</td>\n    </tr>\n    <tr>\n      <th>17</th>\n      <td>1881-03-12</td>\n      <td>England</td>\n      <td>Scotland</td>\n      <td>1</td>\n      <td>6</td>\n      <td>Friendly</td>\n      <td>London</td>\n      <td>England</td>\n      <td>False</td>\n      <td>(England, Scotland)</td>\n    </tr>\n    <tr>\n      <th>18</th>\n      <td>1881-03-14</td>\n      <td>Wales</td>\n      <td>Scotland</td>\n      <td>1</td>\n      <td>5</td>\n      <td>Friendly</td>\n      <td>Wrexham</td>\n      <td>Wales</td>\n      <td>False</td>\n      <td>(Wales, Scotland)</td>\n    </tr>\n    <tr>\n      <th>19</th>\n      <td>1882-02-18</td>\n      <td>Northern Ireland</td>\n      <td>England</td>\n      <td>0</td>\n      <td>13</td>\n      <td>Friendly</td>\n      <td>Belfast</td>\n      <td>Ireland</td>\n      <td>False</td>\n      <td>(Northern Ireland, England)</td>\n    </tr>\n  </tbody>\n</table>\n</div>"
     },
     "execution_count": 125,
     "metadata": {},
     "output_type": "execute_result"
    }
   ],
   "source": [
    "df_resultados_aux = df_resultados_small.copy()\n",
    "\n",
    "df_resultados_aux[\"chave\"] = list(zip(df_resultados_aux[\"home_team\"], df_resultados_aux[\"away_team\"]))\n",
    "df_resultados_aux"
   ],
   "metadata": {
    "collapsed": false,
    "ExecuteTime": {
     "end_time": "2023-07-23T03:03:57.655442500Z",
     "start_time": "2023-07-23T03:03:57.559289200Z"
    }
   }
  },
  {
   "cell_type": "code",
   "execution_count": 126,
   "outputs": [
    {
     "data": {
      "text/plain": "          date         home_team away_team  home_score  away_score tournament  \\\n0   1872-11-30          Scotland   England           0           0   Friendly   \n1   1873-03-08           England  Scotland           4           2   Friendly   \n2   1874-03-07          Scotland   England           2           1   Friendly   \n3   1875-03-06           England  Scotland           2           2   Friendly   \n4   1876-03-04          Scotland   England           3           0   Friendly   \n5   1876-03-25          Scotland     Wales           4           0   Friendly   \n6   1877-03-03           England  Scotland           1           3   Friendly   \n7   1877-03-05             Wales  Scotland           0           2   Friendly   \n8   1878-03-02          Scotland   England           7           2   Friendly   \n9   1878-03-23          Scotland     Wales           9           0   Friendly   \n10  1879-01-18           England     Wales           2           1   Friendly   \n11  1879-04-05           England  Scotland           5           4   Friendly   \n12  1879-04-07             Wales  Scotland           0           3   Friendly   \n13  1880-03-13          Scotland   England           5           4   Friendly   \n14  1880-03-15             Wales   England           2           3   Friendly   \n15  1880-03-27          Scotland     Wales           5           1   Friendly   \n16  1881-02-26           England     Wales           0           1   Friendly   \n17  1881-03-12           England  Scotland           1           6   Friendly   \n18  1881-03-14             Wales  Scotland           1           5   Friendly   \n19  1882-02-18  Northern Ireland   England           0          13   Friendly   \n\n         city   country  neutral                        chave ValorSelecionado  \n0     Glasgow  Scotland    False          (Scotland, England)          England  \n1      London   England    False          (England, Scotland)         Scotland  \n2     Glasgow  Scotland    False          (Scotland, England)          England  \n3      London   England    False          (England, Scotland)         Scotland  \n4     Glasgow  Scotland    False          (Scotland, England)          England  \n5     Glasgow  Scotland    False            (Scotland, Wales)            Wales  \n6      London   England    False          (England, Scotland)         Scotland  \n7     Wrexham     Wales    False            (Wales, Scotland)         Scotland  \n8     Glasgow  Scotland    False          (Scotland, England)          England  \n9     Glasgow  Scotland    False            (Scotland, Wales)            Wales  \n10     London   England    False             (England, Wales)            Wales  \n11     London   England    False          (England, Scotland)         Scotland  \n12    Wrexham     Wales    False            (Wales, Scotland)         Scotland  \n13    Glasgow  Scotland    False          (Scotland, England)          England  \n14    Wrexham     Wales    False             (Wales, England)          England  \n15    Glasgow  Scotland    False            (Scotland, Wales)            Wales  \n16  Blackburn   England    False             (England, Wales)            Wales  \n17     London   England    False          (England, Scotland)         Scotland  \n18    Wrexham     Wales    False            (Wales, Scotland)         Scotland  \n19    Belfast   Ireland    False  (Northern Ireland, England)          England  ",
      "text/html": "<div>\n<style scoped>\n    .dataframe tbody tr th:only-of-type {\n        vertical-align: middle;\n    }\n\n    .dataframe tbody tr th {\n        vertical-align: top;\n    }\n\n    .dataframe thead th {\n        text-align: right;\n    }\n</style>\n<table border=\"1\" class=\"dataframe\">\n  <thead>\n    <tr style=\"text-align: right;\">\n      <th></th>\n      <th>date</th>\n      <th>home_team</th>\n      <th>away_team</th>\n      <th>home_score</th>\n      <th>away_score</th>\n      <th>tournament</th>\n      <th>city</th>\n      <th>country</th>\n      <th>neutral</th>\n      <th>chave</th>\n      <th>ValorSelecionado</th>\n    </tr>\n  </thead>\n  <tbody>\n    <tr>\n      <th>0</th>\n      <td>1872-11-30</td>\n      <td>Scotland</td>\n      <td>England</td>\n      <td>0</td>\n      <td>0</td>\n      <td>Friendly</td>\n      <td>Glasgow</td>\n      <td>Scotland</td>\n      <td>False</td>\n      <td>(Scotland, England)</td>\n      <td>England</td>\n    </tr>\n    <tr>\n      <th>1</th>\n      <td>1873-03-08</td>\n      <td>England</td>\n      <td>Scotland</td>\n      <td>4</td>\n      <td>2</td>\n      <td>Friendly</td>\n      <td>London</td>\n      <td>England</td>\n      <td>False</td>\n      <td>(England, Scotland)</td>\n      <td>Scotland</td>\n    </tr>\n    <tr>\n      <th>2</th>\n      <td>1874-03-07</td>\n      <td>Scotland</td>\n      <td>England</td>\n      <td>2</td>\n      <td>1</td>\n      <td>Friendly</td>\n      <td>Glasgow</td>\n      <td>Scotland</td>\n      <td>False</td>\n      <td>(Scotland, England)</td>\n      <td>England</td>\n    </tr>\n    <tr>\n      <th>3</th>\n      <td>1875-03-06</td>\n      <td>England</td>\n      <td>Scotland</td>\n      <td>2</td>\n      <td>2</td>\n      <td>Friendly</td>\n      <td>London</td>\n      <td>England</td>\n      <td>False</td>\n      <td>(England, Scotland)</td>\n      <td>Scotland</td>\n    </tr>\n    <tr>\n      <th>4</th>\n      <td>1876-03-04</td>\n      <td>Scotland</td>\n      <td>England</td>\n      <td>3</td>\n      <td>0</td>\n      <td>Friendly</td>\n      <td>Glasgow</td>\n      <td>Scotland</td>\n      <td>False</td>\n      <td>(Scotland, England)</td>\n      <td>England</td>\n    </tr>\n    <tr>\n      <th>5</th>\n      <td>1876-03-25</td>\n      <td>Scotland</td>\n      <td>Wales</td>\n      <td>4</td>\n      <td>0</td>\n      <td>Friendly</td>\n      <td>Glasgow</td>\n      <td>Scotland</td>\n      <td>False</td>\n      <td>(Scotland, Wales)</td>\n      <td>Wales</td>\n    </tr>\n    <tr>\n      <th>6</th>\n      <td>1877-03-03</td>\n      <td>England</td>\n      <td>Scotland</td>\n      <td>1</td>\n      <td>3</td>\n      <td>Friendly</td>\n      <td>London</td>\n      <td>England</td>\n      <td>False</td>\n      <td>(England, Scotland)</td>\n      <td>Scotland</td>\n    </tr>\n    <tr>\n      <th>7</th>\n      <td>1877-03-05</td>\n      <td>Wales</td>\n      <td>Scotland</td>\n      <td>0</td>\n      <td>2</td>\n      <td>Friendly</td>\n      <td>Wrexham</td>\n      <td>Wales</td>\n      <td>False</td>\n      <td>(Wales, Scotland)</td>\n      <td>Scotland</td>\n    </tr>\n    <tr>\n      <th>8</th>\n      <td>1878-03-02</td>\n      <td>Scotland</td>\n      <td>England</td>\n      <td>7</td>\n      <td>2</td>\n      <td>Friendly</td>\n      <td>Glasgow</td>\n      <td>Scotland</td>\n      <td>False</td>\n      <td>(Scotland, England)</td>\n      <td>England</td>\n    </tr>\n    <tr>\n      <th>9</th>\n      <td>1878-03-23</td>\n      <td>Scotland</td>\n      <td>Wales</td>\n      <td>9</td>\n      <td>0</td>\n      <td>Friendly</td>\n      <td>Glasgow</td>\n      <td>Scotland</td>\n      <td>False</td>\n      <td>(Scotland, Wales)</td>\n      <td>Wales</td>\n    </tr>\n    <tr>\n      <th>10</th>\n      <td>1879-01-18</td>\n      <td>England</td>\n      <td>Wales</td>\n      <td>2</td>\n      <td>1</td>\n      <td>Friendly</td>\n      <td>London</td>\n      <td>England</td>\n      <td>False</td>\n      <td>(England, Wales)</td>\n      <td>Wales</td>\n    </tr>\n    <tr>\n      <th>11</th>\n      <td>1879-04-05</td>\n      <td>England</td>\n      <td>Scotland</td>\n      <td>5</td>\n      <td>4</td>\n      <td>Friendly</td>\n      <td>London</td>\n      <td>England</td>\n      <td>False</td>\n      <td>(England, Scotland)</td>\n      <td>Scotland</td>\n    </tr>\n    <tr>\n      <th>12</th>\n      <td>1879-04-07</td>\n      <td>Wales</td>\n      <td>Scotland</td>\n      <td>0</td>\n      <td>3</td>\n      <td>Friendly</td>\n      <td>Wrexham</td>\n      <td>Wales</td>\n      <td>False</td>\n      <td>(Wales, Scotland)</td>\n      <td>Scotland</td>\n    </tr>\n    <tr>\n      <th>13</th>\n      <td>1880-03-13</td>\n      <td>Scotland</td>\n      <td>England</td>\n      <td>5</td>\n      <td>4</td>\n      <td>Friendly</td>\n      <td>Glasgow</td>\n      <td>Scotland</td>\n      <td>False</td>\n      <td>(Scotland, England)</td>\n      <td>England</td>\n    </tr>\n    <tr>\n      <th>14</th>\n      <td>1880-03-15</td>\n      <td>Wales</td>\n      <td>England</td>\n      <td>2</td>\n      <td>3</td>\n      <td>Friendly</td>\n      <td>Wrexham</td>\n      <td>Wales</td>\n      <td>False</td>\n      <td>(Wales, England)</td>\n      <td>England</td>\n    </tr>\n    <tr>\n      <th>15</th>\n      <td>1880-03-27</td>\n      <td>Scotland</td>\n      <td>Wales</td>\n      <td>5</td>\n      <td>1</td>\n      <td>Friendly</td>\n      <td>Glasgow</td>\n      <td>Scotland</td>\n      <td>False</td>\n      <td>(Scotland, Wales)</td>\n      <td>Wales</td>\n    </tr>\n    <tr>\n      <th>16</th>\n      <td>1881-02-26</td>\n      <td>England</td>\n      <td>Wales</td>\n      <td>0</td>\n      <td>1</td>\n      <td>Friendly</td>\n      <td>Blackburn</td>\n      <td>England</td>\n      <td>False</td>\n      <td>(England, Wales)</td>\n      <td>Wales</td>\n    </tr>\n    <tr>\n      <th>17</th>\n      <td>1881-03-12</td>\n      <td>England</td>\n      <td>Scotland</td>\n      <td>1</td>\n      <td>6</td>\n      <td>Friendly</td>\n      <td>London</td>\n      <td>England</td>\n      <td>False</td>\n      <td>(England, Scotland)</td>\n      <td>Scotland</td>\n    </tr>\n    <tr>\n      <th>18</th>\n      <td>1881-03-14</td>\n      <td>Wales</td>\n      <td>Scotland</td>\n      <td>1</td>\n      <td>5</td>\n      <td>Friendly</td>\n      <td>Wrexham</td>\n      <td>Wales</td>\n      <td>False</td>\n      <td>(Wales, Scotland)</td>\n      <td>Scotland</td>\n    </tr>\n    <tr>\n      <th>19</th>\n      <td>1882-02-18</td>\n      <td>Northern Ireland</td>\n      <td>England</td>\n      <td>0</td>\n      <td>13</td>\n      <td>Friendly</td>\n      <td>Belfast</td>\n      <td>Ireland</td>\n      <td>False</td>\n      <td>(Northern Ireland, England)</td>\n      <td>England</td>\n    </tr>\n  </tbody>\n</table>\n</div>"
     },
     "execution_count": 126,
     "metadata": {},
     "output_type": "execute_result"
    }
   ],
   "source": [
    "df_resultados_aux[\"ValorSelecionado\"] = df_resultados_aux[\"chave\"].str.get(1)\n",
    "\n",
    "df_resultados_aux"
   ],
   "metadata": {
    "collapsed": false,
    "ExecuteTime": {
     "end_time": "2023-07-23T03:03:57.928243100Z",
     "start_time": "2023-07-23T03:03:57.802256Z"
    }
   }
  },
  {
   "cell_type": "markdown",
   "source": [
    "## 5.7 Funções de strings em colunas"
   ],
   "metadata": {
    "collapsed": false
   }
  },
  {
   "cell_type": "code",
   "execution_count": 127,
   "outputs": [
    {
     "data": {
      "text/plain": "          date         home_team away_team  home_score  away_score tournament  \\\n0   1872-11-30          SCOTLAND   England           0           0   Friendly   \n1   1873-03-08           ENGLAND  Scotland           4           2   Friendly   \n2   1874-03-07          SCOTLAND   England           2           1   Friendly   \n3   1875-03-06           ENGLAND  Scotland           2           2   Friendly   \n4   1876-03-04          SCOTLAND   England           3           0   Friendly   \n5   1876-03-25          SCOTLAND     Wales           4           0   Friendly   \n6   1877-03-03           ENGLAND  Scotland           1           3   Friendly   \n7   1877-03-05             WALES  Scotland           0           2   Friendly   \n8   1878-03-02          SCOTLAND   England           7           2   Friendly   \n9   1878-03-23          SCOTLAND     Wales           9           0   Friendly   \n10  1879-01-18           ENGLAND     Wales           2           1   Friendly   \n11  1879-04-05           ENGLAND  Scotland           5           4   Friendly   \n12  1879-04-07             WALES  Scotland           0           3   Friendly   \n13  1880-03-13          SCOTLAND   England           5           4   Friendly   \n14  1880-03-15             WALES   England           2           3   Friendly   \n15  1880-03-27          SCOTLAND     Wales           5           1   Friendly   \n16  1881-02-26           ENGLAND     Wales           0           1   Friendly   \n17  1881-03-12           ENGLAND  Scotland           1           6   Friendly   \n18  1881-03-14             WALES  Scotland           1           5   Friendly   \n19  1882-02-18  NORTHERN IRELAND   England           0          13   Friendly   \n\n         city   country  neutral  \n0     Glasgow  Scotland    False  \n1      London   England    False  \n2     Glasgow  Scotland    False  \n3      London   England    False  \n4     Glasgow  Scotland    False  \n5     Glasgow  Scotland    False  \n6      London   England    False  \n7     Wrexham     Wales    False  \n8     Glasgow  Scotland    False  \n9     Glasgow  Scotland    False  \n10     London   England    False  \n11     London   England    False  \n12    Wrexham     Wales    False  \n13    Glasgow  Scotland    False  \n14    Wrexham     Wales    False  \n15    Glasgow  Scotland    False  \n16  Blackburn   England    False  \n17     London   England    False  \n18    Wrexham     Wales    False  \n19    Belfast   Ireland    False  ",
      "text/html": "<div>\n<style scoped>\n    .dataframe tbody tr th:only-of-type {\n        vertical-align: middle;\n    }\n\n    .dataframe tbody tr th {\n        vertical-align: top;\n    }\n\n    .dataframe thead th {\n        text-align: right;\n    }\n</style>\n<table border=\"1\" class=\"dataframe\">\n  <thead>\n    <tr style=\"text-align: right;\">\n      <th></th>\n      <th>date</th>\n      <th>home_team</th>\n      <th>away_team</th>\n      <th>home_score</th>\n      <th>away_score</th>\n      <th>tournament</th>\n      <th>city</th>\n      <th>country</th>\n      <th>neutral</th>\n    </tr>\n  </thead>\n  <tbody>\n    <tr>\n      <th>0</th>\n      <td>1872-11-30</td>\n      <td>SCOTLAND</td>\n      <td>England</td>\n      <td>0</td>\n      <td>0</td>\n      <td>Friendly</td>\n      <td>Glasgow</td>\n      <td>Scotland</td>\n      <td>False</td>\n    </tr>\n    <tr>\n      <th>1</th>\n      <td>1873-03-08</td>\n      <td>ENGLAND</td>\n      <td>Scotland</td>\n      <td>4</td>\n      <td>2</td>\n      <td>Friendly</td>\n      <td>London</td>\n      <td>England</td>\n      <td>False</td>\n    </tr>\n    <tr>\n      <th>2</th>\n      <td>1874-03-07</td>\n      <td>SCOTLAND</td>\n      <td>England</td>\n      <td>2</td>\n      <td>1</td>\n      <td>Friendly</td>\n      <td>Glasgow</td>\n      <td>Scotland</td>\n      <td>False</td>\n    </tr>\n    <tr>\n      <th>3</th>\n      <td>1875-03-06</td>\n      <td>ENGLAND</td>\n      <td>Scotland</td>\n      <td>2</td>\n      <td>2</td>\n      <td>Friendly</td>\n      <td>London</td>\n      <td>England</td>\n      <td>False</td>\n    </tr>\n    <tr>\n      <th>4</th>\n      <td>1876-03-04</td>\n      <td>SCOTLAND</td>\n      <td>England</td>\n      <td>3</td>\n      <td>0</td>\n      <td>Friendly</td>\n      <td>Glasgow</td>\n      <td>Scotland</td>\n      <td>False</td>\n    </tr>\n    <tr>\n      <th>5</th>\n      <td>1876-03-25</td>\n      <td>SCOTLAND</td>\n      <td>Wales</td>\n      <td>4</td>\n      <td>0</td>\n      <td>Friendly</td>\n      <td>Glasgow</td>\n      <td>Scotland</td>\n      <td>False</td>\n    </tr>\n    <tr>\n      <th>6</th>\n      <td>1877-03-03</td>\n      <td>ENGLAND</td>\n      <td>Scotland</td>\n      <td>1</td>\n      <td>3</td>\n      <td>Friendly</td>\n      <td>London</td>\n      <td>England</td>\n      <td>False</td>\n    </tr>\n    <tr>\n      <th>7</th>\n      <td>1877-03-05</td>\n      <td>WALES</td>\n      <td>Scotland</td>\n      <td>0</td>\n      <td>2</td>\n      <td>Friendly</td>\n      <td>Wrexham</td>\n      <td>Wales</td>\n      <td>False</td>\n    </tr>\n    <tr>\n      <th>8</th>\n      <td>1878-03-02</td>\n      <td>SCOTLAND</td>\n      <td>England</td>\n      <td>7</td>\n      <td>2</td>\n      <td>Friendly</td>\n      <td>Glasgow</td>\n      <td>Scotland</td>\n      <td>False</td>\n    </tr>\n    <tr>\n      <th>9</th>\n      <td>1878-03-23</td>\n      <td>SCOTLAND</td>\n      <td>Wales</td>\n      <td>9</td>\n      <td>0</td>\n      <td>Friendly</td>\n      <td>Glasgow</td>\n      <td>Scotland</td>\n      <td>False</td>\n    </tr>\n    <tr>\n      <th>10</th>\n      <td>1879-01-18</td>\n      <td>ENGLAND</td>\n      <td>Wales</td>\n      <td>2</td>\n      <td>1</td>\n      <td>Friendly</td>\n      <td>London</td>\n      <td>England</td>\n      <td>False</td>\n    </tr>\n    <tr>\n      <th>11</th>\n      <td>1879-04-05</td>\n      <td>ENGLAND</td>\n      <td>Scotland</td>\n      <td>5</td>\n      <td>4</td>\n      <td>Friendly</td>\n      <td>London</td>\n      <td>England</td>\n      <td>False</td>\n    </tr>\n    <tr>\n      <th>12</th>\n      <td>1879-04-07</td>\n      <td>WALES</td>\n      <td>Scotland</td>\n      <td>0</td>\n      <td>3</td>\n      <td>Friendly</td>\n      <td>Wrexham</td>\n      <td>Wales</td>\n      <td>False</td>\n    </tr>\n    <tr>\n      <th>13</th>\n      <td>1880-03-13</td>\n      <td>SCOTLAND</td>\n      <td>England</td>\n      <td>5</td>\n      <td>4</td>\n      <td>Friendly</td>\n      <td>Glasgow</td>\n      <td>Scotland</td>\n      <td>False</td>\n    </tr>\n    <tr>\n      <th>14</th>\n      <td>1880-03-15</td>\n      <td>WALES</td>\n      <td>England</td>\n      <td>2</td>\n      <td>3</td>\n      <td>Friendly</td>\n      <td>Wrexham</td>\n      <td>Wales</td>\n      <td>False</td>\n    </tr>\n    <tr>\n      <th>15</th>\n      <td>1880-03-27</td>\n      <td>SCOTLAND</td>\n      <td>Wales</td>\n      <td>5</td>\n      <td>1</td>\n      <td>Friendly</td>\n      <td>Glasgow</td>\n      <td>Scotland</td>\n      <td>False</td>\n    </tr>\n    <tr>\n      <th>16</th>\n      <td>1881-02-26</td>\n      <td>ENGLAND</td>\n      <td>Wales</td>\n      <td>0</td>\n      <td>1</td>\n      <td>Friendly</td>\n      <td>Blackburn</td>\n      <td>England</td>\n      <td>False</td>\n    </tr>\n    <tr>\n      <th>17</th>\n      <td>1881-03-12</td>\n      <td>ENGLAND</td>\n      <td>Scotland</td>\n      <td>1</td>\n      <td>6</td>\n      <td>Friendly</td>\n      <td>London</td>\n      <td>England</td>\n      <td>False</td>\n    </tr>\n    <tr>\n      <th>18</th>\n      <td>1881-03-14</td>\n      <td>WALES</td>\n      <td>Scotland</td>\n      <td>1</td>\n      <td>5</td>\n      <td>Friendly</td>\n      <td>Wrexham</td>\n      <td>Wales</td>\n      <td>False</td>\n    </tr>\n    <tr>\n      <th>19</th>\n      <td>1882-02-18</td>\n      <td>NORTHERN IRELAND</td>\n      <td>England</td>\n      <td>0</td>\n      <td>13</td>\n      <td>Friendly</td>\n      <td>Belfast</td>\n      <td>Ireland</td>\n      <td>False</td>\n    </tr>\n  </tbody>\n</table>\n</div>"
     },
     "execution_count": 127,
     "metadata": {},
     "output_type": "execute_result"
    }
   ],
   "source": [
    "df_resultados_aux = df_resultados_small.copy()\n",
    "\n",
    "df_resultados_aux[\"home_team\"] = df_resultados_aux[\"home_team\"].str.upper()\n",
    "\n",
    "df_resultados_aux"
   ],
   "metadata": {
    "collapsed": false,
    "ExecuteTime": {
     "end_time": "2023-07-23T03:04:00.569866500Z",
     "start_time": "2023-07-23T03:04:00.526539900Z"
    }
   }
  },
  {
   "cell_type": "code",
   "execution_count": 128,
   "outputs": [
    {
     "data": {
      "text/plain": "              date         home_team away_team  home_score  away_score  \\\n0   [1872, 11, 30]          Scotland   England           0           0   \n1   [1873, 03, 08]           England  Scotland           4           2   \n2   [1874, 03, 07]          Scotland   England           2           1   \n3   [1875, 03, 06]           England  Scotland           2           2   \n4   [1876, 03, 04]          Scotland   England           3           0   \n5   [1876, 03, 25]          Scotland     Wales           4           0   \n6   [1877, 03, 03]           England  Scotland           1           3   \n7   [1877, 03, 05]             Wales  Scotland           0           2   \n8   [1878, 03, 02]          Scotland   England           7           2   \n9   [1878, 03, 23]          Scotland     Wales           9           0   \n10  [1879, 01, 18]           England     Wales           2           1   \n11  [1879, 04, 05]           England  Scotland           5           4   \n12  [1879, 04, 07]             Wales  Scotland           0           3   \n13  [1880, 03, 13]          Scotland   England           5           4   \n14  [1880, 03, 15]             Wales   England           2           3   \n15  [1880, 03, 27]          Scotland     Wales           5           1   \n16  [1881, 02, 26]           England     Wales           0           1   \n17  [1881, 03, 12]           England  Scotland           1           6   \n18  [1881, 03, 14]             Wales  Scotland           1           5   \n19  [1882, 02, 18]  Northern Ireland   England           0          13   \n\n   tournament       city   country  neutral  \n0    Friendly    Glasgow  Scotland    False  \n1    Friendly     London   England    False  \n2    Friendly    Glasgow  Scotland    False  \n3    Friendly     London   England    False  \n4    Friendly    Glasgow  Scotland    False  \n5    Friendly    Glasgow  Scotland    False  \n6    Friendly     London   England    False  \n7    Friendly    Wrexham     Wales    False  \n8    Friendly    Glasgow  Scotland    False  \n9    Friendly    Glasgow  Scotland    False  \n10   Friendly     London   England    False  \n11   Friendly     London   England    False  \n12   Friendly    Wrexham     Wales    False  \n13   Friendly    Glasgow  Scotland    False  \n14   Friendly    Wrexham     Wales    False  \n15   Friendly    Glasgow  Scotland    False  \n16   Friendly  Blackburn   England    False  \n17   Friendly     London   England    False  \n18   Friendly    Wrexham     Wales    False  \n19   Friendly    Belfast   Ireland    False  ",
      "text/html": "<div>\n<style scoped>\n    .dataframe tbody tr th:only-of-type {\n        vertical-align: middle;\n    }\n\n    .dataframe tbody tr th {\n        vertical-align: top;\n    }\n\n    .dataframe thead th {\n        text-align: right;\n    }\n</style>\n<table border=\"1\" class=\"dataframe\">\n  <thead>\n    <tr style=\"text-align: right;\">\n      <th></th>\n      <th>date</th>\n      <th>home_team</th>\n      <th>away_team</th>\n      <th>home_score</th>\n      <th>away_score</th>\n      <th>tournament</th>\n      <th>city</th>\n      <th>country</th>\n      <th>neutral</th>\n    </tr>\n  </thead>\n  <tbody>\n    <tr>\n      <th>0</th>\n      <td>[1872, 11, 30]</td>\n      <td>Scotland</td>\n      <td>England</td>\n      <td>0</td>\n      <td>0</td>\n      <td>Friendly</td>\n      <td>Glasgow</td>\n      <td>Scotland</td>\n      <td>False</td>\n    </tr>\n    <tr>\n      <th>1</th>\n      <td>[1873, 03, 08]</td>\n      <td>England</td>\n      <td>Scotland</td>\n      <td>4</td>\n      <td>2</td>\n      <td>Friendly</td>\n      <td>London</td>\n      <td>England</td>\n      <td>False</td>\n    </tr>\n    <tr>\n      <th>2</th>\n      <td>[1874, 03, 07]</td>\n      <td>Scotland</td>\n      <td>England</td>\n      <td>2</td>\n      <td>1</td>\n      <td>Friendly</td>\n      <td>Glasgow</td>\n      <td>Scotland</td>\n      <td>False</td>\n    </tr>\n    <tr>\n      <th>3</th>\n      <td>[1875, 03, 06]</td>\n      <td>England</td>\n      <td>Scotland</td>\n      <td>2</td>\n      <td>2</td>\n      <td>Friendly</td>\n      <td>London</td>\n      <td>England</td>\n      <td>False</td>\n    </tr>\n    <tr>\n      <th>4</th>\n      <td>[1876, 03, 04]</td>\n      <td>Scotland</td>\n      <td>England</td>\n      <td>3</td>\n      <td>0</td>\n      <td>Friendly</td>\n      <td>Glasgow</td>\n      <td>Scotland</td>\n      <td>False</td>\n    </tr>\n    <tr>\n      <th>5</th>\n      <td>[1876, 03, 25]</td>\n      <td>Scotland</td>\n      <td>Wales</td>\n      <td>4</td>\n      <td>0</td>\n      <td>Friendly</td>\n      <td>Glasgow</td>\n      <td>Scotland</td>\n      <td>False</td>\n    </tr>\n    <tr>\n      <th>6</th>\n      <td>[1877, 03, 03]</td>\n      <td>England</td>\n      <td>Scotland</td>\n      <td>1</td>\n      <td>3</td>\n      <td>Friendly</td>\n      <td>London</td>\n      <td>England</td>\n      <td>False</td>\n    </tr>\n    <tr>\n      <th>7</th>\n      <td>[1877, 03, 05]</td>\n      <td>Wales</td>\n      <td>Scotland</td>\n      <td>0</td>\n      <td>2</td>\n      <td>Friendly</td>\n      <td>Wrexham</td>\n      <td>Wales</td>\n      <td>False</td>\n    </tr>\n    <tr>\n      <th>8</th>\n      <td>[1878, 03, 02]</td>\n      <td>Scotland</td>\n      <td>England</td>\n      <td>7</td>\n      <td>2</td>\n      <td>Friendly</td>\n      <td>Glasgow</td>\n      <td>Scotland</td>\n      <td>False</td>\n    </tr>\n    <tr>\n      <th>9</th>\n      <td>[1878, 03, 23]</td>\n      <td>Scotland</td>\n      <td>Wales</td>\n      <td>9</td>\n      <td>0</td>\n      <td>Friendly</td>\n      <td>Glasgow</td>\n      <td>Scotland</td>\n      <td>False</td>\n    </tr>\n    <tr>\n      <th>10</th>\n      <td>[1879, 01, 18]</td>\n      <td>England</td>\n      <td>Wales</td>\n      <td>2</td>\n      <td>1</td>\n      <td>Friendly</td>\n      <td>London</td>\n      <td>England</td>\n      <td>False</td>\n    </tr>\n    <tr>\n      <th>11</th>\n      <td>[1879, 04, 05]</td>\n      <td>England</td>\n      <td>Scotland</td>\n      <td>5</td>\n      <td>4</td>\n      <td>Friendly</td>\n      <td>London</td>\n      <td>England</td>\n      <td>False</td>\n    </tr>\n    <tr>\n      <th>12</th>\n      <td>[1879, 04, 07]</td>\n      <td>Wales</td>\n      <td>Scotland</td>\n      <td>0</td>\n      <td>3</td>\n      <td>Friendly</td>\n      <td>Wrexham</td>\n      <td>Wales</td>\n      <td>False</td>\n    </tr>\n    <tr>\n      <th>13</th>\n      <td>[1880, 03, 13]</td>\n      <td>Scotland</td>\n      <td>England</td>\n      <td>5</td>\n      <td>4</td>\n      <td>Friendly</td>\n      <td>Glasgow</td>\n      <td>Scotland</td>\n      <td>False</td>\n    </tr>\n    <tr>\n      <th>14</th>\n      <td>[1880, 03, 15]</td>\n      <td>Wales</td>\n      <td>England</td>\n      <td>2</td>\n      <td>3</td>\n      <td>Friendly</td>\n      <td>Wrexham</td>\n      <td>Wales</td>\n      <td>False</td>\n    </tr>\n    <tr>\n      <th>15</th>\n      <td>[1880, 03, 27]</td>\n      <td>Scotland</td>\n      <td>Wales</td>\n      <td>5</td>\n      <td>1</td>\n      <td>Friendly</td>\n      <td>Glasgow</td>\n      <td>Scotland</td>\n      <td>False</td>\n    </tr>\n    <tr>\n      <th>16</th>\n      <td>[1881, 02, 26]</td>\n      <td>England</td>\n      <td>Wales</td>\n      <td>0</td>\n      <td>1</td>\n      <td>Friendly</td>\n      <td>Blackburn</td>\n      <td>England</td>\n      <td>False</td>\n    </tr>\n    <tr>\n      <th>17</th>\n      <td>[1881, 03, 12]</td>\n      <td>England</td>\n      <td>Scotland</td>\n      <td>1</td>\n      <td>6</td>\n      <td>Friendly</td>\n      <td>London</td>\n      <td>England</td>\n      <td>False</td>\n    </tr>\n    <tr>\n      <th>18</th>\n      <td>[1881, 03, 14]</td>\n      <td>Wales</td>\n      <td>Scotland</td>\n      <td>1</td>\n      <td>5</td>\n      <td>Friendly</td>\n      <td>Wrexham</td>\n      <td>Wales</td>\n      <td>False</td>\n    </tr>\n    <tr>\n      <th>19</th>\n      <td>[1882, 02, 18]</td>\n      <td>Northern Ireland</td>\n      <td>England</td>\n      <td>0</td>\n      <td>13</td>\n      <td>Friendly</td>\n      <td>Belfast</td>\n      <td>Ireland</td>\n      <td>False</td>\n    </tr>\n  </tbody>\n</table>\n</div>"
     },
     "execution_count": 128,
     "metadata": {},
     "output_type": "execute_result"
    }
   ],
   "source": [
    "df_resultados_aux = df_resultados_small.copy()\n",
    "\n",
    "df_resultados_aux[\"date\"] = df_resultados_aux[\"date\"].str.split(\"-\")\n",
    "df_resultados_aux"
   ],
   "metadata": {
    "collapsed": false,
    "ExecuteTime": {
     "end_time": "2023-07-23T03:04:01.309695500Z",
     "start_time": "2023-07-23T03:04:01.202243700Z"
    }
   }
  },
  {
   "cell_type": "code",
   "execution_count": 129,
   "outputs": [
    {
     "data": {
      "text/plain": "              date         home_team away_team  home_score  away_score  \\\n0   [1872, 11, 30]          Scotland   England           0           0   \n1   [1873, 03, 08]           England  Scotland           4           2   \n2   [1874, 03, 07]          Scotland   England           2           1   \n3   [1875, 03, 06]           England  Scotland           2           2   \n4   [1876, 03, 04]          Scotland   England           3           0   \n5   [1876, 03, 25]          Scotland     Wales           4           0   \n6   [1877, 03, 03]           England  Scotland           1           3   \n7   [1877, 03, 05]             Wales  Scotland           0           2   \n8   [1878, 03, 02]          Scotland   England           7           2   \n9   [1878, 03, 23]          Scotland     Wales           9           0   \n10  [1879, 01, 18]           England     Wales           2           1   \n11  [1879, 04, 05]           England  Scotland           5           4   \n12  [1879, 04, 07]             Wales  Scotland           0           3   \n13  [1880, 03, 13]          Scotland   England           5           4   \n14  [1880, 03, 15]             Wales   England           2           3   \n15  [1880, 03, 27]          Scotland     Wales           5           1   \n16  [1881, 02, 26]           England     Wales           0           1   \n17  [1881, 03, 12]           England  Scotland           1           6   \n18  [1881, 03, 14]             Wales  Scotland           1           5   \n19  [1882, 02, 18]  Northern Ireland   England           0          13   \n\n   tournament       city   country  neutral dia  \n0    Friendly    Glasgow  Scotland    False  30  \n1    Friendly     London   England    False  08  \n2    Friendly    Glasgow  Scotland    False  07  \n3    Friendly     London   England    False  06  \n4    Friendly    Glasgow  Scotland    False  04  \n5    Friendly    Glasgow  Scotland    False  25  \n6    Friendly     London   England    False  03  \n7    Friendly    Wrexham     Wales    False  05  \n8    Friendly    Glasgow  Scotland    False  02  \n9    Friendly    Glasgow  Scotland    False  23  \n10   Friendly     London   England    False  18  \n11   Friendly     London   England    False  05  \n12   Friendly    Wrexham     Wales    False  07  \n13   Friendly    Glasgow  Scotland    False  13  \n14   Friendly    Wrexham     Wales    False  15  \n15   Friendly    Glasgow  Scotland    False  27  \n16   Friendly  Blackburn   England    False  26  \n17   Friendly     London   England    False  12  \n18   Friendly    Wrexham     Wales    False  14  \n19   Friendly    Belfast   Ireland    False  18  ",
      "text/html": "<div>\n<style scoped>\n    .dataframe tbody tr th:only-of-type {\n        vertical-align: middle;\n    }\n\n    .dataframe tbody tr th {\n        vertical-align: top;\n    }\n\n    .dataframe thead th {\n        text-align: right;\n    }\n</style>\n<table border=\"1\" class=\"dataframe\">\n  <thead>\n    <tr style=\"text-align: right;\">\n      <th></th>\n      <th>date</th>\n      <th>home_team</th>\n      <th>away_team</th>\n      <th>home_score</th>\n      <th>away_score</th>\n      <th>tournament</th>\n      <th>city</th>\n      <th>country</th>\n      <th>neutral</th>\n      <th>dia</th>\n    </tr>\n  </thead>\n  <tbody>\n    <tr>\n      <th>0</th>\n      <td>[1872, 11, 30]</td>\n      <td>Scotland</td>\n      <td>England</td>\n      <td>0</td>\n      <td>0</td>\n      <td>Friendly</td>\n      <td>Glasgow</td>\n      <td>Scotland</td>\n      <td>False</td>\n      <td>30</td>\n    </tr>\n    <tr>\n      <th>1</th>\n      <td>[1873, 03, 08]</td>\n      <td>England</td>\n      <td>Scotland</td>\n      <td>4</td>\n      <td>2</td>\n      <td>Friendly</td>\n      <td>London</td>\n      <td>England</td>\n      <td>False</td>\n      <td>08</td>\n    </tr>\n    <tr>\n      <th>2</th>\n      <td>[1874, 03, 07]</td>\n      <td>Scotland</td>\n      <td>England</td>\n      <td>2</td>\n      <td>1</td>\n      <td>Friendly</td>\n      <td>Glasgow</td>\n      <td>Scotland</td>\n      <td>False</td>\n      <td>07</td>\n    </tr>\n    <tr>\n      <th>3</th>\n      <td>[1875, 03, 06]</td>\n      <td>England</td>\n      <td>Scotland</td>\n      <td>2</td>\n      <td>2</td>\n      <td>Friendly</td>\n      <td>London</td>\n      <td>England</td>\n      <td>False</td>\n      <td>06</td>\n    </tr>\n    <tr>\n      <th>4</th>\n      <td>[1876, 03, 04]</td>\n      <td>Scotland</td>\n      <td>England</td>\n      <td>3</td>\n      <td>0</td>\n      <td>Friendly</td>\n      <td>Glasgow</td>\n      <td>Scotland</td>\n      <td>False</td>\n      <td>04</td>\n    </tr>\n    <tr>\n      <th>5</th>\n      <td>[1876, 03, 25]</td>\n      <td>Scotland</td>\n      <td>Wales</td>\n      <td>4</td>\n      <td>0</td>\n      <td>Friendly</td>\n      <td>Glasgow</td>\n      <td>Scotland</td>\n      <td>False</td>\n      <td>25</td>\n    </tr>\n    <tr>\n      <th>6</th>\n      <td>[1877, 03, 03]</td>\n      <td>England</td>\n      <td>Scotland</td>\n      <td>1</td>\n      <td>3</td>\n      <td>Friendly</td>\n      <td>London</td>\n      <td>England</td>\n      <td>False</td>\n      <td>03</td>\n    </tr>\n    <tr>\n      <th>7</th>\n      <td>[1877, 03, 05]</td>\n      <td>Wales</td>\n      <td>Scotland</td>\n      <td>0</td>\n      <td>2</td>\n      <td>Friendly</td>\n      <td>Wrexham</td>\n      <td>Wales</td>\n      <td>False</td>\n      <td>05</td>\n    </tr>\n    <tr>\n      <th>8</th>\n      <td>[1878, 03, 02]</td>\n      <td>Scotland</td>\n      <td>England</td>\n      <td>7</td>\n      <td>2</td>\n      <td>Friendly</td>\n      <td>Glasgow</td>\n      <td>Scotland</td>\n      <td>False</td>\n      <td>02</td>\n    </tr>\n    <tr>\n      <th>9</th>\n      <td>[1878, 03, 23]</td>\n      <td>Scotland</td>\n      <td>Wales</td>\n      <td>9</td>\n      <td>0</td>\n      <td>Friendly</td>\n      <td>Glasgow</td>\n      <td>Scotland</td>\n      <td>False</td>\n      <td>23</td>\n    </tr>\n    <tr>\n      <th>10</th>\n      <td>[1879, 01, 18]</td>\n      <td>England</td>\n      <td>Wales</td>\n      <td>2</td>\n      <td>1</td>\n      <td>Friendly</td>\n      <td>London</td>\n      <td>England</td>\n      <td>False</td>\n      <td>18</td>\n    </tr>\n    <tr>\n      <th>11</th>\n      <td>[1879, 04, 05]</td>\n      <td>England</td>\n      <td>Scotland</td>\n      <td>5</td>\n      <td>4</td>\n      <td>Friendly</td>\n      <td>London</td>\n      <td>England</td>\n      <td>False</td>\n      <td>05</td>\n    </tr>\n    <tr>\n      <th>12</th>\n      <td>[1879, 04, 07]</td>\n      <td>Wales</td>\n      <td>Scotland</td>\n      <td>0</td>\n      <td>3</td>\n      <td>Friendly</td>\n      <td>Wrexham</td>\n      <td>Wales</td>\n      <td>False</td>\n      <td>07</td>\n    </tr>\n    <tr>\n      <th>13</th>\n      <td>[1880, 03, 13]</td>\n      <td>Scotland</td>\n      <td>England</td>\n      <td>5</td>\n      <td>4</td>\n      <td>Friendly</td>\n      <td>Glasgow</td>\n      <td>Scotland</td>\n      <td>False</td>\n      <td>13</td>\n    </tr>\n    <tr>\n      <th>14</th>\n      <td>[1880, 03, 15]</td>\n      <td>Wales</td>\n      <td>England</td>\n      <td>2</td>\n      <td>3</td>\n      <td>Friendly</td>\n      <td>Wrexham</td>\n      <td>Wales</td>\n      <td>False</td>\n      <td>15</td>\n    </tr>\n    <tr>\n      <th>15</th>\n      <td>[1880, 03, 27]</td>\n      <td>Scotland</td>\n      <td>Wales</td>\n      <td>5</td>\n      <td>1</td>\n      <td>Friendly</td>\n      <td>Glasgow</td>\n      <td>Scotland</td>\n      <td>False</td>\n      <td>27</td>\n    </tr>\n    <tr>\n      <th>16</th>\n      <td>[1881, 02, 26]</td>\n      <td>England</td>\n      <td>Wales</td>\n      <td>0</td>\n      <td>1</td>\n      <td>Friendly</td>\n      <td>Blackburn</td>\n      <td>England</td>\n      <td>False</td>\n      <td>26</td>\n    </tr>\n    <tr>\n      <th>17</th>\n      <td>[1881, 03, 12]</td>\n      <td>England</td>\n      <td>Scotland</td>\n      <td>1</td>\n      <td>6</td>\n      <td>Friendly</td>\n      <td>London</td>\n      <td>England</td>\n      <td>False</td>\n      <td>12</td>\n    </tr>\n    <tr>\n      <th>18</th>\n      <td>[1881, 03, 14]</td>\n      <td>Wales</td>\n      <td>Scotland</td>\n      <td>1</td>\n      <td>5</td>\n      <td>Friendly</td>\n      <td>Wrexham</td>\n      <td>Wales</td>\n      <td>False</td>\n      <td>14</td>\n    </tr>\n    <tr>\n      <th>19</th>\n      <td>[1882, 02, 18]</td>\n      <td>Northern Ireland</td>\n      <td>England</td>\n      <td>0</td>\n      <td>13</td>\n      <td>Friendly</td>\n      <td>Belfast</td>\n      <td>Ireland</td>\n      <td>False</td>\n      <td>18</td>\n    </tr>\n  </tbody>\n</table>\n</div>"
     },
     "execution_count": 129,
     "metadata": {},
     "output_type": "execute_result"
    }
   ],
   "source": [
    "df_resultados_aux[\"dia\"] = df_resultados_aux[\"date\"].str.get(2)\n",
    "df_resultados_aux"
   ],
   "metadata": {
    "collapsed": false,
    "ExecuteTime": {
     "end_time": "2023-07-23T03:04:02.368988100Z",
     "start_time": "2023-07-23T03:04:02.226577600Z"
    }
   }
  },
  {
   "cell_type": "markdown",
   "source": [
    "## 5.8 Conversões"
   ],
   "metadata": {
    "collapsed": false
   }
  },
  {
   "cell_type": "code",
   "execution_count": 130,
   "outputs": [
    {
     "name": "stdout",
     "output_type": "stream",
     "text": [
      "Tipo de variável pré conversão: int64\n",
      "Tipo de variável pós conversão: object\n"
     ]
    }
   ],
   "source": [
    "df_resultados_aux = df_resultados_small.copy()\n",
    "\n",
    "print(f\"Tipo de variável pré conversão: {df_resultados_aux['home_score'].dtype}\")\n",
    "\n",
    "df_resultados_aux[\"home_score\"] = df_resultados_aux[\"home_score\"].astype(str)\n",
    "\n",
    "print(f\"Tipo de variável pós conversão: {df_resultados_aux['home_score'].dtype}\")"
   ],
   "metadata": {
    "collapsed": false,
    "ExecuteTime": {
     "end_time": "2023-07-23T03:04:05.552363Z",
     "start_time": "2023-07-23T03:04:05.508324600Z"
    }
   }
  },
  {
   "cell_type": "markdown",
   "source": [
    "## 5.9 Funções de data"
   ],
   "metadata": {
    "collapsed": false
   }
  },
  {
   "cell_type": "code",
   "execution_count": 131,
   "outputs": [
    {
     "name": "stdout",
     "output_type": "stream",
     "text": [
      "Tipo de variável pré conversão: object\n",
      "Tipo de variável pós conversão: datetime64[ns]\n"
     ]
    },
    {
     "data": {
      "text/plain": "         date         home_team away_team  home_score  away_score tournament  \\\n0  1872-11-30          Scotland   England           0           0   Friendly   \n1  1873-03-08           England  Scotland           4           2   Friendly   \n2  1874-03-07          Scotland   England           2           1   Friendly   \n3  1875-03-06           England  Scotland           2           2   Friendly   \n4  1876-03-04          Scotland   England           3           0   Friendly   \n5  1876-03-25          Scotland     Wales           4           0   Friendly   \n6  1877-03-03           England  Scotland           1           3   Friendly   \n7  1877-03-05             Wales  Scotland           0           2   Friendly   \n8  1878-03-02          Scotland   England           7           2   Friendly   \n9  1878-03-23          Scotland     Wales           9           0   Friendly   \n10 1879-01-18           England     Wales           2           1   Friendly   \n11 1879-04-05           England  Scotland           5           4   Friendly   \n12 1879-04-07             Wales  Scotland           0           3   Friendly   \n13 1880-03-13          Scotland   England           5           4   Friendly   \n14 1880-03-15             Wales   England           2           3   Friendly   \n15 1880-03-27          Scotland     Wales           5           1   Friendly   \n16 1881-02-26           England     Wales           0           1   Friendly   \n17 1881-03-12           England  Scotland           1           6   Friendly   \n18 1881-03-14             Wales  Scotland           1           5   Friendly   \n19 1882-02-18  Northern Ireland   England           0          13   Friendly   \n\n         city   country  neutral  \n0     Glasgow  Scotland    False  \n1      London   England    False  \n2     Glasgow  Scotland    False  \n3      London   England    False  \n4     Glasgow  Scotland    False  \n5     Glasgow  Scotland    False  \n6      London   England    False  \n7     Wrexham     Wales    False  \n8     Glasgow  Scotland    False  \n9     Glasgow  Scotland    False  \n10     London   England    False  \n11     London   England    False  \n12    Wrexham     Wales    False  \n13    Glasgow  Scotland    False  \n14    Wrexham     Wales    False  \n15    Glasgow  Scotland    False  \n16  Blackburn   England    False  \n17     London   England    False  \n18    Wrexham     Wales    False  \n19    Belfast   Ireland    False  ",
      "text/html": "<div>\n<style scoped>\n    .dataframe tbody tr th:only-of-type {\n        vertical-align: middle;\n    }\n\n    .dataframe tbody tr th {\n        vertical-align: top;\n    }\n\n    .dataframe thead th {\n        text-align: right;\n    }\n</style>\n<table border=\"1\" class=\"dataframe\">\n  <thead>\n    <tr style=\"text-align: right;\">\n      <th></th>\n      <th>date</th>\n      <th>home_team</th>\n      <th>away_team</th>\n      <th>home_score</th>\n      <th>away_score</th>\n      <th>tournament</th>\n      <th>city</th>\n      <th>country</th>\n      <th>neutral</th>\n    </tr>\n  </thead>\n  <tbody>\n    <tr>\n      <th>0</th>\n      <td>1872-11-30</td>\n      <td>Scotland</td>\n      <td>England</td>\n      <td>0</td>\n      <td>0</td>\n      <td>Friendly</td>\n      <td>Glasgow</td>\n      <td>Scotland</td>\n      <td>False</td>\n    </tr>\n    <tr>\n      <th>1</th>\n      <td>1873-03-08</td>\n      <td>England</td>\n      <td>Scotland</td>\n      <td>4</td>\n      <td>2</td>\n      <td>Friendly</td>\n      <td>London</td>\n      <td>England</td>\n      <td>False</td>\n    </tr>\n    <tr>\n      <th>2</th>\n      <td>1874-03-07</td>\n      <td>Scotland</td>\n      <td>England</td>\n      <td>2</td>\n      <td>1</td>\n      <td>Friendly</td>\n      <td>Glasgow</td>\n      <td>Scotland</td>\n      <td>False</td>\n    </tr>\n    <tr>\n      <th>3</th>\n      <td>1875-03-06</td>\n      <td>England</td>\n      <td>Scotland</td>\n      <td>2</td>\n      <td>2</td>\n      <td>Friendly</td>\n      <td>London</td>\n      <td>England</td>\n      <td>False</td>\n    </tr>\n    <tr>\n      <th>4</th>\n      <td>1876-03-04</td>\n      <td>Scotland</td>\n      <td>England</td>\n      <td>3</td>\n      <td>0</td>\n      <td>Friendly</td>\n      <td>Glasgow</td>\n      <td>Scotland</td>\n      <td>False</td>\n    </tr>\n    <tr>\n      <th>5</th>\n      <td>1876-03-25</td>\n      <td>Scotland</td>\n      <td>Wales</td>\n      <td>4</td>\n      <td>0</td>\n      <td>Friendly</td>\n      <td>Glasgow</td>\n      <td>Scotland</td>\n      <td>False</td>\n    </tr>\n    <tr>\n      <th>6</th>\n      <td>1877-03-03</td>\n      <td>England</td>\n      <td>Scotland</td>\n      <td>1</td>\n      <td>3</td>\n      <td>Friendly</td>\n      <td>London</td>\n      <td>England</td>\n      <td>False</td>\n    </tr>\n    <tr>\n      <th>7</th>\n      <td>1877-03-05</td>\n      <td>Wales</td>\n      <td>Scotland</td>\n      <td>0</td>\n      <td>2</td>\n      <td>Friendly</td>\n      <td>Wrexham</td>\n      <td>Wales</td>\n      <td>False</td>\n    </tr>\n    <tr>\n      <th>8</th>\n      <td>1878-03-02</td>\n      <td>Scotland</td>\n      <td>England</td>\n      <td>7</td>\n      <td>2</td>\n      <td>Friendly</td>\n      <td>Glasgow</td>\n      <td>Scotland</td>\n      <td>False</td>\n    </tr>\n    <tr>\n      <th>9</th>\n      <td>1878-03-23</td>\n      <td>Scotland</td>\n      <td>Wales</td>\n      <td>9</td>\n      <td>0</td>\n      <td>Friendly</td>\n      <td>Glasgow</td>\n      <td>Scotland</td>\n      <td>False</td>\n    </tr>\n    <tr>\n      <th>10</th>\n      <td>1879-01-18</td>\n      <td>England</td>\n      <td>Wales</td>\n      <td>2</td>\n      <td>1</td>\n      <td>Friendly</td>\n      <td>London</td>\n      <td>England</td>\n      <td>False</td>\n    </tr>\n    <tr>\n      <th>11</th>\n      <td>1879-04-05</td>\n      <td>England</td>\n      <td>Scotland</td>\n      <td>5</td>\n      <td>4</td>\n      <td>Friendly</td>\n      <td>London</td>\n      <td>England</td>\n      <td>False</td>\n    </tr>\n    <tr>\n      <th>12</th>\n      <td>1879-04-07</td>\n      <td>Wales</td>\n      <td>Scotland</td>\n      <td>0</td>\n      <td>3</td>\n      <td>Friendly</td>\n      <td>Wrexham</td>\n      <td>Wales</td>\n      <td>False</td>\n    </tr>\n    <tr>\n      <th>13</th>\n      <td>1880-03-13</td>\n      <td>Scotland</td>\n      <td>England</td>\n      <td>5</td>\n      <td>4</td>\n      <td>Friendly</td>\n      <td>Glasgow</td>\n      <td>Scotland</td>\n      <td>False</td>\n    </tr>\n    <tr>\n      <th>14</th>\n      <td>1880-03-15</td>\n      <td>Wales</td>\n      <td>England</td>\n      <td>2</td>\n      <td>3</td>\n      <td>Friendly</td>\n      <td>Wrexham</td>\n      <td>Wales</td>\n      <td>False</td>\n    </tr>\n    <tr>\n      <th>15</th>\n      <td>1880-03-27</td>\n      <td>Scotland</td>\n      <td>Wales</td>\n      <td>5</td>\n      <td>1</td>\n      <td>Friendly</td>\n      <td>Glasgow</td>\n      <td>Scotland</td>\n      <td>False</td>\n    </tr>\n    <tr>\n      <th>16</th>\n      <td>1881-02-26</td>\n      <td>England</td>\n      <td>Wales</td>\n      <td>0</td>\n      <td>1</td>\n      <td>Friendly</td>\n      <td>Blackburn</td>\n      <td>England</td>\n      <td>False</td>\n    </tr>\n    <tr>\n      <th>17</th>\n      <td>1881-03-12</td>\n      <td>England</td>\n      <td>Scotland</td>\n      <td>1</td>\n      <td>6</td>\n      <td>Friendly</td>\n      <td>London</td>\n      <td>England</td>\n      <td>False</td>\n    </tr>\n    <tr>\n      <th>18</th>\n      <td>1881-03-14</td>\n      <td>Wales</td>\n      <td>Scotland</td>\n      <td>1</td>\n      <td>5</td>\n      <td>Friendly</td>\n      <td>Wrexham</td>\n      <td>Wales</td>\n      <td>False</td>\n    </tr>\n    <tr>\n      <th>19</th>\n      <td>1882-02-18</td>\n      <td>Northern Ireland</td>\n      <td>England</td>\n      <td>0</td>\n      <td>13</td>\n      <td>Friendly</td>\n      <td>Belfast</td>\n      <td>Ireland</td>\n      <td>False</td>\n    </tr>\n  </tbody>\n</table>\n</div>"
     },
     "execution_count": 131,
     "metadata": {},
     "output_type": "execute_result"
    }
   ],
   "source": [
    "df_resultados_aux = df_resultados_small.copy()\n",
    "\n",
    "print(f\"Tipo de variável pré conversão: {df_resultados_aux['date'].dtype}\")\n",
    "\n",
    "df_resultados_aux[\"date\"] = pd.to_datetime(df_resultados_aux[\"date\"], format=\"%Y-%m-%d\")\n",
    "\n",
    "print(f\"Tipo de variável pós conversão: {df_resultados_aux['date'].dtype}\")\n",
    "df_resultados_aux"
   ],
   "metadata": {
    "collapsed": false,
    "ExecuteTime": {
     "end_time": "2023-07-23T03:04:09.827479900Z",
     "start_time": "2023-07-23T03:04:09.727192Z"
    }
   }
  },
  {
   "cell_type": "code",
   "execution_count": 121,
   "outputs": [
    {
     "data": {
      "text/plain": "         date         home_team away_team  home_score  away_score  dia_dt  \\\n0  1872-11-30          Scotland   England           0           0      30   \n1  1873-03-08           England  Scotland           4           2       8   \n2  1874-03-07          Scotland   England           2           1       7   \n3  1875-03-06           England  Scotland           2           2       6   \n4  1876-03-04          Scotland   England           3           0       4   \n5  1876-03-25          Scotland     Wales           4           0      25   \n6  1877-03-03           England  Scotland           1           3       3   \n7  1877-03-05             Wales  Scotland           0           2       5   \n8  1878-03-02          Scotland   England           7           2       2   \n9  1878-03-23          Scotland     Wales           9           0      23   \n10 1879-01-18           England     Wales           2           1      18   \n11 1879-04-05           England  Scotland           5           4       5   \n12 1879-04-07             Wales  Scotland           0           3       7   \n13 1880-03-13          Scotland   England           5           4      13   \n14 1880-03-15             Wales   England           2           3      15   \n15 1880-03-27          Scotland     Wales           5           1      27   \n16 1881-02-26           England     Wales           0           1      26   \n17 1881-03-12           England  Scotland           1           6      12   \n18 1881-03-14             Wales  Scotland           1           5      14   \n19 1882-02-18  Northern Ireland   England           0          13      18   \n\n   dia_semana_dt  Bisexto?_dt  \n0          Sexta         True  \n1          Sexta        False  \n2          Sexta        False  \n3          Sexta        False  \n4          Sexta         True  \n5          Sexta         True  \n6          Sexta        False  \n7        Domingo        False  \n8          Sexta        False  \n9          Sexta        False  \n10         Sexta        False  \n11         Sexta        False  \n12       Domingo        False  \n13         Sexta         True  \n14       Domingo         True  \n15         Sexta         True  \n16         Sexta        False  \n17         Sexta        False  \n18       Domingo        False  \n19         Sexta        False  ",
      "text/html": "<div>\n<style scoped>\n    .dataframe tbody tr th:only-of-type {\n        vertical-align: middle;\n    }\n\n    .dataframe tbody tr th {\n        vertical-align: top;\n    }\n\n    .dataframe thead th {\n        text-align: right;\n    }\n</style>\n<table border=\"1\" class=\"dataframe\">\n  <thead>\n    <tr style=\"text-align: right;\">\n      <th></th>\n      <th>date</th>\n      <th>home_team</th>\n      <th>away_team</th>\n      <th>home_score</th>\n      <th>away_score</th>\n      <th>dia_dt</th>\n      <th>dia_semana_dt</th>\n      <th>Bisexto?_dt</th>\n    </tr>\n  </thead>\n  <tbody>\n    <tr>\n      <th>0</th>\n      <td>1872-11-30</td>\n      <td>Scotland</td>\n      <td>England</td>\n      <td>0</td>\n      <td>0</td>\n      <td>30</td>\n      <td>Sexta</td>\n      <td>True</td>\n    </tr>\n    <tr>\n      <th>1</th>\n      <td>1873-03-08</td>\n      <td>England</td>\n      <td>Scotland</td>\n      <td>4</td>\n      <td>2</td>\n      <td>8</td>\n      <td>Sexta</td>\n      <td>False</td>\n    </tr>\n    <tr>\n      <th>2</th>\n      <td>1874-03-07</td>\n      <td>Scotland</td>\n      <td>England</td>\n      <td>2</td>\n      <td>1</td>\n      <td>7</td>\n      <td>Sexta</td>\n      <td>False</td>\n    </tr>\n    <tr>\n      <th>3</th>\n      <td>1875-03-06</td>\n      <td>England</td>\n      <td>Scotland</td>\n      <td>2</td>\n      <td>2</td>\n      <td>6</td>\n      <td>Sexta</td>\n      <td>False</td>\n    </tr>\n    <tr>\n      <th>4</th>\n      <td>1876-03-04</td>\n      <td>Scotland</td>\n      <td>England</td>\n      <td>3</td>\n      <td>0</td>\n      <td>4</td>\n      <td>Sexta</td>\n      <td>True</td>\n    </tr>\n    <tr>\n      <th>5</th>\n      <td>1876-03-25</td>\n      <td>Scotland</td>\n      <td>Wales</td>\n      <td>4</td>\n      <td>0</td>\n      <td>25</td>\n      <td>Sexta</td>\n      <td>True</td>\n    </tr>\n    <tr>\n      <th>6</th>\n      <td>1877-03-03</td>\n      <td>England</td>\n      <td>Scotland</td>\n      <td>1</td>\n      <td>3</td>\n      <td>3</td>\n      <td>Sexta</td>\n      <td>False</td>\n    </tr>\n    <tr>\n      <th>7</th>\n      <td>1877-03-05</td>\n      <td>Wales</td>\n      <td>Scotland</td>\n      <td>0</td>\n      <td>2</td>\n      <td>5</td>\n      <td>Domingo</td>\n      <td>False</td>\n    </tr>\n    <tr>\n      <th>8</th>\n      <td>1878-03-02</td>\n      <td>Scotland</td>\n      <td>England</td>\n      <td>7</td>\n      <td>2</td>\n      <td>2</td>\n      <td>Sexta</td>\n      <td>False</td>\n    </tr>\n    <tr>\n      <th>9</th>\n      <td>1878-03-23</td>\n      <td>Scotland</td>\n      <td>Wales</td>\n      <td>9</td>\n      <td>0</td>\n      <td>23</td>\n      <td>Sexta</td>\n      <td>False</td>\n    </tr>\n    <tr>\n      <th>10</th>\n      <td>1879-01-18</td>\n      <td>England</td>\n      <td>Wales</td>\n      <td>2</td>\n      <td>1</td>\n      <td>18</td>\n      <td>Sexta</td>\n      <td>False</td>\n    </tr>\n    <tr>\n      <th>11</th>\n      <td>1879-04-05</td>\n      <td>England</td>\n      <td>Scotland</td>\n      <td>5</td>\n      <td>4</td>\n      <td>5</td>\n      <td>Sexta</td>\n      <td>False</td>\n    </tr>\n    <tr>\n      <th>12</th>\n      <td>1879-04-07</td>\n      <td>Wales</td>\n      <td>Scotland</td>\n      <td>0</td>\n      <td>3</td>\n      <td>7</td>\n      <td>Domingo</td>\n      <td>False</td>\n    </tr>\n    <tr>\n      <th>13</th>\n      <td>1880-03-13</td>\n      <td>Scotland</td>\n      <td>England</td>\n      <td>5</td>\n      <td>4</td>\n      <td>13</td>\n      <td>Sexta</td>\n      <td>True</td>\n    </tr>\n    <tr>\n      <th>14</th>\n      <td>1880-03-15</td>\n      <td>Wales</td>\n      <td>England</td>\n      <td>2</td>\n      <td>3</td>\n      <td>15</td>\n      <td>Domingo</td>\n      <td>True</td>\n    </tr>\n    <tr>\n      <th>15</th>\n      <td>1880-03-27</td>\n      <td>Scotland</td>\n      <td>Wales</td>\n      <td>5</td>\n      <td>1</td>\n      <td>27</td>\n      <td>Sexta</td>\n      <td>True</td>\n    </tr>\n    <tr>\n      <th>16</th>\n      <td>1881-02-26</td>\n      <td>England</td>\n      <td>Wales</td>\n      <td>0</td>\n      <td>1</td>\n      <td>26</td>\n      <td>Sexta</td>\n      <td>False</td>\n    </tr>\n    <tr>\n      <th>17</th>\n      <td>1881-03-12</td>\n      <td>England</td>\n      <td>Scotland</td>\n      <td>1</td>\n      <td>6</td>\n      <td>12</td>\n      <td>Sexta</td>\n      <td>False</td>\n    </tr>\n    <tr>\n      <th>18</th>\n      <td>1881-03-14</td>\n      <td>Wales</td>\n      <td>Scotland</td>\n      <td>1</td>\n      <td>5</td>\n      <td>14</td>\n      <td>Domingo</td>\n      <td>False</td>\n    </tr>\n    <tr>\n      <th>19</th>\n      <td>1882-02-18</td>\n      <td>Northern Ireland</td>\n      <td>England</td>\n      <td>0</td>\n      <td>13</td>\n      <td>18</td>\n      <td>Sexta</td>\n      <td>False</td>\n    </tr>\n  </tbody>\n</table>\n</div>"
     },
     "execution_count": 121,
     "metadata": {},
     "output_type": "execute_result"
    }
   ],
   "source": [
    "dia_semana = {\n",
    "    0: \"Domingo\",\n",
    "    1: \"Segunda\",\n",
    "    2: \"Terça\",\n",
    "    3: \"Quarta\",\n",
    "    4: \"Quinta\",\n",
    "    5: \"Sexta\",\n",
    "    6: \"Sábado\",\n",
    "}\n",
    "\n",
    "df_resultados_aux[\"dia_dt\"] = df_resultados_aux[\"date\"].dt.day\n",
    "df_resultados_aux[\"dia_semana_dt\"] = df_resultados_aux[\"date\"].dt.weekday.map(dia_semana)\n",
    "df_resultados_aux[\"Bisexto?_dt\"] = df_resultados_aux[\"date\"].dt.is_leap_year\n",
    "df_resultados_aux[[column for column in df_resultados_aux.columns if (\"_dt\" in column) or column in [\"date\", \"home_team\", \"away_team\", \"home_score\", \"away_score\"]]]"
   ],
   "metadata": {
    "collapsed": false,
    "ExecuteTime": {
     "end_time": "2023-07-23T03:01:24.484227100Z",
     "start_time": "2023-07-23T03:01:24.412030400Z"
    }
   }
  }
 ],
 "metadata": {
  "kernelspec": {
   "display_name": "Python 3",
   "language": "python",
   "name": "python3"
  },
  "language_info": {
   "codemirror_mode": {
    "name": "ipython",
    "version": 2
   },
   "file_extension": ".py",
   "mimetype": "text/x-python",
   "name": "python",
   "nbconvert_exporter": "python",
   "pygments_lexer": "ipython2",
   "version": "2.7.6"
  }
 },
 "nbformat": 4,
 "nbformat_minor": 0
}
