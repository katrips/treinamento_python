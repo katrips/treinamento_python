{
 "cells": [
  {
   "cell_type": "markdown",
   "source": [
    "## Unir tabelas"
   ],
   "metadata": {
    "collapsed": false
   }
  },
  {
   "cell_type": "code",
   "execution_count": 13,
   "metadata": {
    "collapsed": true,
    "ExecuteTime": {
     "end_time": "2023-07-25T19:53:51.868557900Z",
     "start_time": "2023-07-25T19:53:51.826141700Z"
    }
   },
   "outputs": [],
   "source": [
    "import pandas as pd\n",
    "import numpy as np\n",
    "\n",
    "path = \"../../../Notebooks/dados/Copa/results.csv\"\n",
    "path_paises = \"../../../Notebooks/dados/Paises/names.json\"\n",
    "path_continentes = \"../../../Notebooks/dados/Paises/continent.json\""
   ]
  },
  {
   "cell_type": "code",
   "execution_count": 37,
   "outputs": [
    {
     "data": {
      "text/plain": "    0                 1\n0  EU            Europa\n1  AF            Africa\n2  SA    América do Sul\n3  NA  América do Norte\n4  AN         Antartica\n5  OC           Oceania",
      "text/html": "<div>\n<style scoped>\n    .dataframe tbody tr th:only-of-type {\n        vertical-align: middle;\n    }\n\n    .dataframe tbody tr th {\n        vertical-align: top;\n    }\n\n    .dataframe thead th {\n        text-align: right;\n    }\n</style>\n<table border=\"1\" class=\"dataframe\">\n  <thead>\n    <tr style=\"text-align: right;\">\n      <th></th>\n      <th>0</th>\n      <th>1</th>\n    </tr>\n  </thead>\n  <tbody>\n    <tr>\n      <th>0</th>\n      <td>EU</td>\n      <td>Europa</td>\n    </tr>\n    <tr>\n      <th>1</th>\n      <td>AF</td>\n      <td>Africa</td>\n    </tr>\n    <tr>\n      <th>2</th>\n      <td>SA</td>\n      <td>América do Sul</td>\n    </tr>\n    <tr>\n      <th>3</th>\n      <td>NA</td>\n      <td>América do Norte</td>\n    </tr>\n    <tr>\n      <th>4</th>\n      <td>AN</td>\n      <td>Antartica</td>\n    </tr>\n    <tr>\n      <th>5</th>\n      <td>OC</td>\n      <td>Oceania</td>\n    </tr>\n  </tbody>\n</table>\n</div>"
     },
     "execution_count": 37,
     "metadata": {},
     "output_type": "execute_result"
    }
   ],
   "source": [
    "df_paises = pd.read_json(path_paises, orient=\"index\").reset_index().rename(\n",
    "    columns={\n",
    "        \"index\": \"siglas\",\n",
    "        0: \"pais\",\n",
    "    }\n",
    ")\n",
    "\n",
    "df_continentes = pd.read_json(path_continentes, orient=\"index\").reset_index().rename(\n",
    "    columns={\n",
    "        \"index\": \"siglas\",\n",
    "        0: \"Continentes\",\n",
    "    }\n",
    ")\n",
    "\n",
    "dict_continentes = {\n",
    "    \"EU\": \"Europa\",\n",
    "    \"AF\": \"Africa\",\n",
    "    \"SA\": \"América do Sul\",\n",
    "    \"NA\": \"América do Norte\",\n",
    "    \"AN\": \"Antartica\",\n",
    "    \"OC\": \"Oceania\"\n",
    "}\n",
    "\n",
    "df_dict = pd.DataFrame(dict_continentes.items(), index=dict_continentes.keys()).reset_index(drop=True)\n",
    "\n",
    "df_dict"
   ],
   "metadata": {
    "collapsed": false,
    "ExecuteTime": {
     "end_time": "2023-07-25T20:08:16.988397100Z",
     "start_time": "2023-07-25T20:08:16.918969600Z"
    }
   }
  },
  {
   "cell_type": "code",
   "execution_count": 14,
   "outputs": [
    {
     "data": {
      "text/plain": "                  Mundiais  Libertadores  Fundação\nCorinthians            2.0           1.0      1910\nPalmeiras              NaN           3.0      1914\nSantos                 2.0           3.0      1912\nSão Paulo              3.0           3.0      1930\nXV de Piracicaba       NaN           NaN      1913",
      "text/html": "<div>\n<style scoped>\n    .dataframe tbody tr th:only-of-type {\n        vertical-align: middle;\n    }\n\n    .dataframe tbody tr th {\n        vertical-align: top;\n    }\n\n    .dataframe thead th {\n        text-align: right;\n    }\n</style>\n<table border=\"1\" class=\"dataframe\">\n  <thead>\n    <tr style=\"text-align: right;\">\n      <th></th>\n      <th>Mundiais</th>\n      <th>Libertadores</th>\n      <th>Fundação</th>\n    </tr>\n  </thead>\n  <tbody>\n    <tr>\n      <th>Corinthians</th>\n      <td>2.0</td>\n      <td>1.0</td>\n      <td>1910</td>\n    </tr>\n    <tr>\n      <th>Palmeiras</th>\n      <td>NaN</td>\n      <td>3.0</td>\n      <td>1914</td>\n    </tr>\n    <tr>\n      <th>Santos</th>\n      <td>2.0</td>\n      <td>3.0</td>\n      <td>1912</td>\n    </tr>\n    <tr>\n      <th>São Paulo</th>\n      <td>3.0</td>\n      <td>3.0</td>\n      <td>1930</td>\n    </tr>\n    <tr>\n      <th>XV de Piracicaba</th>\n      <td>NaN</td>\n      <td>NaN</td>\n      <td>1913</td>\n    </tr>\n  </tbody>\n</table>\n</div>"
     },
     "execution_count": 14,
     "metadata": {},
     "output_type": "execute_result"
    }
   ],
   "source": [
    "df_times = pd.DataFrame(\n",
    "    {\n",
    "        \"Mundiais\": [2, np.nan, 2, 3, np.nan],\n",
    "        \"Libertadores\": [1, 3, 3, 3, np.nan],\n",
    "        \"Fundação\": [1910, 1914, 1912, 1930, 1913]\n",
    "    },\n",
    "    index=[\"Corinthians\", \"Palmeiras\", \"Santos\", \"São Paulo\", \"XV de Piracicaba\"]\n",
    ")\n",
    "\n",
    "df_times_plus = pd.DataFrame(\n",
    "    {\n",
    "        \"Mundiais\": [np.nan, np.nan, np.nan, 2],\n",
    "        \"Libertadores\": [np.nan, 2, 1, 1],\n",
    "        \"Fundação\": [1902, 1921, 1898, 1910]\n",
    "    },\n",
    "    index=[\"Fluminense\", \"Cruzeiro\", \"Vasco\", \"Corinthians\"]\n",
    ")\n",
    "\n",
    "df_times_2 = pd.DataFrame(\n",
    "    {\n",
    "        \"Estádio\": [\"Arena Neo Química\", \"Allianz Park\", \"Vila Belmiro\", \"Barão da Serra Negra\", \"Maracanã\"],\n",
    "        \"Cidade\": [\"São Paulo\", \"São Paulo\", \"Santos\", \"Piracicaba\", \"Maracanã\"],\n",
    "        \"Mundiais\": [2, np.nan, 2, np.nan, 1],\n",
    "    },\n",
    "    index=[\"Corinthians\", \"Palmeiras\", \"Santos\", \"XV de Piracicaba\", \"Flamengo\"]\n",
    ")\n",
    "\n",
    "df_times"
   ],
   "metadata": {
    "collapsed": false,
    "ExecuteTime": {
     "end_time": "2023-07-25T19:54:06.813271200Z",
     "start_time": "2023-07-25T19:54:06.723831700Z"
    }
   }
  },
  {
   "cell_type": "code",
   "execution_count": 15,
   "outputs": [
    {
     "data": {
      "text/plain": "                               Estádio      Cidade  Mundiais\nCorinthians          Arena Neo Química   São Paulo       2.0\nPalmeiras                 Allianz Park   São Paulo       NaN\nSantos                    Vila Belmiro      Santos       2.0\nXV de Piracicaba  Barão da Serra Negra  Piracicaba       NaN\nFlamengo                      Maracanã    Maracanã       1.0",
      "text/html": "<div>\n<style scoped>\n    .dataframe tbody tr th:only-of-type {\n        vertical-align: middle;\n    }\n\n    .dataframe tbody tr th {\n        vertical-align: top;\n    }\n\n    .dataframe thead th {\n        text-align: right;\n    }\n</style>\n<table border=\"1\" class=\"dataframe\">\n  <thead>\n    <tr style=\"text-align: right;\">\n      <th></th>\n      <th>Estádio</th>\n      <th>Cidade</th>\n      <th>Mundiais</th>\n    </tr>\n  </thead>\n  <tbody>\n    <tr>\n      <th>Corinthians</th>\n      <td>Arena Neo Química</td>\n      <td>São Paulo</td>\n      <td>2.0</td>\n    </tr>\n    <tr>\n      <th>Palmeiras</th>\n      <td>Allianz Park</td>\n      <td>São Paulo</td>\n      <td>NaN</td>\n    </tr>\n    <tr>\n      <th>Santos</th>\n      <td>Vila Belmiro</td>\n      <td>Santos</td>\n      <td>2.0</td>\n    </tr>\n    <tr>\n      <th>XV de Piracicaba</th>\n      <td>Barão da Serra Negra</td>\n      <td>Piracicaba</td>\n      <td>NaN</td>\n    </tr>\n    <tr>\n      <th>Flamengo</th>\n      <td>Maracanã</td>\n      <td>Maracanã</td>\n      <td>1.0</td>\n    </tr>\n  </tbody>\n</table>\n</div>"
     },
     "execution_count": 15,
     "metadata": {},
     "output_type": "execute_result"
    }
   ],
   "source": [
    "df_times_2"
   ],
   "metadata": {
    "collapsed": false,
    "ExecuteTime": {
     "end_time": "2023-07-25T19:54:43.439625300Z",
     "start_time": "2023-07-25T19:54:43.323418700Z"
    }
   }
  },
  {
   "cell_type": "code",
   "execution_count": 16,
   "outputs": [
    {
     "data": {
      "text/plain": "             Mundiais  Libertadores  Fundação\nFluminense        NaN           NaN      1902\nCruzeiro          NaN           2.0      1921\nVasco             NaN           1.0      1898\nCorinthians       2.0           1.0      1910",
      "text/html": "<div>\n<style scoped>\n    .dataframe tbody tr th:only-of-type {\n        vertical-align: middle;\n    }\n\n    .dataframe tbody tr th {\n        vertical-align: top;\n    }\n\n    .dataframe thead th {\n        text-align: right;\n    }\n</style>\n<table border=\"1\" class=\"dataframe\">\n  <thead>\n    <tr style=\"text-align: right;\">\n      <th></th>\n      <th>Mundiais</th>\n      <th>Libertadores</th>\n      <th>Fundação</th>\n    </tr>\n  </thead>\n  <tbody>\n    <tr>\n      <th>Fluminense</th>\n      <td>NaN</td>\n      <td>NaN</td>\n      <td>1902</td>\n    </tr>\n    <tr>\n      <th>Cruzeiro</th>\n      <td>NaN</td>\n      <td>2.0</td>\n      <td>1921</td>\n    </tr>\n    <tr>\n      <th>Vasco</th>\n      <td>NaN</td>\n      <td>1.0</td>\n      <td>1898</td>\n    </tr>\n    <tr>\n      <th>Corinthians</th>\n      <td>2.0</td>\n      <td>1.0</td>\n      <td>1910</td>\n    </tr>\n  </tbody>\n</table>\n</div>"
     },
     "execution_count": 16,
     "metadata": {},
     "output_type": "execute_result"
    }
   ],
   "source": [
    "df_times_plus"
   ],
   "metadata": {
    "collapsed": false,
    "ExecuteTime": {
     "end_time": "2023-07-25T19:54:46.130661500Z",
     "start_time": "2023-07-25T19:54:46.068824600Z"
    }
   }
  },
  {
   "cell_type": "code",
   "execution_count": 18,
   "outputs": [
    {
     "data": {
      "text/plain": "                  Mundiais  Libertadores  Fundação\nCorinthians            2.0           1.0      1910\nPalmeiras              NaN           3.0      1914\nSantos                 2.0           3.0      1912\nSão Paulo              3.0           3.0      1930\nXV de Piracicaba       NaN           NaN      1913\nFluminense             NaN           NaN      1902\nCruzeiro               NaN           2.0      1921\nVasco                  NaN           1.0      1898\nCorinthians            2.0           1.0      1910",
      "text/html": "<div>\n<style scoped>\n    .dataframe tbody tr th:only-of-type {\n        vertical-align: middle;\n    }\n\n    .dataframe tbody tr th {\n        vertical-align: top;\n    }\n\n    .dataframe thead th {\n        text-align: right;\n    }\n</style>\n<table border=\"1\" class=\"dataframe\">\n  <thead>\n    <tr style=\"text-align: right;\">\n      <th></th>\n      <th>Mundiais</th>\n      <th>Libertadores</th>\n      <th>Fundação</th>\n    </tr>\n  </thead>\n  <tbody>\n    <tr>\n      <th>Corinthians</th>\n      <td>2.0</td>\n      <td>1.0</td>\n      <td>1910</td>\n    </tr>\n    <tr>\n      <th>Palmeiras</th>\n      <td>NaN</td>\n      <td>3.0</td>\n      <td>1914</td>\n    </tr>\n    <tr>\n      <th>Santos</th>\n      <td>2.0</td>\n      <td>3.0</td>\n      <td>1912</td>\n    </tr>\n    <tr>\n      <th>São Paulo</th>\n      <td>3.0</td>\n      <td>3.0</td>\n      <td>1930</td>\n    </tr>\n    <tr>\n      <th>XV de Piracicaba</th>\n      <td>NaN</td>\n      <td>NaN</td>\n      <td>1913</td>\n    </tr>\n    <tr>\n      <th>Fluminense</th>\n      <td>NaN</td>\n      <td>NaN</td>\n      <td>1902</td>\n    </tr>\n    <tr>\n      <th>Cruzeiro</th>\n      <td>NaN</td>\n      <td>2.0</td>\n      <td>1921</td>\n    </tr>\n    <tr>\n      <th>Vasco</th>\n      <td>NaN</td>\n      <td>1.0</td>\n      <td>1898</td>\n    </tr>\n    <tr>\n      <th>Corinthians</th>\n      <td>2.0</td>\n      <td>1.0</td>\n      <td>1910</td>\n    </tr>\n  </tbody>\n</table>\n</div>"
     },
     "execution_count": 18,
     "metadata": {},
     "output_type": "execute_result"
    }
   ],
   "source": [
    "pd.concat([df_times, df_times_plus])"
   ],
   "metadata": {
    "collapsed": false,
    "ExecuteTime": {
     "end_time": "2023-07-25T19:58:05.513219800Z",
     "start_time": "2023-07-25T19:58:05.455945300Z"
    }
   }
  },
  {
   "cell_type": "code",
   "execution_count": 21,
   "outputs": [
    {
     "data": {
      "text/plain": "                  Mundiais  Libertadores  Fundação               Estádio  \\\nCorinthians            2.0           1.0    1910.0                   NaN   \nPalmeiras              NaN           3.0    1914.0                   NaN   \nSantos                 2.0           3.0    1912.0                   NaN   \nSão Paulo              3.0           3.0    1930.0                   NaN   \nXV de Piracicaba       NaN           NaN    1913.0                   NaN   \nCorinthians            2.0           NaN       NaN     Arena Neo Química   \nPalmeiras              NaN           NaN       NaN          Allianz Park   \nSantos                 2.0           NaN       NaN          Vila Belmiro   \nXV de Piracicaba       NaN           NaN       NaN  Barão da Serra Negra   \nFlamengo               1.0           NaN       NaN              Maracanã   \nFluminense             NaN           NaN    1902.0                   NaN   \nCruzeiro               NaN           2.0    1921.0                   NaN   \nVasco                  NaN           1.0    1898.0                   NaN   \nCorinthians            2.0           1.0    1910.0                   NaN   \n\n                      Cidade  \nCorinthians              NaN  \nPalmeiras                NaN  \nSantos                   NaN  \nSão Paulo                NaN  \nXV de Piracicaba         NaN  \nCorinthians        São Paulo  \nPalmeiras          São Paulo  \nSantos                Santos  \nXV de Piracicaba  Piracicaba  \nFlamengo            Maracanã  \nFluminense               NaN  \nCruzeiro                 NaN  \nVasco                    NaN  \nCorinthians              NaN  ",
      "text/html": "<div>\n<style scoped>\n    .dataframe tbody tr th:only-of-type {\n        vertical-align: middle;\n    }\n\n    .dataframe tbody tr th {\n        vertical-align: top;\n    }\n\n    .dataframe thead th {\n        text-align: right;\n    }\n</style>\n<table border=\"1\" class=\"dataframe\">\n  <thead>\n    <tr style=\"text-align: right;\">\n      <th></th>\n      <th>Mundiais</th>\n      <th>Libertadores</th>\n      <th>Fundação</th>\n      <th>Estádio</th>\n      <th>Cidade</th>\n    </tr>\n  </thead>\n  <tbody>\n    <tr>\n      <th>Corinthians</th>\n      <td>2.0</td>\n      <td>1.0</td>\n      <td>1910.0</td>\n      <td>NaN</td>\n      <td>NaN</td>\n    </tr>\n    <tr>\n      <th>Palmeiras</th>\n      <td>NaN</td>\n      <td>3.0</td>\n      <td>1914.0</td>\n      <td>NaN</td>\n      <td>NaN</td>\n    </tr>\n    <tr>\n      <th>Santos</th>\n      <td>2.0</td>\n      <td>3.0</td>\n      <td>1912.0</td>\n      <td>NaN</td>\n      <td>NaN</td>\n    </tr>\n    <tr>\n      <th>São Paulo</th>\n      <td>3.0</td>\n      <td>3.0</td>\n      <td>1930.0</td>\n      <td>NaN</td>\n      <td>NaN</td>\n    </tr>\n    <tr>\n      <th>XV de Piracicaba</th>\n      <td>NaN</td>\n      <td>NaN</td>\n      <td>1913.0</td>\n      <td>NaN</td>\n      <td>NaN</td>\n    </tr>\n    <tr>\n      <th>Corinthians</th>\n      <td>2.0</td>\n      <td>NaN</td>\n      <td>NaN</td>\n      <td>Arena Neo Química</td>\n      <td>São Paulo</td>\n    </tr>\n    <tr>\n      <th>Palmeiras</th>\n      <td>NaN</td>\n      <td>NaN</td>\n      <td>NaN</td>\n      <td>Allianz Park</td>\n      <td>São Paulo</td>\n    </tr>\n    <tr>\n      <th>Santos</th>\n      <td>2.0</td>\n      <td>NaN</td>\n      <td>NaN</td>\n      <td>Vila Belmiro</td>\n      <td>Santos</td>\n    </tr>\n    <tr>\n      <th>XV de Piracicaba</th>\n      <td>NaN</td>\n      <td>NaN</td>\n      <td>NaN</td>\n      <td>Barão da Serra Negra</td>\n      <td>Piracicaba</td>\n    </tr>\n    <tr>\n      <th>Flamengo</th>\n      <td>1.0</td>\n      <td>NaN</td>\n      <td>NaN</td>\n      <td>Maracanã</td>\n      <td>Maracanã</td>\n    </tr>\n    <tr>\n      <th>Fluminense</th>\n      <td>NaN</td>\n      <td>NaN</td>\n      <td>1902.0</td>\n      <td>NaN</td>\n      <td>NaN</td>\n    </tr>\n    <tr>\n      <th>Cruzeiro</th>\n      <td>NaN</td>\n      <td>2.0</td>\n      <td>1921.0</td>\n      <td>NaN</td>\n      <td>NaN</td>\n    </tr>\n    <tr>\n      <th>Vasco</th>\n      <td>NaN</td>\n      <td>1.0</td>\n      <td>1898.0</td>\n      <td>NaN</td>\n      <td>NaN</td>\n    </tr>\n    <tr>\n      <th>Corinthians</th>\n      <td>2.0</td>\n      <td>1.0</td>\n      <td>1910.0</td>\n      <td>NaN</td>\n      <td>NaN</td>\n    </tr>\n  </tbody>\n</table>\n</div>"
     },
     "execution_count": 21,
     "metadata": {},
     "output_type": "execute_result"
    }
   ],
   "source": [
    "pd.concat([df_times, df_times_2, df_times_plus])"
   ],
   "metadata": {
    "collapsed": false,
    "ExecuteTime": {
     "end_time": "2023-07-25T20:00:01.885631Z",
     "start_time": "2023-07-25T20:00:01.772122700Z"
    }
   }
  },
  {
   "cell_type": "code",
   "execution_count": 20,
   "outputs": [
    {
     "data": {
      "text/plain": "                  Mundiais  Libertadores  Fundação               Estádio  \\\nCorinthians            2.0           1.0    1910.0     Arena Neo Química   \nPalmeiras              NaN           3.0    1914.0          Allianz Park   \nSantos                 2.0           3.0    1912.0          Vila Belmiro   \nSão Paulo              3.0           3.0    1930.0                   NaN   \nXV de Piracicaba       NaN           NaN    1913.0  Barão da Serra Negra   \nFlamengo               NaN           NaN       NaN              Maracanã   \n\n                      Cidade  Mundiais  \nCorinthians        São Paulo       2.0  \nPalmeiras          São Paulo       NaN  \nSantos                Santos       2.0  \nSão Paulo                NaN       NaN  \nXV de Piracicaba  Piracicaba       NaN  \nFlamengo            Maracanã       1.0  ",
      "text/html": "<div>\n<style scoped>\n    .dataframe tbody tr th:only-of-type {\n        vertical-align: middle;\n    }\n\n    .dataframe tbody tr th {\n        vertical-align: top;\n    }\n\n    .dataframe thead th {\n        text-align: right;\n    }\n</style>\n<table border=\"1\" class=\"dataframe\">\n  <thead>\n    <tr style=\"text-align: right;\">\n      <th></th>\n      <th>Mundiais</th>\n      <th>Libertadores</th>\n      <th>Fundação</th>\n      <th>Estádio</th>\n      <th>Cidade</th>\n      <th>Mundiais</th>\n    </tr>\n  </thead>\n  <tbody>\n    <tr>\n      <th>Corinthians</th>\n      <td>2.0</td>\n      <td>1.0</td>\n      <td>1910.0</td>\n      <td>Arena Neo Química</td>\n      <td>São Paulo</td>\n      <td>2.0</td>\n    </tr>\n    <tr>\n      <th>Palmeiras</th>\n      <td>NaN</td>\n      <td>3.0</td>\n      <td>1914.0</td>\n      <td>Allianz Park</td>\n      <td>São Paulo</td>\n      <td>NaN</td>\n    </tr>\n    <tr>\n      <th>Santos</th>\n      <td>2.0</td>\n      <td>3.0</td>\n      <td>1912.0</td>\n      <td>Vila Belmiro</td>\n      <td>Santos</td>\n      <td>2.0</td>\n    </tr>\n    <tr>\n      <th>São Paulo</th>\n      <td>3.0</td>\n      <td>3.0</td>\n      <td>1930.0</td>\n      <td>NaN</td>\n      <td>NaN</td>\n      <td>NaN</td>\n    </tr>\n    <tr>\n      <th>XV de Piracicaba</th>\n      <td>NaN</td>\n      <td>NaN</td>\n      <td>1913.0</td>\n      <td>Barão da Serra Negra</td>\n      <td>Piracicaba</td>\n      <td>NaN</td>\n    </tr>\n    <tr>\n      <th>Flamengo</th>\n      <td>NaN</td>\n      <td>NaN</td>\n      <td>NaN</td>\n      <td>Maracanã</td>\n      <td>Maracanã</td>\n      <td>1.0</td>\n    </tr>\n  </tbody>\n</table>\n</div>"
     },
     "execution_count": 20,
     "metadata": {},
     "output_type": "execute_result"
    }
   ],
   "source": [
    "pd.concat([df_times, df_times_2], axis=1)"
   ],
   "metadata": {
    "collapsed": false,
    "ExecuteTime": {
     "end_time": "2023-07-25T19:59:37.194117300Z",
     "start_time": "2023-07-25T19:59:37.143008800Z"
    }
   }
  },
  {
   "cell_type": "markdown",
   "source": [
    "## Merge"
   ],
   "metadata": {
    "collapsed": false
   }
  },
  {
   "cell_type": "code",
   "execution_count": 22,
   "outputs": [
    {
     "data": {
      "text/plain": "  siglas                    pais\n0     BD              Bangladesh\n1     BE                 Belgium\n2     BF            Burkina Faso\n3     BG                Bulgaria\n4     BA  Bosnia and Herzegovina",
      "text/html": "<div>\n<style scoped>\n    .dataframe tbody tr th:only-of-type {\n        vertical-align: middle;\n    }\n\n    .dataframe tbody tr th {\n        vertical-align: top;\n    }\n\n    .dataframe thead th {\n        text-align: right;\n    }\n</style>\n<table border=\"1\" class=\"dataframe\">\n  <thead>\n    <tr style=\"text-align: right;\">\n      <th></th>\n      <th>siglas</th>\n      <th>pais</th>\n    </tr>\n  </thead>\n  <tbody>\n    <tr>\n      <th>0</th>\n      <td>BD</td>\n      <td>Bangladesh</td>\n    </tr>\n    <tr>\n      <th>1</th>\n      <td>BE</td>\n      <td>Belgium</td>\n    </tr>\n    <tr>\n      <th>2</th>\n      <td>BF</td>\n      <td>Burkina Faso</td>\n    </tr>\n    <tr>\n      <th>3</th>\n      <td>BG</td>\n      <td>Bulgaria</td>\n    </tr>\n    <tr>\n      <th>4</th>\n      <td>BA</td>\n      <td>Bosnia and Herzegovina</td>\n    </tr>\n  </tbody>\n</table>\n</div>"
     },
     "execution_count": 22,
     "metadata": {},
     "output_type": "execute_result"
    }
   ],
   "source": [
    "df_paises.head()"
   ],
   "metadata": {
    "collapsed": false,
    "ExecuteTime": {
     "end_time": "2023-07-25T20:01:14.292449700Z",
     "start_time": "2023-07-25T20:01:14.228313100Z"
    }
   }
  },
  {
   "cell_type": "code",
   "execution_count": 23,
   "outputs": [
    {
     "data": {
      "text/plain": "  siglas Continentes\n0     BD          AS\n1     BE          EU\n2     BF          AF\n3     BG          EU\n4     BA          EU",
      "text/html": "<div>\n<style scoped>\n    .dataframe tbody tr th:only-of-type {\n        vertical-align: middle;\n    }\n\n    .dataframe tbody tr th {\n        vertical-align: top;\n    }\n\n    .dataframe thead th {\n        text-align: right;\n    }\n</style>\n<table border=\"1\" class=\"dataframe\">\n  <thead>\n    <tr style=\"text-align: right;\">\n      <th></th>\n      <th>siglas</th>\n      <th>Continentes</th>\n    </tr>\n  </thead>\n  <tbody>\n    <tr>\n      <th>0</th>\n      <td>BD</td>\n      <td>AS</td>\n    </tr>\n    <tr>\n      <th>1</th>\n      <td>BE</td>\n      <td>EU</td>\n    </tr>\n    <tr>\n      <th>2</th>\n      <td>BF</td>\n      <td>AF</td>\n    </tr>\n    <tr>\n      <th>3</th>\n      <td>BG</td>\n      <td>EU</td>\n    </tr>\n    <tr>\n      <th>4</th>\n      <td>BA</td>\n      <td>EU</td>\n    </tr>\n  </tbody>\n</table>\n</div>"
     },
     "execution_count": 23,
     "metadata": {},
     "output_type": "execute_result"
    }
   ],
   "source": [
    "df_continentes.head()"
   ],
   "metadata": {
    "collapsed": false,
    "ExecuteTime": {
     "end_time": "2023-07-25T20:01:22.384885100Z",
     "start_time": "2023-07-25T20:01:22.241351300Z"
    }
   }
  },
  {
   "cell_type": "code",
   "execution_count": 31,
   "outputs": [
    {
     "data": {
      "text/plain": "    0                 1\n0  AS              Asia\n1  EU            Europa\n2  AF            Africa\n3  SA    América do Sul\n4  NA  América do Norte\n5  AN         Antartica\n6  OC           Oceania",
      "text/html": "<div>\n<style scoped>\n    .dataframe tbody tr th:only-of-type {\n        vertical-align: middle;\n    }\n\n    .dataframe tbody tr th {\n        vertical-align: top;\n    }\n\n    .dataframe thead th {\n        text-align: right;\n    }\n</style>\n<table border=\"1\" class=\"dataframe\">\n  <thead>\n    <tr style=\"text-align: right;\">\n      <th></th>\n      <th>0</th>\n      <th>1</th>\n    </tr>\n  </thead>\n  <tbody>\n    <tr>\n      <th>0</th>\n      <td>AS</td>\n      <td>Asia</td>\n    </tr>\n    <tr>\n      <th>1</th>\n      <td>EU</td>\n      <td>Europa</td>\n    </tr>\n    <tr>\n      <th>2</th>\n      <td>AF</td>\n      <td>Africa</td>\n    </tr>\n    <tr>\n      <th>3</th>\n      <td>SA</td>\n      <td>América do Sul</td>\n    </tr>\n    <tr>\n      <th>4</th>\n      <td>NA</td>\n      <td>América do Norte</td>\n    </tr>\n    <tr>\n      <th>5</th>\n      <td>AN</td>\n      <td>Antartica</td>\n    </tr>\n    <tr>\n      <th>6</th>\n      <td>OC</td>\n      <td>Oceania</td>\n    </tr>\n  </tbody>\n</table>\n</div>"
     },
     "execution_count": 31,
     "metadata": {},
     "output_type": "execute_result"
    }
   ],
   "source": [
    "df_dict"
   ],
   "metadata": {
    "collapsed": false,
    "ExecuteTime": {
     "end_time": "2023-07-25T20:06:12.115022200Z",
     "start_time": "2023-07-25T20:06:12.058189800Z"
    }
   }
  },
  {
   "cell_type": "code",
   "execution_count": 39,
   "outputs": [
    {
     "data": {
      "text/plain": "    siglas                    pais Continentes Continentes Completos\n0       BD              Bangladesh          AS                  Asia\n1       BE                 Belgium          EU                Europa\n2       BF            Burkina Faso          AF                Africa\n3       BG                Bulgaria          EU                Europa\n4       BA  Bosnia and Herzegovina          EU                Europa\n..     ...                     ...         ...                   ...\n245     IE                 Ireland          EU                Europa\n246     ID               Indonesia          AS                  Asia\n247     UA                 Ukraine          EU                Europa\n248     QA                   Qatar          AS                  Asia\n249     MZ              Mozambique          AF                Africa\n\n[250 rows x 4 columns]",
      "text/html": "<div>\n<style scoped>\n    .dataframe tbody tr th:only-of-type {\n        vertical-align: middle;\n    }\n\n    .dataframe tbody tr th {\n        vertical-align: top;\n    }\n\n    .dataframe thead th {\n        text-align: right;\n    }\n</style>\n<table border=\"1\" class=\"dataframe\">\n  <thead>\n    <tr style=\"text-align: right;\">\n      <th></th>\n      <th>siglas</th>\n      <th>pais</th>\n      <th>Continentes</th>\n      <th>Continentes Completos</th>\n    </tr>\n  </thead>\n  <tbody>\n    <tr>\n      <th>0</th>\n      <td>BD</td>\n      <td>Bangladesh</td>\n      <td>AS</td>\n      <td>Asia</td>\n    </tr>\n    <tr>\n      <th>1</th>\n      <td>BE</td>\n      <td>Belgium</td>\n      <td>EU</td>\n      <td>Europa</td>\n    </tr>\n    <tr>\n      <th>2</th>\n      <td>BF</td>\n      <td>Burkina Faso</td>\n      <td>AF</td>\n      <td>Africa</td>\n    </tr>\n    <tr>\n      <th>3</th>\n      <td>BG</td>\n      <td>Bulgaria</td>\n      <td>EU</td>\n      <td>Europa</td>\n    </tr>\n    <tr>\n      <th>4</th>\n      <td>BA</td>\n      <td>Bosnia and Herzegovina</td>\n      <td>EU</td>\n      <td>Europa</td>\n    </tr>\n    <tr>\n      <th>...</th>\n      <td>...</td>\n      <td>...</td>\n      <td>...</td>\n      <td>...</td>\n    </tr>\n    <tr>\n      <th>245</th>\n      <td>IE</td>\n      <td>Ireland</td>\n      <td>EU</td>\n      <td>Europa</td>\n    </tr>\n    <tr>\n      <th>246</th>\n      <td>ID</td>\n      <td>Indonesia</td>\n      <td>AS</td>\n      <td>Asia</td>\n    </tr>\n    <tr>\n      <th>247</th>\n      <td>UA</td>\n      <td>Ukraine</td>\n      <td>EU</td>\n      <td>Europa</td>\n    </tr>\n    <tr>\n      <th>248</th>\n      <td>QA</td>\n      <td>Qatar</td>\n      <td>AS</td>\n      <td>Asia</td>\n    </tr>\n    <tr>\n      <th>249</th>\n      <td>MZ</td>\n      <td>Mozambique</td>\n      <td>AF</td>\n      <td>Africa</td>\n    </tr>\n  </tbody>\n</table>\n<p>250 rows × 4 columns</p>\n</div>"
     },
     "execution_count": 39,
     "metadata": {},
     "output_type": "execute_result"
    }
   ],
   "source": [
    "df_paises_juntos = df_paises.merge(\n",
    "    right=df_continentes,\n",
    "    left_on=[\"siglas\", \"continentes\"],\n",
    "    right_on=[\"siglas\", \"continentes\"]\n",
    ").copy()\n",
    "\n",
    "# df_paises_juntos = df_paises_juntos.merge(\n",
    "#     right=df_dict,\n",
    "#     left_on=\"Continentes\",\n",
    "#     right_on=0,\n",
    "# ).drop(columns=[0])\n",
    "\n",
    "df_paises_juntos[\"Continentes Completos\"] = df_paises_juntos[\"Continentes\"].map(dict_continentes).fillna(\"Asia\")\n",
    "\n",
    "df_paises_juntos"
   ],
   "metadata": {
    "collapsed": false,
    "ExecuteTime": {
     "end_time": "2023-07-25T20:08:32.656390100Z",
     "start_time": "2023-07-25T20:08:32.615495600Z"
    }
   }
  },
  {
   "cell_type": "code",
   "execution_count": 50,
   "outputs": [
    {
     "data": {
      "text/plain": "{'EU': 'Europa',\n 'AF': 'Africa',\n 'SA': 'América do Sul',\n 'NA': 'América do Norte',\n 'AN': 'Antartica',\n 'OC': 'Oceania'}"
     },
     "execution_count": 50,
     "metadata": {},
     "output_type": "execute_result"
    }
   ],
   "source": [
    "dict_continentes"
   ],
   "metadata": {
    "collapsed": false,
    "ExecuteTime": {
     "end_time": "2023-07-25T20:12:43.149971600Z",
     "start_time": "2023-07-25T20:12:43.096108100Z"
    }
   }
  },
  {
   "cell_type": "code",
   "execution_count": 40,
   "outputs": [
    {
     "data": {
      "text/plain": "                  Mundiais  Libertadores  Fundação\nCorinthians            2.0           1.0      1910\nPalmeiras              NaN           3.0      1914\nSantos                 2.0           3.0      1912\nSão Paulo              3.0           3.0      1930\nXV de Piracicaba       NaN           NaN      1913",
      "text/html": "<div>\n<style scoped>\n    .dataframe tbody tr th:only-of-type {\n        vertical-align: middle;\n    }\n\n    .dataframe tbody tr th {\n        vertical-align: top;\n    }\n\n    .dataframe thead th {\n        text-align: right;\n    }\n</style>\n<table border=\"1\" class=\"dataframe\">\n  <thead>\n    <tr style=\"text-align: right;\">\n      <th></th>\n      <th>Mundiais</th>\n      <th>Libertadores</th>\n      <th>Fundação</th>\n    </tr>\n  </thead>\n  <tbody>\n    <tr>\n      <th>Corinthians</th>\n      <td>2.0</td>\n      <td>1.0</td>\n      <td>1910</td>\n    </tr>\n    <tr>\n      <th>Palmeiras</th>\n      <td>NaN</td>\n      <td>3.0</td>\n      <td>1914</td>\n    </tr>\n    <tr>\n      <th>Santos</th>\n      <td>2.0</td>\n      <td>3.0</td>\n      <td>1912</td>\n    </tr>\n    <tr>\n      <th>São Paulo</th>\n      <td>3.0</td>\n      <td>3.0</td>\n      <td>1930</td>\n    </tr>\n    <tr>\n      <th>XV de Piracicaba</th>\n      <td>NaN</td>\n      <td>NaN</td>\n      <td>1913</td>\n    </tr>\n  </tbody>\n</table>\n</div>"
     },
     "execution_count": 40,
     "metadata": {},
     "output_type": "execute_result"
    }
   ],
   "source": [
    "df_times"
   ],
   "metadata": {
    "collapsed": false,
    "ExecuteTime": {
     "end_time": "2023-07-25T20:09:12.095811500Z",
     "start_time": "2023-07-25T20:09:12.037534500Z"
    }
   }
  },
  {
   "cell_type": "code",
   "execution_count": 41,
   "outputs": [
    {
     "data": {
      "text/plain": "                               Estádio      Cidade  Mundiais\nCorinthians          Arena Neo Química   São Paulo       2.0\nPalmeiras                 Allianz Park   São Paulo       NaN\nSantos                    Vila Belmiro      Santos       2.0\nXV de Piracicaba  Barão da Serra Negra  Piracicaba       NaN\nFlamengo                      Maracanã    Maracanã       1.0",
      "text/html": "<div>\n<style scoped>\n    .dataframe tbody tr th:only-of-type {\n        vertical-align: middle;\n    }\n\n    .dataframe tbody tr th {\n        vertical-align: top;\n    }\n\n    .dataframe thead th {\n        text-align: right;\n    }\n</style>\n<table border=\"1\" class=\"dataframe\">\n  <thead>\n    <tr style=\"text-align: right;\">\n      <th></th>\n      <th>Estádio</th>\n      <th>Cidade</th>\n      <th>Mundiais</th>\n    </tr>\n  </thead>\n  <tbody>\n    <tr>\n      <th>Corinthians</th>\n      <td>Arena Neo Química</td>\n      <td>São Paulo</td>\n      <td>2.0</td>\n    </tr>\n    <tr>\n      <th>Palmeiras</th>\n      <td>Allianz Park</td>\n      <td>São Paulo</td>\n      <td>NaN</td>\n    </tr>\n    <tr>\n      <th>Santos</th>\n      <td>Vila Belmiro</td>\n      <td>Santos</td>\n      <td>2.0</td>\n    </tr>\n    <tr>\n      <th>XV de Piracicaba</th>\n      <td>Barão da Serra Negra</td>\n      <td>Piracicaba</td>\n      <td>NaN</td>\n    </tr>\n    <tr>\n      <th>Flamengo</th>\n      <td>Maracanã</td>\n      <td>Maracanã</td>\n      <td>1.0</td>\n    </tr>\n  </tbody>\n</table>\n</div>"
     },
     "execution_count": 41,
     "metadata": {},
     "output_type": "execute_result"
    }
   ],
   "source": [
    "df_times_2"
   ],
   "metadata": {
    "collapsed": false,
    "ExecuteTime": {
     "end_time": "2023-07-25T20:09:17.549124900Z",
     "start_time": "2023-07-25T20:09:17.434321Z"
    }
   }
  },
  {
   "cell_type": "code",
   "execution_count": 51,
   "outputs": [
    {
     "data": {
      "text/plain": "                  Mundiais_esquerda  Libertadores  Fundação  \\\nCorinthians                     2.0           1.0      1910   \nPalmeiras                       NaN           3.0      1914   \nSantos                          2.0           3.0      1912   \nSão Paulo                       3.0           3.0      1930   \nXV de Piracicaba                NaN           NaN      1913   \n\n                               Estádio      Cidade  Mundiais_direita  \nCorinthians          Arena Neo Química   São Paulo               2.0  \nPalmeiras                 Allianz Park   São Paulo               NaN  \nSantos                    Vila Belmiro      Santos               2.0  \nSão Paulo                          NaN         NaN               NaN  \nXV de Piracicaba  Barão da Serra Negra  Piracicaba               NaN  ",
      "text/html": "<div>\n<style scoped>\n    .dataframe tbody tr th:only-of-type {\n        vertical-align: middle;\n    }\n\n    .dataframe tbody tr th {\n        vertical-align: top;\n    }\n\n    .dataframe thead th {\n        text-align: right;\n    }\n</style>\n<table border=\"1\" class=\"dataframe\">\n  <thead>\n    <tr style=\"text-align: right;\">\n      <th></th>\n      <th>Mundiais_esquerda</th>\n      <th>Libertadores</th>\n      <th>Fundação</th>\n      <th>Estádio</th>\n      <th>Cidade</th>\n      <th>Mundiais_direita</th>\n    </tr>\n  </thead>\n  <tbody>\n    <tr>\n      <th>Corinthians</th>\n      <td>2.0</td>\n      <td>1.0</td>\n      <td>1910</td>\n      <td>Arena Neo Química</td>\n      <td>São Paulo</td>\n      <td>2.0</td>\n    </tr>\n    <tr>\n      <th>Palmeiras</th>\n      <td>NaN</td>\n      <td>3.0</td>\n      <td>1914</td>\n      <td>Allianz Park</td>\n      <td>São Paulo</td>\n      <td>NaN</td>\n    </tr>\n    <tr>\n      <th>Santos</th>\n      <td>2.0</td>\n      <td>3.0</td>\n      <td>1912</td>\n      <td>Vila Belmiro</td>\n      <td>Santos</td>\n      <td>2.0</td>\n    </tr>\n    <tr>\n      <th>São Paulo</th>\n      <td>3.0</td>\n      <td>3.0</td>\n      <td>1930</td>\n      <td>NaN</td>\n      <td>NaN</td>\n      <td>NaN</td>\n    </tr>\n    <tr>\n      <th>XV de Piracicaba</th>\n      <td>NaN</td>\n      <td>NaN</td>\n      <td>1913</td>\n      <td>Barão da Serra Negra</td>\n      <td>Piracicaba</td>\n      <td>NaN</td>\n    </tr>\n  </tbody>\n</table>\n</div>"
     },
     "execution_count": 51,
     "metadata": {},
     "output_type": "execute_result"
    }
   ],
   "source": [
    "df_principal = df_times.merge(\n",
    "    df_times_2,\n",
    "    left_index=True,\n",
    "    right_index=True,\n",
    "    how=\"left\",\n",
    "    suffixes=[\"_esquerda\", \"_direita\"]\n",
    ")\n",
    "\n",
    "# df_principal[df_principal[\"Estádio\"].isna()]\n",
    "df_principal"
   ],
   "metadata": {
    "collapsed": false,
    "ExecuteTime": {
     "end_time": "2023-07-25T20:13:30.179504500Z",
     "start_time": "2023-07-25T20:13:30.075144300Z"
    }
   }
  },
  {
   "cell_type": "markdown",
   "source": [
    "##"
   ],
   "metadata": {
    "collapsed": false
   }
  }
 ],
 "metadata": {
  "kernelspec": {
   "display_name": "Python 3",
   "language": "python",
   "name": "python3"
  },
  "language_info": {
   "codemirror_mode": {
    "name": "ipython",
    "version": 2
   },
   "file_extension": ".py",
   "mimetype": "text/x-python",
   "name": "python",
   "nbconvert_exporter": "python",
   "pygments_lexer": "ipython2",
   "version": "2.7.6"
  }
 },
 "nbformat": 4,
 "nbformat_minor": 0
}
