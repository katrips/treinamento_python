{
 "cells": [
  {
   "cell_type": "markdown",
   "source": [
    "## 6. Exportar DFs"
   ],
   "metadata": {
    "collapsed": false
   }
  },
  {
   "cell_type": "code",
   "execution_count": 13,
   "outputs": [],
   "source": [
    "import pandas as pd\n",
    "import numpy as np\n",
    "import shutil # para copiar o template"
   ],
   "metadata": {
    "collapsed": false,
    "ExecuteTime": {
     "end_time": "2023-07-23T23:33:22.413075800Z",
     "start_time": "2023-07-23T23:33:22.392245400Z"
    }
   }
  },
  {
   "cell_type": "markdown",
   "source": [
    "Após todo trabalho em python, as vezes se faz necessário exportarmos os dados de forma que sejam \"consumíveis\" para pessoas que não possuem familiaridade com a linguagem. Uma das formas dessa exportação é de exportar os DataFrames como tabelas (csv, excel, sql, etc.), outras seriam com gráficos, dashboards, mapas, imagens que veremos mais para frente.\n",
    "\n",
    "A exportação via pandas é muito semelhante a importação, requisitando as funções **.to_XYZ()** no fim dos DataFrames para realizá-la"
   ],
   "metadata": {
    "collapsed": false
   }
  },
  {
   "cell_type": "markdown",
   "source": [
    "## 6.1 Exportação de arquivos únicos"
   ],
   "metadata": {
    "collapsed": false
   }
  },
  {
   "cell_type": "code",
   "execution_count": 12,
   "outputs": [
    {
     "data": {
      "text/plain": "                  Mundiais  Libertadores  Fundação\nCorinthians            2.0           1.0      1910\nPalmeiras              NaN           3.0      1914\nSantos                 2.0           3.0      1912\nSão Paulo              3.0           3.0      1930\nXV de Piracicaba       NaN           NaN      1913",
      "text/html": "<div>\n<style scoped>\n    .dataframe tbody tr th:only-of-type {\n        vertical-align: middle;\n    }\n\n    .dataframe tbody tr th {\n        vertical-align: top;\n    }\n\n    .dataframe thead th {\n        text-align: right;\n    }\n</style>\n<table border=\"1\" class=\"dataframe\">\n  <thead>\n    <tr style=\"text-align: right;\">\n      <th></th>\n      <th>Mundiais</th>\n      <th>Libertadores</th>\n      <th>Fundação</th>\n    </tr>\n  </thead>\n  <tbody>\n    <tr>\n      <th>Corinthians</th>\n      <td>2.0</td>\n      <td>1.0</td>\n      <td>1910</td>\n    </tr>\n    <tr>\n      <th>Palmeiras</th>\n      <td>NaN</td>\n      <td>3.0</td>\n      <td>1914</td>\n    </tr>\n    <tr>\n      <th>Santos</th>\n      <td>2.0</td>\n      <td>3.0</td>\n      <td>1912</td>\n    </tr>\n    <tr>\n      <th>São Paulo</th>\n      <td>3.0</td>\n      <td>3.0</td>\n      <td>1930</td>\n    </tr>\n    <tr>\n      <th>XV de Piracicaba</th>\n      <td>NaN</td>\n      <td>NaN</td>\n      <td>1913</td>\n    </tr>\n  </tbody>\n</table>\n</div>"
     },
     "execution_count": 12,
     "metadata": {},
     "output_type": "execute_result"
    }
   ],
   "source": [
    "df_campeonatos = pd.DataFrame(\n",
    "    {\n",
    "        \"Mundiais\": [2, np.nan, 2, 3, np.nan],\n",
    "        \"Libertadores\": [1, 3, 3, 3, np.nan],\n",
    "        \"Fundação\": [1910, 1914, 1912, 1930, 1913]\n",
    "    },\n",
    "    index=[\"Corinthians\", \"Palmeiras\", \"Santos\", \"São Paulo\", \"XV de Piracicaba\"]\n",
    ")\n",
    "df_campeonatos"
   ],
   "metadata": {
    "collapsed": false,
    "ExecuteTime": {
     "end_time": "2023-07-23T23:28:11.060170200Z",
     "start_time": "2023-07-23T23:28:11.023444Z"
    }
   }
  },
  {
   "cell_type": "code",
   "execution_count": 17,
   "outputs": [
    {
     "data": {
      "text/plain": "          A         B         C\n0  1.424205  0.038087  1.683787\n1  0.485394 -1.039192 -1.114975\n2  1.465578  0.590373  1.242786\n3  0.350816 -0.260995  0.440318\n4 -0.388672  0.939904  1.679626",
      "text/html": "<div>\n<style scoped>\n    .dataframe tbody tr th:only-of-type {\n        vertical-align: middle;\n    }\n\n    .dataframe tbody tr th {\n        vertical-align: top;\n    }\n\n    .dataframe thead th {\n        text-align: right;\n    }\n</style>\n<table border=\"1\" class=\"dataframe\">\n  <thead>\n    <tr style=\"text-align: right;\">\n      <th></th>\n      <th>A</th>\n      <th>B</th>\n      <th>C</th>\n    </tr>\n  </thead>\n  <tbody>\n    <tr>\n      <th>0</th>\n      <td>1.424205</td>\n      <td>0.038087</td>\n      <td>1.683787</td>\n    </tr>\n    <tr>\n      <th>1</th>\n      <td>0.485394</td>\n      <td>-1.039192</td>\n      <td>-1.114975</td>\n    </tr>\n    <tr>\n      <th>2</th>\n      <td>1.465578</td>\n      <td>0.590373</td>\n      <td>1.242786</td>\n    </tr>\n    <tr>\n      <th>3</th>\n      <td>0.350816</td>\n      <td>-0.260995</td>\n      <td>0.440318</td>\n    </tr>\n    <tr>\n      <th>4</th>\n      <td>-0.388672</td>\n      <td>0.939904</td>\n      <td>1.679626</td>\n    </tr>\n  </tbody>\n</table>\n</div>"
     },
     "execution_count": 17,
     "metadata": {},
     "output_type": "execute_result"
    }
   ],
   "source": [
    "df_exemplo = df_numpy = pd.DataFrame(\n",
    "    np.random.randn(5, 3), # Matriz de dados\n",
    "    columns = [\"A\", \"B\", \"C\"] # Nome de colunas\n",
    ")\n",
    "df_exemplo"
   ],
   "metadata": {
    "collapsed": false,
    "ExecuteTime": {
     "end_time": "2023-07-23T23:39:32.593066800Z",
     "start_time": "2023-07-23T23:39:32.565001200Z"
    }
   }
  },
  {
   "cell_type": "code",
   "execution_count": 11,
   "outputs": [],
   "source": [
    "df_campeonatos.to_excel(\"outputs/campeonatos.xlsx\")\n",
    "df_campeonatos.to_excel(\"outputs/campeonatos_sem_index.xlsx\", index=\"None\")\n",
    "df_campeonatos.to_csv(\"outputs/campeonatos.csv\")\n",
    "df_campeonatos.to_csv(\"outputs/campeonatos_brasil.csv\", encoding=\"utf8\", decimal=\",\", sep=\";\")"
   ],
   "metadata": {
    "collapsed": false,
    "ExecuteTime": {
     "end_time": "2023-07-23T23:12:55.449512900Z",
     "start_time": "2023-07-23T23:12:55.407785200Z"
    }
   }
  },
  {
   "cell_type": "markdown",
   "source": [
    "## 6.2 Exportação via template"
   ],
   "metadata": {
    "collapsed": false
   }
  },
  {
   "cell_type": "code",
   "execution_count": 20,
   "outputs": [],
   "source": [
    "path_output = \"outputs/campeonatos_template.xlsx\"\n",
    "path_template = \"template/template.xlsx\"\n",
    "\n",
    "shutil.copyfile(\n",
    "    src=path_template,\n",
    "    dst=path_output\n",
    ")\n",
    "\n",
    "with pd.ExcelWriter(path_output, engine=\"openpyxl\", mode=\"a\", if_sheet_exists=\"overlay\") as writer:\n",
    "    df_campeonatos.to_excel(writer, sheet_name=\"Sheet1\", index=True, startrow=1, startcol=0, header=False)\n",
    "    df_exemplo.to_excel(writer, sheet_name=\"Sheet1\", index=None, startrow=1, startcol=5, header=False)"
   ],
   "metadata": {
    "collapsed": false,
    "ExecuteTime": {
     "end_time": "2023-07-23T23:43:51.982032300Z",
     "start_time": "2023-07-23T23:43:51.947569Z"
    }
   }
  }
 ],
 "metadata": {
  "kernelspec": {
   "display_name": "Python 3",
   "language": "python",
   "name": "python3"
  },
  "language_info": {
   "codemirror_mode": {
    "name": "ipython",
    "version": 2
   },
   "file_extension": ".py",
   "mimetype": "text/x-python",
   "name": "python",
   "nbconvert_exporter": "python",
   "pygments_lexer": "ipython2",
   "version": "2.7.6"
  }
 },
 "nbformat": 4,
 "nbformat_minor": 0
}
