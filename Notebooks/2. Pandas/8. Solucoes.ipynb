{
 "cells": [
  {
   "cell_type": "markdown",
   "source": [
    "# 7. Exercícios"
   ],
   "metadata": {
    "collapsed": false
   }
  },
  {
   "cell_type": "markdown",
   "source": [
    "#### 1. Importe pandas"
   ],
   "metadata": {
    "collapsed": false
   }
  },
  {
   "cell_type": "code",
   "execution_count": 2,
   "outputs": [],
   "source": [
    "import pandas as pd"
   ],
   "metadata": {
    "collapsed": false,
    "ExecuteTime": {
     "end_time": "2023-07-24T13:22:50.754550800Z",
     "start_time": "2023-07-24T13:22:50.741643500Z"
    }
   }
  },
  {
   "cell_type": "markdown",
   "source": [
    "#### 2. Leia a tabela com os resultados de seleção"
   ],
   "metadata": {
    "collapsed": false
   }
  },
  {
   "cell_type": "markdown",
   "source": [
    "Use a variável df_resultados e mostre as 5 primeiras linhas"
   ],
   "metadata": {
    "collapsed": false
   }
  },
  {
   "cell_type": "code",
   "execution_count": 3,
   "outputs": [
    {
     "data": {
      "text/plain": "         date home_team away_team  home_score  away_score tournament     city  \\\n0  1872-11-30  Scotland   England           0           0   Friendly  Glasgow   \n1  1873-03-08   England  Scotland           4           2   Friendly   London   \n2  1874-03-07  Scotland   England           2           1   Friendly  Glasgow   \n3  1875-03-06   England  Scotland           2           2   Friendly   London   \n4  1876-03-04  Scotland   England           3           0   Friendly  Glasgow   \n\n    country  neutral  \n0  Scotland    False  \n1   England    False  \n2  Scotland    False  \n3   England    False  \n4  Scotland    False  ",
      "text/html": "<div>\n<style scoped>\n    .dataframe tbody tr th:only-of-type {\n        vertical-align: middle;\n    }\n\n    .dataframe tbody tr th {\n        vertical-align: top;\n    }\n\n    .dataframe thead th {\n        text-align: right;\n    }\n</style>\n<table border=\"1\" class=\"dataframe\">\n  <thead>\n    <tr style=\"text-align: right;\">\n      <th></th>\n      <th>date</th>\n      <th>home_team</th>\n      <th>away_team</th>\n      <th>home_score</th>\n      <th>away_score</th>\n      <th>tournament</th>\n      <th>city</th>\n      <th>country</th>\n      <th>neutral</th>\n    </tr>\n  </thead>\n  <tbody>\n    <tr>\n      <th>0</th>\n      <td>1872-11-30</td>\n      <td>Scotland</td>\n      <td>England</td>\n      <td>0</td>\n      <td>0</td>\n      <td>Friendly</td>\n      <td>Glasgow</td>\n      <td>Scotland</td>\n      <td>False</td>\n    </tr>\n    <tr>\n      <th>1</th>\n      <td>1873-03-08</td>\n      <td>England</td>\n      <td>Scotland</td>\n      <td>4</td>\n      <td>2</td>\n      <td>Friendly</td>\n      <td>London</td>\n      <td>England</td>\n      <td>False</td>\n    </tr>\n    <tr>\n      <th>2</th>\n      <td>1874-03-07</td>\n      <td>Scotland</td>\n      <td>England</td>\n      <td>2</td>\n      <td>1</td>\n      <td>Friendly</td>\n      <td>Glasgow</td>\n      <td>Scotland</td>\n      <td>False</td>\n    </tr>\n    <tr>\n      <th>3</th>\n      <td>1875-03-06</td>\n      <td>England</td>\n      <td>Scotland</td>\n      <td>2</td>\n      <td>2</td>\n      <td>Friendly</td>\n      <td>London</td>\n      <td>England</td>\n      <td>False</td>\n    </tr>\n    <tr>\n      <th>4</th>\n      <td>1876-03-04</td>\n      <td>Scotland</td>\n      <td>England</td>\n      <td>3</td>\n      <td>0</td>\n      <td>Friendly</td>\n      <td>Glasgow</td>\n      <td>Scotland</td>\n      <td>False</td>\n    </tr>\n  </tbody>\n</table>\n</div>"
     },
     "execution_count": 3,
     "metadata": {},
     "output_type": "execute_result"
    }
   ],
   "source": [
    "path_resultados = \"../dados/Copa/results.csv\"\n",
    "df_resultados = pd.read_csv(path_resultados)\n",
    "df_resultados.head()"
   ],
   "metadata": {
    "collapsed": false,
    "ExecuteTime": {
     "end_time": "2023-07-24T13:24:10.910125100Z",
     "start_time": "2023-07-24T13:24:10.842569700Z"
    }
   }
  },
  {
   "cell_type": "markdown",
   "source": [
    "#### 3. Perguntas rápidas:"
   ],
   "metadata": {
    "collapsed": false
   }
  },
  {
   "cell_type": "markdown",
   "source": [
    "##### 3.1. Qual a maior quantia de gols que um time mandante fez? E a maior quantia que um time visitante marcou?"
   ],
   "metadata": {
    "collapsed": false
   }
  },
  {
   "cell_type": "code",
   "execution_count": 4,
   "outputs": [
    {
     "data": {
      "text/plain": "31"
     },
     "execution_count": 4,
     "metadata": {},
     "output_type": "execute_result"
    }
   ],
   "source": [
    "df_resultados[\"home_score\"].max()"
   ],
   "metadata": {
    "collapsed": false,
    "ExecuteTime": {
     "end_time": "2023-07-24T13:26:14.871710100Z",
     "start_time": "2023-07-24T13:26:14.840111700Z"
    }
   }
  },
  {
   "cell_type": "code",
   "execution_count": 5,
   "outputs": [
    {
     "data": {
      "text/plain": "21"
     },
     "execution_count": 5,
     "metadata": {},
     "output_type": "execute_result"
    }
   ],
   "source": [
    "df_resultados[\"away_score\"].max()"
   ],
   "metadata": {
    "collapsed": false,
    "ExecuteTime": {
     "end_time": "2023-07-24T13:26:25.454645200Z",
     "start_time": "2023-07-24T13:26:25.396729100Z"
    }
   }
  },
  {
   "cell_type": "markdown",
   "source": [
    "##### 3.2 Quais foram esses jogos?"
   ],
   "metadata": {
    "collapsed": false
   }
  },
  {
   "cell_type": "code",
   "execution_count": 6,
   "outputs": [
    {
     "data": {
      "text/plain": "             date  home_team       away_team  home_score  away_score  \\\n24160  2001-04-11  Australia  American Samoa          31           0   \n\n                         tournament           city    country  neutral  \n24160  FIFA World Cup qualification  Coffs Harbour  Australia    False  ",
      "text/html": "<div>\n<style scoped>\n    .dataframe tbody tr th:only-of-type {\n        vertical-align: middle;\n    }\n\n    .dataframe tbody tr th {\n        vertical-align: top;\n    }\n\n    .dataframe thead th {\n        text-align: right;\n    }\n</style>\n<table border=\"1\" class=\"dataframe\">\n  <thead>\n    <tr style=\"text-align: right;\">\n      <th></th>\n      <th>date</th>\n      <th>home_team</th>\n      <th>away_team</th>\n      <th>home_score</th>\n      <th>away_score</th>\n      <th>tournament</th>\n      <th>city</th>\n      <th>country</th>\n      <th>neutral</th>\n    </tr>\n  </thead>\n  <tbody>\n    <tr>\n      <th>24160</th>\n      <td>2001-04-11</td>\n      <td>Australia</td>\n      <td>American Samoa</td>\n      <td>31</td>\n      <td>0</td>\n      <td>FIFA World Cup qualification</td>\n      <td>Coffs Harbour</td>\n      <td>Australia</td>\n      <td>False</td>\n    </tr>\n  </tbody>\n</table>\n</div>"
     },
     "execution_count": 6,
     "metadata": {},
     "output_type": "execute_result"
    }
   ],
   "source": [
    "df_resultados[df_resultados[\"home_score\"] == 31]"
   ],
   "metadata": {
    "collapsed": false,
    "ExecuteTime": {
     "end_time": "2023-07-24T13:26:44.808684800Z",
     "start_time": "2023-07-24T13:26:44.768463Z"
    }
   }
  },
  {
   "cell_type": "code",
   "execution_count": 7,
   "outputs": [
    {
     "data": {
      "text/plain": "             date home_team    away_team  home_score  away_score  \\\n27753  2005-03-11      Guam  North Korea           0          21   \n\n              tournament    city country  neutral  \n27753  EAFF Championship  Taipei  Taiwan     True  ",
      "text/html": "<div>\n<style scoped>\n    .dataframe tbody tr th:only-of-type {\n        vertical-align: middle;\n    }\n\n    .dataframe tbody tr th {\n        vertical-align: top;\n    }\n\n    .dataframe thead th {\n        text-align: right;\n    }\n</style>\n<table border=\"1\" class=\"dataframe\">\n  <thead>\n    <tr style=\"text-align: right;\">\n      <th></th>\n      <th>date</th>\n      <th>home_team</th>\n      <th>away_team</th>\n      <th>home_score</th>\n      <th>away_score</th>\n      <th>tournament</th>\n      <th>city</th>\n      <th>country</th>\n      <th>neutral</th>\n    </tr>\n  </thead>\n  <tbody>\n    <tr>\n      <th>27753</th>\n      <td>2005-03-11</td>\n      <td>Guam</td>\n      <td>North Korea</td>\n      <td>0</td>\n      <td>21</td>\n      <td>EAFF Championship</td>\n      <td>Taipei</td>\n      <td>Taiwan</td>\n      <td>True</td>\n    </tr>\n  </tbody>\n</table>\n</div>"
     },
     "execution_count": 7,
     "metadata": {},
     "output_type": "execute_result"
    }
   ],
   "source": [
    "df_resultados[df_resultados[\"away_score\"] == 21]"
   ],
   "metadata": {
    "collapsed": false,
    "ExecuteTime": {
     "end_time": "2023-07-24T13:27:00.544206500Z",
     "start_time": "2023-07-24T13:27:00.528504700Z"
    }
   }
  },
  {
   "cell_type": "markdown",
   "source": [
    "#### 4. Crie colunas"
   ],
   "metadata": {
    "collapsed": false
   }
  },
  {
   "cell_type": "markdown",
   "source": [
    "##### 4.1. Primeiramente crie um dataframe auxiliar, para que não precise importar caso faça algo errado"
   ],
   "metadata": {
    "collapsed": false
   }
  },
  {
   "cell_type": "code",
   "execution_count": 8,
   "outputs": [
    {
     "data": {
      "text/plain": "         date home_team away_team  home_score  away_score tournament     city  \\\n0  1872-11-30  Scotland   England           0           0   Friendly  Glasgow   \n1  1873-03-08   England  Scotland           4           2   Friendly   London   \n2  1874-03-07  Scotland   England           2           1   Friendly  Glasgow   \n3  1875-03-06   England  Scotland           2           2   Friendly   London   \n4  1876-03-04  Scotland   England           3           0   Friendly  Glasgow   \n\n    country  neutral  \n0  Scotland    False  \n1   England    False  \n2  Scotland    False  \n3   England    False  \n4  Scotland    False  ",
      "text/html": "<div>\n<style scoped>\n    .dataframe tbody tr th:only-of-type {\n        vertical-align: middle;\n    }\n\n    .dataframe tbody tr th {\n        vertical-align: top;\n    }\n\n    .dataframe thead th {\n        text-align: right;\n    }\n</style>\n<table border=\"1\" class=\"dataframe\">\n  <thead>\n    <tr style=\"text-align: right;\">\n      <th></th>\n      <th>date</th>\n      <th>home_team</th>\n      <th>away_team</th>\n      <th>home_score</th>\n      <th>away_score</th>\n      <th>tournament</th>\n      <th>city</th>\n      <th>country</th>\n      <th>neutral</th>\n    </tr>\n  </thead>\n  <tbody>\n    <tr>\n      <th>0</th>\n      <td>1872-11-30</td>\n      <td>Scotland</td>\n      <td>England</td>\n      <td>0</td>\n      <td>0</td>\n      <td>Friendly</td>\n      <td>Glasgow</td>\n      <td>Scotland</td>\n      <td>False</td>\n    </tr>\n    <tr>\n      <th>1</th>\n      <td>1873-03-08</td>\n      <td>England</td>\n      <td>Scotland</td>\n      <td>4</td>\n      <td>2</td>\n      <td>Friendly</td>\n      <td>London</td>\n      <td>England</td>\n      <td>False</td>\n    </tr>\n    <tr>\n      <th>2</th>\n      <td>1874-03-07</td>\n      <td>Scotland</td>\n      <td>England</td>\n      <td>2</td>\n      <td>1</td>\n      <td>Friendly</td>\n      <td>Glasgow</td>\n      <td>Scotland</td>\n      <td>False</td>\n    </tr>\n    <tr>\n      <th>3</th>\n      <td>1875-03-06</td>\n      <td>England</td>\n      <td>Scotland</td>\n      <td>2</td>\n      <td>2</td>\n      <td>Friendly</td>\n      <td>London</td>\n      <td>England</td>\n      <td>False</td>\n    </tr>\n    <tr>\n      <th>4</th>\n      <td>1876-03-04</td>\n      <td>Scotland</td>\n      <td>England</td>\n      <td>3</td>\n      <td>0</td>\n      <td>Friendly</td>\n      <td>Glasgow</td>\n      <td>Scotland</td>\n      <td>False</td>\n    </tr>\n  </tbody>\n</table>\n</div>"
     },
     "execution_count": 8,
     "metadata": {},
     "output_type": "execute_result"
    }
   ],
   "source": [
    "df_paises = df_resultados.copy()\n",
    "df_paises.head()"
   ],
   "metadata": {
    "collapsed": false,
    "ExecuteTime": {
     "end_time": "2023-07-24T13:30:51.832444400Z",
     "start_time": "2023-07-24T13:30:51.770135100Z"
    }
   }
  },
  {
   "cell_type": "markdown",
   "source": [
    "##### 4.2 Crie uma coluna com a quantia total de gols em cada partida, chamada \"total_goals\""
   ],
   "metadata": {
    "collapsed": false
   }
  },
  {
   "cell_type": "code",
   "execution_count": 10,
   "outputs": [
    {
     "data": {
      "text/plain": "         date home_team away_team  home_score  away_score tournament     city  \\\n0  1872-11-30  Scotland   England           0           0   Friendly  Glasgow   \n1  1873-03-08   England  Scotland           4           2   Friendly   London   \n2  1874-03-07  Scotland   England           2           1   Friendly  Glasgow   \n3  1875-03-06   England  Scotland           2           2   Friendly   London   \n4  1876-03-04  Scotland   England           3           0   Friendly  Glasgow   \n\n    country  neutral  total_goals  \n0  Scotland    False            0  \n1   England    False            6  \n2  Scotland    False            3  \n3   England    False            4  \n4  Scotland    False            3  ",
      "text/html": "<div>\n<style scoped>\n    .dataframe tbody tr th:only-of-type {\n        vertical-align: middle;\n    }\n\n    .dataframe tbody tr th {\n        vertical-align: top;\n    }\n\n    .dataframe thead th {\n        text-align: right;\n    }\n</style>\n<table border=\"1\" class=\"dataframe\">\n  <thead>\n    <tr style=\"text-align: right;\">\n      <th></th>\n      <th>date</th>\n      <th>home_team</th>\n      <th>away_team</th>\n      <th>home_score</th>\n      <th>away_score</th>\n      <th>tournament</th>\n      <th>city</th>\n      <th>country</th>\n      <th>neutral</th>\n      <th>total_goals</th>\n    </tr>\n  </thead>\n  <tbody>\n    <tr>\n      <th>0</th>\n      <td>1872-11-30</td>\n      <td>Scotland</td>\n      <td>England</td>\n      <td>0</td>\n      <td>0</td>\n      <td>Friendly</td>\n      <td>Glasgow</td>\n      <td>Scotland</td>\n      <td>False</td>\n      <td>0</td>\n    </tr>\n    <tr>\n      <th>1</th>\n      <td>1873-03-08</td>\n      <td>England</td>\n      <td>Scotland</td>\n      <td>4</td>\n      <td>2</td>\n      <td>Friendly</td>\n      <td>London</td>\n      <td>England</td>\n      <td>False</td>\n      <td>6</td>\n    </tr>\n    <tr>\n      <th>2</th>\n      <td>1874-03-07</td>\n      <td>Scotland</td>\n      <td>England</td>\n      <td>2</td>\n      <td>1</td>\n      <td>Friendly</td>\n      <td>Glasgow</td>\n      <td>Scotland</td>\n      <td>False</td>\n      <td>3</td>\n    </tr>\n    <tr>\n      <th>3</th>\n      <td>1875-03-06</td>\n      <td>England</td>\n      <td>Scotland</td>\n      <td>2</td>\n      <td>2</td>\n      <td>Friendly</td>\n      <td>London</td>\n      <td>England</td>\n      <td>False</td>\n      <td>4</td>\n    </tr>\n    <tr>\n      <th>4</th>\n      <td>1876-03-04</td>\n      <td>Scotland</td>\n      <td>England</td>\n      <td>3</td>\n      <td>0</td>\n      <td>Friendly</td>\n      <td>Glasgow</td>\n      <td>Scotland</td>\n      <td>False</td>\n      <td>3</td>\n    </tr>\n  </tbody>\n</table>\n</div>"
     },
     "execution_count": 10,
     "metadata": {},
     "output_type": "execute_result"
    }
   ],
   "source": [
    "df_paises[\"total_goals\"] = df_paises[\"home_score\"] + df_paises[\"away_score\"]\n",
    "df_paises.head()"
   ],
   "metadata": {
    "collapsed": false,
    "ExecuteTime": {
     "end_time": "2023-07-24T13:31:51.390213900Z",
     "start_time": "2023-07-24T13:31:51.327753Z"
    }
   }
  },
  {
   "cell_type": "markdown",
   "source": [
    "##### 4.3 Crie uma coluna indicando se o time mandante ganhou o jogo retornando true ou false chamada \"win?\""
   ],
   "metadata": {
    "collapsed": false
   }
  },
  {
   "cell_type": "code",
   "execution_count": 11,
   "outputs": [
    {
     "data": {
      "text/plain": "         date home_team away_team  home_score  away_score tournament     city  \\\n0  1872-11-30  Scotland   England           0           0   Friendly  Glasgow   \n1  1873-03-08   England  Scotland           4           2   Friendly   London   \n2  1874-03-07  Scotland   England           2           1   Friendly  Glasgow   \n3  1875-03-06   England  Scotland           2           2   Friendly   London   \n4  1876-03-04  Scotland   England           3           0   Friendly  Glasgow   \n\n    country  neutral  total_goals   Win?  \n0  Scotland    False            0  False  \n1   England    False            6   True  \n2  Scotland    False            3   True  \n3   England    False            4  False  \n4  Scotland    False            3   True  ",
      "text/html": "<div>\n<style scoped>\n    .dataframe tbody tr th:only-of-type {\n        vertical-align: middle;\n    }\n\n    .dataframe tbody tr th {\n        vertical-align: top;\n    }\n\n    .dataframe thead th {\n        text-align: right;\n    }\n</style>\n<table border=\"1\" class=\"dataframe\">\n  <thead>\n    <tr style=\"text-align: right;\">\n      <th></th>\n      <th>date</th>\n      <th>home_team</th>\n      <th>away_team</th>\n      <th>home_score</th>\n      <th>away_score</th>\n      <th>tournament</th>\n      <th>city</th>\n      <th>country</th>\n      <th>neutral</th>\n      <th>total_goals</th>\n      <th>Win?</th>\n    </tr>\n  </thead>\n  <tbody>\n    <tr>\n      <th>0</th>\n      <td>1872-11-30</td>\n      <td>Scotland</td>\n      <td>England</td>\n      <td>0</td>\n      <td>0</td>\n      <td>Friendly</td>\n      <td>Glasgow</td>\n      <td>Scotland</td>\n      <td>False</td>\n      <td>0</td>\n      <td>False</td>\n    </tr>\n    <tr>\n      <th>1</th>\n      <td>1873-03-08</td>\n      <td>England</td>\n      <td>Scotland</td>\n      <td>4</td>\n      <td>2</td>\n      <td>Friendly</td>\n      <td>London</td>\n      <td>England</td>\n      <td>False</td>\n      <td>6</td>\n      <td>True</td>\n    </tr>\n    <tr>\n      <th>2</th>\n      <td>1874-03-07</td>\n      <td>Scotland</td>\n      <td>England</td>\n      <td>2</td>\n      <td>1</td>\n      <td>Friendly</td>\n      <td>Glasgow</td>\n      <td>Scotland</td>\n      <td>False</td>\n      <td>3</td>\n      <td>True</td>\n    </tr>\n    <tr>\n      <th>3</th>\n      <td>1875-03-06</td>\n      <td>England</td>\n      <td>Scotland</td>\n      <td>2</td>\n      <td>2</td>\n      <td>Friendly</td>\n      <td>London</td>\n      <td>England</td>\n      <td>False</td>\n      <td>4</td>\n      <td>False</td>\n    </tr>\n    <tr>\n      <th>4</th>\n      <td>1876-03-04</td>\n      <td>Scotland</td>\n      <td>England</td>\n      <td>3</td>\n      <td>0</td>\n      <td>Friendly</td>\n      <td>Glasgow</td>\n      <td>Scotland</td>\n      <td>False</td>\n      <td>3</td>\n      <td>True</td>\n    </tr>\n  </tbody>\n</table>\n</div>"
     },
     "execution_count": 11,
     "metadata": {},
     "output_type": "execute_result"
    }
   ],
   "source": [
    "df_paises[\"Win?\"] = df_paises[\"home_score\"] > df_paises[\"away_score\"]\n",
    "df_paises.head()"
   ],
   "metadata": {
    "collapsed": false,
    "ExecuteTime": {
     "end_time": "2023-07-24T13:44:13.950809100Z",
     "start_time": "2023-07-24T13:44:13.926430900Z"
    }
   }
  },
  {
   "cell_type": "markdown",
   "source": [
    "##### 4.4 Coluna que indica se virou passeio, se diferença de gols entre os times >= 4 retorne True na coluna \"Passeio?\""
   ],
   "metadata": {
    "collapsed": false
   }
  },
  {
   "cell_type": "markdown",
   "source": [
    "Caso precise de ajuda com módulo, consulte a <a href=\"https://pandas.pydata.org/docs/reference/api/pandas.Series.abs.html\"> biblioteca </a>"
   ],
   "metadata": {
    "collapsed": false
   }
  },
  {
   "cell_type": "code",
   "execution_count": 14,
   "outputs": [
    {
     "data": {
      "text/plain": "         date home_team away_team  home_score  away_score tournament     city  \\\n0  1872-11-30  Scotland   England           0           0   Friendly  Glasgow   \n1  1873-03-08   England  Scotland           4           2   Friendly   London   \n2  1874-03-07  Scotland   England           2           1   Friendly  Glasgow   \n3  1875-03-06   England  Scotland           2           2   Friendly   London   \n4  1876-03-04  Scotland   England           3           0   Friendly  Glasgow   \n5  1876-03-25  Scotland     Wales           4           0   Friendly  Glasgow   \n6  1877-03-03   England  Scotland           1           3   Friendly   London   \n7  1877-03-05     Wales  Scotland           0           2   Friendly  Wrexham   \n8  1878-03-02  Scotland   England           7           2   Friendly  Glasgow   \n9  1878-03-23  Scotland     Wales           9           0   Friendly  Glasgow   \n\n    country  neutral  total_goals   Win?  Passeio?  \n0  Scotland    False            0  False     False  \n1   England    False            6   True     False  \n2  Scotland    False            3   True     False  \n3   England    False            4  False     False  \n4  Scotland    False            3   True     False  \n5  Scotland    False            4   True      True  \n6   England    False            4  False     False  \n7     Wales    False            2  False     False  \n8  Scotland    False            9   True      True  \n9  Scotland    False            9   True      True  ",
      "text/html": "<div>\n<style scoped>\n    .dataframe tbody tr th:only-of-type {\n        vertical-align: middle;\n    }\n\n    .dataframe tbody tr th {\n        vertical-align: top;\n    }\n\n    .dataframe thead th {\n        text-align: right;\n    }\n</style>\n<table border=\"1\" class=\"dataframe\">\n  <thead>\n    <tr style=\"text-align: right;\">\n      <th></th>\n      <th>date</th>\n      <th>home_team</th>\n      <th>away_team</th>\n      <th>home_score</th>\n      <th>away_score</th>\n      <th>tournament</th>\n      <th>city</th>\n      <th>country</th>\n      <th>neutral</th>\n      <th>total_goals</th>\n      <th>Win?</th>\n      <th>Passeio?</th>\n    </tr>\n  </thead>\n  <tbody>\n    <tr>\n      <th>0</th>\n      <td>1872-11-30</td>\n      <td>Scotland</td>\n      <td>England</td>\n      <td>0</td>\n      <td>0</td>\n      <td>Friendly</td>\n      <td>Glasgow</td>\n      <td>Scotland</td>\n      <td>False</td>\n      <td>0</td>\n      <td>False</td>\n      <td>False</td>\n    </tr>\n    <tr>\n      <th>1</th>\n      <td>1873-03-08</td>\n      <td>England</td>\n      <td>Scotland</td>\n      <td>4</td>\n      <td>2</td>\n      <td>Friendly</td>\n      <td>London</td>\n      <td>England</td>\n      <td>False</td>\n      <td>6</td>\n      <td>True</td>\n      <td>False</td>\n    </tr>\n    <tr>\n      <th>2</th>\n      <td>1874-03-07</td>\n      <td>Scotland</td>\n      <td>England</td>\n      <td>2</td>\n      <td>1</td>\n      <td>Friendly</td>\n      <td>Glasgow</td>\n      <td>Scotland</td>\n      <td>False</td>\n      <td>3</td>\n      <td>True</td>\n      <td>False</td>\n    </tr>\n    <tr>\n      <th>3</th>\n      <td>1875-03-06</td>\n      <td>England</td>\n      <td>Scotland</td>\n      <td>2</td>\n      <td>2</td>\n      <td>Friendly</td>\n      <td>London</td>\n      <td>England</td>\n      <td>False</td>\n      <td>4</td>\n      <td>False</td>\n      <td>False</td>\n    </tr>\n    <tr>\n      <th>4</th>\n      <td>1876-03-04</td>\n      <td>Scotland</td>\n      <td>England</td>\n      <td>3</td>\n      <td>0</td>\n      <td>Friendly</td>\n      <td>Glasgow</td>\n      <td>Scotland</td>\n      <td>False</td>\n      <td>3</td>\n      <td>True</td>\n      <td>False</td>\n    </tr>\n    <tr>\n      <th>5</th>\n      <td>1876-03-25</td>\n      <td>Scotland</td>\n      <td>Wales</td>\n      <td>4</td>\n      <td>0</td>\n      <td>Friendly</td>\n      <td>Glasgow</td>\n      <td>Scotland</td>\n      <td>False</td>\n      <td>4</td>\n      <td>True</td>\n      <td>True</td>\n    </tr>\n    <tr>\n      <th>6</th>\n      <td>1877-03-03</td>\n      <td>England</td>\n      <td>Scotland</td>\n      <td>1</td>\n      <td>3</td>\n      <td>Friendly</td>\n      <td>London</td>\n      <td>England</td>\n      <td>False</td>\n      <td>4</td>\n      <td>False</td>\n      <td>False</td>\n    </tr>\n    <tr>\n      <th>7</th>\n      <td>1877-03-05</td>\n      <td>Wales</td>\n      <td>Scotland</td>\n      <td>0</td>\n      <td>2</td>\n      <td>Friendly</td>\n      <td>Wrexham</td>\n      <td>Wales</td>\n      <td>False</td>\n      <td>2</td>\n      <td>False</td>\n      <td>False</td>\n    </tr>\n    <tr>\n      <th>8</th>\n      <td>1878-03-02</td>\n      <td>Scotland</td>\n      <td>England</td>\n      <td>7</td>\n      <td>2</td>\n      <td>Friendly</td>\n      <td>Glasgow</td>\n      <td>Scotland</td>\n      <td>False</td>\n      <td>9</td>\n      <td>True</td>\n      <td>True</td>\n    </tr>\n    <tr>\n      <th>9</th>\n      <td>1878-03-23</td>\n      <td>Scotland</td>\n      <td>Wales</td>\n      <td>9</td>\n      <td>0</td>\n      <td>Friendly</td>\n      <td>Glasgow</td>\n      <td>Scotland</td>\n      <td>False</td>\n      <td>9</td>\n      <td>True</td>\n      <td>True</td>\n    </tr>\n  </tbody>\n</table>\n</div>"
     },
     "execution_count": 14,
     "metadata": {},
     "output_type": "execute_result"
    }
   ],
   "source": [
    "df_paises[\"Passeio?\"] = (df_paises[\"home_score\"] - df_paises[\"away_score\"]).abs()\n",
    "df_paises[\"Passeio?\"] = df_paises[\"Passeio?\"] >= 4\n",
    "df_paises.head(10)"
   ],
   "metadata": {
    "collapsed": false,
    "ExecuteTime": {
     "end_time": "2023-07-24T13:49:15.259755600Z",
     "start_time": "2023-07-24T13:49:15.246607500Z"
    }
   }
  },
  {
   "cell_type": "markdown",
   "source": [
    "##### 4.5 Coluna que indica se o time da casa Ganhou, Perdeu ou empatou, chamada \"result\""
   ],
   "metadata": {
    "collapsed": false
   }
  },
  {
   "cell_type": "code",
   "execution_count": 16,
   "outputs": [
    {
     "data": {
      "text/plain": "             date      home_team away_team  home_score  away_score  \\\n0      1872-11-30       Scotland   England           0           0   \n1      1873-03-08        England  Scotland           4           2   \n2      1874-03-07       Scotland   England           2           1   \n3      1875-03-06        England  Scotland           2           2   \n4      1876-03-04       Scotland   England           3           0   \n...           ...            ...       ...         ...         ...   \n44757  2023-07-09  United States    Canada           2           2   \n44758  2023-07-12  United States    Panama           1           1   \n44759  2023-07-12        Jamaica    Mexico           0           3   \n44760  2023-07-16         Kernow     Sápmi           2           1   \n44761  2023-07-16         Mexico    Panama           1           0   \n\n                                    tournament        city        country  \\\n0                                     Friendly     Glasgow       Scotland   \n1                                     Friendly      London        England   \n2                                     Friendly     Glasgow       Scotland   \n3                                     Friendly      London        England   \n4                                     Friendly     Glasgow       Scotland   \n...                                        ...         ...            ...   \n44757                                 Gold Cup  Cincinnati  United States   \n44758                                 Gold Cup   San Diego  United States   \n44759                                 Gold Cup    Paradise  United States   \n44760  CONIFA World Football Cup qualification    Falmouth        England   \n44761                                 Gold Cup   Inglewood  United States   \n\n       neutral  total_goals   Win?  Passeio?   result  \n0        False            0  False     False  Empatou  \n1        False            6   True     False   Ganhou  \n2        False            3   True     False   Ganhou  \n3        False            4  False     False  Empatou  \n4        False            3   True     False   Ganhou  \n...        ...          ...    ...       ...      ...  \n44757    False            4  False     False  Empatou  \n44758    False            2  False     False  Empatou  \n44759     True            3  False     False   Perdeu  \n44760    False            3   True     False   Ganhou  \n44761     True            1   True     False   Ganhou  \n\n[44762 rows x 13 columns]",
      "text/html": "<div>\n<style scoped>\n    .dataframe tbody tr th:only-of-type {\n        vertical-align: middle;\n    }\n\n    .dataframe tbody tr th {\n        vertical-align: top;\n    }\n\n    .dataframe thead th {\n        text-align: right;\n    }\n</style>\n<table border=\"1\" class=\"dataframe\">\n  <thead>\n    <tr style=\"text-align: right;\">\n      <th></th>\n      <th>date</th>\n      <th>home_team</th>\n      <th>away_team</th>\n      <th>home_score</th>\n      <th>away_score</th>\n      <th>tournament</th>\n      <th>city</th>\n      <th>country</th>\n      <th>neutral</th>\n      <th>total_goals</th>\n      <th>Win?</th>\n      <th>Passeio?</th>\n      <th>result</th>\n    </tr>\n  </thead>\n  <tbody>\n    <tr>\n      <th>0</th>\n      <td>1872-11-30</td>\n      <td>Scotland</td>\n      <td>England</td>\n      <td>0</td>\n      <td>0</td>\n      <td>Friendly</td>\n      <td>Glasgow</td>\n      <td>Scotland</td>\n      <td>False</td>\n      <td>0</td>\n      <td>False</td>\n      <td>False</td>\n      <td>Empatou</td>\n    </tr>\n    <tr>\n      <th>1</th>\n      <td>1873-03-08</td>\n      <td>England</td>\n      <td>Scotland</td>\n      <td>4</td>\n      <td>2</td>\n      <td>Friendly</td>\n      <td>London</td>\n      <td>England</td>\n      <td>False</td>\n      <td>6</td>\n      <td>True</td>\n      <td>False</td>\n      <td>Ganhou</td>\n    </tr>\n    <tr>\n      <th>2</th>\n      <td>1874-03-07</td>\n      <td>Scotland</td>\n      <td>England</td>\n      <td>2</td>\n      <td>1</td>\n      <td>Friendly</td>\n      <td>Glasgow</td>\n      <td>Scotland</td>\n      <td>False</td>\n      <td>3</td>\n      <td>True</td>\n      <td>False</td>\n      <td>Ganhou</td>\n    </tr>\n    <tr>\n      <th>3</th>\n      <td>1875-03-06</td>\n      <td>England</td>\n      <td>Scotland</td>\n      <td>2</td>\n      <td>2</td>\n      <td>Friendly</td>\n      <td>London</td>\n      <td>England</td>\n      <td>False</td>\n      <td>4</td>\n      <td>False</td>\n      <td>False</td>\n      <td>Empatou</td>\n    </tr>\n    <tr>\n      <th>4</th>\n      <td>1876-03-04</td>\n      <td>Scotland</td>\n      <td>England</td>\n      <td>3</td>\n      <td>0</td>\n      <td>Friendly</td>\n      <td>Glasgow</td>\n      <td>Scotland</td>\n      <td>False</td>\n      <td>3</td>\n      <td>True</td>\n      <td>False</td>\n      <td>Ganhou</td>\n    </tr>\n    <tr>\n      <th>...</th>\n      <td>...</td>\n      <td>...</td>\n      <td>...</td>\n      <td>...</td>\n      <td>...</td>\n      <td>...</td>\n      <td>...</td>\n      <td>...</td>\n      <td>...</td>\n      <td>...</td>\n      <td>...</td>\n      <td>...</td>\n      <td>...</td>\n    </tr>\n    <tr>\n      <th>44757</th>\n      <td>2023-07-09</td>\n      <td>United States</td>\n      <td>Canada</td>\n      <td>2</td>\n      <td>2</td>\n      <td>Gold Cup</td>\n      <td>Cincinnati</td>\n      <td>United States</td>\n      <td>False</td>\n      <td>4</td>\n      <td>False</td>\n      <td>False</td>\n      <td>Empatou</td>\n    </tr>\n    <tr>\n      <th>44758</th>\n      <td>2023-07-12</td>\n      <td>United States</td>\n      <td>Panama</td>\n      <td>1</td>\n      <td>1</td>\n      <td>Gold Cup</td>\n      <td>San Diego</td>\n      <td>United States</td>\n      <td>False</td>\n      <td>2</td>\n      <td>False</td>\n      <td>False</td>\n      <td>Empatou</td>\n    </tr>\n    <tr>\n      <th>44759</th>\n      <td>2023-07-12</td>\n      <td>Jamaica</td>\n      <td>Mexico</td>\n      <td>0</td>\n      <td>3</td>\n      <td>Gold Cup</td>\n      <td>Paradise</td>\n      <td>United States</td>\n      <td>True</td>\n      <td>3</td>\n      <td>False</td>\n      <td>False</td>\n      <td>Perdeu</td>\n    </tr>\n    <tr>\n      <th>44760</th>\n      <td>2023-07-16</td>\n      <td>Kernow</td>\n      <td>Sápmi</td>\n      <td>2</td>\n      <td>1</td>\n      <td>CONIFA World Football Cup qualification</td>\n      <td>Falmouth</td>\n      <td>England</td>\n      <td>False</td>\n      <td>3</td>\n      <td>True</td>\n      <td>False</td>\n      <td>Ganhou</td>\n    </tr>\n    <tr>\n      <th>44761</th>\n      <td>2023-07-16</td>\n      <td>Mexico</td>\n      <td>Panama</td>\n      <td>1</td>\n      <td>0</td>\n      <td>Gold Cup</td>\n      <td>Inglewood</td>\n      <td>United States</td>\n      <td>True</td>\n      <td>1</td>\n      <td>True</td>\n      <td>False</td>\n      <td>Ganhou</td>\n    </tr>\n  </tbody>\n</table>\n<p>44762 rows × 13 columns</p>\n</div>"
     },
     "execution_count": 16,
     "metadata": {},
     "output_type": "execute_result"
    }
   ],
   "source": [
    "def home_win(gols_casa, gols_visi):\n",
    "    if gols_casa > gols_visi:\n",
    "        return \"Ganhou\"\n",
    "    elif gols_visi == gols_casa:\n",
    "        return \"Empatou\"\n",
    "    else:\n",
    "        return \"Perdeu\"\n",
    "\n",
    "df_paises[\"result\"] = df_paises.apply(lambda x: home_win(x[\"home_score\"], x[\"away_score\"]), axis=1)\n",
    "df_paises"
   ],
   "metadata": {
    "collapsed": false,
    "ExecuteTime": {
     "end_time": "2023-07-24T13:57:50.672795100Z",
     "start_time": "2023-07-24T13:57:50.407892900Z"
    }
   }
  },
  {
   "cell_type": "markdown",
   "source": [
    "#### 5. Perguntas rápidas"
   ],
   "metadata": {
    "collapsed": false
   }
  },
  {
   "cell_type": "markdown",
   "source": [
    "##### 5.1 Quantas vz o time vencedor foi o mandante?"
   ],
   "metadata": {
    "collapsed": false
   }
  },
  {
   "cell_type": "code",
   "execution_count": 17,
   "outputs": [
    {
     "data": {
      "text/plain": "21797"
     },
     "execution_count": 17,
     "metadata": {},
     "output_type": "execute_result"
    }
   ],
   "source": [
    "df_paises[\"Win?\"].sum()"
   ],
   "metadata": {
    "collapsed": false,
    "ExecuteTime": {
     "end_time": "2023-07-24T13:58:50.214849700Z",
     "start_time": "2023-07-24T13:58:50.199201300Z"
    }
   }
  },
  {
   "cell_type": "markdown",
   "source": [
    "##### 5.2 Faça uma tabela dinâmica contando linhas, com resultado no índice e passeio nas colunas. Chame o DF novo de df_paises_pt"
   ],
   "metadata": {
    "collapsed": false
   }
  },
  {
   "cell_type": "code",
   "execution_count": 19,
   "outputs": [
    {
     "data": {
      "text/plain": "Passeio?    False   True \nresult                   \nEmpatou   10294.0     0.0\nGanhou    18023.0  3774.0\nPerdeu    11196.0  1475.0",
      "text/html": "<div>\n<style scoped>\n    .dataframe tbody tr th:only-of-type {\n        vertical-align: middle;\n    }\n\n    .dataframe tbody tr th {\n        vertical-align: top;\n    }\n\n    .dataframe thead th {\n        text-align: right;\n    }\n</style>\n<table border=\"1\" class=\"dataframe\">\n  <thead>\n    <tr style=\"text-align: right;\">\n      <th>Passeio?</th>\n      <th>False</th>\n      <th>True</th>\n    </tr>\n    <tr>\n      <th>result</th>\n      <th></th>\n      <th></th>\n    </tr>\n  </thead>\n  <tbody>\n    <tr>\n      <th>Empatou</th>\n      <td>10294.0</td>\n      <td>0.0</td>\n    </tr>\n    <tr>\n      <th>Ganhou</th>\n      <td>18023.0</td>\n      <td>3774.0</td>\n    </tr>\n    <tr>\n      <th>Perdeu</th>\n      <td>11196.0</td>\n      <td>1475.0</td>\n    </tr>\n  </tbody>\n</table>\n</div>"
     },
     "execution_count": 19,
     "metadata": {},
     "output_type": "execute_result"
    }
   ],
   "source": [
    "df_paises_pt = df_paises.pivot_table(index=\"result\", values=\"city\", columns=\"Passeio?\", aggfunc=\"count\")\n",
    "df_paises_pt = df_paises_pt.fillna(0)\n",
    "df_paises_pt"
   ],
   "metadata": {
    "collapsed": false,
    "ExecuteTime": {
     "end_time": "2023-07-24T14:01:48.274514500Z",
     "start_time": "2023-07-24T14:01:48.254932800Z"
    }
   }
  },
  {
   "cell_type": "markdown",
   "source": [
    "##### 5.3 Quantas vezes Galvão falou \"Virou passeio!!!\"?"
   ],
   "metadata": {
    "collapsed": false
   }
  },
  {
   "cell_type": "code",
   "execution_count": 21,
   "outputs": [
    {
     "data": {
      "text/plain": "5249.0"
     },
     "execution_count": 21,
     "metadata": {},
     "output_type": "execute_result"
    }
   ],
   "source": [
    "df_paises_pt[True].sum()"
   ],
   "metadata": {
    "collapsed": false,
    "ExecuteTime": {
     "end_time": "2023-07-24T14:03:19.678765700Z",
     "start_time": "2023-07-24T14:03:19.662881200Z"
    }
   }
  },
  {
   "cell_type": "markdown",
   "source": [
    "##### 5.4 Plote estatísticas sobre a quantia de gols nos jogos do Brasil"
   ],
   "metadata": {
    "collapsed": false
   }
  },
  {
   "cell_type": "code",
   "execution_count": 22,
   "outputs": [
    {
     "data": {
      "text/plain": "           date  home_team away_team  home_score  away_score    tournament  \\\n410  1914-09-20  Argentina    Brazil           3           0      Friendly   \n411  1914-09-27  Argentina    Brazil           0           1     Copa Roca   \n441  1916-07-08     Brazil     Chile           1           1  Copa América   \n442  1916-07-10  Argentina    Brazil           1           1  Copa América   \n444  1916-07-12     Brazil   Uruguay           1           2  Copa América   \n\n             city    country  neutral  total_goals   Win?  Passeio?   result  \n410  Buenos Aires  Argentina    False            3   True     False   Ganhou  \n411  Buenos Aires  Argentina    False            1  False     False   Perdeu  \n441  Buenos Aires  Argentina     True            2  False     False  Empatou  \n442  Buenos Aires  Argentina    False            2  False     False  Empatou  \n444  Buenos Aires  Argentina     True            3  False     False   Perdeu  ",
      "text/html": "<div>\n<style scoped>\n    .dataframe tbody tr th:only-of-type {\n        vertical-align: middle;\n    }\n\n    .dataframe tbody tr th {\n        vertical-align: top;\n    }\n\n    .dataframe thead th {\n        text-align: right;\n    }\n</style>\n<table border=\"1\" class=\"dataframe\">\n  <thead>\n    <tr style=\"text-align: right;\">\n      <th></th>\n      <th>date</th>\n      <th>home_team</th>\n      <th>away_team</th>\n      <th>home_score</th>\n      <th>away_score</th>\n      <th>tournament</th>\n      <th>city</th>\n      <th>country</th>\n      <th>neutral</th>\n      <th>total_goals</th>\n      <th>Win?</th>\n      <th>Passeio?</th>\n      <th>result</th>\n    </tr>\n  </thead>\n  <tbody>\n    <tr>\n      <th>410</th>\n      <td>1914-09-20</td>\n      <td>Argentina</td>\n      <td>Brazil</td>\n      <td>3</td>\n      <td>0</td>\n      <td>Friendly</td>\n      <td>Buenos Aires</td>\n      <td>Argentina</td>\n      <td>False</td>\n      <td>3</td>\n      <td>True</td>\n      <td>False</td>\n      <td>Ganhou</td>\n    </tr>\n    <tr>\n      <th>411</th>\n      <td>1914-09-27</td>\n      <td>Argentina</td>\n      <td>Brazil</td>\n      <td>0</td>\n      <td>1</td>\n      <td>Copa Roca</td>\n      <td>Buenos Aires</td>\n      <td>Argentina</td>\n      <td>False</td>\n      <td>1</td>\n      <td>False</td>\n      <td>False</td>\n      <td>Perdeu</td>\n    </tr>\n    <tr>\n      <th>441</th>\n      <td>1916-07-08</td>\n      <td>Brazil</td>\n      <td>Chile</td>\n      <td>1</td>\n      <td>1</td>\n      <td>Copa América</td>\n      <td>Buenos Aires</td>\n      <td>Argentina</td>\n      <td>True</td>\n      <td>2</td>\n      <td>False</td>\n      <td>False</td>\n      <td>Empatou</td>\n    </tr>\n    <tr>\n      <th>442</th>\n      <td>1916-07-10</td>\n      <td>Argentina</td>\n      <td>Brazil</td>\n      <td>1</td>\n      <td>1</td>\n      <td>Copa América</td>\n      <td>Buenos Aires</td>\n      <td>Argentina</td>\n      <td>False</td>\n      <td>2</td>\n      <td>False</td>\n      <td>False</td>\n      <td>Empatou</td>\n    </tr>\n    <tr>\n      <th>444</th>\n      <td>1916-07-12</td>\n      <td>Brazil</td>\n      <td>Uruguay</td>\n      <td>1</td>\n      <td>2</td>\n      <td>Copa América</td>\n      <td>Buenos Aires</td>\n      <td>Argentina</td>\n      <td>True</td>\n      <td>3</td>\n      <td>False</td>\n      <td>False</td>\n      <td>Perdeu</td>\n    </tr>\n  </tbody>\n</table>\n</div>"
     },
     "execution_count": 22,
     "metadata": {},
     "output_type": "execute_result"
    }
   ],
   "source": [
    "df_paises_aux = df_paises[(df_paises[\"home_team\"] == \"Brazil\") | (df_paises[\"away_team\"] == \"Brazil\")]\n",
    "df_paises_aux.head()"
   ],
   "metadata": {
    "collapsed": false,
    "ExecuteTime": {
     "end_time": "2023-07-24T14:05:04.290206Z",
     "start_time": "2023-07-24T14:05:04.257787600Z"
    }
   }
  },
  {
   "cell_type": "code",
   "execution_count": 23,
   "outputs": [
    {
     "data": {
      "text/plain": "count    1026.000000\nmean        3.088694\nstd         2.025912\nmin         0.000000\n25%         2.000000\n50%         3.000000\n75%         4.000000\nmax        12.000000\nName: total_goals, dtype: float64"
     },
     "execution_count": 23,
     "metadata": {},
     "output_type": "execute_result"
    }
   ],
   "source": [
    "df_paises_aux[\"total_goals\"].describe()"
   ],
   "metadata": {
    "collapsed": false,
    "ExecuteTime": {
     "end_time": "2023-07-24T14:05:23.417271800Z",
     "start_time": "2023-07-24T14:05:23.393733300Z"
    }
   }
  },
  {
   "cell_type": "markdown",
   "source": [
    "##### 5.5 Quantas vezes o Brasil ganhou, perdeu ou empatou jogos?"
   ],
   "metadata": {
    "collapsed": false
   }
  },
  {
   "cell_type": "code",
   "execution_count": 29,
   "outputs": [
    {
     "data": {
      "text/plain": "    result  home_team\n0  Empatou        110\n1   Ganhou        428\n2   Perdeu         59",
      "text/html": "<div>\n<style scoped>\n    .dataframe tbody tr th:only-of-type {\n        vertical-align: middle;\n    }\n\n    .dataframe tbody tr th {\n        vertical-align: top;\n    }\n\n    .dataframe thead th {\n        text-align: right;\n    }\n</style>\n<table border=\"1\" class=\"dataframe\">\n  <thead>\n    <tr style=\"text-align: right;\">\n      <th></th>\n      <th>result</th>\n      <th>home_team</th>\n    </tr>\n  </thead>\n  <tbody>\n    <tr>\n      <th>0</th>\n      <td>Empatou</td>\n      <td>110</td>\n    </tr>\n    <tr>\n      <th>1</th>\n      <td>Ganhou</td>\n      <td>428</td>\n    </tr>\n    <tr>\n      <th>2</th>\n      <td>Perdeu</td>\n      <td>59</td>\n    </tr>\n  </tbody>\n</table>\n</div>"
     },
     "execution_count": 29,
     "metadata": {},
     "output_type": "execute_result"
    }
   ],
   "source": [
    "# Observando como mandante\n",
    "\n",
    "df_paises_brasilMandante = df_paises[df_paises[\"home_team\"] == \"Brazil\"].copy()\n",
    "df_paises_brasilMandante = df_paises_brasilMandante.pivot_table(index=\"result\", values=\"home_team\", aggfunc=\"count\").reset_index()\n",
    "df_paises_brasilMandante"
   ],
   "metadata": {
    "collapsed": false,
    "ExecuteTime": {
     "end_time": "2023-07-24T14:10:08.812721600Z",
     "start_time": "2023-07-24T14:10:08.796615300Z"
    }
   }
  },
  {
   "cell_type": "code",
   "execution_count": 32,
   "outputs": [
    {
     "data": {
      "text/plain": "    result  home_team\n0  Empatou         96\n1   Perdeu        104\n2   Ganhou        229",
      "text/html": "<div>\n<style scoped>\n    .dataframe tbody tr th:only-of-type {\n        vertical-align: middle;\n    }\n\n    .dataframe tbody tr th {\n        vertical-align: top;\n    }\n\n    .dataframe thead th {\n        text-align: right;\n    }\n</style>\n<table border=\"1\" class=\"dataframe\">\n  <thead>\n    <tr style=\"text-align: right;\">\n      <th></th>\n      <th>result</th>\n      <th>home_team</th>\n    </tr>\n  </thead>\n  <tbody>\n    <tr>\n      <th>0</th>\n      <td>Empatou</td>\n      <td>96</td>\n    </tr>\n    <tr>\n      <th>1</th>\n      <td>Perdeu</td>\n      <td>104</td>\n    </tr>\n    <tr>\n      <th>2</th>\n      <td>Ganhou</td>\n      <td>229</td>\n    </tr>\n  </tbody>\n</table>\n</div>"
     },
     "execution_count": 32,
     "metadata": {},
     "output_type": "execute_result"
    }
   ],
   "source": [
    "# Observando como visitante\n",
    "\n",
    "df_paises_brasilVisitante = df_paises[df_paises[\"away_team\"] == \"Brazil\"].copy()\n",
    "df_paises_brasilVisitante = df_paises_brasilVisitante.pivot_table(index=\"result\", values=\"home_team\", aggfunc=\"count\").reset_index()\n",
    "df_paises_brasilVisitante[\"result\"] = df_paises_brasilVisitante[\"result\"].replace([\"Ganhou\", \"Perdeu\"], [\"Perdeu\", \"Ganhou\"])\n",
    "df_paises_brasilVisitante"
   ],
   "metadata": {
    "collapsed": false,
    "ExecuteTime": {
     "end_time": "2023-07-24T14:12:13.010258100Z",
     "start_time": "2023-07-24T14:12:12.986659900Z"
    }
   }
  },
  {
   "cell_type": "code",
   "execution_count": 35,
   "outputs": [
    {
     "data": {
      "text/plain": "    result  home_team\n0  Empatou        206\n1   Ganhou        532\n2   Perdeu        288",
      "text/html": "<div>\n<style scoped>\n    .dataframe tbody tr th:only-of-type {\n        vertical-align: middle;\n    }\n\n    .dataframe tbody tr th {\n        vertical-align: top;\n    }\n\n    .dataframe thead th {\n        text-align: right;\n    }\n</style>\n<table border=\"1\" class=\"dataframe\">\n  <thead>\n    <tr style=\"text-align: right;\">\n      <th></th>\n      <th>result</th>\n      <th>home_team</th>\n    </tr>\n  </thead>\n  <tbody>\n    <tr>\n      <th>0</th>\n      <td>Empatou</td>\n      <td>206</td>\n    </tr>\n    <tr>\n      <th>1</th>\n      <td>Ganhou</td>\n      <td>532</td>\n    </tr>\n    <tr>\n      <th>2</th>\n      <td>Perdeu</td>\n      <td>288</td>\n    </tr>\n  </tbody>\n</table>\n</div>"
     },
     "execution_count": 35,
     "metadata": {},
     "output_type": "execute_result"
    }
   ],
   "source": [
    "df_paises_resultadosBrasil = df_paises_brasilMandante.copy()\n",
    "df_paises_resultadosBrasil[\"home_team\"] = df_paises_resultadosBrasil[\"home_team\"] + df_paises_brasilVisitante[\"home_team\"]\n",
    "df_paises_resultadosBrasil"
   ],
   "metadata": {
    "collapsed": false,
    "ExecuteTime": {
     "end_time": "2023-07-24T14:13:48.360765800Z",
     "start_time": "2023-07-24T14:13:48.341208700Z"
    }
   }
  },
  {
   "cell_type": "markdown",
   "source": [
    "##### 5.6 E em porcentagem de jogos?"
   ],
   "metadata": {
    "collapsed": false
   }
  },
  {
   "cell_type": "code",
   "execution_count": 52,
   "outputs": [
    {
     "data": {
      "text/plain": "    result  home_team      pct\n0  Empatou        206  20.07 %\n1   Ganhou        532  51.85 %\n2   Perdeu        288  28.07 %",
      "text/html": "<div>\n<style scoped>\n    .dataframe tbody tr th:only-of-type {\n        vertical-align: middle;\n    }\n\n    .dataframe tbody tr th {\n        vertical-align: top;\n    }\n\n    .dataframe thead th {\n        text-align: right;\n    }\n</style>\n<table border=\"1\" class=\"dataframe\">\n  <thead>\n    <tr style=\"text-align: right;\">\n      <th></th>\n      <th>result</th>\n      <th>home_team</th>\n      <th>pct</th>\n    </tr>\n  </thead>\n  <tbody>\n    <tr>\n      <th>0</th>\n      <td>Empatou</td>\n      <td>206</td>\n      <td>20.07 %</td>\n    </tr>\n    <tr>\n      <th>1</th>\n      <td>Ganhou</td>\n      <td>532</td>\n      <td>51.85 %</td>\n    </tr>\n    <tr>\n      <th>2</th>\n      <td>Perdeu</td>\n      <td>288</td>\n      <td>28.07 %</td>\n    </tr>\n  </tbody>\n</table>\n</div>"
     },
     "execution_count": 52,
     "metadata": {},
     "output_type": "execute_result"
    }
   ],
   "source": [
    "df_paises_resultadosBrasil[\"pct\"] = df_paises_resultadosBrasil[\"home_team\"]/df_paises_resultadosBrasil[\"home_team\"].sum()\n",
    "df_paises_resultadosBrasil[\"pct\"] = (df_paises_resultadosBrasil[\"pct\"]*100).astype(str).str[0:5] + \" %\"\n",
    "df_paises_resultadosBrasil"
   ],
   "metadata": {
    "collapsed": false,
    "ExecuteTime": {
     "end_time": "2023-07-24T14:18:41.517337800Z",
     "start_time": "2023-07-24T14:18:41.511337400Z"
    }
   }
  },
  {
   "cell_type": "markdown",
   "source": [
    "#### 6 Merge"
   ],
   "metadata": {
    "collapsed": false
   }
  },
  {
   "cell_type": "markdown",
   "source": [
    "##### 6.1 Importe os .json(): continent e names da pasta dados/Países em dois dataframes"
   ],
   "metadata": {
    "collapsed": false
   }
  },
  {
   "cell_type": "markdown",
   "source": [
    "##### 6.2 Una os dois dataframes"
   ],
   "metadata": {
    "collapsed": false
   }
  },
  {
   "cell_type": "markdown",
   "source": [
    "##### 6.3 Crie uma coluna chamada \"Continente\" que representa o continente onde a partida foi jogada"
   ],
   "metadata": {
    "collapsed": false
   }
  },
  {
   "cell_type": "markdown",
   "source": [
    "##### 6.4 Há valores nulos? Trate-os"
   ],
   "metadata": {
    "collapsed": false
   }
  },
  {
   "cell_type": "markdown",
   "source": [
    "#### 7 Perguntas não tão rápidas"
   ],
   "metadata": {
    "collapsed": false
   }
  },
  {
   "cell_type": "markdown",
   "source": [
    "##### 7.1 Quantas seleções únicas ja jogaram como mandante?"
   ],
   "metadata": {
    "collapsed": false
   }
  },
  {
   "cell_type": "markdown",
   "source": [
    "##### 7.2 Quantas seleções únicas estão na bases (mandante e visitante)?"
   ],
   "metadata": {
    "collapsed": false
   }
  },
  {
   "cell_type": "markdown",
   "source": [
    "##### 7.3 Faça uma tabela indicando as vitórias empates e derrotas do Brasil em cada continente jogado"
   ],
   "metadata": {
    "collapsed": false
   }
  },
  {
   "cell_type": "markdown",
   "source": [
    "##### 7.4 Crie uma coluna ano representando o ano em que foi jogado"
   ],
   "metadata": {
    "collapsed": false
   }
  },
  {
   "cell_type": "markdown",
   "source": [
    "##### 7.5 Filtrando apenas de 1958 para frente, como ficam as estatísticas do Brasil? E 1957 para trás?"
   ],
   "metadata": {
    "collapsed": false
   }
  },
  {
   "cell_type": "markdown",
   "source": [
    "##### 7.6 Exporte essas tabelas como after_pele.xlsx e before_pele.xlsx para a pasta \"outputs\""
   ],
   "metadata": {
    "collapsed": false
   }
  },
  {
   "cell_type": "markdown",
   "source": [
    "##### 7.7 Crie um excel template e exporte a tabela indicando as estatísticas do Brasil por continente"
   ],
   "metadata": {
    "collapsed": false
   }
  }
 ],
 "metadata": {
  "kernelspec": {
   "display_name": "Python 3",
   "language": "python",
   "name": "python3"
  },
  "language_info": {
   "codemirror_mode": {
    "name": "ipython",
    "version": 2
   },
   "file_extension": ".py",
   "mimetype": "text/x-python",
   "name": "python",
   "nbconvert_exporter": "python",
   "pygments_lexer": "ipython2",
   "version": "2.7.6"
  }
 },
 "nbformat": 4,
 "nbformat_minor": 0
}
