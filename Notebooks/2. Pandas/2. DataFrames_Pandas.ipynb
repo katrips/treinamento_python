{
 "cells": [
  {
   "cell_type": "markdown",
   "source": [
    "# 2. DataFrames"
   ],
   "metadata": {
    "collapsed": false
   }
  },
  {
   "cell_type": "markdown",
   "source": [
    "DataFrames formam a base do pandas, são diretamente inspirados no R e baseados no pacote NumPy. Um DataFrame pode ser considerado como diversas séries"
   ],
   "metadata": {
    "collapsed": false
   }
  },
  {
   "cell_type": "code",
   "execution_count": 1,
   "outputs": [],
   "source": [
    "import pandas as pd\n",
    "import numpy as np"
   ],
   "metadata": {
    "collapsed": false,
    "ExecuteTime": {
     "end_time": "2023-07-23T23:50:27.762458100Z",
     "start_time": "2023-07-23T23:50:27.267434800Z"
    }
   }
  },
  {
   "cell_type": "code",
   "execution_count": 2,
   "outputs": [],
   "source": [
    "from numpy.random import randn\n",
    "np.random.seed(101)"
   ],
   "metadata": {
    "collapsed": false,
    "ExecuteTime": {
     "end_time": "2023-07-23T23:50:27.762458100Z",
     "start_time": "2023-07-23T23:50:27.743728800Z"
    }
   }
  },
  {
   "cell_type": "markdown",
   "source": [
    "## 2.1 Criação de DataFrames"
   ],
   "metadata": {
    "collapsed": false
   }
  },
  {
   "cell_type": "markdown",
   "source": [
    "### Via Python\n",
    "\n",
    "Os DataFrames podem ser criados pelo python ou importados a partir de um arquivo/base de dados externa, algumas das opções de gerar um DataFrame pelo python são mostradas abaixo:\n",
    "\n",
    "- A partir de Dicionários\n",
    "- Matriz do NumPy e nomes de indices e colunas\n",
    "- Criação a partir de um DataFrame vazio (será mostrado nas próximas seções)"
   ],
   "metadata": {
    "collapsed": false
   }
  },
  {
   "cell_type": "code",
   "execution_count": 3,
   "outputs": [
    {
     "data": {
      "text/plain": "              Coluna1   Coluna2\nCorinthians  2.706850  0.651118\nPalmeiras    0.628133 -0.319318\nSantos       0.907969 -0.848077\nSão Paulo    0.503826  0.605965",
      "text/html": "<div>\n<style scoped>\n    .dataframe tbody tr th:only-of-type {\n        vertical-align: middle;\n    }\n\n    .dataframe tbody tr th {\n        vertical-align: top;\n    }\n\n    .dataframe thead th {\n        text-align: right;\n    }\n</style>\n<table border=\"1\" class=\"dataframe\">\n  <thead>\n    <tr style=\"text-align: right;\">\n      <th></th>\n      <th>Coluna1</th>\n      <th>Coluna2</th>\n    </tr>\n  </thead>\n  <tbody>\n    <tr>\n      <th>Corinthians</th>\n      <td>2.706850</td>\n      <td>0.651118</td>\n    </tr>\n    <tr>\n      <th>Palmeiras</th>\n      <td>0.628133</td>\n      <td>-0.319318</td>\n    </tr>\n    <tr>\n      <th>Santos</th>\n      <td>0.907969</td>\n      <td>-0.848077</td>\n    </tr>\n    <tr>\n      <th>São Paulo</th>\n      <td>0.503826</td>\n      <td>0.605965</td>\n    </tr>\n  </tbody>\n</table>\n</div>"
     },
     "execution_count": 3,
     "metadata": {},
     "output_type": "execute_result"
    }
   ],
   "source": [
    "# Criação de colunas com dicionário, as chaves do dicionário serão os nomes das colunas e os valores em formato de lista serão os valores de cada coluna\n",
    "df_dict = pd.DataFrame(\n",
    "    data = {\n",
    "        \"Coluna1\": [randn(1)[0], randn(1)[0], randn(1)[0], randn(1)[0]],\n",
    "        \"Coluna2\": [randn(1)[0], randn(1)[0], randn(1)[0], randn(1)[0]]\n",
    "    },\n",
    "    index = [\"Corinthians\", \"Palmeiras\", \"Santos\", \"São Paulo\"] # Definição de Index\n",
    ")\n",
    "\n",
    "# Criação a partir de matriz\n",
    "df_numpy = pd.DataFrame(\n",
    "    randn(5, 4), # Matriz de dados\n",
    "    index = [\"A\", \"B\", \"C\", \"D\", \"E\"], # Definição dos index - Opcional\n",
    "    columns = [\"W\", \"X\", \"Y\", \"Z\"] # Nome de colunas\n",
    ")\n",
    "\n",
    "df_dict"
   ],
   "metadata": {
    "collapsed": false,
    "ExecuteTime": {
     "end_time": "2023-07-23T23:50:27.851377Z",
     "start_time": "2023-07-23T23:50:27.759234400Z"
    }
   }
  },
  {
   "cell_type": "code",
   "execution_count": 4,
   "outputs": [
    {
     "data": {
      "text/plain": "          W         X         Y         Z\nA -2.018168  0.740122  0.528813 -0.589001\nB  0.188695 -0.758872 -0.933237  0.955057\nC  0.190794  1.978757  2.605967  0.683509\nD  0.302665  1.693723 -1.706086 -1.159119\nE -0.134841  0.390528  0.166905  0.184502",
      "text/html": "<div>\n<style scoped>\n    .dataframe tbody tr th:only-of-type {\n        vertical-align: middle;\n    }\n\n    .dataframe tbody tr th {\n        vertical-align: top;\n    }\n\n    .dataframe thead th {\n        text-align: right;\n    }\n</style>\n<table border=\"1\" class=\"dataframe\">\n  <thead>\n    <tr style=\"text-align: right;\">\n      <th></th>\n      <th>W</th>\n      <th>X</th>\n      <th>Y</th>\n      <th>Z</th>\n    </tr>\n  </thead>\n  <tbody>\n    <tr>\n      <th>A</th>\n      <td>-2.018168</td>\n      <td>0.740122</td>\n      <td>0.528813</td>\n      <td>-0.589001</td>\n    </tr>\n    <tr>\n      <th>B</th>\n      <td>0.188695</td>\n      <td>-0.758872</td>\n      <td>-0.933237</td>\n      <td>0.955057</td>\n    </tr>\n    <tr>\n      <th>C</th>\n      <td>0.190794</td>\n      <td>1.978757</td>\n      <td>2.605967</td>\n      <td>0.683509</td>\n    </tr>\n    <tr>\n      <th>D</th>\n      <td>0.302665</td>\n      <td>1.693723</td>\n      <td>-1.706086</td>\n      <td>-1.159119</td>\n    </tr>\n    <tr>\n      <th>E</th>\n      <td>-0.134841</td>\n      <td>0.390528</td>\n      <td>0.166905</td>\n      <td>0.184502</td>\n    </tr>\n  </tbody>\n</table>\n</div>"
     },
     "execution_count": 4,
     "metadata": {},
     "output_type": "execute_result"
    }
   ],
   "source": [
    "df_numpy # Df criado a partir de matriz do numpy"
   ],
   "metadata": {
    "collapsed": false,
    "ExecuteTime": {
     "end_time": "2023-07-23T23:50:27.893708300Z",
     "start_time": "2023-07-23T23:50:27.789521600Z"
    }
   }
  },
  {
   "cell_type": "markdown",
   "source": [
    "### Importar arquivos\n",
    "\n",
    "A importação de arquivos externos são feitas com as funções do tipo pd.read_XYZ(path):\n",
    "- Com XYZ sendo <em>normalmente</em> o tipo de arquivo;\n",
    "- e path sendo o caminho do arquivo, podendo ser em string ou formato de path (que não recomendo com exceção de que o fundamento da análise exija algum loop ou função, mas msm assim o caminho por string demonstra-se utilizável;\n",
    "- o path pode ser inclusíve uma url com o arquivo em questão;\n",
    "\n",
    "Exemplos de importações de arquivos\n",
    "- **csv** - **pd.read_csv(path)** - Recomendado para arquivos \"pesados\" armazenados localmente;\n",
    "- **xlsx/excel** - **pd.read_excel(path)** - Ler arquivos do excel;\n",
    "- **json** - **pd.read_json(path)** - Pode ser uma forma de dados que você encontre, bastante utilizada na internet, principalmente em APIs;\n",
    "- **html** - **pd.read_html(path)** - Obtem tabelas que estão indicadas como \"table\" em sites/arquivos html;\n",
    "- **sql** - **pd.read_sql(path)** - Bases/Querys em SQL;\n",
    "- diversos outros, leia a docs caso tenha interesse - <a href=\"https://pandas.pydata.org/docs/reference/io.html\"> Inputs/Outputs - Pandas </a>\n",
    "\n",
    "Essas funções tem alguns parâmetros que podem ser úteis na importação, seguem alguns exemplos com o valor default:\n",
    "- **sep = \",\"** - usado na **read_csv()**, um arquivo \".csv\" não é nada mais que um \".txt\" separado por virgulas, caso a separação não seja virgula (CSV Europeu/Brasileiro) podemos usar **sep = \";\"**, ou algum outro separador (barras, tabs, hífens, etc.);\n",
    "- **decimal = \".\"** - também utilizado na **read_csv()**, define que separador é usado para decimais, caso seja numeros em formato Europeu/Brasileiro use **decimal = \",\"**;\n",
    "- **sheet_name = 0** - usado na **read_excel()**, escolhe a aba que será lida, default é a primeira do arquivo, caso utilize **sheet_name = None** o retorno será um dicionário de DataFrames com as chaves sendo as abas, caso utilize **sheet_name = \"Nome da Aba\"** o retorno será um DataFrame da aba em questão\n",
    "- **skiprows = 0** - tanto excel quanto csv, pode ser usado para pular as primeiras linhas da tabela se estiverem em branco\n",
    "- diversos outros, leia a docs caso tenha interesse - <a href=\"https://pandas.pydata.org/docs/reference/io.html\"> Inputs/Outputs - Pandas </a>"
   ],
   "metadata": {
    "collapsed": false
   }
  },
  {
   "cell_type": "code",
   "execution_count": 5,
   "outputs": [
    {
     "data": {
      "text/plain": "         date home_team away_team  home_score  away_score tournament     city  \\\n0  1872-11-30  Scotland   England           0           0   Friendly  Glasgow   \n1  1873-03-08   England  Scotland           4           2   Friendly   London   \n2  1874-03-07  Scotland   England           2           1   Friendly  Glasgow   \n3  1875-03-06   England  Scotland           2           2   Friendly   London   \n4  1876-03-04  Scotland   England           3           0   Friendly  Glasgow   \n\n    country  neutral  \n0  Scotland    False  \n1   England    False  \n2  Scotland    False  \n3   England    False  \n4  Scotland    False  ",
      "text/html": "<div>\n<style scoped>\n    .dataframe tbody tr th:only-of-type {\n        vertical-align: middle;\n    }\n\n    .dataframe tbody tr th {\n        vertical-align: top;\n    }\n\n    .dataframe thead th {\n        text-align: right;\n    }\n</style>\n<table border=\"1\" class=\"dataframe\">\n  <thead>\n    <tr style=\"text-align: right;\">\n      <th></th>\n      <th>date</th>\n      <th>home_team</th>\n      <th>away_team</th>\n      <th>home_score</th>\n      <th>away_score</th>\n      <th>tournament</th>\n      <th>city</th>\n      <th>country</th>\n      <th>neutral</th>\n    </tr>\n  </thead>\n  <tbody>\n    <tr>\n      <th>0</th>\n      <td>1872-11-30</td>\n      <td>Scotland</td>\n      <td>England</td>\n      <td>0</td>\n      <td>0</td>\n      <td>Friendly</td>\n      <td>Glasgow</td>\n      <td>Scotland</td>\n      <td>False</td>\n    </tr>\n    <tr>\n      <th>1</th>\n      <td>1873-03-08</td>\n      <td>England</td>\n      <td>Scotland</td>\n      <td>4</td>\n      <td>2</td>\n      <td>Friendly</td>\n      <td>London</td>\n      <td>England</td>\n      <td>False</td>\n    </tr>\n    <tr>\n      <th>2</th>\n      <td>1874-03-07</td>\n      <td>Scotland</td>\n      <td>England</td>\n      <td>2</td>\n      <td>1</td>\n      <td>Friendly</td>\n      <td>Glasgow</td>\n      <td>Scotland</td>\n      <td>False</td>\n    </tr>\n    <tr>\n      <th>3</th>\n      <td>1875-03-06</td>\n      <td>England</td>\n      <td>Scotland</td>\n      <td>2</td>\n      <td>2</td>\n      <td>Friendly</td>\n      <td>London</td>\n      <td>England</td>\n      <td>False</td>\n    </tr>\n    <tr>\n      <th>4</th>\n      <td>1876-03-04</td>\n      <td>Scotland</td>\n      <td>England</td>\n      <td>3</td>\n      <td>0</td>\n      <td>Friendly</td>\n      <td>Glasgow</td>\n      <td>Scotland</td>\n      <td>False</td>\n    </tr>\n  </tbody>\n</table>\n</div>"
     },
     "execution_count": 5,
     "metadata": {},
     "output_type": "execute_result"
    }
   ],
   "source": [
    "path_resultados = \"../Dados/Copa/results.csv\"\n",
    "\n",
    "df_resultados = pd.read_csv(path_resultados)\n",
    "df_resultados.head()"
   ],
   "metadata": {
    "collapsed": false,
    "ExecuteTime": {
     "end_time": "2023-07-23T23:50:28.093406900Z",
     "start_time": "2023-07-23T23:50:27.803264500Z"
    }
   }
  },
  {
   "cell_type": "markdown",
   "source": [
    "## 2.2 Separação e index"
   ],
   "metadata": {
    "collapsed": false
   }
  },
  {
   "cell_type": "code",
   "execution_count": 6,
   "outputs": [
    {
     "name": "stdout",
     "output_type": "stream",
     "text": [
      "<class 'pandas.core.series.Series'>\n"
     ]
    },
    {
     "data": {
      "text/plain": "0    Scotland\n1     England\n2    Scotland\n3     England\n4    Scotland\nName: home_team, dtype: object"
     },
     "execution_count": 6,
     "metadata": {},
     "output_type": "execute_result"
    }
   ],
   "source": [
    "# Selecionando apenas uma coluna, perceba que a coluna na verdade é uma série, com esse tipo de seleção\n",
    "print(type(df_resultados[\"home_team\"]))\n",
    "df_resultados[\"home_team\"].head()"
   ],
   "metadata": {
    "collapsed": false,
    "ExecuteTime": {
     "end_time": "2023-07-21T15:19:43.634435600Z",
     "start_time": "2023-07-21T15:19:43.560231500Z"
    }
   }
  },
  {
   "cell_type": "code",
   "execution_count": 7,
   "outputs": [
    {
     "data": {
      "text/plain": "  home_team  home_score\n0  Scotland           0\n1   England           4\n2  Scotland           2\n3   England           2\n4  Scotland           3",
      "text/html": "<div>\n<style scoped>\n    .dataframe tbody tr th:only-of-type {\n        vertical-align: middle;\n    }\n\n    .dataframe tbody tr th {\n        vertical-align: top;\n    }\n\n    .dataframe thead th {\n        text-align: right;\n    }\n</style>\n<table border=\"1\" class=\"dataframe\">\n  <thead>\n    <tr style=\"text-align: right;\">\n      <th></th>\n      <th>home_team</th>\n      <th>home_score</th>\n    </tr>\n  </thead>\n  <tbody>\n    <tr>\n      <th>0</th>\n      <td>Scotland</td>\n      <td>0</td>\n    </tr>\n    <tr>\n      <th>1</th>\n      <td>England</td>\n      <td>4</td>\n    </tr>\n    <tr>\n      <th>2</th>\n      <td>Scotland</td>\n      <td>2</td>\n    </tr>\n    <tr>\n      <th>3</th>\n      <td>England</td>\n      <td>2</td>\n    </tr>\n    <tr>\n      <th>4</th>\n      <td>Scotland</td>\n      <td>3</td>\n    </tr>\n  </tbody>\n</table>\n</div>"
     },
     "execution_count": 7,
     "metadata": {},
     "output_type": "execute_result"
    }
   ],
   "source": [
    "# Selecionando mais de uma coluna, passe uma lista dentro das chaves, com essa seleção o retorno é um DataFrame\n",
    "df_resultados[[\"home_team\", \"home_score\"]].head()"
   ],
   "metadata": {
    "collapsed": false,
    "ExecuteTime": {
     "end_time": "2023-07-21T15:19:43.680056900Z",
     "start_time": "2023-07-21T15:19:43.574462600Z"
    }
   }
  },
  {
   "cell_type": "code",
   "execution_count": 8,
   "outputs": [
    {
     "data": {
      "text/plain": "  home_team away_team\n0  Scotland   England\n1   England  Scotland\n2  Scotland   England\n3   England  Scotland\n4  Scotland   England",
      "text/html": "<div>\n<style scoped>\n    .dataframe tbody tr th:only-of-type {\n        vertical-align: middle;\n    }\n\n    .dataframe tbody tr th {\n        vertical-align: top;\n    }\n\n    .dataframe thead th {\n        text-align: right;\n    }\n</style>\n<table border=\"1\" class=\"dataframe\">\n  <thead>\n    <tr style=\"text-align: right;\">\n      <th></th>\n      <th>home_team</th>\n      <th>away_team</th>\n    </tr>\n  </thead>\n  <tbody>\n    <tr>\n      <th>0</th>\n      <td>Scotland</td>\n      <td>England</td>\n    </tr>\n    <tr>\n      <th>1</th>\n      <td>England</td>\n      <td>Scotland</td>\n    </tr>\n    <tr>\n      <th>2</th>\n      <td>Scotland</td>\n      <td>England</td>\n    </tr>\n    <tr>\n      <th>3</th>\n      <td>England</td>\n      <td>Scotland</td>\n    </tr>\n    <tr>\n      <th>4</th>\n      <td>Scotland</td>\n      <td>England</td>\n    </tr>\n  </tbody>\n</table>\n</div>"
     },
     "execution_count": 8,
     "metadata": {},
     "output_type": "execute_result"
    }
   ],
   "source": [
    "# Você pode inclusive usar um list compreension para separar as colunas\n",
    "df_resultados[[coluna for coluna in df_resultados.columns if \"team\" in coluna]].head()"
   ],
   "metadata": {
    "collapsed": false,
    "ExecuteTime": {
     "end_time": "2023-07-21T15:19:43.699904Z",
     "start_time": "2023-07-21T15:19:43.593381600Z"
    }
   }
  },
  {
   "cell_type": "code",
   "execution_count": 9,
   "outputs": [
    {
     "data": {
      "text/plain": "         date home_team away_team  home_score  away_score tournament     city  \\\n0  1872-11-30  Scotland   England           0           0   Friendly  Glasgow   \n1  1873-03-08   England  Scotland           4           2   Friendly   London   \n2  1874-03-07  Scotland   England           2           1   Friendly  Glasgow   \n3  1875-03-06   England  Scotland           2           2   Friendly   London   \n4  1876-03-04  Scotland   England           3           0   Friendly  Glasgow   \n\n    country  neutral               Versus  \n0  Scotland    False  Scotland Vs England  \n1   England    False  England Vs Scotland  \n2  Scotland    False  Scotland Vs England  \n3   England    False  England Vs Scotland  \n4  Scotland    False  Scotland Vs England  ",
      "text/html": "<div>\n<style scoped>\n    .dataframe tbody tr th:only-of-type {\n        vertical-align: middle;\n    }\n\n    .dataframe tbody tr th {\n        vertical-align: top;\n    }\n\n    .dataframe thead th {\n        text-align: right;\n    }\n</style>\n<table border=\"1\" class=\"dataframe\">\n  <thead>\n    <tr style=\"text-align: right;\">\n      <th></th>\n      <th>date</th>\n      <th>home_team</th>\n      <th>away_team</th>\n      <th>home_score</th>\n      <th>away_score</th>\n      <th>tournament</th>\n      <th>city</th>\n      <th>country</th>\n      <th>neutral</th>\n      <th>Versus</th>\n    </tr>\n  </thead>\n  <tbody>\n    <tr>\n      <th>0</th>\n      <td>1872-11-30</td>\n      <td>Scotland</td>\n      <td>England</td>\n      <td>0</td>\n      <td>0</td>\n      <td>Friendly</td>\n      <td>Glasgow</td>\n      <td>Scotland</td>\n      <td>False</td>\n      <td>Scotland Vs England</td>\n    </tr>\n    <tr>\n      <th>1</th>\n      <td>1873-03-08</td>\n      <td>England</td>\n      <td>Scotland</td>\n      <td>4</td>\n      <td>2</td>\n      <td>Friendly</td>\n      <td>London</td>\n      <td>England</td>\n      <td>False</td>\n      <td>England Vs Scotland</td>\n    </tr>\n    <tr>\n      <th>2</th>\n      <td>1874-03-07</td>\n      <td>Scotland</td>\n      <td>England</td>\n      <td>2</td>\n      <td>1</td>\n      <td>Friendly</td>\n      <td>Glasgow</td>\n      <td>Scotland</td>\n      <td>False</td>\n      <td>Scotland Vs England</td>\n    </tr>\n    <tr>\n      <th>3</th>\n      <td>1875-03-06</td>\n      <td>England</td>\n      <td>Scotland</td>\n      <td>2</td>\n      <td>2</td>\n      <td>Friendly</td>\n      <td>London</td>\n      <td>England</td>\n      <td>False</td>\n      <td>England Vs Scotland</td>\n    </tr>\n    <tr>\n      <th>4</th>\n      <td>1876-03-04</td>\n      <td>Scotland</td>\n      <td>England</td>\n      <td>3</td>\n      <td>0</td>\n      <td>Friendly</td>\n      <td>Glasgow</td>\n      <td>Scotland</td>\n      <td>False</td>\n      <td>Scotland Vs England</td>\n    </tr>\n  </tbody>\n</table>\n</div>"
     },
     "execution_count": 9,
     "metadata": {},
     "output_type": "execute_result"
    }
   ],
   "source": [
    "# Criando nova coluna\n",
    "\n",
    "df_resultados_aux = df_resultados.copy() # Criando uma cópia do dataframe para fazer testes e não ter que importar dnv para resetá-lo (muito útil caso a importação seja de um dataframe grande)\n",
    "\n",
    "df_resultados_aux[\"Versus\"] = df_resultados_aux[\"home_team\"] + \" Vs \" + df_resultados_aux[\"away_team\"]\n",
    "df_resultados_aux.head()"
   ],
   "metadata": {
    "collapsed": false,
    "ExecuteTime": {
     "end_time": "2023-07-21T15:19:43.791243200Z",
     "start_time": "2023-07-21T15:19:43.606237100Z"
    }
   }
  },
  {
   "cell_type": "code",
   "execution_count": 10,
   "outputs": [
    {
     "data": {
      "text/plain": "         date home_team away_team  home_score  away_score tournament     city  \\\n0  1872-11-30  Scotland   England           0           0   Friendly  Glasgow   \n1  1873-03-08   England  Scotland           4           2   Friendly   London   \n2  1874-03-07  Scotland   England           2           1   Friendly  Glasgow   \n3  1875-03-06   England  Scotland           2           2   Friendly   London   \n4  1876-03-04  Scotland   England           3           0   Friendly  Glasgow   \n\n    country  neutral  \n0  Scotland    False  \n1   England    False  \n2  Scotland    False  \n3   England    False  \n4  Scotland    False  ",
      "text/html": "<div>\n<style scoped>\n    .dataframe tbody tr th:only-of-type {\n        vertical-align: middle;\n    }\n\n    .dataframe tbody tr th {\n        vertical-align: top;\n    }\n\n    .dataframe thead th {\n        text-align: right;\n    }\n</style>\n<table border=\"1\" class=\"dataframe\">\n  <thead>\n    <tr style=\"text-align: right;\">\n      <th></th>\n      <th>date</th>\n      <th>home_team</th>\n      <th>away_team</th>\n      <th>home_score</th>\n      <th>away_score</th>\n      <th>tournament</th>\n      <th>city</th>\n      <th>country</th>\n      <th>neutral</th>\n    </tr>\n  </thead>\n  <tbody>\n    <tr>\n      <th>0</th>\n      <td>1872-11-30</td>\n      <td>Scotland</td>\n      <td>England</td>\n      <td>0</td>\n      <td>0</td>\n      <td>Friendly</td>\n      <td>Glasgow</td>\n      <td>Scotland</td>\n      <td>False</td>\n    </tr>\n    <tr>\n      <th>1</th>\n      <td>1873-03-08</td>\n      <td>England</td>\n      <td>Scotland</td>\n      <td>4</td>\n      <td>2</td>\n      <td>Friendly</td>\n      <td>London</td>\n      <td>England</td>\n      <td>False</td>\n    </tr>\n    <tr>\n      <th>2</th>\n      <td>1874-03-07</td>\n      <td>Scotland</td>\n      <td>England</td>\n      <td>2</td>\n      <td>1</td>\n      <td>Friendly</td>\n      <td>Glasgow</td>\n      <td>Scotland</td>\n      <td>False</td>\n    </tr>\n    <tr>\n      <th>3</th>\n      <td>1875-03-06</td>\n      <td>England</td>\n      <td>Scotland</td>\n      <td>2</td>\n      <td>2</td>\n      <td>Friendly</td>\n      <td>London</td>\n      <td>England</td>\n      <td>False</td>\n    </tr>\n    <tr>\n      <th>4</th>\n      <td>1876-03-04</td>\n      <td>Scotland</td>\n      <td>England</td>\n      <td>3</td>\n      <td>0</td>\n      <td>Friendly</td>\n      <td>Glasgow</td>\n      <td>Scotland</td>\n      <td>False</td>\n    </tr>\n  </tbody>\n</table>\n</div>"
     },
     "execution_count": 10,
     "metadata": {},
     "output_type": "execute_result"
    }
   ],
   "source": [
    "# Removendo colunas\n",
    "df_resultados_aux.drop(\"Versus\", axis=1).head() # Não é inplace"
   ],
   "metadata": {
    "collapsed": false,
    "ExecuteTime": {
     "end_time": "2023-07-21T15:19:43.791750700Z",
     "start_time": "2023-07-21T15:19:43.638516900Z"
    }
   }
  },
  {
   "cell_type": "code",
   "execution_count": 11,
   "outputs": [
    {
     "data": {
      "text/plain": "         date home_team away_team  home_score  away_score tournament     city  \\\n0  1872-11-30  Scotland   England           0           0   Friendly  Glasgow   \n1  1873-03-08   England  Scotland           4           2   Friendly   London   \n2  1874-03-07  Scotland   England           2           1   Friendly  Glasgow   \n3  1875-03-06   England  Scotland           2           2   Friendly   London   \n4  1876-03-04  Scotland   England           3           0   Friendly  Glasgow   \n\n    country  neutral               Versus  \n0  Scotland    False  Scotland Vs England  \n1   England    False  England Vs Scotland  \n2  Scotland    False  Scotland Vs England  \n3   England    False  England Vs Scotland  \n4  Scotland    False  Scotland Vs England  ",
      "text/html": "<div>\n<style scoped>\n    .dataframe tbody tr th:only-of-type {\n        vertical-align: middle;\n    }\n\n    .dataframe tbody tr th {\n        vertical-align: top;\n    }\n\n    .dataframe thead th {\n        text-align: right;\n    }\n</style>\n<table border=\"1\" class=\"dataframe\">\n  <thead>\n    <tr style=\"text-align: right;\">\n      <th></th>\n      <th>date</th>\n      <th>home_team</th>\n      <th>away_team</th>\n      <th>home_score</th>\n      <th>away_score</th>\n      <th>tournament</th>\n      <th>city</th>\n      <th>country</th>\n      <th>neutral</th>\n      <th>Versus</th>\n    </tr>\n  </thead>\n  <tbody>\n    <tr>\n      <th>0</th>\n      <td>1872-11-30</td>\n      <td>Scotland</td>\n      <td>England</td>\n      <td>0</td>\n      <td>0</td>\n      <td>Friendly</td>\n      <td>Glasgow</td>\n      <td>Scotland</td>\n      <td>False</td>\n      <td>Scotland Vs England</td>\n    </tr>\n    <tr>\n      <th>1</th>\n      <td>1873-03-08</td>\n      <td>England</td>\n      <td>Scotland</td>\n      <td>4</td>\n      <td>2</td>\n      <td>Friendly</td>\n      <td>London</td>\n      <td>England</td>\n      <td>False</td>\n      <td>England Vs Scotland</td>\n    </tr>\n    <tr>\n      <th>2</th>\n      <td>1874-03-07</td>\n      <td>Scotland</td>\n      <td>England</td>\n      <td>2</td>\n      <td>1</td>\n      <td>Friendly</td>\n      <td>Glasgow</td>\n      <td>Scotland</td>\n      <td>False</td>\n      <td>Scotland Vs England</td>\n    </tr>\n    <tr>\n      <th>3</th>\n      <td>1875-03-06</td>\n      <td>England</td>\n      <td>Scotland</td>\n      <td>2</td>\n      <td>2</td>\n      <td>Friendly</td>\n      <td>London</td>\n      <td>England</td>\n      <td>False</td>\n      <td>England Vs Scotland</td>\n    </tr>\n    <tr>\n      <th>4</th>\n      <td>1876-03-04</td>\n      <td>Scotland</td>\n      <td>England</td>\n      <td>3</td>\n      <td>0</td>\n      <td>Friendly</td>\n      <td>Glasgow</td>\n      <td>Scotland</td>\n      <td>False</td>\n      <td>Scotland Vs England</td>\n    </tr>\n  </tbody>\n</table>\n</div>"
     },
     "execution_count": 11,
     "metadata": {},
     "output_type": "execute_result"
    }
   ],
   "source": [
    "df_resultados_aux.head()"
   ],
   "metadata": {
    "collapsed": false,
    "ExecuteTime": {
     "end_time": "2023-07-21T15:19:43.791750700Z",
     "start_time": "2023-07-21T15:19:43.667256Z"
    }
   }
  },
  {
   "cell_type": "code",
   "execution_count": 12,
   "outputs": [
    {
     "data": {
      "text/plain": "         date home_team away_team  home_score  away_score tournament     city  \\\n0  1872-11-30  Scotland   England           0           0   Friendly  Glasgow   \n1  1873-03-08   England  Scotland           4           2   Friendly   London   \n2  1874-03-07  Scotland   England           2           1   Friendly  Glasgow   \n3  1875-03-06   England  Scotland           2           2   Friendly   London   \n4  1876-03-04  Scotland   England           3           0   Friendly  Glasgow   \n\n    country  neutral  \n0  Scotland    False  \n1   England    False  \n2  Scotland    False  \n3   England    False  \n4  Scotland    False  ",
      "text/html": "<div>\n<style scoped>\n    .dataframe tbody tr th:only-of-type {\n        vertical-align: middle;\n    }\n\n    .dataframe tbody tr th {\n        vertical-align: top;\n    }\n\n    .dataframe thead th {\n        text-align: right;\n    }\n</style>\n<table border=\"1\" class=\"dataframe\">\n  <thead>\n    <tr style=\"text-align: right;\">\n      <th></th>\n      <th>date</th>\n      <th>home_team</th>\n      <th>away_team</th>\n      <th>home_score</th>\n      <th>away_score</th>\n      <th>tournament</th>\n      <th>city</th>\n      <th>country</th>\n      <th>neutral</th>\n    </tr>\n  </thead>\n  <tbody>\n    <tr>\n      <th>0</th>\n      <td>1872-11-30</td>\n      <td>Scotland</td>\n      <td>England</td>\n      <td>0</td>\n      <td>0</td>\n      <td>Friendly</td>\n      <td>Glasgow</td>\n      <td>Scotland</td>\n      <td>False</td>\n    </tr>\n    <tr>\n      <th>1</th>\n      <td>1873-03-08</td>\n      <td>England</td>\n      <td>Scotland</td>\n      <td>4</td>\n      <td>2</td>\n      <td>Friendly</td>\n      <td>London</td>\n      <td>England</td>\n      <td>False</td>\n    </tr>\n    <tr>\n      <th>2</th>\n      <td>1874-03-07</td>\n      <td>Scotland</td>\n      <td>England</td>\n      <td>2</td>\n      <td>1</td>\n      <td>Friendly</td>\n      <td>Glasgow</td>\n      <td>Scotland</td>\n      <td>False</td>\n    </tr>\n    <tr>\n      <th>3</th>\n      <td>1875-03-06</td>\n      <td>England</td>\n      <td>Scotland</td>\n      <td>2</td>\n      <td>2</td>\n      <td>Friendly</td>\n      <td>London</td>\n      <td>England</td>\n      <td>False</td>\n    </tr>\n    <tr>\n      <th>4</th>\n      <td>1876-03-04</td>\n      <td>Scotland</td>\n      <td>England</td>\n      <td>3</td>\n      <td>0</td>\n      <td>Friendly</td>\n      <td>Glasgow</td>\n      <td>Scotland</td>\n      <td>False</td>\n    </tr>\n  </tbody>\n</table>\n</div>"
     },
     "execution_count": 12,
     "metadata": {},
     "output_type": "execute_result"
    }
   ],
   "source": [
    "# Removendo colunas inplace\n",
    "\n",
    "df_resultados_aux.drop(\n",
    "    \"Versus\",\n",
    "    axis=1,\n",
    "    # inplace=True # Não gosto muito de usar o parâmetro inplace, foge da padronização e fica menos legível\n",
    ")\n",
    "\n",
    "df_resultados_aux = df_resultados_aux.drop(\"Versus\", axis=1)\n",
    "df_resultados_aux.head()"
   ],
   "metadata": {
    "collapsed": false,
    "ExecuteTime": {
     "end_time": "2023-07-21T15:19:43.793793400Z",
     "start_time": "2023-07-21T15:19:43.682571900Z"
    }
   }
  },
  {
   "cell_type": "code",
   "execution_count": 13,
   "outputs": [
    {
     "data": {
      "text/plain": "         date home_team away_team  home_score  away_score tournament     city  \\\n1  1873-03-08   England  Scotland           4           2   Friendly   London   \n2  1874-03-07  Scotland   England           2           1   Friendly  Glasgow   \n3  1875-03-06   England  Scotland           2           2   Friendly   London   \n4  1876-03-04  Scotland   England           3           0   Friendly  Glasgow   \n5  1876-03-25  Scotland     Wales           4           0   Friendly  Glasgow   \n\n    country  neutral  \n1   England    False  \n2  Scotland    False  \n3   England    False  \n4  Scotland    False  \n5  Scotland    False  ",
      "text/html": "<div>\n<style scoped>\n    .dataframe tbody tr th:only-of-type {\n        vertical-align: middle;\n    }\n\n    .dataframe tbody tr th {\n        vertical-align: top;\n    }\n\n    .dataframe thead th {\n        text-align: right;\n    }\n</style>\n<table border=\"1\" class=\"dataframe\">\n  <thead>\n    <tr style=\"text-align: right;\">\n      <th></th>\n      <th>date</th>\n      <th>home_team</th>\n      <th>away_team</th>\n      <th>home_score</th>\n      <th>away_score</th>\n      <th>tournament</th>\n      <th>city</th>\n      <th>country</th>\n      <th>neutral</th>\n    </tr>\n  </thead>\n  <tbody>\n    <tr>\n      <th>1</th>\n      <td>1873-03-08</td>\n      <td>England</td>\n      <td>Scotland</td>\n      <td>4</td>\n      <td>2</td>\n      <td>Friendly</td>\n      <td>London</td>\n      <td>England</td>\n      <td>False</td>\n    </tr>\n    <tr>\n      <th>2</th>\n      <td>1874-03-07</td>\n      <td>Scotland</td>\n      <td>England</td>\n      <td>2</td>\n      <td>1</td>\n      <td>Friendly</td>\n      <td>Glasgow</td>\n      <td>Scotland</td>\n      <td>False</td>\n    </tr>\n    <tr>\n      <th>3</th>\n      <td>1875-03-06</td>\n      <td>England</td>\n      <td>Scotland</td>\n      <td>2</td>\n      <td>2</td>\n      <td>Friendly</td>\n      <td>London</td>\n      <td>England</td>\n      <td>False</td>\n    </tr>\n    <tr>\n      <th>4</th>\n      <td>1876-03-04</td>\n      <td>Scotland</td>\n      <td>England</td>\n      <td>3</td>\n      <td>0</td>\n      <td>Friendly</td>\n      <td>Glasgow</td>\n      <td>Scotland</td>\n      <td>False</td>\n    </tr>\n    <tr>\n      <th>5</th>\n      <td>1876-03-25</td>\n      <td>Scotland</td>\n      <td>Wales</td>\n      <td>4</td>\n      <td>0</td>\n      <td>Friendly</td>\n      <td>Glasgow</td>\n      <td>Scotland</td>\n      <td>False</td>\n    </tr>\n  </tbody>\n</table>\n</div>"
     },
     "execution_count": 13,
     "metadata": {},
     "output_type": "execute_result"
    }
   ],
   "source": [
    "# Removendo linhas\n",
    "\n",
    "df_resultados_aux.drop(0, axis=0).head()"
   ],
   "metadata": {
    "collapsed": false,
    "ExecuteTime": {
     "end_time": "2023-07-21T15:19:43.832874400Z",
     "start_time": "2023-07-21T15:19:43.715420600Z"
    }
   }
  },
  {
   "cell_type": "code",
   "execution_count": 14,
   "outputs": [
    {
     "data": {
      "text/plain": "date          1872-11-30\nhome_team       Scotland\naway_team        England\nhome_score             0\naway_score             0\ntournament      Friendly\ncity             Glasgow\ncountry         Scotland\nneutral            False\nName: 0, dtype: object"
     },
     "execution_count": 14,
     "metadata": {},
     "output_type": "execute_result"
    }
   ],
   "source": [
    "# Selecionando linhas\n",
    "\n",
    "df_resultados_aux.loc[0]"
   ],
   "metadata": {
    "collapsed": false,
    "ExecuteTime": {
     "end_time": "2023-07-21T15:19:43.941149200Z",
     "start_time": "2023-07-21T15:19:43.744497200Z"
    }
   }
  },
  {
   "cell_type": "code",
   "execution_count": 15,
   "outputs": [
    {
     "data": {
      "text/plain": "Coluna1    2.706850\nColuna2    0.651118\nName: Corinthians, dtype: float64"
     },
     "execution_count": 15,
     "metadata": {},
     "output_type": "execute_result"
    }
   ],
   "source": [
    "df_dict.loc[\"Corinthians\"]"
   ],
   "metadata": {
    "collapsed": false,
    "ExecuteTime": {
     "end_time": "2023-07-21T15:19:43.960179500Z",
     "start_time": "2023-07-21T15:19:43.759329700Z"
    }
   }
  },
  {
   "cell_type": "code",
   "execution_count": 16,
   "outputs": [
    {
     "data": {
      "text/plain": "date          1872-11-30\nhome_team       Scotland\naway_team        England\nhome_score             0\naway_score             0\ntournament      Friendly\ncity             Glasgow\ncountry         Scotland\nneutral            False\nName: 0, dtype: object"
     },
     "execution_count": 16,
     "metadata": {},
     "output_type": "execute_result"
    }
   ],
   "source": [
    "# Caso os indíces não sejam números, vc pode utilizar o iloc para procurar por número\n",
    "\n",
    "df_resultados_aux.iloc[0]"
   ],
   "metadata": {
    "collapsed": false,
    "ExecuteTime": {
     "end_time": "2023-07-21T15:19:43.961179900Z",
     "start_time": "2023-07-21T15:19:43.774666300Z"
    }
   }
  },
  {
   "cell_type": "code",
   "execution_count": 17,
   "outputs": [
    {
     "data": {
      "text/plain": "Coluna1    2.706850\nColuna2    0.651118\nName: Corinthians, dtype: float64"
     },
     "execution_count": 17,
     "metadata": {},
     "output_type": "execute_result"
    }
   ],
   "source": [
    "df_dict.iloc[0]"
   ],
   "metadata": {
    "collapsed": false,
    "ExecuteTime": {
     "end_time": "2023-07-21T15:19:44.159561400Z",
     "start_time": "2023-07-21T15:19:43.975201300Z"
    }
   }
  },
  {
   "cell_type": "code",
   "execution_count": 18,
   "outputs": [
    {
     "data": {
      "text/plain": "'Scotland'"
     },
     "execution_count": 18,
     "metadata": {},
     "output_type": "execute_result"
    }
   ],
   "source": [
    "# Selecionando linhas e colunas\n",
    "df_resultados_aux.loc[\n",
    "    0, # Grupo de linhas\n",
    "    \"home_team\" # Grupo de Colunas\n",
    "]"
   ],
   "metadata": {
    "collapsed": false,
    "ExecuteTime": {
     "end_time": "2023-07-21T15:19:44.994556600Z",
     "start_time": "2023-07-21T15:19:44.568466800Z"
    }
   }
  },
  {
   "cell_type": "code",
   "execution_count": 19,
   "outputs": [
    {
     "data": {
      "text/plain": "    home_team away_team\n0    Scotland   England\n500    Sweden   Denmark",
      "text/html": "<div>\n<style scoped>\n    .dataframe tbody tr th:only-of-type {\n        vertical-align: middle;\n    }\n\n    .dataframe tbody tr th {\n        vertical-align: top;\n    }\n\n    .dataframe thead th {\n        text-align: right;\n    }\n</style>\n<table border=\"1\" class=\"dataframe\">\n  <thead>\n    <tr style=\"text-align: right;\">\n      <th></th>\n      <th>home_team</th>\n      <th>away_team</th>\n    </tr>\n  </thead>\n  <tbody>\n    <tr>\n      <th>0</th>\n      <td>Scotland</td>\n      <td>England</td>\n    </tr>\n    <tr>\n      <th>500</th>\n      <td>Sweden</td>\n      <td>Denmark</td>\n    </tr>\n  </tbody>\n</table>\n</div>"
     },
     "execution_count": 19,
     "metadata": {},
     "output_type": "execute_result"
    }
   ],
   "source": [
    "df_resultados_aux.loc[\n",
    "    [0, 500],\n",
    "    [\"home_team\", \"away_team\"],\n",
    "]"
   ],
   "metadata": {
    "collapsed": false,
    "ExecuteTime": {
     "end_time": "2023-07-21T15:19:45.264243500Z",
     "start_time": "2023-07-21T15:19:44.803267300Z"
    }
   }
  },
  {
   "cell_type": "markdown",
   "source": [
    "## 2.3 Filtros / Seleção Condicional"
   ],
   "metadata": {
    "collapsed": false
   }
  },
  {
   "cell_type": "markdown",
   "source": [
    "Nessa seção iremos observar como a seleção condicional é realizada no pandas (como tudo no pandas, muito similar ao do NumPy), preste bastante atenção nessa seção que é fundamental"
   ],
   "metadata": {
    "collapsed": false
   }
  },
  {
   "cell_type": "code",
   "execution_count": 20,
   "outputs": [
    {
     "data": {
      "text/plain": "              Coluna1   Coluna2\nCorinthians  2.706850  0.651118\nPalmeiras    0.628133 -0.319318\nSantos       0.907969 -0.848077\nSão Paulo    0.503826  0.605965",
      "text/html": "<div>\n<style scoped>\n    .dataframe tbody tr th:only-of-type {\n        vertical-align: middle;\n    }\n\n    .dataframe tbody tr th {\n        vertical-align: top;\n    }\n\n    .dataframe thead th {\n        text-align: right;\n    }\n</style>\n<table border=\"1\" class=\"dataframe\">\n  <thead>\n    <tr style=\"text-align: right;\">\n      <th></th>\n      <th>Coluna1</th>\n      <th>Coluna2</th>\n    </tr>\n  </thead>\n  <tbody>\n    <tr>\n      <th>Corinthians</th>\n      <td>2.706850</td>\n      <td>0.651118</td>\n    </tr>\n    <tr>\n      <th>Palmeiras</th>\n      <td>0.628133</td>\n      <td>-0.319318</td>\n    </tr>\n    <tr>\n      <th>Santos</th>\n      <td>0.907969</td>\n      <td>-0.848077</td>\n    </tr>\n    <tr>\n      <th>São Paulo</th>\n      <td>0.503826</td>\n      <td>0.605965</td>\n    </tr>\n  </tbody>\n</table>\n</div>"
     },
     "execution_count": 20,
     "metadata": {},
     "output_type": "execute_result"
    }
   ],
   "source": [
    "df_dict"
   ],
   "metadata": {
    "collapsed": false,
    "ExecuteTime": {
     "end_time": "2023-07-21T15:19:46.450099800Z",
     "start_time": "2023-07-21T15:19:46.415161700Z"
    }
   }
  },
  {
   "cell_type": "code",
   "execution_count": 21,
   "outputs": [
    {
     "data": {
      "text/plain": "             Coluna1  Coluna2\nCorinthians     True     True\nPalmeiras       True    False\nSantos          True    False\nSão Paulo       True     True",
      "text/html": "<div>\n<style scoped>\n    .dataframe tbody tr th:only-of-type {\n        vertical-align: middle;\n    }\n\n    .dataframe tbody tr th {\n        vertical-align: top;\n    }\n\n    .dataframe thead th {\n        text-align: right;\n    }\n</style>\n<table border=\"1\" class=\"dataframe\">\n  <thead>\n    <tr style=\"text-align: right;\">\n      <th></th>\n      <th>Coluna1</th>\n      <th>Coluna2</th>\n    </tr>\n  </thead>\n  <tbody>\n    <tr>\n      <th>Corinthians</th>\n      <td>True</td>\n      <td>True</td>\n    </tr>\n    <tr>\n      <th>Palmeiras</th>\n      <td>True</td>\n      <td>False</td>\n    </tr>\n    <tr>\n      <th>Santos</th>\n      <td>True</td>\n      <td>False</td>\n    </tr>\n    <tr>\n      <th>São Paulo</th>\n      <td>True</td>\n      <td>True</td>\n    </tr>\n  </tbody>\n</table>\n</div>"
     },
     "execution_count": 21,
     "metadata": {},
     "output_type": "execute_result"
    }
   ],
   "source": [
    "# Filtro no DataFrame inteiro pode ser utilizado da seguinte forma:\n",
    "# Esse filtro é raramente utilizado, normalmente fazemos por coluna\n",
    "\n",
    "df_dict > 0"
   ],
   "metadata": {
    "collapsed": false,
    "ExecuteTime": {
     "end_time": "2023-07-21T15:19:46.755962900Z",
     "start_time": "2023-07-21T15:19:46.712827700Z"
    }
   }
  },
  {
   "cell_type": "code",
   "execution_count": 22,
   "outputs": [
    {
     "data": {
      "text/plain": "              Coluna1   Coluna2\nCorinthians  2.706850  0.651118\nPalmeiras    0.628133       NaN\nSantos       0.907969       NaN\nSão Paulo    0.503826  0.605965",
      "text/html": "<div>\n<style scoped>\n    .dataframe tbody tr th:only-of-type {\n        vertical-align: middle;\n    }\n\n    .dataframe tbody tr th {\n        vertical-align: top;\n    }\n\n    .dataframe thead th {\n        text-align: right;\n    }\n</style>\n<table border=\"1\" class=\"dataframe\">\n  <thead>\n    <tr style=\"text-align: right;\">\n      <th></th>\n      <th>Coluna1</th>\n      <th>Coluna2</th>\n    </tr>\n  </thead>\n  <tbody>\n    <tr>\n      <th>Corinthians</th>\n      <td>2.706850</td>\n      <td>0.651118</td>\n    </tr>\n    <tr>\n      <th>Palmeiras</th>\n      <td>0.628133</td>\n      <td>NaN</td>\n    </tr>\n    <tr>\n      <th>Santos</th>\n      <td>0.907969</td>\n      <td>NaN</td>\n    </tr>\n    <tr>\n      <th>São Paulo</th>\n      <td>0.503826</td>\n      <td>0.605965</td>\n    </tr>\n  </tbody>\n</table>\n</div>"
     },
     "execution_count": 22,
     "metadata": {},
     "output_type": "execute_result"
    }
   ],
   "source": [
    "# Aplicando o filtro na seleção do DataFrame\n",
    "# Perceba que os valores < 0 ainda\n",
    "\n",
    "df_dict[df_dict > 0]"
   ],
   "metadata": {
    "collapsed": false,
    "ExecuteTime": {
     "end_time": "2023-07-21T15:19:47.006935200Z",
     "start_time": "2023-07-21T15:19:46.952915900Z"
    }
   }
  },
  {
   "cell_type": "code",
   "execution_count": 23,
   "outputs": [
    {
     "data": {
      "text/plain": "Corinthians     True\nPalmeiras      False\nSantos         False\nSão Paulo       True\nName: Coluna2, dtype: bool"
     },
     "execution_count": 23,
     "metadata": {},
     "output_type": "execute_result"
    }
   ],
   "source": [
    "# Filtro por coluna\n",
    "\n",
    "df_dict[\"Coluna2\"] > 0"
   ],
   "metadata": {
    "collapsed": false,
    "ExecuteTime": {
     "end_time": "2023-07-21T15:19:47.324793800Z",
     "start_time": "2023-07-21T15:19:47.282924Z"
    }
   }
  },
  {
   "cell_type": "code",
   "execution_count": 24,
   "outputs": [
    {
     "data": {
      "text/plain": "              Coluna1   Coluna2\nCorinthians  2.706850  0.651118\nSão Paulo    0.503826  0.605965",
      "text/html": "<div>\n<style scoped>\n    .dataframe tbody tr th:only-of-type {\n        vertical-align: middle;\n    }\n\n    .dataframe tbody tr th {\n        vertical-align: top;\n    }\n\n    .dataframe thead th {\n        text-align: right;\n    }\n</style>\n<table border=\"1\" class=\"dataframe\">\n  <thead>\n    <tr style=\"text-align: right;\">\n      <th></th>\n      <th>Coluna1</th>\n      <th>Coluna2</th>\n    </tr>\n  </thead>\n  <tbody>\n    <tr>\n      <th>Corinthians</th>\n      <td>2.706850</td>\n      <td>0.651118</td>\n    </tr>\n    <tr>\n      <th>São Paulo</th>\n      <td>0.503826</td>\n      <td>0.605965</td>\n    </tr>\n  </tbody>\n</table>\n</div>"
     },
     "execution_count": 24,
     "metadata": {},
     "output_type": "execute_result"
    }
   ],
   "source": [
    "# Aplicando filtro na seleção\n",
    "\n",
    "df_dict[df_dict[\"Coluna2\"] > 0]"
   ],
   "metadata": {
    "collapsed": false,
    "ExecuteTime": {
     "end_time": "2023-07-21T15:19:47.719650400Z",
     "start_time": "2023-07-21T15:19:47.613941900Z"
    }
   }
  },
  {
   "cell_type": "markdown",
   "source": [
    "Perceba que foi feita uma \"máscara\" em formato de série com valores True e False, quando passamos essa seleção no DataFrame, apenas as linhas com True continuam"
   ],
   "metadata": {
    "collapsed": false
   }
  },
  {
   "cell_type": "code",
   "execution_count": 25,
   "outputs": [
    {
     "data": {
      "text/plain": "             Coluna1   Coluna2\nCorinthians  2.70685  0.651118",
      "text/html": "<div>\n<style scoped>\n    .dataframe tbody tr th:only-of-type {\n        vertical-align: middle;\n    }\n\n    .dataframe tbody tr th {\n        vertical-align: top;\n    }\n\n    .dataframe thead th {\n        text-align: right;\n    }\n</style>\n<table border=\"1\" class=\"dataframe\">\n  <thead>\n    <tr style=\"text-align: right;\">\n      <th></th>\n      <th>Coluna1</th>\n      <th>Coluna2</th>\n    </tr>\n  </thead>\n  <tbody>\n    <tr>\n      <th>Corinthians</th>\n      <td>2.70685</td>\n      <td>0.651118</td>\n    </tr>\n  </tbody>\n</table>\n</div>"
     },
     "execution_count": 25,
     "metadata": {},
     "output_type": "execute_result"
    }
   ],
   "source": [
    "# Você pode juntar dois ou mais filtros com & (AND/E), | (OR/OU), ~ (NOT/NÃO) e parenteses\n",
    "# Os filtros de operador são os msms operadores lógicos do python, (==, !=, >, <, >=, <=)\n",
    "\n",
    "df_dict[(df_dict[\"Coluna2\"] > 0) & (df_dict[\"Coluna1\"] > 1)]\n"
   ],
   "metadata": {
    "collapsed": false,
    "ExecuteTime": {
     "end_time": "2023-07-21T15:19:48.239756800Z",
     "start_time": "2023-07-21T15:19:48.210003500Z"
    }
   }
  },
  {
   "cell_type": "code",
   "execution_count": 26,
   "outputs": [
    {
     "data": {
      "text/plain": "              Coluna1   Coluna2\nCorinthians  2.706850  0.651118\nSantos       0.907969 -0.848077\nSão Paulo    0.503826  0.605965",
      "text/html": "<div>\n<style scoped>\n    .dataframe tbody tr th:only-of-type {\n        vertical-align: middle;\n    }\n\n    .dataframe tbody tr th {\n        vertical-align: top;\n    }\n\n    .dataframe thead th {\n        text-align: right;\n    }\n</style>\n<table border=\"1\" class=\"dataframe\">\n  <thead>\n    <tr style=\"text-align: right;\">\n      <th></th>\n      <th>Coluna1</th>\n      <th>Coluna2</th>\n    </tr>\n  </thead>\n  <tbody>\n    <tr>\n      <th>Corinthians</th>\n      <td>2.706850</td>\n      <td>0.651118</td>\n    </tr>\n    <tr>\n      <th>Santos</th>\n      <td>0.907969</td>\n      <td>-0.848077</td>\n    </tr>\n    <tr>\n      <th>São Paulo</th>\n      <td>0.503826</td>\n      <td>0.605965</td>\n    </tr>\n  </tbody>\n</table>\n</div>"
     },
     "execution_count": 26,
     "metadata": {},
     "output_type": "execute_result"
    }
   ],
   "source": [
    "df_dict[(df_dict[\"Coluna2\"] > 0) | (df_dict[\"Coluna1\"] > 0.8)]"
   ],
   "metadata": {
    "collapsed": false,
    "ExecuteTime": {
     "end_time": "2023-07-21T15:19:48.508543500Z",
     "start_time": "2023-07-21T15:19:48.465853700Z"
    }
   }
  },
  {
   "cell_type": "code",
   "execution_count": 27,
   "outputs": [
    {
     "data": {
      "text/plain": "            Coluna1   Coluna2\nSão Paulo  0.503826  0.605965",
      "text/html": "<div>\n<style scoped>\n    .dataframe tbody tr th:only-of-type {\n        vertical-align: middle;\n    }\n\n    .dataframe tbody tr th {\n        vertical-align: top;\n    }\n\n    .dataframe thead th {\n        text-align: right;\n    }\n</style>\n<table border=\"1\" class=\"dataframe\">\n  <thead>\n    <tr style=\"text-align: right;\">\n      <th></th>\n      <th>Coluna1</th>\n      <th>Coluna2</th>\n    </tr>\n  </thead>\n  <tbody>\n    <tr>\n      <th>São Paulo</th>\n      <td>0.503826</td>\n      <td>0.605965</td>\n    </tr>\n  </tbody>\n</table>\n</div>"
     },
     "execution_count": 27,
     "metadata": {},
     "output_type": "execute_result"
    }
   ],
   "source": [
    "df_dict[(df_dict[\"Coluna2\"] > 0) & ~(df_dict[\"Coluna1\"] > 1)]"
   ],
   "metadata": {
    "collapsed": false,
    "ExecuteTime": {
     "end_time": "2023-07-21T15:19:48.852472900Z",
     "start_time": "2023-07-21T15:19:48.783560500Z"
    }
   }
  },
  {
   "cell_type": "markdown",
   "source": [
    "Em DataFrames maiores"
   ],
   "metadata": {
    "collapsed": false
   }
  },
  {
   "cell_type": "code",
   "execution_count": 28,
   "outputs": [
    {
     "data": {
      "text/plain": "             date home_team    away_team  home_score  away_score  \\\n441    1916-07-08    Brazil        Chile           1           1   \n444    1916-07-12    Brazil      Uruguay           1           2   \n477    1917-10-12    Brazil        Chile           5           0   \n503    1919-05-11    Brazil        Chile           6           0   \n508    1919-05-18    Brazil    Argentina           3           1   \n...           ...       ...          ...         ...         ...   \n44302  2022-11-24    Brazil       Serbia           2           0   \n44318  2022-11-28    Brazil  Switzerland           1           0   \n44342  2022-12-05    Brazil  South Korea           4           1   \n44640  2023-06-17    Brazil       Guinea           4           1   \n44688  2023-06-20    Brazil      Senegal           2           4   \n\n           tournament            city    country  neutral  \n441      Copa América    Buenos Aires  Argentina     True  \n444      Copa América    Buenos Aires  Argentina     True  \n477      Copa América      Montevideo    Uruguay     True  \n503      Copa América  Rio de Janeiro     Brazil    False  \n508      Copa América  Rio de Janeiro     Brazil    False  \n...               ...             ...        ...      ...  \n44302  FIFA World Cup          Lusail      Qatar     True  \n44318  FIFA World Cup            Doha      Qatar     True  \n44342  FIFA World Cup            Doha      Qatar     True  \n44640        Friendly       Barcelona      Spain     True  \n44688        Friendly          Lisbon   Portugal     True  \n\n[597 rows x 9 columns]",
      "text/html": "<div>\n<style scoped>\n    .dataframe tbody tr th:only-of-type {\n        vertical-align: middle;\n    }\n\n    .dataframe tbody tr th {\n        vertical-align: top;\n    }\n\n    .dataframe thead th {\n        text-align: right;\n    }\n</style>\n<table border=\"1\" class=\"dataframe\">\n  <thead>\n    <tr style=\"text-align: right;\">\n      <th></th>\n      <th>date</th>\n      <th>home_team</th>\n      <th>away_team</th>\n      <th>home_score</th>\n      <th>away_score</th>\n      <th>tournament</th>\n      <th>city</th>\n      <th>country</th>\n      <th>neutral</th>\n    </tr>\n  </thead>\n  <tbody>\n    <tr>\n      <th>441</th>\n      <td>1916-07-08</td>\n      <td>Brazil</td>\n      <td>Chile</td>\n      <td>1</td>\n      <td>1</td>\n      <td>Copa América</td>\n      <td>Buenos Aires</td>\n      <td>Argentina</td>\n      <td>True</td>\n    </tr>\n    <tr>\n      <th>444</th>\n      <td>1916-07-12</td>\n      <td>Brazil</td>\n      <td>Uruguay</td>\n      <td>1</td>\n      <td>2</td>\n      <td>Copa América</td>\n      <td>Buenos Aires</td>\n      <td>Argentina</td>\n      <td>True</td>\n    </tr>\n    <tr>\n      <th>477</th>\n      <td>1917-10-12</td>\n      <td>Brazil</td>\n      <td>Chile</td>\n      <td>5</td>\n      <td>0</td>\n      <td>Copa América</td>\n      <td>Montevideo</td>\n      <td>Uruguay</td>\n      <td>True</td>\n    </tr>\n    <tr>\n      <th>503</th>\n      <td>1919-05-11</td>\n      <td>Brazil</td>\n      <td>Chile</td>\n      <td>6</td>\n      <td>0</td>\n      <td>Copa América</td>\n      <td>Rio de Janeiro</td>\n      <td>Brazil</td>\n      <td>False</td>\n    </tr>\n    <tr>\n      <th>508</th>\n      <td>1919-05-18</td>\n      <td>Brazil</td>\n      <td>Argentina</td>\n      <td>3</td>\n      <td>1</td>\n      <td>Copa América</td>\n      <td>Rio de Janeiro</td>\n      <td>Brazil</td>\n      <td>False</td>\n    </tr>\n    <tr>\n      <th>...</th>\n      <td>...</td>\n      <td>...</td>\n      <td>...</td>\n      <td>...</td>\n      <td>...</td>\n      <td>...</td>\n      <td>...</td>\n      <td>...</td>\n      <td>...</td>\n    </tr>\n    <tr>\n      <th>44302</th>\n      <td>2022-11-24</td>\n      <td>Brazil</td>\n      <td>Serbia</td>\n      <td>2</td>\n      <td>0</td>\n      <td>FIFA World Cup</td>\n      <td>Lusail</td>\n      <td>Qatar</td>\n      <td>True</td>\n    </tr>\n    <tr>\n      <th>44318</th>\n      <td>2022-11-28</td>\n      <td>Brazil</td>\n      <td>Switzerland</td>\n      <td>1</td>\n      <td>0</td>\n      <td>FIFA World Cup</td>\n      <td>Doha</td>\n      <td>Qatar</td>\n      <td>True</td>\n    </tr>\n    <tr>\n      <th>44342</th>\n      <td>2022-12-05</td>\n      <td>Brazil</td>\n      <td>South Korea</td>\n      <td>4</td>\n      <td>1</td>\n      <td>FIFA World Cup</td>\n      <td>Doha</td>\n      <td>Qatar</td>\n      <td>True</td>\n    </tr>\n    <tr>\n      <th>44640</th>\n      <td>2023-06-17</td>\n      <td>Brazil</td>\n      <td>Guinea</td>\n      <td>4</td>\n      <td>1</td>\n      <td>Friendly</td>\n      <td>Barcelona</td>\n      <td>Spain</td>\n      <td>True</td>\n    </tr>\n    <tr>\n      <th>44688</th>\n      <td>2023-06-20</td>\n      <td>Brazil</td>\n      <td>Senegal</td>\n      <td>2</td>\n      <td>4</td>\n      <td>Friendly</td>\n      <td>Lisbon</td>\n      <td>Portugal</td>\n      <td>True</td>\n    </tr>\n  </tbody>\n</table>\n<p>597 rows × 9 columns</p>\n</div>"
     },
     "execution_count": 28,
     "metadata": {},
     "output_type": "execute_result"
    }
   ],
   "source": [
    "df_resultados[df_resultados[\"home_team\"] == \"Brazil\"]"
   ],
   "metadata": {
    "collapsed": false,
    "ExecuteTime": {
     "end_time": "2023-07-21T15:19:49.506490700Z",
     "start_time": "2023-07-21T15:19:49.463223800Z"
    }
   }
  },
  {
   "cell_type": "code",
   "execution_count": 29,
   "outputs": [
    {
     "data": {
      "text/plain": "             date home_team  away_team  home_score  away_score  \\\n508    1919-05-18    Brazil  Argentina           3           1   \n515    1919-06-01    Brazil  Argentina           3           3   \n673    1922-10-15    Brazil  Argentina           2           0   \n678    1922-10-22    Brazil  Argentina           2           1   \n2189   1939-01-15    Brazil  Argentina           1           5   \n2192   1939-01-22    Brazil  Argentina           3           2   \n2275   1940-02-18    Brazil  Argentina           2           2   \n2278   1940-02-25    Brazil  Argentina           0           3   \n2565   1945-12-16    Brazil  Argentina           3           4   \n2566   1945-12-20    Brazil  Argentina           6           2   \n2567   1945-12-23    Brazil  Argentina           3           1   \n4204   1957-07-07    Brazil  Argentina           1           2   \n4207   1957-07-10    Brazil  Argentina           2           0   \n4753   1960-07-12    Brazil  Argentina           5           1   \n5400   1963-04-13    Brazil  Argentina           2           3   \n5401   1963-04-16    Brazil  Argentina           5           2   \n5651   1964-06-03    Brazil  Argentina           0           3   \n5912   1965-06-09    Brazil  Argentina           0           0   \n6910   1968-08-07    Brazil  Argentina           4           1   \n6914   1968-08-11    Brazil  Argentina           3           2   \n7499   1970-03-04    Brazil  Argentina           0           2   \n7501   1970-03-08    Brazil  Argentina           2           1   \n9637   1975-08-06    Brazil  Argentina           2           1   \n9927   1976-05-19    Brazil  Argentina           2           0   \n11196  1979-08-02    Brazil  Argentina           2           1   \n13059  1983-09-14    Brazil  Argentina           0           0   \n13379  1984-06-17    Brazil  Argentina           0           0   \n13998  1985-05-05    Brazil  Argentina           2           1   \n15962  1989-07-12    Brazil  Argentina           2           0   \n16866  1991-06-27    Brazil  Argentina           1           1   \n18552  1994-03-23    Brazil  Argentina           2           0   \n21579  1998-04-29    Brazil  Argentina           0           1   \n22621  1999-09-07    Brazil  Argentina           4           2   \n23504  2000-07-26    Brazil  Argentina           3           1   \n26933  2004-06-02    Brazil  Argentina           3           1   \n30765  2008-06-18    Brazil  Argentina           0           0   \n33883  2011-09-28    Brazil  Argentina           2           0   \n34874  2012-09-19    Brazil  Argentina           2           1   \n38903  2016-11-10    Brazil  Argentina           3           0   \n41380  2019-07-02    Brazil  Argentina           2           0   \n42870  2021-07-10    Brazil  Argentina           0           1   \n\n                         tournament            city country  neutral  \n508                    Copa América  Rio de Janeiro  Brazil    False  \n515                        Friendly  Rio de Janeiro  Brazil    False  \n673                    Copa América  Rio de Janeiro  Brazil    False  \n678                       Copa Roca       São Paulo  Brazil    False  \n2189                      Copa Roca  Rio de Janeiro  Brazil    False  \n2192                      Copa Roca  Rio de Janeiro  Brazil    False  \n2275                      Copa Roca       São Paulo  Brazil    False  \n2278                      Copa Roca       São Paulo  Brazil    False  \n2565                      Copa Roca       São Paulo  Brazil    False  \n2566                      Copa Roca  Rio de Janeiro  Brazil    False  \n2567                      Copa Roca  Rio de Janeiro  Brazil    False  \n4204                      Copa Roca  Rio de Janeiro  Brazil    False  \n4207                      Copa Roca       São Paulo  Brazil    False  \n4753                   Atlantic Cup  Rio de Janeiro  Brazil    False  \n5400                      Copa Roca       São Paulo  Brazil    False  \n5401                      Copa Roca  Rio de Janeiro  Brazil    False  \n5651                       Friendly       São Paulo  Brazil    False  \n5912                       Friendly  Rio de Janeiro  Brazil    False  \n6910                       Friendly  Rio de Janeiro  Brazil    False  \n6914                       Friendly  Belo Horizonte  Brazil    False  \n7499                       Friendly    Porto Alegre  Brazil    False  \n7501                       Friendly  Rio de Janeiro  Brazil    False  \n9637                   Copa América  Belo Horizonte  Brazil    False  \n9927                      Copa Roca  Rio de Janeiro  Brazil    False  \n11196                  Copa América  Rio de Janeiro  Brazil    False  \n13059                  Copa América  Rio de Janeiro  Brazil    False  \n13379                      Friendly       São Paulo  Brazil    False  \n13998                      Friendly        Salvador  Brazil    False  \n15962                  Copa América  Rio de Janeiro  Brazil    False  \n16866                      Friendly        Curitiba  Brazil    False  \n18552                      Friendly          Recife  Brazil    False  \n21579                      Friendly  Rio de Janeiro  Brazil    False  \n22621                      Friendly    Porto Alegre  Brazil    False  \n23504  FIFA World Cup qualification       São Paulo  Brazil    False  \n26933  FIFA World Cup qualification  Belo Horizonte  Brazil    False  \n30765  FIFA World Cup qualification  Belo Horizonte  Brazil    False  \n33883  Superclásico de las Américas           Belém  Brazil    False  \n34874  Superclásico de las Américas         Goiânia  Brazil    False  \n38903  FIFA World Cup qualification  Belo Horizonte  Brazil    False  \n41380                  Copa América  Belo Horizonte  Brazil    False  \n42870                  Copa América  Rio de Janeiro  Brazil    False  ",
      "text/html": "<div>\n<style scoped>\n    .dataframe tbody tr th:only-of-type {\n        vertical-align: middle;\n    }\n\n    .dataframe tbody tr th {\n        vertical-align: top;\n    }\n\n    .dataframe thead th {\n        text-align: right;\n    }\n</style>\n<table border=\"1\" class=\"dataframe\">\n  <thead>\n    <tr style=\"text-align: right;\">\n      <th></th>\n      <th>date</th>\n      <th>home_team</th>\n      <th>away_team</th>\n      <th>home_score</th>\n      <th>away_score</th>\n      <th>tournament</th>\n      <th>city</th>\n      <th>country</th>\n      <th>neutral</th>\n    </tr>\n  </thead>\n  <tbody>\n    <tr>\n      <th>508</th>\n      <td>1919-05-18</td>\n      <td>Brazil</td>\n      <td>Argentina</td>\n      <td>3</td>\n      <td>1</td>\n      <td>Copa América</td>\n      <td>Rio de Janeiro</td>\n      <td>Brazil</td>\n      <td>False</td>\n    </tr>\n    <tr>\n      <th>515</th>\n      <td>1919-06-01</td>\n      <td>Brazil</td>\n      <td>Argentina</td>\n      <td>3</td>\n      <td>3</td>\n      <td>Friendly</td>\n      <td>Rio de Janeiro</td>\n      <td>Brazil</td>\n      <td>False</td>\n    </tr>\n    <tr>\n      <th>673</th>\n      <td>1922-10-15</td>\n      <td>Brazil</td>\n      <td>Argentina</td>\n      <td>2</td>\n      <td>0</td>\n      <td>Copa América</td>\n      <td>Rio de Janeiro</td>\n      <td>Brazil</td>\n      <td>False</td>\n    </tr>\n    <tr>\n      <th>678</th>\n      <td>1922-10-22</td>\n      <td>Brazil</td>\n      <td>Argentina</td>\n      <td>2</td>\n      <td>1</td>\n      <td>Copa Roca</td>\n      <td>São Paulo</td>\n      <td>Brazil</td>\n      <td>False</td>\n    </tr>\n    <tr>\n      <th>2189</th>\n      <td>1939-01-15</td>\n      <td>Brazil</td>\n      <td>Argentina</td>\n      <td>1</td>\n      <td>5</td>\n      <td>Copa Roca</td>\n      <td>Rio de Janeiro</td>\n      <td>Brazil</td>\n      <td>False</td>\n    </tr>\n    <tr>\n      <th>2192</th>\n      <td>1939-01-22</td>\n      <td>Brazil</td>\n      <td>Argentina</td>\n      <td>3</td>\n      <td>2</td>\n      <td>Copa Roca</td>\n      <td>Rio de Janeiro</td>\n      <td>Brazil</td>\n      <td>False</td>\n    </tr>\n    <tr>\n      <th>2275</th>\n      <td>1940-02-18</td>\n      <td>Brazil</td>\n      <td>Argentina</td>\n      <td>2</td>\n      <td>2</td>\n      <td>Copa Roca</td>\n      <td>São Paulo</td>\n      <td>Brazil</td>\n      <td>False</td>\n    </tr>\n    <tr>\n      <th>2278</th>\n      <td>1940-02-25</td>\n      <td>Brazil</td>\n      <td>Argentina</td>\n      <td>0</td>\n      <td>3</td>\n      <td>Copa Roca</td>\n      <td>São Paulo</td>\n      <td>Brazil</td>\n      <td>False</td>\n    </tr>\n    <tr>\n      <th>2565</th>\n      <td>1945-12-16</td>\n      <td>Brazil</td>\n      <td>Argentina</td>\n      <td>3</td>\n      <td>4</td>\n      <td>Copa Roca</td>\n      <td>São Paulo</td>\n      <td>Brazil</td>\n      <td>False</td>\n    </tr>\n    <tr>\n      <th>2566</th>\n      <td>1945-12-20</td>\n      <td>Brazil</td>\n      <td>Argentina</td>\n      <td>6</td>\n      <td>2</td>\n      <td>Copa Roca</td>\n      <td>Rio de Janeiro</td>\n      <td>Brazil</td>\n      <td>False</td>\n    </tr>\n    <tr>\n      <th>2567</th>\n      <td>1945-12-23</td>\n      <td>Brazil</td>\n      <td>Argentina</td>\n      <td>3</td>\n      <td>1</td>\n      <td>Copa Roca</td>\n      <td>Rio de Janeiro</td>\n      <td>Brazil</td>\n      <td>False</td>\n    </tr>\n    <tr>\n      <th>4204</th>\n      <td>1957-07-07</td>\n      <td>Brazil</td>\n      <td>Argentina</td>\n      <td>1</td>\n      <td>2</td>\n      <td>Copa Roca</td>\n      <td>Rio de Janeiro</td>\n      <td>Brazil</td>\n      <td>False</td>\n    </tr>\n    <tr>\n      <th>4207</th>\n      <td>1957-07-10</td>\n      <td>Brazil</td>\n      <td>Argentina</td>\n      <td>2</td>\n      <td>0</td>\n      <td>Copa Roca</td>\n      <td>São Paulo</td>\n      <td>Brazil</td>\n      <td>False</td>\n    </tr>\n    <tr>\n      <th>4753</th>\n      <td>1960-07-12</td>\n      <td>Brazil</td>\n      <td>Argentina</td>\n      <td>5</td>\n      <td>1</td>\n      <td>Atlantic Cup</td>\n      <td>Rio de Janeiro</td>\n      <td>Brazil</td>\n      <td>False</td>\n    </tr>\n    <tr>\n      <th>5400</th>\n      <td>1963-04-13</td>\n      <td>Brazil</td>\n      <td>Argentina</td>\n      <td>2</td>\n      <td>3</td>\n      <td>Copa Roca</td>\n      <td>São Paulo</td>\n      <td>Brazil</td>\n      <td>False</td>\n    </tr>\n    <tr>\n      <th>5401</th>\n      <td>1963-04-16</td>\n      <td>Brazil</td>\n      <td>Argentina</td>\n      <td>5</td>\n      <td>2</td>\n      <td>Copa Roca</td>\n      <td>Rio de Janeiro</td>\n      <td>Brazil</td>\n      <td>False</td>\n    </tr>\n    <tr>\n      <th>5651</th>\n      <td>1964-06-03</td>\n      <td>Brazil</td>\n      <td>Argentina</td>\n      <td>0</td>\n      <td>3</td>\n      <td>Friendly</td>\n      <td>São Paulo</td>\n      <td>Brazil</td>\n      <td>False</td>\n    </tr>\n    <tr>\n      <th>5912</th>\n      <td>1965-06-09</td>\n      <td>Brazil</td>\n      <td>Argentina</td>\n      <td>0</td>\n      <td>0</td>\n      <td>Friendly</td>\n      <td>Rio de Janeiro</td>\n      <td>Brazil</td>\n      <td>False</td>\n    </tr>\n    <tr>\n      <th>6910</th>\n      <td>1968-08-07</td>\n      <td>Brazil</td>\n      <td>Argentina</td>\n      <td>4</td>\n      <td>1</td>\n      <td>Friendly</td>\n      <td>Rio de Janeiro</td>\n      <td>Brazil</td>\n      <td>False</td>\n    </tr>\n    <tr>\n      <th>6914</th>\n      <td>1968-08-11</td>\n      <td>Brazil</td>\n      <td>Argentina</td>\n      <td>3</td>\n      <td>2</td>\n      <td>Friendly</td>\n      <td>Belo Horizonte</td>\n      <td>Brazil</td>\n      <td>False</td>\n    </tr>\n    <tr>\n      <th>7499</th>\n      <td>1970-03-04</td>\n      <td>Brazil</td>\n      <td>Argentina</td>\n      <td>0</td>\n      <td>2</td>\n      <td>Friendly</td>\n      <td>Porto Alegre</td>\n      <td>Brazil</td>\n      <td>False</td>\n    </tr>\n    <tr>\n      <th>7501</th>\n      <td>1970-03-08</td>\n      <td>Brazil</td>\n      <td>Argentina</td>\n      <td>2</td>\n      <td>1</td>\n      <td>Friendly</td>\n      <td>Rio de Janeiro</td>\n      <td>Brazil</td>\n      <td>False</td>\n    </tr>\n    <tr>\n      <th>9637</th>\n      <td>1975-08-06</td>\n      <td>Brazil</td>\n      <td>Argentina</td>\n      <td>2</td>\n      <td>1</td>\n      <td>Copa América</td>\n      <td>Belo Horizonte</td>\n      <td>Brazil</td>\n      <td>False</td>\n    </tr>\n    <tr>\n      <th>9927</th>\n      <td>1976-05-19</td>\n      <td>Brazil</td>\n      <td>Argentina</td>\n      <td>2</td>\n      <td>0</td>\n      <td>Copa Roca</td>\n      <td>Rio de Janeiro</td>\n      <td>Brazil</td>\n      <td>False</td>\n    </tr>\n    <tr>\n      <th>11196</th>\n      <td>1979-08-02</td>\n      <td>Brazil</td>\n      <td>Argentina</td>\n      <td>2</td>\n      <td>1</td>\n      <td>Copa América</td>\n      <td>Rio de Janeiro</td>\n      <td>Brazil</td>\n      <td>False</td>\n    </tr>\n    <tr>\n      <th>13059</th>\n      <td>1983-09-14</td>\n      <td>Brazil</td>\n      <td>Argentina</td>\n      <td>0</td>\n      <td>0</td>\n      <td>Copa América</td>\n      <td>Rio de Janeiro</td>\n      <td>Brazil</td>\n      <td>False</td>\n    </tr>\n    <tr>\n      <th>13379</th>\n      <td>1984-06-17</td>\n      <td>Brazil</td>\n      <td>Argentina</td>\n      <td>0</td>\n      <td>0</td>\n      <td>Friendly</td>\n      <td>São Paulo</td>\n      <td>Brazil</td>\n      <td>False</td>\n    </tr>\n    <tr>\n      <th>13998</th>\n      <td>1985-05-05</td>\n      <td>Brazil</td>\n      <td>Argentina</td>\n      <td>2</td>\n      <td>1</td>\n      <td>Friendly</td>\n      <td>Salvador</td>\n      <td>Brazil</td>\n      <td>False</td>\n    </tr>\n    <tr>\n      <th>15962</th>\n      <td>1989-07-12</td>\n      <td>Brazil</td>\n      <td>Argentina</td>\n      <td>2</td>\n      <td>0</td>\n      <td>Copa América</td>\n      <td>Rio de Janeiro</td>\n      <td>Brazil</td>\n      <td>False</td>\n    </tr>\n    <tr>\n      <th>16866</th>\n      <td>1991-06-27</td>\n      <td>Brazil</td>\n      <td>Argentina</td>\n      <td>1</td>\n      <td>1</td>\n      <td>Friendly</td>\n      <td>Curitiba</td>\n      <td>Brazil</td>\n      <td>False</td>\n    </tr>\n    <tr>\n      <th>18552</th>\n      <td>1994-03-23</td>\n      <td>Brazil</td>\n      <td>Argentina</td>\n      <td>2</td>\n      <td>0</td>\n      <td>Friendly</td>\n      <td>Recife</td>\n      <td>Brazil</td>\n      <td>False</td>\n    </tr>\n    <tr>\n      <th>21579</th>\n      <td>1998-04-29</td>\n      <td>Brazil</td>\n      <td>Argentina</td>\n      <td>0</td>\n      <td>1</td>\n      <td>Friendly</td>\n      <td>Rio de Janeiro</td>\n      <td>Brazil</td>\n      <td>False</td>\n    </tr>\n    <tr>\n      <th>22621</th>\n      <td>1999-09-07</td>\n      <td>Brazil</td>\n      <td>Argentina</td>\n      <td>4</td>\n      <td>2</td>\n      <td>Friendly</td>\n      <td>Porto Alegre</td>\n      <td>Brazil</td>\n      <td>False</td>\n    </tr>\n    <tr>\n      <th>23504</th>\n      <td>2000-07-26</td>\n      <td>Brazil</td>\n      <td>Argentina</td>\n      <td>3</td>\n      <td>1</td>\n      <td>FIFA World Cup qualification</td>\n      <td>São Paulo</td>\n      <td>Brazil</td>\n      <td>False</td>\n    </tr>\n    <tr>\n      <th>26933</th>\n      <td>2004-06-02</td>\n      <td>Brazil</td>\n      <td>Argentina</td>\n      <td>3</td>\n      <td>1</td>\n      <td>FIFA World Cup qualification</td>\n      <td>Belo Horizonte</td>\n      <td>Brazil</td>\n      <td>False</td>\n    </tr>\n    <tr>\n      <th>30765</th>\n      <td>2008-06-18</td>\n      <td>Brazil</td>\n      <td>Argentina</td>\n      <td>0</td>\n      <td>0</td>\n      <td>FIFA World Cup qualification</td>\n      <td>Belo Horizonte</td>\n      <td>Brazil</td>\n      <td>False</td>\n    </tr>\n    <tr>\n      <th>33883</th>\n      <td>2011-09-28</td>\n      <td>Brazil</td>\n      <td>Argentina</td>\n      <td>2</td>\n      <td>0</td>\n      <td>Superclásico de las Américas</td>\n      <td>Belém</td>\n      <td>Brazil</td>\n      <td>False</td>\n    </tr>\n    <tr>\n      <th>34874</th>\n      <td>2012-09-19</td>\n      <td>Brazil</td>\n      <td>Argentina</td>\n      <td>2</td>\n      <td>1</td>\n      <td>Superclásico de las Américas</td>\n      <td>Goiânia</td>\n      <td>Brazil</td>\n      <td>False</td>\n    </tr>\n    <tr>\n      <th>38903</th>\n      <td>2016-11-10</td>\n      <td>Brazil</td>\n      <td>Argentina</td>\n      <td>3</td>\n      <td>0</td>\n      <td>FIFA World Cup qualification</td>\n      <td>Belo Horizonte</td>\n      <td>Brazil</td>\n      <td>False</td>\n    </tr>\n    <tr>\n      <th>41380</th>\n      <td>2019-07-02</td>\n      <td>Brazil</td>\n      <td>Argentina</td>\n      <td>2</td>\n      <td>0</td>\n      <td>Copa América</td>\n      <td>Belo Horizonte</td>\n      <td>Brazil</td>\n      <td>False</td>\n    </tr>\n    <tr>\n      <th>42870</th>\n      <td>2021-07-10</td>\n      <td>Brazil</td>\n      <td>Argentina</td>\n      <td>0</td>\n      <td>1</td>\n      <td>Copa América</td>\n      <td>Rio de Janeiro</td>\n      <td>Brazil</td>\n      <td>False</td>\n    </tr>\n  </tbody>\n</table>\n</div>"
     },
     "execution_count": 29,
     "metadata": {},
     "output_type": "execute_result"
    }
   ],
   "source": [
    "df_resultados[(df_resultados[\"home_team\"] == \"Brazil\") & (df_resultados[\"away_team\"] == \"Argentina\") & (df_resultados[\"country\"] == \"Brazil\")]"
   ],
   "metadata": {
    "collapsed": false,
    "ExecuteTime": {
     "end_time": "2023-07-21T15:19:50.048500300Z",
     "start_time": "2023-07-21T15:19:50.003225900Z"
    }
   }
  },
  {
   "cell_type": "code",
   "execution_count": 30,
   "outputs": [
    {
     "data": {
      "text/plain": "508      Rio de Janeiro\n515      Rio de Janeiro\n673      Rio de Janeiro\n678           São Paulo\n2189     Rio de Janeiro\n2192     Rio de Janeiro\n2275          São Paulo\n2278          São Paulo\n2565          São Paulo\n2566     Rio de Janeiro\n2567     Rio de Janeiro\n4204     Rio de Janeiro\n4207          São Paulo\n4753     Rio de Janeiro\n5400          São Paulo\n5401     Rio de Janeiro\n5651          São Paulo\n5912     Rio de Janeiro\n6910     Rio de Janeiro\n6914     Belo Horizonte\n7499       Porto Alegre\n7501     Rio de Janeiro\n9637     Belo Horizonte\n9927     Rio de Janeiro\n11196    Rio de Janeiro\n13059    Rio de Janeiro\n13379         São Paulo\n13998          Salvador\n15962    Rio de Janeiro\n16866          Curitiba\n18552            Recife\n21579    Rio de Janeiro\n22621      Porto Alegre\n23504         São Paulo\n26933    Belo Horizonte\n30765    Belo Horizonte\n33883             Belém\n34874           Goiânia\n38903    Belo Horizonte\n41380    Belo Horizonte\n42870    Rio de Janeiro\nName: city, dtype: object"
     },
     "execution_count": 30,
     "metadata": {},
     "output_type": "execute_result"
    }
   ],
   "source": [
    "# O resultado do filtro é um DataFrame, você pode continuar selecionando colunas a partir do filtro\n",
    "\n",
    "df_resultados[(df_resultados[\"home_team\"] == \"Brazil\") & (df_resultados[\"away_team\"] == \"Argentina\") & (df_resultados[\"country\"] == \"Brazil\")][\"city\"]"
   ],
   "metadata": {
    "collapsed": false,
    "ExecuteTime": {
     "end_time": "2023-07-21T15:19:50.715218800Z",
     "start_time": "2023-07-21T15:19:50.693120300Z"
    }
   }
  },
  {
   "cell_type": "code",
   "execution_count": 31,
   "outputs": [
    {
     "data": {
      "text/plain": "0    False\n1    False\n2    False\n3    False\n4    False\ndtype: bool"
     },
     "execution_count": 31,
     "metadata": {},
     "output_type": "execute_result"
    }
   ],
   "source": [
    "# Também é possível comparar colunas no filtro\n",
    "(df_resultados[\"away_team\"] == df_resultados[\"country\"]).head() # Separando os jogos que o time visitante jogou em seu país"
   ],
   "metadata": {
    "collapsed": false,
    "ExecuteTime": {
     "end_time": "2023-07-21T15:19:51.201303400Z",
     "start_time": "2023-07-21T15:19:51.172063700Z"
    }
   }
  },
  {
   "cell_type": "code",
   "execution_count": 32,
   "outputs": [
    {
     "data": {
      "text/plain": "             date  home_team away_team  home_score  away_score tournament  \\\n785    1924-03-13  Catalonia     Spain           0           7   Friendly   \n1615   1933-10-04    Silesia    Poland           1           2   Friendly   \n1647   1934-02-02  Catalonia     Spain           0           2   Friendly   \n2753   1947-10-19  Catalonia     Spain           3           1   Friendly   \n3486   1953-04-26    Silesia    Poland           2           3   Friendly   \n3526   1953-08-09  Catalonia     Spain           0           6   Friendly   \n3539   1953-09-13    Silesia    Poland           3           3   Friendly   \n29242  2006-12-09    Silesia    Poland           1           1   Friendly   \n\n            city country  neutral  \n785    Barcelona   Spain    False  \n1615    Katowice  Poland    False  \n1647   Barcelona   Spain    False  \n2753   Barcelona   Spain    False  \n3486     Chorzów  Poland    False  \n3526   Barcelona   Spain    False  \n3539       Byton  Poland    False  \n29242    Chorzów  Poland    False  ",
      "text/html": "<div>\n<style scoped>\n    .dataframe tbody tr th:only-of-type {\n        vertical-align: middle;\n    }\n\n    .dataframe tbody tr th {\n        vertical-align: top;\n    }\n\n    .dataframe thead th {\n        text-align: right;\n    }\n</style>\n<table border=\"1\" class=\"dataframe\">\n  <thead>\n    <tr style=\"text-align: right;\">\n      <th></th>\n      <th>date</th>\n      <th>home_team</th>\n      <th>away_team</th>\n      <th>home_score</th>\n      <th>away_score</th>\n      <th>tournament</th>\n      <th>city</th>\n      <th>country</th>\n      <th>neutral</th>\n    </tr>\n  </thead>\n  <tbody>\n    <tr>\n      <th>785</th>\n      <td>1924-03-13</td>\n      <td>Catalonia</td>\n      <td>Spain</td>\n      <td>0</td>\n      <td>7</td>\n      <td>Friendly</td>\n      <td>Barcelona</td>\n      <td>Spain</td>\n      <td>False</td>\n    </tr>\n    <tr>\n      <th>1615</th>\n      <td>1933-10-04</td>\n      <td>Silesia</td>\n      <td>Poland</td>\n      <td>1</td>\n      <td>2</td>\n      <td>Friendly</td>\n      <td>Katowice</td>\n      <td>Poland</td>\n      <td>False</td>\n    </tr>\n    <tr>\n      <th>1647</th>\n      <td>1934-02-02</td>\n      <td>Catalonia</td>\n      <td>Spain</td>\n      <td>0</td>\n      <td>2</td>\n      <td>Friendly</td>\n      <td>Barcelona</td>\n      <td>Spain</td>\n      <td>False</td>\n    </tr>\n    <tr>\n      <th>2753</th>\n      <td>1947-10-19</td>\n      <td>Catalonia</td>\n      <td>Spain</td>\n      <td>3</td>\n      <td>1</td>\n      <td>Friendly</td>\n      <td>Barcelona</td>\n      <td>Spain</td>\n      <td>False</td>\n    </tr>\n    <tr>\n      <th>3486</th>\n      <td>1953-04-26</td>\n      <td>Silesia</td>\n      <td>Poland</td>\n      <td>2</td>\n      <td>3</td>\n      <td>Friendly</td>\n      <td>Chorzów</td>\n      <td>Poland</td>\n      <td>False</td>\n    </tr>\n    <tr>\n      <th>3526</th>\n      <td>1953-08-09</td>\n      <td>Catalonia</td>\n      <td>Spain</td>\n      <td>0</td>\n      <td>6</td>\n      <td>Friendly</td>\n      <td>Barcelona</td>\n      <td>Spain</td>\n      <td>False</td>\n    </tr>\n    <tr>\n      <th>3539</th>\n      <td>1953-09-13</td>\n      <td>Silesia</td>\n      <td>Poland</td>\n      <td>3</td>\n      <td>3</td>\n      <td>Friendly</td>\n      <td>Byton</td>\n      <td>Poland</td>\n      <td>False</td>\n    </tr>\n    <tr>\n      <th>29242</th>\n      <td>2006-12-09</td>\n      <td>Silesia</td>\n      <td>Poland</td>\n      <td>1</td>\n      <td>1</td>\n      <td>Friendly</td>\n      <td>Chorzów</td>\n      <td>Poland</td>\n      <td>False</td>\n    </tr>\n  </tbody>\n</table>\n</div>"
     },
     "execution_count": 32,
     "metadata": {},
     "output_type": "execute_result"
    }
   ],
   "source": [
    "df_resultados[df_resultados[\"away_team\"] == df_resultados[\"country\"]]"
   ],
   "metadata": {
    "collapsed": false,
    "ExecuteTime": {
     "end_time": "2023-07-21T15:19:51.665806500Z",
     "start_time": "2023-07-21T15:19:51.639758500Z"
    }
   }
  },
  {
   "cell_type": "code",
   "execution_count": 33,
   "outputs": [
    {
     "data": {
      "text/plain": "0    False\n1    False\n2    False\n3    False\n4    False\nName: home_team, dtype: bool"
     },
     "execution_count": 33,
     "metadata": {},
     "output_type": "execute_result"
    }
   ],
   "source": [
    "## Também é possível utilizar funções nos filtros\n",
    "\n",
    "df_resultados[\"home_team\"].isin([\"Brazil\", \"Argentina\"]).head() # Essa função retorna true caso o país esteja na lista"
   ],
   "metadata": {
    "collapsed": false,
    "ExecuteTime": {
     "end_time": "2023-07-21T15:19:52.103977900Z",
     "start_time": "2023-07-21T15:19:52.076119400Z"
    }
   }
  },
  {
   "cell_type": "code",
   "execution_count": 34,
   "outputs": [
    {
     "data": {
      "text/plain": "       home_team  away_team                   tournament\n155    Argentina    Uruguay                     Friendly\n177    Argentina    Uruguay                  Copa Lipton\n190    Argentina    Uruguay                  Copa Newton\n226    Argentina    Uruguay                  Copa Newton\n227    Argentina    Uruguay  Copa Premio Honor Argentino\n...          ...        ...                          ...\n44402  Argentina     Panama                     Friendly\n44530  Argentina    Curaçao                     Friendly\n44603  Argentina  Australia                     Friendly\n44640     Brazil     Guinea                     Friendly\n44688     Brazil    Senegal                     Friendly\n\n[1174 rows x 3 columns]",
      "text/html": "<div>\n<style scoped>\n    .dataframe tbody tr th:only-of-type {\n        vertical-align: middle;\n    }\n\n    .dataframe tbody tr th {\n        vertical-align: top;\n    }\n\n    .dataframe thead th {\n        text-align: right;\n    }\n</style>\n<table border=\"1\" class=\"dataframe\">\n  <thead>\n    <tr style=\"text-align: right;\">\n      <th></th>\n      <th>home_team</th>\n      <th>away_team</th>\n      <th>tournament</th>\n    </tr>\n  </thead>\n  <tbody>\n    <tr>\n      <th>155</th>\n      <td>Argentina</td>\n      <td>Uruguay</td>\n      <td>Friendly</td>\n    </tr>\n    <tr>\n      <th>177</th>\n      <td>Argentina</td>\n      <td>Uruguay</td>\n      <td>Copa Lipton</td>\n    </tr>\n    <tr>\n      <th>190</th>\n      <td>Argentina</td>\n      <td>Uruguay</td>\n      <td>Copa Newton</td>\n    </tr>\n    <tr>\n      <th>226</th>\n      <td>Argentina</td>\n      <td>Uruguay</td>\n      <td>Copa Newton</td>\n    </tr>\n    <tr>\n      <th>227</th>\n      <td>Argentina</td>\n      <td>Uruguay</td>\n      <td>Copa Premio Honor Argentino</td>\n    </tr>\n    <tr>\n      <th>...</th>\n      <td>...</td>\n      <td>...</td>\n      <td>...</td>\n    </tr>\n    <tr>\n      <th>44402</th>\n      <td>Argentina</td>\n      <td>Panama</td>\n      <td>Friendly</td>\n    </tr>\n    <tr>\n      <th>44530</th>\n      <td>Argentina</td>\n      <td>Curaçao</td>\n      <td>Friendly</td>\n    </tr>\n    <tr>\n      <th>44603</th>\n      <td>Argentina</td>\n      <td>Australia</td>\n      <td>Friendly</td>\n    </tr>\n    <tr>\n      <th>44640</th>\n      <td>Brazil</td>\n      <td>Guinea</td>\n      <td>Friendly</td>\n    </tr>\n    <tr>\n      <th>44688</th>\n      <td>Brazil</td>\n      <td>Senegal</td>\n      <td>Friendly</td>\n    </tr>\n  </tbody>\n</table>\n<p>1174 rows × 3 columns</p>\n</div>"
     },
     "execution_count": 34,
     "metadata": {},
     "output_type": "execute_result"
    }
   ],
   "source": [
    "df_resultados[df_resultados[\"home_team\"].isin([\"Brazil\", \"Argentina\"])][[\"home_team\", \"away_team\", \"tournament\"]]"
   ],
   "metadata": {
    "collapsed": false,
    "ExecuteTime": {
     "end_time": "2023-07-21T15:19:52.547053900Z",
     "start_time": "2023-07-21T15:19:52.523274800Z"
    }
   }
  },
  {
   "cell_type": "markdown",
   "source": [
    "Para usar pandas/python em análise de dados como ferramente principal é de fundamental importancia que vc esteja *MUITO CONFORTÁVEL* com filtros/seleção, separe um tempo e faça testes com os filtros por conta própria, caso necessário, leia novamente a seção anterior, qualquer dúvida pode me procurar"
   ],
   "metadata": {
    "collapsed": false
   }
  },
  {
   "cell_type": "markdown",
   "source": [
    "## 2.4 Operações com Index"
   ],
   "metadata": {
    "collapsed": false
   }
  },
  {
   "cell_type": "markdown",
   "source": [
    "Algumas operações com index são mostradas abaixo, tenho o costume de utilizar mais filtro em colunas, porém há operações úteis com index"
   ],
   "metadata": {
    "collapsed": false
   }
  },
  {
   "cell_type": "code",
   "execution_count": 35,
   "outputs": [
    {
     "data": {
      "text/plain": "              Coluna1   Coluna2\nCorinthians  2.706850  0.651118\nPalmeiras    0.628133 -0.319318\nSantos       0.907969 -0.848077\nSão Paulo    0.503826  0.605965",
      "text/html": "<div>\n<style scoped>\n    .dataframe tbody tr th:only-of-type {\n        vertical-align: middle;\n    }\n\n    .dataframe tbody tr th {\n        vertical-align: top;\n    }\n\n    .dataframe thead th {\n        text-align: right;\n    }\n</style>\n<table border=\"1\" class=\"dataframe\">\n  <thead>\n    <tr style=\"text-align: right;\">\n      <th></th>\n      <th>Coluna1</th>\n      <th>Coluna2</th>\n    </tr>\n  </thead>\n  <tbody>\n    <tr>\n      <th>Corinthians</th>\n      <td>2.706850</td>\n      <td>0.651118</td>\n    </tr>\n    <tr>\n      <th>Palmeiras</th>\n      <td>0.628133</td>\n      <td>-0.319318</td>\n    </tr>\n    <tr>\n      <th>Santos</th>\n      <td>0.907969</td>\n      <td>-0.848077</td>\n    </tr>\n    <tr>\n      <th>São Paulo</th>\n      <td>0.503826</td>\n      <td>0.605965</td>\n    </tr>\n  </tbody>\n</table>\n</div>"
     },
     "execution_count": 35,
     "metadata": {},
     "output_type": "execute_result"
    }
   ],
   "source": [
    "df_dict"
   ],
   "metadata": {
    "collapsed": false,
    "ExecuteTime": {
     "end_time": "2023-07-21T15:19:53.881363500Z",
     "start_time": "2023-07-21T15:19:53.846374600Z"
    }
   }
  },
  {
   "cell_type": "markdown",
   "source": [
    "Nenhuma das mudanças abaixo são inplace, caso queira use reassing:\n",
    "df_dict = df_dict.reset_index()"
   ],
   "metadata": {
    "collapsed": false
   }
  },
  {
   "cell_type": "code",
   "execution_count": 36,
   "outputs": [
    {
     "data": {
      "text/plain": "         index   Coluna1   Coluna2\n0  Corinthians  2.706850  0.651118\n1    Palmeiras  0.628133 -0.319318\n2       Santos  0.907969 -0.848077\n3    São Paulo  0.503826  0.605965",
      "text/html": "<div>\n<style scoped>\n    .dataframe tbody tr th:only-of-type {\n        vertical-align: middle;\n    }\n\n    .dataframe tbody tr th {\n        vertical-align: top;\n    }\n\n    .dataframe thead th {\n        text-align: right;\n    }\n</style>\n<table border=\"1\" class=\"dataframe\">\n  <thead>\n    <tr style=\"text-align: right;\">\n      <th></th>\n      <th>index</th>\n      <th>Coluna1</th>\n      <th>Coluna2</th>\n    </tr>\n  </thead>\n  <tbody>\n    <tr>\n      <th>0</th>\n      <td>Corinthians</td>\n      <td>2.706850</td>\n      <td>0.651118</td>\n    </tr>\n    <tr>\n      <th>1</th>\n      <td>Palmeiras</td>\n      <td>0.628133</td>\n      <td>-0.319318</td>\n    </tr>\n    <tr>\n      <th>2</th>\n      <td>Santos</td>\n      <td>0.907969</td>\n      <td>-0.848077</td>\n    </tr>\n    <tr>\n      <th>3</th>\n      <td>São Paulo</td>\n      <td>0.503826</td>\n      <td>0.605965</td>\n    </tr>\n  </tbody>\n</table>\n</div>"
     },
     "execution_count": 36,
     "metadata": {},
     "output_type": "execute_result"
    }
   ],
   "source": [
    "# resetar o indíce\n",
    "df_dict.reset_index()\n",
    "# perceba que o índice anterior virou uma coluna chamada \"index\""
   ],
   "metadata": {
    "collapsed": false,
    "ExecuteTime": {
     "end_time": "2023-07-21T15:19:54.328919100Z",
     "start_time": "2023-07-21T15:19:54.292413800Z"
    }
   }
  },
  {
   "cell_type": "code",
   "execution_count": 37,
   "outputs": [
    {
     "data": {
      "text/plain": "    Coluna1   Coluna2\n0  2.706850  0.651118\n1  0.628133 -0.319318\n2  0.907969 -0.848077\n3  0.503826  0.605965",
      "text/html": "<div>\n<style scoped>\n    .dataframe tbody tr th:only-of-type {\n        vertical-align: middle;\n    }\n\n    .dataframe tbody tr th {\n        vertical-align: top;\n    }\n\n    .dataframe thead th {\n        text-align: right;\n    }\n</style>\n<table border=\"1\" class=\"dataframe\">\n  <thead>\n    <tr style=\"text-align: right;\">\n      <th></th>\n      <th>Coluna1</th>\n      <th>Coluna2</th>\n    </tr>\n  </thead>\n  <tbody>\n    <tr>\n      <th>0</th>\n      <td>2.706850</td>\n      <td>0.651118</td>\n    </tr>\n    <tr>\n      <th>1</th>\n      <td>0.628133</td>\n      <td>-0.319318</td>\n    </tr>\n    <tr>\n      <th>2</th>\n      <td>0.907969</td>\n      <td>-0.848077</td>\n    </tr>\n    <tr>\n      <th>3</th>\n      <td>0.503826</td>\n      <td>0.605965</td>\n    </tr>\n  </tbody>\n</table>\n</div>"
     },
     "execution_count": 37,
     "metadata": {},
     "output_type": "execute_result"
    }
   ],
   "source": [
    "df_dict.reset_index(drop=True) # Também é possível resetar o index sem manter o anterior"
   ],
   "metadata": {
    "collapsed": false,
    "ExecuteTime": {
     "end_time": "2023-07-21T15:19:54.550325Z",
     "start_time": "2023-07-21T15:19:54.510982700Z"
    }
   }
  },
  {
   "cell_type": "code",
   "execution_count": 38,
   "outputs": [],
   "source": [
    "novo_indice = [\"Timão\", \"Porco\", \"Peixe\", \"Trikas\"]"
   ],
   "metadata": {
    "collapsed": false,
    "ExecuteTime": {
     "end_time": "2023-07-21T15:19:54.748373200Z",
     "start_time": "2023-07-21T15:19:54.707786900Z"
    }
   }
  },
  {
   "cell_type": "code",
   "execution_count": 39,
   "outputs": [
    {
     "data": {
      "text/plain": "              Coluna1   Coluna2 Apelido\nCorinthians  2.706850  0.651118   Timão\nPalmeiras    0.628133 -0.319318   Porco\nSantos       0.907969 -0.848077   Peixe\nSão Paulo    0.503826  0.605965  Trikas",
      "text/html": "<div>\n<style scoped>\n    .dataframe tbody tr th:only-of-type {\n        vertical-align: middle;\n    }\n\n    .dataframe tbody tr th {\n        vertical-align: top;\n    }\n\n    .dataframe thead th {\n        text-align: right;\n    }\n</style>\n<table border=\"1\" class=\"dataframe\">\n  <thead>\n    <tr style=\"text-align: right;\">\n      <th></th>\n      <th>Coluna1</th>\n      <th>Coluna2</th>\n      <th>Apelido</th>\n    </tr>\n  </thead>\n  <tbody>\n    <tr>\n      <th>Corinthians</th>\n      <td>2.706850</td>\n      <td>0.651118</td>\n      <td>Timão</td>\n    </tr>\n    <tr>\n      <th>Palmeiras</th>\n      <td>0.628133</td>\n      <td>-0.319318</td>\n      <td>Porco</td>\n    </tr>\n    <tr>\n      <th>Santos</th>\n      <td>0.907969</td>\n      <td>-0.848077</td>\n      <td>Peixe</td>\n    </tr>\n    <tr>\n      <th>São Paulo</th>\n      <td>0.503826</td>\n      <td>0.605965</td>\n      <td>Trikas</td>\n    </tr>\n  </tbody>\n</table>\n</div>"
     },
     "execution_count": 39,
     "metadata": {},
     "output_type": "execute_result"
    }
   ],
   "source": [
    "df_dict_aux = df_dict.copy()\n",
    "df_dict_aux[\"Apelido\"] = novo_indice\n",
    "df_dict_aux"
   ],
   "metadata": {
    "collapsed": false,
    "ExecuteTime": {
     "end_time": "2023-07-21T15:19:54.941779400Z",
     "start_time": "2023-07-21T15:19:54.878445100Z"
    }
   }
  },
  {
   "cell_type": "code",
   "execution_count": 40,
   "outputs": [
    {
     "data": {
      "text/plain": "          Coluna1   Coluna2\nApelido                    \nTimão    2.706850  0.651118\nPorco    0.628133 -0.319318\nPeixe    0.907969 -0.848077\nTrikas   0.503826  0.605965",
      "text/html": "<div>\n<style scoped>\n    .dataframe tbody tr th:only-of-type {\n        vertical-align: middle;\n    }\n\n    .dataframe tbody tr th {\n        vertical-align: top;\n    }\n\n    .dataframe thead th {\n        text-align: right;\n    }\n</style>\n<table border=\"1\" class=\"dataframe\">\n  <thead>\n    <tr style=\"text-align: right;\">\n      <th></th>\n      <th>Coluna1</th>\n      <th>Coluna2</th>\n    </tr>\n    <tr>\n      <th>Apelido</th>\n      <th></th>\n      <th></th>\n    </tr>\n  </thead>\n  <tbody>\n    <tr>\n      <th>Timão</th>\n      <td>2.706850</td>\n      <td>0.651118</td>\n    </tr>\n    <tr>\n      <th>Porco</th>\n      <td>0.628133</td>\n      <td>-0.319318</td>\n    </tr>\n    <tr>\n      <th>Peixe</th>\n      <td>0.907969</td>\n      <td>-0.848077</td>\n    </tr>\n    <tr>\n      <th>Trikas</th>\n      <td>0.503826</td>\n      <td>0.605965</td>\n    </tr>\n  </tbody>\n</table>\n</div>"
     },
     "execution_count": 40,
     "metadata": {},
     "output_type": "execute_result"
    }
   ],
   "source": [
    "df_dict_aux.set_index(\"Apelido\")"
   ],
   "metadata": {
    "collapsed": false,
    "ExecuteTime": {
     "end_time": "2023-07-21T15:19:55.225302700Z",
     "start_time": "2023-07-21T15:19:55.101366Z"
    }
   }
  },
  {
   "cell_type": "markdown",
   "source": [
    "## 2.5 Tratando dados Nulos"
   ],
   "metadata": {
    "collapsed": false
   }
  },
  {
   "cell_type": "markdown",
   "source": [
    "Analisando dados você terá diversas incertezas, porém uma coisa é sempre certa:\n",
    "Vai se deparar com uma base incompleta\n",
    "\n",
    "Assim é interessante que tenha conhecimento de que soluções podem ser realizadas pelo python"
   ],
   "metadata": {
    "collapsed": false
   }
  },
  {
   "cell_type": "code",
   "execution_count": 54,
   "outputs": [
    {
     "data": {
      "text/plain": "                  Mundiais  Libertadores  Fundação\nCorinthians            2.0           1.0      1910\nPalmeiras              NaN           3.0      1914\nSantos                 2.0           3.0      1912\nSão Paulo              3.0           3.0      1930\nXV de Piracicaba       NaN           NaN      1913",
      "text/html": "<div>\n<style scoped>\n    .dataframe tbody tr th:only-of-type {\n        vertical-align: middle;\n    }\n\n    .dataframe tbody tr th {\n        vertical-align: top;\n    }\n\n    .dataframe thead th {\n        text-align: right;\n    }\n</style>\n<table border=\"1\" class=\"dataframe\">\n  <thead>\n    <tr style=\"text-align: right;\">\n      <th></th>\n      <th>Mundiais</th>\n      <th>Libertadores</th>\n      <th>Fundação</th>\n    </tr>\n  </thead>\n  <tbody>\n    <tr>\n      <th>Corinthians</th>\n      <td>2.0</td>\n      <td>1.0</td>\n      <td>1910</td>\n    </tr>\n    <tr>\n      <th>Palmeiras</th>\n      <td>NaN</td>\n      <td>3.0</td>\n      <td>1914</td>\n    </tr>\n    <tr>\n      <th>Santos</th>\n      <td>2.0</td>\n      <td>3.0</td>\n      <td>1912</td>\n    </tr>\n    <tr>\n      <th>São Paulo</th>\n      <td>3.0</td>\n      <td>3.0</td>\n      <td>1930</td>\n    </tr>\n    <tr>\n      <th>XV de Piracicaba</th>\n      <td>NaN</td>\n      <td>NaN</td>\n      <td>1913</td>\n    </tr>\n  </tbody>\n</table>\n</div>"
     },
     "execution_count": 54,
     "metadata": {},
     "output_type": "execute_result"
    }
   ],
   "source": [
    "df_campeonatos = pd.DataFrame(\n",
    "    {\n",
    "        \"Mundiais\": [2, np.nan, 2, 3, np.nan],\n",
    "        \"Libertadores\": [1, 3, 3, 3, np.nan],\n",
    "        \"Fundação\": [1910, 1914, 1912, 1930, 1913]\n",
    "    },\n",
    "    index=[\"Corinthians\", \"Palmeiras\", \"Santos\", \"São Paulo\", \"XV de Piracicaba\"]\n",
    ")\n",
    "\n",
    "df_campeonatos"
   ],
   "metadata": {
    "collapsed": false,
    "ExecuteTime": {
     "end_time": "2023-07-21T15:40:39.997120800Z",
     "start_time": "2023-07-21T15:40:39.959650100Z"
    }
   }
  },
  {
   "cell_type": "code",
   "execution_count": 55,
   "outputs": [
    {
     "data": {
      "text/plain": "             Mundiais  Libertadores  Fundação\nCorinthians       2.0           1.0      1910\nSantos            2.0           3.0      1912\nSão Paulo         3.0           3.0      1930",
      "text/html": "<div>\n<style scoped>\n    .dataframe tbody tr th:only-of-type {\n        vertical-align: middle;\n    }\n\n    .dataframe tbody tr th {\n        vertical-align: top;\n    }\n\n    .dataframe thead th {\n        text-align: right;\n    }\n</style>\n<table border=\"1\" class=\"dataframe\">\n  <thead>\n    <tr style=\"text-align: right;\">\n      <th></th>\n      <th>Mundiais</th>\n      <th>Libertadores</th>\n      <th>Fundação</th>\n    </tr>\n  </thead>\n  <tbody>\n    <tr>\n      <th>Corinthians</th>\n      <td>2.0</td>\n      <td>1.0</td>\n      <td>1910</td>\n    </tr>\n    <tr>\n      <th>Santos</th>\n      <td>2.0</td>\n      <td>3.0</td>\n      <td>1912</td>\n    </tr>\n    <tr>\n      <th>São Paulo</th>\n      <td>3.0</td>\n      <td>3.0</td>\n      <td>1930</td>\n    </tr>\n  </tbody>\n</table>\n</div>"
     },
     "execution_count": 55,
     "metadata": {},
     "output_type": "execute_result"
    }
   ],
   "source": [
    "df_campeonatos.dropna() # Removendo linhas com valores nulos"
   ],
   "metadata": {
    "collapsed": false,
    "ExecuteTime": {
     "end_time": "2023-07-21T15:40:42.982348900Z",
     "start_time": "2023-07-21T15:40:42.938687500Z"
    }
   }
  },
  {
   "cell_type": "code",
   "execution_count": 56,
   "outputs": [
    {
     "data": {
      "text/plain": "                  Fundação\nCorinthians           1910\nPalmeiras             1914\nSantos                1912\nSão Paulo             1930\nXV de Piracicaba      1913",
      "text/html": "<div>\n<style scoped>\n    .dataframe tbody tr th:only-of-type {\n        vertical-align: middle;\n    }\n\n    .dataframe tbody tr th {\n        vertical-align: top;\n    }\n\n    .dataframe thead th {\n        text-align: right;\n    }\n</style>\n<table border=\"1\" class=\"dataframe\">\n  <thead>\n    <tr style=\"text-align: right;\">\n      <th></th>\n      <th>Fundação</th>\n    </tr>\n  </thead>\n  <tbody>\n    <tr>\n      <th>Corinthians</th>\n      <td>1910</td>\n    </tr>\n    <tr>\n      <th>Palmeiras</th>\n      <td>1914</td>\n    </tr>\n    <tr>\n      <th>Santos</th>\n      <td>1912</td>\n    </tr>\n    <tr>\n      <th>São Paulo</th>\n      <td>1930</td>\n    </tr>\n    <tr>\n      <th>XV de Piracicaba</th>\n      <td>1913</td>\n    </tr>\n  </tbody>\n</table>\n</div>"
     },
     "execution_count": 56,
     "metadata": {},
     "output_type": "execute_result"
    }
   ],
   "source": [
    "df_campeonatos.dropna(axis=1) # Removendo colunas com valores nulos"
   ],
   "metadata": {
    "collapsed": false,
    "ExecuteTime": {
     "end_time": "2023-07-21T15:40:56.499525400Z",
     "start_time": "2023-07-21T15:40:56.455338100Z"
    }
   }
  },
  {
   "cell_type": "code",
   "execution_count": 60,
   "outputs": [
    {
     "data": {
      "text/plain": "             Mundiais  Libertadores  Fundação\nCorinthians       2.0           1.0      1910\nPalmeiras         NaN           3.0      1914\nSantos            2.0           3.0      1912\nSão Paulo         3.0           3.0      1930",
      "text/html": "<div>\n<style scoped>\n    .dataframe tbody tr th:only-of-type {\n        vertical-align: middle;\n    }\n\n    .dataframe tbody tr th {\n        vertical-align: top;\n    }\n\n    .dataframe thead th {\n        text-align: right;\n    }\n</style>\n<table border=\"1\" class=\"dataframe\">\n  <thead>\n    <tr style=\"text-align: right;\">\n      <th></th>\n      <th>Mundiais</th>\n      <th>Libertadores</th>\n      <th>Fundação</th>\n    </tr>\n  </thead>\n  <tbody>\n    <tr>\n      <th>Corinthians</th>\n      <td>2.0</td>\n      <td>1.0</td>\n      <td>1910</td>\n    </tr>\n    <tr>\n      <th>Palmeiras</th>\n      <td>NaN</td>\n      <td>3.0</td>\n      <td>1914</td>\n    </tr>\n    <tr>\n      <th>Santos</th>\n      <td>2.0</td>\n      <td>3.0</td>\n      <td>1912</td>\n    </tr>\n    <tr>\n      <th>São Paulo</th>\n      <td>3.0</td>\n      <td>3.0</td>\n      <td>1930</td>\n    </tr>\n  </tbody>\n</table>\n</div>"
     },
     "execution_count": 60,
     "metadata": {},
     "output_type": "execute_result"
    }
   ],
   "source": [
    "df_campeonatos.dropna(thresh=2) # thresh vem de threshold, no caso define o mínimo de valores não nulos que precisam existir para que a linha não seja descartada"
   ],
   "metadata": {
    "collapsed": false,
    "ExecuteTime": {
     "end_time": "2023-07-21T15:42:37.261804100Z",
     "start_time": "2023-07-21T15:42:37.214350600Z"
    }
   }
  },
  {
   "cell_type": "code",
   "execution_count": 63,
   "outputs": [
    {
     "data": {
      "text/plain": "                  Mundiais  Libertadores  Fundação\nCorinthians            2.0           1.0      1910\nPalmeiras              0.0           3.0      1914\nSantos                 2.0           3.0      1912\nSão Paulo              3.0           3.0      1930\nXV de Piracicaba       0.0           0.0      1913",
      "text/html": "<div>\n<style scoped>\n    .dataframe tbody tr th:only-of-type {\n        vertical-align: middle;\n    }\n\n    .dataframe tbody tr th {\n        vertical-align: top;\n    }\n\n    .dataframe thead th {\n        text-align: right;\n    }\n</style>\n<table border=\"1\" class=\"dataframe\">\n  <thead>\n    <tr style=\"text-align: right;\">\n      <th></th>\n      <th>Mundiais</th>\n      <th>Libertadores</th>\n      <th>Fundação</th>\n    </tr>\n  </thead>\n  <tbody>\n    <tr>\n      <th>Corinthians</th>\n      <td>2.0</td>\n      <td>1.0</td>\n      <td>1910</td>\n    </tr>\n    <tr>\n      <th>Palmeiras</th>\n      <td>0.0</td>\n      <td>3.0</td>\n      <td>1914</td>\n    </tr>\n    <tr>\n      <th>Santos</th>\n      <td>2.0</td>\n      <td>3.0</td>\n      <td>1912</td>\n    </tr>\n    <tr>\n      <th>São Paulo</th>\n      <td>3.0</td>\n      <td>3.0</td>\n      <td>1930</td>\n    </tr>\n    <tr>\n      <th>XV de Piracicaba</th>\n      <td>0.0</td>\n      <td>0.0</td>\n      <td>1913</td>\n    </tr>\n  </tbody>\n</table>\n</div>"
     },
     "execution_count": 63,
     "metadata": {},
     "output_type": "execute_result"
    }
   ],
   "source": [
    "df_campeonatos.fillna(value=0) # Você pode também escolher um fillvalue para os valores nulos"
   ],
   "metadata": {
    "collapsed": false,
    "ExecuteTime": {
     "end_time": "2023-07-21T15:43:06.030488700Z",
     "start_time": "2023-07-21T15:43:05.989060200Z"
    }
   }
  },
  {
   "cell_type": "code",
   "execution_count": 65,
   "outputs": [
    {
     "data": {
      "text/plain": "Corinthians         1.0\nPalmeiras           3.0\nSantos              3.0\nSão Paulo           3.0\nXV de Piracicaba    2.5\nName: Libertadores, dtype: float64"
     },
     "execution_count": 65,
     "metadata": {},
     "output_type": "execute_result"
    }
   ],
   "source": [
    "df_campeonatos[\"Libertadores\"].fillna(value=df_campeonatos[\"Libertadores\"].mean()) # Inclusíve é possível colocar a média da coluna, ou outras funções, como fill value"
   ],
   "metadata": {
    "collapsed": false,
    "ExecuteTime": {
     "end_time": "2023-07-21T15:44:50.205855900Z",
     "start_time": "2023-07-21T15:44:50.164666100Z"
    }
   }
  },
  {
   "cell_type": "markdown",
   "source": [
    "Em resumo quando deparado com valores incompletos você pode ignorar, remover ou substituir qual é o melhor caso depende fundamentalmente da base e projeto em questão, assim é muito útil saber usar os 3"
   ],
   "metadata": {
    "collapsed": false
   }
  },
  {
   "cell_type": "markdown",
   "source": [
    "## 2.6 Multi-Index - (Opcional)"
   ],
   "metadata": {
    "collapsed": false
   }
  },
  {
   "cell_type": "markdown",
   "source": [
    "Multi-index pode ser utilizado para filtros/seleção, tenho o costume de colocar tudo em colunas com .reset_index() e usar os filtros comentados na seção interior, porém fica a documentação"
   ],
   "metadata": {
    "collapsed": false
   }
  },
  {
   "cell_type": "code",
   "execution_count": 41,
   "outputs": [
    {
     "data": {
      "text/plain": "[('Corinthians', 'Mundiais'),\n ('Flamengo', 'Mundiais'),\n ('Corinthians', 'Libertadores'),\n ('Flamengo', 'Libertadores')]"
     },
     "execution_count": 41,
     "metadata": {},
     "output_type": "execute_result"
    }
   ],
   "source": [
    "# Nívei de índice\n",
    "exterior = [\"Corinthians\", \"Flamengo\", \"Corinthians\", \"Flamengo\"]\n",
    "interior = [\"Mundiais\", \"Mundiais\", \"Libertadores\", \"Libertadores\"]\n",
    "multi_index = list(zip(exterior, interior)) # Criando lista de tuplas\n",
    "multi_index"
   ],
   "metadata": {
    "collapsed": false,
    "ExecuteTime": {
     "end_time": "2023-07-21T15:19:55.639745700Z",
     "start_time": "2023-07-21T15:19:55.610969700Z"
    }
   }
  },
  {
   "cell_type": "code",
   "execution_count": 42,
   "outputs": [
    {
     "data": {
      "text/plain": "MultiIndex([('Corinthians',     'Mundiais'),\n            (   'Flamengo',     'Mundiais'),\n            ('Corinthians', 'Libertadores'),\n            (   'Flamengo', 'Libertadores')],\n           )"
     },
     "execution_count": 42,
     "metadata": {},
     "output_type": "execute_result"
    }
   ],
   "source": [
    "multi_index = pd.MultiIndex.from_tuples(multi_index)\n",
    "multi_index"
   ],
   "metadata": {
    "collapsed": false,
    "ExecuteTime": {
     "end_time": "2023-07-21T15:19:55.856997500Z",
     "start_time": "2023-07-21T15:19:55.821600700Z"
    }
   }
  },
  {
   "cell_type": "code",
   "execution_count": 43,
   "outputs": [
    {
     "data": {
      "text/plain": "                         Qtd.              Anos\nTimes       Campeonatos                        \nCorinthians Mundiais        2        2000, 2012\nFlamengo    Mundiais        1              1981\nCorinthians Libertadores    1              2012\nFlamengo    Libertadores    3  1981, 2019, 2022",
      "text/html": "<div>\n<style scoped>\n    .dataframe tbody tr th:only-of-type {\n        vertical-align: middle;\n    }\n\n    .dataframe tbody tr th {\n        vertical-align: top;\n    }\n\n    .dataframe thead th {\n        text-align: right;\n    }\n</style>\n<table border=\"1\" class=\"dataframe\">\n  <thead>\n    <tr style=\"text-align: right;\">\n      <th></th>\n      <th></th>\n      <th>Qtd.</th>\n      <th>Anos</th>\n    </tr>\n    <tr>\n      <th>Times</th>\n      <th>Campeonatos</th>\n      <th></th>\n      <th></th>\n    </tr>\n  </thead>\n  <tbody>\n    <tr>\n      <th>Corinthians</th>\n      <th>Mundiais</th>\n      <td>2</td>\n      <td>2000, 2012</td>\n    </tr>\n    <tr>\n      <th>Flamengo</th>\n      <th>Mundiais</th>\n      <td>1</td>\n      <td>1981</td>\n    </tr>\n    <tr>\n      <th>Corinthians</th>\n      <th>Libertadores</th>\n      <td>1</td>\n      <td>2012</td>\n    </tr>\n    <tr>\n      <th>Flamengo</th>\n      <th>Libertadores</th>\n      <td>3</td>\n      <td>1981, 2019, 2022</td>\n    </tr>\n  </tbody>\n</table>\n</div>"
     },
     "execution_count": 43,
     "metadata": {},
     "output_type": "execute_result"
    }
   ],
   "source": [
    "df = pd.DataFrame(\n",
    "    np.array(\n",
    "        [\n",
    "            [2, \"2000, 2012\"],\n",
    "            [1, \"1981\"],\n",
    "            [1, \"2012\"],\n",
    "            [3, \"1981, 2019, 2022\"]\n",
    "        ]\n",
    "    ),\n",
    "    index=multi_index,\n",
    "    columns=[\"Qtd.\", \"Anos\"]\n",
    ")\n",
    "df.index.names = [\"Times\", \"Campeonatos\"] # Nomeando indíces\n",
    "df"
   ],
   "metadata": {
    "collapsed": false,
    "ExecuteTime": {
     "end_time": "2023-07-21T15:19:56.220951500Z",
     "start_time": "2023-07-21T15:19:56.175116200Z"
    }
   }
  },
  {
   "cell_type": "markdown",
   "source": [
    "Com o DataFrame criado é possível utilizar loc para navegar pelos índices"
   ],
   "metadata": {
    "collapsed": false
   }
  },
  {
   "cell_type": "code",
   "execution_count": 44,
   "outputs": [
    {
     "data": {
      "text/plain": "             Qtd.        Anos\nCampeonatos                  \nMundiais        2  2000, 2012\nLibertadores    1        2012",
      "text/html": "<div>\n<style scoped>\n    .dataframe tbody tr th:only-of-type {\n        vertical-align: middle;\n    }\n\n    .dataframe tbody tr th {\n        vertical-align: top;\n    }\n\n    .dataframe thead th {\n        text-align: right;\n    }\n</style>\n<table border=\"1\" class=\"dataframe\">\n  <thead>\n    <tr style=\"text-align: right;\">\n      <th></th>\n      <th>Qtd.</th>\n      <th>Anos</th>\n    </tr>\n    <tr>\n      <th>Campeonatos</th>\n      <th></th>\n      <th></th>\n    </tr>\n  </thead>\n  <tbody>\n    <tr>\n      <th>Mundiais</th>\n      <td>2</td>\n      <td>2000, 2012</td>\n    </tr>\n    <tr>\n      <th>Libertadores</th>\n      <td>1</td>\n      <td>2012</td>\n    </tr>\n  </tbody>\n</table>\n</div>"
     },
     "execution_count": 44,
     "metadata": {},
     "output_type": "execute_result"
    }
   ],
   "source": [
    "df.loc[\"Corinthians\"]"
   ],
   "metadata": {
    "collapsed": false,
    "ExecuteTime": {
     "end_time": "2023-07-21T15:19:56.627736600Z",
     "start_time": "2023-07-21T15:19:56.597941700Z"
    }
   }
  },
  {
   "cell_type": "code",
   "execution_count": 45,
   "outputs": [
    {
     "data": {
      "text/plain": "Qtd.             2\nAnos    2000, 2012\nName: Mundiais, dtype: object"
     },
     "execution_count": 45,
     "metadata": {},
     "output_type": "execute_result"
    }
   ],
   "source": [
    "df.loc[\"Corinthians\"].loc[\"Mundiais\"]"
   ],
   "metadata": {
    "collapsed": false,
    "ExecuteTime": {
     "end_time": "2023-07-21T15:19:56.853496200Z",
     "start_time": "2023-07-21T15:19:56.828715400Z"
    }
   }
  },
  {
   "cell_type": "markdown",
   "source": [
    "Para multi-índices a ideia de usar o cross section (xs) é melhor utilizado, segue os exemplos"
   ],
   "metadata": {
    "collapsed": false
   }
  },
  {
   "cell_type": "code",
   "execution_count": 46,
   "outputs": [
    {
     "data": {
      "text/plain": "             Qtd.        Anos\nCampeonatos                  \nMundiais        2  2000, 2012\nLibertadores    1        2012",
      "text/html": "<div>\n<style scoped>\n    .dataframe tbody tr th:only-of-type {\n        vertical-align: middle;\n    }\n\n    .dataframe tbody tr th {\n        vertical-align: top;\n    }\n\n    .dataframe thead th {\n        text-align: right;\n    }\n</style>\n<table border=\"1\" class=\"dataframe\">\n  <thead>\n    <tr style=\"text-align: right;\">\n      <th></th>\n      <th>Qtd.</th>\n      <th>Anos</th>\n    </tr>\n    <tr>\n      <th>Campeonatos</th>\n      <th></th>\n      <th></th>\n    </tr>\n  </thead>\n  <tbody>\n    <tr>\n      <th>Mundiais</th>\n      <td>2</td>\n      <td>2000, 2012</td>\n    </tr>\n    <tr>\n      <th>Libertadores</th>\n      <td>1</td>\n      <td>2012</td>\n    </tr>\n  </tbody>\n</table>\n</div>"
     },
     "execution_count": 46,
     "metadata": {},
     "output_type": "execute_result"
    }
   ],
   "source": [
    "df.xs(\"Corinthians\")"
   ],
   "metadata": {
    "collapsed": false,
    "ExecuteTime": {
     "end_time": "2023-07-21T15:19:57.273123Z",
     "start_time": "2023-07-21T15:19:57.252257500Z"
    }
   }
  },
  {
   "cell_type": "code",
   "execution_count": 47,
   "outputs": [
    {
     "data": {
      "text/plain": "Qtd.             2\nAnos    2000, 2012\nName: (Corinthians, Mundiais), dtype: object"
     },
     "execution_count": 47,
     "metadata": {},
     "output_type": "execute_result"
    }
   ],
   "source": [
    "df.xs((\"Corinthians\", \"Mundiais\"))"
   ],
   "metadata": {
    "collapsed": false,
    "ExecuteTime": {
     "end_time": "2023-07-21T15:19:57.552047600Z",
     "start_time": "2023-07-21T15:19:57.489144600Z"
    }
   }
  },
  {
   "cell_type": "code",
   "execution_count": 48,
   "outputs": [
    {
     "data": {
      "text/plain": "            Qtd.        Anos\nTimes                       \nCorinthians    2  2000, 2012\nFlamengo       1        1981",
      "text/html": "<div>\n<style scoped>\n    .dataframe tbody tr th:only-of-type {\n        vertical-align: middle;\n    }\n\n    .dataframe tbody tr th {\n        vertical-align: top;\n    }\n\n    .dataframe thead th {\n        text-align: right;\n    }\n</style>\n<table border=\"1\" class=\"dataframe\">\n  <thead>\n    <tr style=\"text-align: right;\">\n      <th></th>\n      <th>Qtd.</th>\n      <th>Anos</th>\n    </tr>\n    <tr>\n      <th>Times</th>\n      <th></th>\n      <th></th>\n    </tr>\n  </thead>\n  <tbody>\n    <tr>\n      <th>Corinthians</th>\n      <td>2</td>\n      <td>2000, 2012</td>\n    </tr>\n    <tr>\n      <th>Flamengo</th>\n      <td>1</td>\n      <td>1981</td>\n    </tr>\n  </tbody>\n</table>\n</div>"
     },
     "execution_count": 48,
     "metadata": {},
     "output_type": "execute_result"
    }
   ],
   "source": [
    "df.xs(\"Mundiais\", level=\"Campeonatos\")"
   ],
   "metadata": {
    "collapsed": false,
    "ExecuteTime": {
     "end_time": "2023-07-21T15:19:57.710041700Z",
     "start_time": "2023-07-21T15:19:57.684895400Z"
    }
   }
  },
  {
   "cell_type": "markdown",
   "source": [],
   "metadata": {
    "collapsed": false
   }
  }
 ],
 "metadata": {
  "kernelspec": {
   "display_name": "Python 3",
   "language": "python",
   "name": "python3"
  },
  "language_info": {
   "codemirror_mode": {
    "name": "ipython",
    "version": 2
   },
   "file_extension": ".py",
   "mimetype": "text/x-python",
   "name": "python",
   "nbconvert_exporter": "python",
   "pygments_lexer": "ipython2",
   "version": "2.7.6"
  }
 },
 "nbformat": 4,
 "nbformat_minor": 0
}
