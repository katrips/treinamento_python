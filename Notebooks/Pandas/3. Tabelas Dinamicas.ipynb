{
 "cells": [
  {
   "cell_type": "markdown",
   "source": [
    "# 3. Dataframes - Tabelas Dinâmicas"
   ],
   "metadata": {
    "collapsed": false
   }
  },
  {
   "cell_type": "markdown",
   "source": [
    "Como ja devem ter visto no excel, tabelas dinâmicas se demonstram muito úteis para obter análises rápidas. No tutorial abaixo olharemos 2 formas de realizar as tabelas dinâmicas pelo python (.pivot_table() e .groupby())"
   ],
   "metadata": {
    "collapsed": false
   }
  },
  {
   "cell_type": "code",
   "execution_count": 1,
   "outputs": [],
   "source": [
    "import pandas as pd\n",
    "import numpy as np"
   ],
   "metadata": {
    "collapsed": false,
    "ExecuteTime": {
     "end_time": "2023-07-21T16:53:21.463917800Z",
     "start_time": "2023-07-21T16:53:21.038322900Z"
    }
   }
  },
  {
   "cell_type": "code",
   "execution_count": 2,
   "outputs": [
    {
     "data": {
      "text/plain": "         date home_team away_team  home_score  away_score tournament     city  \\\n0  1872-11-30  Scotland   England           0           0   Friendly  Glasgow   \n1  1873-03-08   England  Scotland           4           2   Friendly   London   \n2  1874-03-07  Scotland   England           2           1   Friendly  Glasgow   \n3  1875-03-06   England  Scotland           2           2   Friendly   London   \n4  1876-03-04  Scotland   England           3           0   Friendly  Glasgow   \n\n    country  neutral  \n0  Scotland    False  \n1   England    False  \n2  Scotland    False  \n3   England    False  \n4  Scotland    False  ",
      "text/html": "<div>\n<style scoped>\n    .dataframe tbody tr th:only-of-type {\n        vertical-align: middle;\n    }\n\n    .dataframe tbody tr th {\n        vertical-align: top;\n    }\n\n    .dataframe thead th {\n        text-align: right;\n    }\n</style>\n<table border=\"1\" class=\"dataframe\">\n  <thead>\n    <tr style=\"text-align: right;\">\n      <th></th>\n      <th>date</th>\n      <th>home_team</th>\n      <th>away_team</th>\n      <th>home_score</th>\n      <th>away_score</th>\n      <th>tournament</th>\n      <th>city</th>\n      <th>country</th>\n      <th>neutral</th>\n    </tr>\n  </thead>\n  <tbody>\n    <tr>\n      <th>0</th>\n      <td>1872-11-30</td>\n      <td>Scotland</td>\n      <td>England</td>\n      <td>0</td>\n      <td>0</td>\n      <td>Friendly</td>\n      <td>Glasgow</td>\n      <td>Scotland</td>\n      <td>False</td>\n    </tr>\n    <tr>\n      <th>1</th>\n      <td>1873-03-08</td>\n      <td>England</td>\n      <td>Scotland</td>\n      <td>4</td>\n      <td>2</td>\n      <td>Friendly</td>\n      <td>London</td>\n      <td>England</td>\n      <td>False</td>\n    </tr>\n    <tr>\n      <th>2</th>\n      <td>1874-03-07</td>\n      <td>Scotland</td>\n      <td>England</td>\n      <td>2</td>\n      <td>1</td>\n      <td>Friendly</td>\n      <td>Glasgow</td>\n      <td>Scotland</td>\n      <td>False</td>\n    </tr>\n    <tr>\n      <th>3</th>\n      <td>1875-03-06</td>\n      <td>England</td>\n      <td>Scotland</td>\n      <td>2</td>\n      <td>2</td>\n      <td>Friendly</td>\n      <td>London</td>\n      <td>England</td>\n      <td>False</td>\n    </tr>\n    <tr>\n      <th>4</th>\n      <td>1876-03-04</td>\n      <td>Scotland</td>\n      <td>England</td>\n      <td>3</td>\n      <td>0</td>\n      <td>Friendly</td>\n      <td>Glasgow</td>\n      <td>Scotland</td>\n      <td>False</td>\n    </tr>\n  </tbody>\n</table>\n</div>"
     },
     "execution_count": 2,
     "metadata": {},
     "output_type": "execute_result"
    }
   ],
   "source": [
    "path_resultados = \"Copa/results.csv\"\n",
    "\n",
    "df_resultados = pd.read_csv(path_resultados)\n",
    "df_resultados.head()"
   ],
   "metadata": {
    "collapsed": false,
    "ExecuteTime": {
     "end_time": "2023-07-21T16:53:21.528323Z",
     "start_time": "2023-07-21T16:53:21.431555900Z"
    }
   }
  },
  {
   "cell_type": "markdown",
   "source": [
    "## 3.1 .pivot_table()"
   ],
   "metadata": {
    "collapsed": false
   }
  },
  {
   "cell_type": "markdown",
   "source": [
    "A função .pivot_table() pode ser aplicada a dataframes para realizar a tabela dinâmica"
   ],
   "metadata": {
    "collapsed": false
   }
  },
  {
   "cell_type": "code",
   "execution_count": 10,
   "outputs": [
    {
     "data": {
      "text/plain": "           home_score\nhome_team            \nBrazil           1476\nGermany          1308\nArgentina        1274\nEngland          1214\nSweden           1178",
      "text/html": "<div>\n<style scoped>\n    .dataframe tbody tr th:only-of-type {\n        vertical-align: middle;\n    }\n\n    .dataframe tbody tr th {\n        vertical-align: top;\n    }\n\n    .dataframe thead th {\n        text-align: right;\n    }\n</style>\n<table border=\"1\" class=\"dataframe\">\n  <thead>\n    <tr style=\"text-align: right;\">\n      <th></th>\n      <th>home_score</th>\n    </tr>\n    <tr>\n      <th>home_team</th>\n      <th></th>\n    </tr>\n  </thead>\n  <tbody>\n    <tr>\n      <th>Brazil</th>\n      <td>1476</td>\n    </tr>\n    <tr>\n      <th>Germany</th>\n      <td>1308</td>\n    </tr>\n    <tr>\n      <th>Argentina</th>\n      <td>1274</td>\n    </tr>\n    <tr>\n      <th>England</th>\n      <td>1214</td>\n    </tr>\n    <tr>\n      <th>Sweden</th>\n      <td>1178</td>\n    </tr>\n  </tbody>\n</table>\n</div>"
     },
     "execution_count": 10,
     "metadata": {},
     "output_type": "execute_result"
    }
   ],
   "source": [
    "df_resultados.pivot_table(\n",
    "    index = \"home_team\", # O que seria linhas/rows na dinâmica do excel Default=None,\n",
    "    columns = None, # As colunas da tabela dinâmica Default=None,\n",
    "    values = \"home_score\", # Os valores que refereciam aos index, ou index+coluna Defaul=None,\n",
    "    aggfunc = \"sum\", # O agregador dos valores, mais utilizados : \"mean\", \"sum\", \"count\", \"max\", \"min\", é possível utilizar qualquer função do python/NumPy Defaul=\"mean\",\n",
    ").sort_values(\"home_score\", ascending=False).head()"
   ],
   "metadata": {
    "collapsed": false,
    "ExecuteTime": {
     "end_time": "2023-07-21T16:55:03.697342600Z",
     "start_time": "2023-07-21T16:55:03.613984300Z"
    }
   }
  },
  {
   "cell_type": "code",
   "execution_count": 11,
   "outputs": [
    {
     "data": {
      "text/plain": "           home_score  away_score\nhome_team                        \nBrazil           1476         486\nGermany          1308         554\nArgentina        1274         490\nEngland          1214         465\nSweden           1178         576",
      "text/html": "<div>\n<style scoped>\n    .dataframe tbody tr th:only-of-type {\n        vertical-align: middle;\n    }\n\n    .dataframe tbody tr th {\n        vertical-align: top;\n    }\n\n    .dataframe thead th {\n        text-align: right;\n    }\n</style>\n<table border=\"1\" class=\"dataframe\">\n  <thead>\n    <tr style=\"text-align: right;\">\n      <th></th>\n      <th>home_score</th>\n      <th>away_score</th>\n    </tr>\n    <tr>\n      <th>home_team</th>\n      <th></th>\n      <th></th>\n    </tr>\n  </thead>\n  <tbody>\n    <tr>\n      <th>Brazil</th>\n      <td>1476</td>\n      <td>486</td>\n    </tr>\n    <tr>\n      <th>Germany</th>\n      <td>1308</td>\n      <td>554</td>\n    </tr>\n    <tr>\n      <th>Argentina</th>\n      <td>1274</td>\n      <td>490</td>\n    </tr>\n    <tr>\n      <th>England</th>\n      <td>1214</td>\n      <td>465</td>\n    </tr>\n    <tr>\n      <th>Sweden</th>\n      <td>1178</td>\n      <td>576</td>\n    </tr>\n  </tbody>\n</table>\n</div>"
     },
     "execution_count": 11,
     "metadata": {},
     "output_type": "execute_result"
    }
   ],
   "source": [
    "df_resultados.pivot_table(index = \"home_team\", values = [\"home_score\", \"away_score\"], aggfunc = \"sum\").sort_values(\"home_score\", ascending=False)[[\"home_score\", \"away_score\"]].head()"
   ],
   "metadata": {
    "collapsed": false,
    "ExecuteTime": {
     "end_time": "2023-07-21T16:55:07.721732100Z",
     "start_time": "2023-07-21T16:55:07.681553400Z"
    }
   }
  },
  {
   "cell_type": "code",
   "execution_count": 23,
   "outputs": [
    {
     "data": {
      "text/plain": "away_team  Argentina  Brazil  Germany\nhome_team                            \nArgentina        NaN    59.0      9.0\nBrazil          49.0     NaN     10.0\nGermany         14.0    13.0      NaN",
      "text/html": "<div>\n<style scoped>\n    .dataframe tbody tr th:only-of-type {\n        vertical-align: middle;\n    }\n\n    .dataframe tbody tr th {\n        vertical-align: top;\n    }\n\n    .dataframe thead th {\n        text-align: right;\n    }\n</style>\n<table border=\"1\" class=\"dataframe\">\n  <thead>\n    <tr style=\"text-align: right;\">\n      <th>away_team</th>\n      <th>Argentina</th>\n      <th>Brazil</th>\n      <th>Germany</th>\n    </tr>\n    <tr>\n      <th>home_team</th>\n      <th></th>\n      <th></th>\n      <th></th>\n    </tr>\n  </thead>\n  <tbody>\n    <tr>\n      <th>Argentina</th>\n      <td>NaN</td>\n      <td>59.0</td>\n      <td>9.0</td>\n    </tr>\n    <tr>\n      <th>Brazil</th>\n      <td>49.0</td>\n      <td>NaN</td>\n      <td>10.0</td>\n    </tr>\n    <tr>\n      <th>Germany</th>\n      <td>14.0</td>\n      <td>13.0</td>\n      <td>NaN</td>\n    </tr>\n  </tbody>\n</table>\n</div>"
     },
     "execution_count": 23,
     "metadata": {},
     "output_type": "execute_result"
    }
   ],
   "source": [
    "df_resultados[(df_resultados[\"home_team\"].isin([\"Argentina\", \"Brazil\", \"Germany\"])) & (df_resultados[\"away_team\"].isin([\"Argentina\", \"Brazil\", \"Germany\"]))].pivot_table(\n",
    "    index=\"home_team\",\n",
    "    columns=\"away_team\",\n",
    "    values=\"date\",\n",
    "    aggfunc=\"count\"\n",
    ")"
   ],
   "metadata": {
    "collapsed": false,
    "ExecuteTime": {
     "end_time": "2023-07-21T17:40:33.532045700Z",
     "start_time": "2023-07-21T17:40:33.418006600Z"
    }
   }
  },
  {
   "cell_type": "code",
   "execution_count": 30,
   "outputs": [
    {
     "name": "stderr",
     "output_type": "stream",
     "text": [
      "C:\\Users\\rickk\\AppData\\Local\\Temp\\ipykernel_22420\\2346061920.py:1: FutureWarning: pivot_table dropped a column because it failed to aggregate. This behavior is deprecated and will raise in a future version of pandas. Select only the columns that can be aggregated.\n",
      "  df_resultados.pivot_table(index=\"home_team\")\n"
     ]
    },
    {
     "data": {
      "text/plain": "               away_score  home_score   neutral\nhome_team                                      \nAbkhazia         0.611111    2.000000  0.666667\nAfghanistan      1.547619    1.285714  0.857143\nAlbania          1.130208    1.130208  0.109375\nAlderney         3.857143    0.714286  1.000000\nAlgeria          0.849359    1.855769  0.330128\n...                   ...         ...       ...\nYugoslavia       1.242105    2.310526  0.036842\nZambia           0.857585    1.897833  0.226006\nZanzibar         1.724138    1.086207  0.500000\nZimbabwe         0.935644    1.564356  0.138614\nÅland Islands    1.518519    1.740741  0.666667\n\n[311 rows x 3 columns]",
      "text/html": "<div>\n<style scoped>\n    .dataframe tbody tr th:only-of-type {\n        vertical-align: middle;\n    }\n\n    .dataframe tbody tr th {\n        vertical-align: top;\n    }\n\n    .dataframe thead th {\n        text-align: right;\n    }\n</style>\n<table border=\"1\" class=\"dataframe\">\n  <thead>\n    <tr style=\"text-align: right;\">\n      <th></th>\n      <th>away_score</th>\n      <th>home_score</th>\n      <th>neutral</th>\n    </tr>\n    <tr>\n      <th>home_team</th>\n      <th></th>\n      <th></th>\n      <th></th>\n    </tr>\n  </thead>\n  <tbody>\n    <tr>\n      <th>Abkhazia</th>\n      <td>0.611111</td>\n      <td>2.000000</td>\n      <td>0.666667</td>\n    </tr>\n    <tr>\n      <th>Afghanistan</th>\n      <td>1.547619</td>\n      <td>1.285714</td>\n      <td>0.857143</td>\n    </tr>\n    <tr>\n      <th>Albania</th>\n      <td>1.130208</td>\n      <td>1.130208</td>\n      <td>0.109375</td>\n    </tr>\n    <tr>\n      <th>Alderney</th>\n      <td>3.857143</td>\n      <td>0.714286</td>\n      <td>1.000000</td>\n    </tr>\n    <tr>\n      <th>Algeria</th>\n      <td>0.849359</td>\n      <td>1.855769</td>\n      <td>0.330128</td>\n    </tr>\n    <tr>\n      <th>...</th>\n      <td>...</td>\n      <td>...</td>\n      <td>...</td>\n    </tr>\n    <tr>\n      <th>Yugoslavia</th>\n      <td>1.242105</td>\n      <td>2.310526</td>\n      <td>0.036842</td>\n    </tr>\n    <tr>\n      <th>Zambia</th>\n      <td>0.857585</td>\n      <td>1.897833</td>\n      <td>0.226006</td>\n    </tr>\n    <tr>\n      <th>Zanzibar</th>\n      <td>1.724138</td>\n      <td>1.086207</td>\n      <td>0.500000</td>\n    </tr>\n    <tr>\n      <th>Zimbabwe</th>\n      <td>0.935644</td>\n      <td>1.564356</td>\n      <td>0.138614</td>\n    </tr>\n    <tr>\n      <th>Åland Islands</th>\n      <td>1.518519</td>\n      <td>1.740741</td>\n      <td>0.666667</td>\n    </tr>\n  </tbody>\n</table>\n<p>311 rows × 3 columns</p>\n</div>"
     },
     "execution_count": 30,
     "metadata": {},
     "output_type": "execute_result"
    }
   ],
   "source": [
    "df_resultados.pivot_table(index=\"home_team\")\n",
    "# Quando realizado para todos valores, o pandas está dando um aviso que no futuro isso tende a criar um erro para as colunas que não é possível realizar agregações (não são numéricas), caso isso aconteça, selecione apenas as colunas de índice e numéricas utilizadas"
   ],
   "metadata": {
    "collapsed": false,
    "ExecuteTime": {
     "end_time": "2023-07-21T17:43:40.074515100Z",
     "start_time": "2023-07-21T17:43:39.985926400Z"
    }
   }
  },
  {
   "cell_type": "code",
   "execution_count": 24,
   "outputs": [
    {
     "data": {
      "text/plain": "              away_score                                                 \\\n                     25%  50%  75%  count  max      mean  min       std   \nhome_team                                                                 \nAbkhazia             0.0  0.5  1.0   18.0  2.0  0.611111  0.0  0.697802   \nAfghanistan          0.0  1.0  2.0   42.0  6.0  1.547619  0.0  1.655772   \nAlbania              0.0  1.0  2.0  192.0  5.0  1.130208  0.0  1.106253   \nAlderney             3.0  3.0  4.5    7.0  6.0  3.857143  3.0  1.214986   \nAlgeria              0.0  1.0  1.0  312.0  5.0  0.849359  0.0  0.945322   \n...                  ...  ...  ...    ...  ...       ...  ...       ...   \nYugoslavia           0.0  1.0  2.0  190.0  6.0  1.242105  0.0  1.244805   \nZambia               0.0  1.0  1.0  323.0  5.0  0.857585  0.0  0.964347   \nZanzibar             1.0  1.0  3.0   58.0  7.0  1.724138  0.0  1.587154   \nZimbabwe             0.0  1.0  1.0  202.0  5.0  0.935644  0.0  1.070089   \nÅland Islands        1.0  1.0  2.0   27.0  5.0  1.518519  0.0  1.311792   \n\n              home_score                                                  \n                     25%  50%  75%  count   max      mean  min       std  \nhome_team                                                                 \nAbkhazia             1.0  1.5  2.0   18.0   9.0  2.000000  0.0  2.275186  \nAfghanistan          0.0  1.0  2.0   42.0   5.0  1.285714  0.0  1.330427  \nAlbania              0.0  1.0  2.0  192.0   6.0  1.130208  0.0  1.166156  \nAlderney             0.0  0.0  1.5    7.0   2.0  0.714286  0.0  0.951190  \nAlgeria              1.0  1.0  3.0  312.0  15.0  1.855769  0.0  1.718548  \n...                  ...  ...  ...    ...   ...       ...  ...       ...  \nYugoslavia           1.0  2.0  3.0  190.0   9.0  2.310526  0.0  1.955428  \nZambia               1.0  2.0  3.0  323.0  11.0  1.897833  0.0  1.667769  \nZanzibar             0.0  1.0  2.0   58.0   6.0  1.086207  0.0  1.274369  \nZimbabwe             1.0  1.0  2.0  202.0   6.0  1.564356  0.0  1.284549  \nÅland Islands        0.5  2.0  3.0   27.0   4.0  1.740741  0.0  1.347151  \n\n[311 rows x 16 columns]",
      "text/html": "<div>\n<style scoped>\n    .dataframe tbody tr th:only-of-type {\n        vertical-align: middle;\n    }\n\n    .dataframe tbody tr th {\n        vertical-align: top;\n    }\n\n    .dataframe thead tr th {\n        text-align: left;\n    }\n\n    .dataframe thead tr:last-of-type th {\n        text-align: right;\n    }\n</style>\n<table border=\"1\" class=\"dataframe\">\n  <thead>\n    <tr>\n      <th></th>\n      <th colspan=\"8\" halign=\"left\">away_score</th>\n      <th colspan=\"8\" halign=\"left\">home_score</th>\n    </tr>\n    <tr>\n      <th></th>\n      <th>25%</th>\n      <th>50%</th>\n      <th>75%</th>\n      <th>count</th>\n      <th>max</th>\n      <th>mean</th>\n      <th>min</th>\n      <th>std</th>\n      <th>25%</th>\n      <th>50%</th>\n      <th>75%</th>\n      <th>count</th>\n      <th>max</th>\n      <th>mean</th>\n      <th>min</th>\n      <th>std</th>\n    </tr>\n    <tr>\n      <th>home_team</th>\n      <th></th>\n      <th></th>\n      <th></th>\n      <th></th>\n      <th></th>\n      <th></th>\n      <th></th>\n      <th></th>\n      <th></th>\n      <th></th>\n      <th></th>\n      <th></th>\n      <th></th>\n      <th></th>\n      <th></th>\n      <th></th>\n    </tr>\n  </thead>\n  <tbody>\n    <tr>\n      <th>Abkhazia</th>\n      <td>0.0</td>\n      <td>0.5</td>\n      <td>1.0</td>\n      <td>18.0</td>\n      <td>2.0</td>\n      <td>0.611111</td>\n      <td>0.0</td>\n      <td>0.697802</td>\n      <td>1.0</td>\n      <td>1.5</td>\n      <td>2.0</td>\n      <td>18.0</td>\n      <td>9.0</td>\n      <td>2.000000</td>\n      <td>0.0</td>\n      <td>2.275186</td>\n    </tr>\n    <tr>\n      <th>Afghanistan</th>\n      <td>0.0</td>\n      <td>1.0</td>\n      <td>2.0</td>\n      <td>42.0</td>\n      <td>6.0</td>\n      <td>1.547619</td>\n      <td>0.0</td>\n      <td>1.655772</td>\n      <td>0.0</td>\n      <td>1.0</td>\n      <td>2.0</td>\n      <td>42.0</td>\n      <td>5.0</td>\n      <td>1.285714</td>\n      <td>0.0</td>\n      <td>1.330427</td>\n    </tr>\n    <tr>\n      <th>Albania</th>\n      <td>0.0</td>\n      <td>1.0</td>\n      <td>2.0</td>\n      <td>192.0</td>\n      <td>5.0</td>\n      <td>1.130208</td>\n      <td>0.0</td>\n      <td>1.106253</td>\n      <td>0.0</td>\n      <td>1.0</td>\n      <td>2.0</td>\n      <td>192.0</td>\n      <td>6.0</td>\n      <td>1.130208</td>\n      <td>0.0</td>\n      <td>1.166156</td>\n    </tr>\n    <tr>\n      <th>Alderney</th>\n      <td>3.0</td>\n      <td>3.0</td>\n      <td>4.5</td>\n      <td>7.0</td>\n      <td>6.0</td>\n      <td>3.857143</td>\n      <td>3.0</td>\n      <td>1.214986</td>\n      <td>0.0</td>\n      <td>0.0</td>\n      <td>1.5</td>\n      <td>7.0</td>\n      <td>2.0</td>\n      <td>0.714286</td>\n      <td>0.0</td>\n      <td>0.951190</td>\n    </tr>\n    <tr>\n      <th>Algeria</th>\n      <td>0.0</td>\n      <td>1.0</td>\n      <td>1.0</td>\n      <td>312.0</td>\n      <td>5.0</td>\n      <td>0.849359</td>\n      <td>0.0</td>\n      <td>0.945322</td>\n      <td>1.0</td>\n      <td>1.0</td>\n      <td>3.0</td>\n      <td>312.0</td>\n      <td>15.0</td>\n      <td>1.855769</td>\n      <td>0.0</td>\n      <td>1.718548</td>\n    </tr>\n    <tr>\n      <th>...</th>\n      <td>...</td>\n      <td>...</td>\n      <td>...</td>\n      <td>...</td>\n      <td>...</td>\n      <td>...</td>\n      <td>...</td>\n      <td>...</td>\n      <td>...</td>\n      <td>...</td>\n      <td>...</td>\n      <td>...</td>\n      <td>...</td>\n      <td>...</td>\n      <td>...</td>\n      <td>...</td>\n    </tr>\n    <tr>\n      <th>Yugoslavia</th>\n      <td>0.0</td>\n      <td>1.0</td>\n      <td>2.0</td>\n      <td>190.0</td>\n      <td>6.0</td>\n      <td>1.242105</td>\n      <td>0.0</td>\n      <td>1.244805</td>\n      <td>1.0</td>\n      <td>2.0</td>\n      <td>3.0</td>\n      <td>190.0</td>\n      <td>9.0</td>\n      <td>2.310526</td>\n      <td>0.0</td>\n      <td>1.955428</td>\n    </tr>\n    <tr>\n      <th>Zambia</th>\n      <td>0.0</td>\n      <td>1.0</td>\n      <td>1.0</td>\n      <td>323.0</td>\n      <td>5.0</td>\n      <td>0.857585</td>\n      <td>0.0</td>\n      <td>0.964347</td>\n      <td>1.0</td>\n      <td>2.0</td>\n      <td>3.0</td>\n      <td>323.0</td>\n      <td>11.0</td>\n      <td>1.897833</td>\n      <td>0.0</td>\n      <td>1.667769</td>\n    </tr>\n    <tr>\n      <th>Zanzibar</th>\n      <td>1.0</td>\n      <td>1.0</td>\n      <td>3.0</td>\n      <td>58.0</td>\n      <td>7.0</td>\n      <td>1.724138</td>\n      <td>0.0</td>\n      <td>1.587154</td>\n      <td>0.0</td>\n      <td>1.0</td>\n      <td>2.0</td>\n      <td>58.0</td>\n      <td>6.0</td>\n      <td>1.086207</td>\n      <td>0.0</td>\n      <td>1.274369</td>\n    </tr>\n    <tr>\n      <th>Zimbabwe</th>\n      <td>0.0</td>\n      <td>1.0</td>\n      <td>1.0</td>\n      <td>202.0</td>\n      <td>5.0</td>\n      <td>0.935644</td>\n      <td>0.0</td>\n      <td>1.070089</td>\n      <td>1.0</td>\n      <td>1.0</td>\n      <td>2.0</td>\n      <td>202.0</td>\n      <td>6.0</td>\n      <td>1.564356</td>\n      <td>0.0</td>\n      <td>1.284549</td>\n    </tr>\n    <tr>\n      <th>Åland Islands</th>\n      <td>1.0</td>\n      <td>1.0</td>\n      <td>2.0</td>\n      <td>27.0</td>\n      <td>5.0</td>\n      <td>1.518519</td>\n      <td>0.0</td>\n      <td>1.311792</td>\n      <td>0.5</td>\n      <td>2.0</td>\n      <td>3.0</td>\n      <td>27.0</td>\n      <td>4.0</td>\n      <td>1.740741</td>\n      <td>0.0</td>\n      <td>1.347151</td>\n    </tr>\n  </tbody>\n</table>\n<p>311 rows × 16 columns</p>\n</div>"
     },
     "execution_count": 24,
     "metadata": {},
     "output_type": "execute_result"
    }
   ],
   "source": [
    "df_resultados.pivot_table(index=\"home_team\", aggfunc=\"describe\")"
   ],
   "metadata": {
    "collapsed": false,
    "ExecuteTime": {
     "end_time": "2023-07-21T17:42:54.475260400Z",
     "start_time": "2023-07-21T17:42:53.524725500Z"
    }
   }
  },
  {
   "cell_type": "markdown",
   "source": [
    "## 3.2 .groupby()"
   ],
   "metadata": {
    "collapsed": false
   }
  },
  {
   "cell_type": "markdown",
   "source": [
    "A função .pivot_table() é escrita em cima do .groupby() que veio antes, eu normalmente dou preferência ao .pivot_table() por ser mais simples e mais fácil de ler, porém é possível obter os mesmos resultados com a .groupby().\n",
    "\n",
    "O parâmetro .groupby() não possuí algo semelhante ao parâmetro \"columns\" do .pivot_table() sendo a principal diferença prática entre eles, caso queira algo do tipo seria utilizando um .merge() - função que veremos no próximo capítulo - porém, vai por mim"
   ],
   "metadata": {
    "collapsed": false
   }
  },
  {
   "cell_type": "code",
   "execution_count": 31,
   "outputs": [
    {
     "name": "stderr",
     "output_type": "stream",
     "text": [
      "C:\\Users\\rickk\\AppData\\Local\\Temp\\ipykernel_22420\\3570311889.py:1: FutureWarning: The default value of numeric_only in DataFrameGroupBy.mean is deprecated. In a future version, numeric_only will default to False. Either specify numeric_only or select only columns which should be valid for the function.\n",
      "  df_resultados.groupby(\"home_team\").mean()\n"
     ]
    },
    {
     "data": {
      "text/plain": "               home_score  away_score   neutral\nhome_team                                      \nAbkhazia         2.000000    0.611111  0.666667\nAfghanistan      1.285714    1.547619  0.857143\nAlbania          1.130208    1.130208  0.109375\nAlderney         0.714286    3.857143  1.000000\nAlgeria          1.855769    0.849359  0.330128\n...                   ...         ...       ...\nYugoslavia       2.310526    1.242105  0.036842\nZambia           1.897833    0.857585  0.226006\nZanzibar         1.086207    1.724138  0.500000\nZimbabwe         1.564356    0.935644  0.138614\nÅland Islands    1.740741    1.518519  0.666667\n\n[311 rows x 3 columns]",
      "text/html": "<div>\n<style scoped>\n    .dataframe tbody tr th:only-of-type {\n        vertical-align: middle;\n    }\n\n    .dataframe tbody tr th {\n        vertical-align: top;\n    }\n\n    .dataframe thead th {\n        text-align: right;\n    }\n</style>\n<table border=\"1\" class=\"dataframe\">\n  <thead>\n    <tr style=\"text-align: right;\">\n      <th></th>\n      <th>home_score</th>\n      <th>away_score</th>\n      <th>neutral</th>\n    </tr>\n    <tr>\n      <th>home_team</th>\n      <th></th>\n      <th></th>\n      <th></th>\n    </tr>\n  </thead>\n  <tbody>\n    <tr>\n      <th>Abkhazia</th>\n      <td>2.000000</td>\n      <td>0.611111</td>\n      <td>0.666667</td>\n    </tr>\n    <tr>\n      <th>Afghanistan</th>\n      <td>1.285714</td>\n      <td>1.547619</td>\n      <td>0.857143</td>\n    </tr>\n    <tr>\n      <th>Albania</th>\n      <td>1.130208</td>\n      <td>1.130208</td>\n      <td>0.109375</td>\n    </tr>\n    <tr>\n      <th>Alderney</th>\n      <td>0.714286</td>\n      <td>3.857143</td>\n      <td>1.000000</td>\n    </tr>\n    <tr>\n      <th>Algeria</th>\n      <td>1.855769</td>\n      <td>0.849359</td>\n      <td>0.330128</td>\n    </tr>\n    <tr>\n      <th>...</th>\n      <td>...</td>\n      <td>...</td>\n      <td>...</td>\n    </tr>\n    <tr>\n      <th>Yugoslavia</th>\n      <td>2.310526</td>\n      <td>1.242105</td>\n      <td>0.036842</td>\n    </tr>\n    <tr>\n      <th>Zambia</th>\n      <td>1.897833</td>\n      <td>0.857585</td>\n      <td>0.226006</td>\n    </tr>\n    <tr>\n      <th>Zanzibar</th>\n      <td>1.086207</td>\n      <td>1.724138</td>\n      <td>0.500000</td>\n    </tr>\n    <tr>\n      <th>Zimbabwe</th>\n      <td>1.564356</td>\n      <td>0.935644</td>\n      <td>0.138614</td>\n    </tr>\n    <tr>\n      <th>Åland Islands</th>\n      <td>1.740741</td>\n      <td>1.518519</td>\n      <td>0.666667</td>\n    </tr>\n  </tbody>\n</table>\n<p>311 rows × 3 columns</p>\n</div>"
     },
     "execution_count": 31,
     "metadata": {},
     "output_type": "execute_result"
    }
   ],
   "source": [
    "df_resultados.groupby(\"home_team\").mean()\n",
    "# Quando realizado para todos valores, o pandas está dando um aviso que no futuro isso tende a criar um erro para as colunas que não é possível realizar agregações (não são numéricas), caso isso aconteça, selecione apenas as colunas de índice e numéricas utilizadas"
   ],
   "metadata": {
    "collapsed": false,
    "ExecuteTime": {
     "end_time": "2023-07-21T17:43:44.464177200Z",
     "start_time": "2023-07-21T17:43:44.319154400Z"
    }
   }
  },
  {
   "cell_type": "code",
   "execution_count": 16,
   "outputs": [
    {
     "data": {
      "text/plain": "              home_score                                                \\\n                   count      mean       std  min  25%  50%  75%   max   \nhome_team                                                                \nAbkhazia            18.0  2.000000  2.275186  0.0  1.0  1.5  2.0   9.0   \nAfghanistan         42.0  1.285714  1.330427  0.0  0.0  1.0  2.0   5.0   \nAlbania            192.0  1.130208  1.166156  0.0  0.0  1.0  2.0   6.0   \nAlderney             7.0  0.714286  0.951190  0.0  0.0  0.0  1.5   2.0   \nAlgeria            312.0  1.855769  1.718548  0.0  1.0  1.0  3.0  15.0   \n...                  ...       ...       ...  ...  ...  ...  ...   ...   \nYugoslavia         190.0  2.310526  1.955428  0.0  1.0  2.0  3.0   9.0   \nZambia             323.0  1.897833  1.667769  0.0  1.0  2.0  3.0  11.0   \nZanzibar            58.0  1.086207  1.274369  0.0  0.0  1.0  2.0   6.0   \nZimbabwe           202.0  1.564356  1.284549  0.0  1.0  1.0  2.0   6.0   \nÅland Islands       27.0  1.740741  1.347151  0.0  0.5  2.0  3.0   4.0   \n\n              away_score                                               \n                   count      mean       std  min  25%  50%  75%  max  \nhome_team                                                              \nAbkhazia            18.0  0.611111  0.697802  0.0  0.0  0.5  1.0  2.0  \nAfghanistan         42.0  1.547619  1.655772  0.0  0.0  1.0  2.0  6.0  \nAlbania            192.0  1.130208  1.106253  0.0  0.0  1.0  2.0  5.0  \nAlderney             7.0  3.857143  1.214986  3.0  3.0  3.0  4.5  6.0  \nAlgeria            312.0  0.849359  0.945322  0.0  0.0  1.0  1.0  5.0  \n...                  ...       ...       ...  ...  ...  ...  ...  ...  \nYugoslavia         190.0  1.242105  1.244805  0.0  0.0  1.0  2.0  6.0  \nZambia             323.0  0.857585  0.964347  0.0  0.0  1.0  1.0  5.0  \nZanzibar            58.0  1.724138  1.587154  0.0  1.0  1.0  3.0  7.0  \nZimbabwe           202.0  0.935644  1.070089  0.0  0.0  1.0  1.0  5.0  \nÅland Islands       27.0  1.518519  1.311792  0.0  1.0  1.0  2.0  5.0  \n\n[311 rows x 16 columns]",
      "text/html": "<div>\n<style scoped>\n    .dataframe tbody tr th:only-of-type {\n        vertical-align: middle;\n    }\n\n    .dataframe tbody tr th {\n        vertical-align: top;\n    }\n\n    .dataframe thead tr th {\n        text-align: left;\n    }\n\n    .dataframe thead tr:last-of-type th {\n        text-align: right;\n    }\n</style>\n<table border=\"1\" class=\"dataframe\">\n  <thead>\n    <tr>\n      <th></th>\n      <th colspan=\"8\" halign=\"left\">home_score</th>\n      <th colspan=\"8\" halign=\"left\">away_score</th>\n    </tr>\n    <tr>\n      <th></th>\n      <th>count</th>\n      <th>mean</th>\n      <th>std</th>\n      <th>min</th>\n      <th>25%</th>\n      <th>50%</th>\n      <th>75%</th>\n      <th>max</th>\n      <th>count</th>\n      <th>mean</th>\n      <th>std</th>\n      <th>min</th>\n      <th>25%</th>\n      <th>50%</th>\n      <th>75%</th>\n      <th>max</th>\n    </tr>\n    <tr>\n      <th>home_team</th>\n      <th></th>\n      <th></th>\n      <th></th>\n      <th></th>\n      <th></th>\n      <th></th>\n      <th></th>\n      <th></th>\n      <th></th>\n      <th></th>\n      <th></th>\n      <th></th>\n      <th></th>\n      <th></th>\n      <th></th>\n      <th></th>\n    </tr>\n  </thead>\n  <tbody>\n    <tr>\n      <th>Abkhazia</th>\n      <td>18.0</td>\n      <td>2.000000</td>\n      <td>2.275186</td>\n      <td>0.0</td>\n      <td>1.0</td>\n      <td>1.5</td>\n      <td>2.0</td>\n      <td>9.0</td>\n      <td>18.0</td>\n      <td>0.611111</td>\n      <td>0.697802</td>\n      <td>0.0</td>\n      <td>0.0</td>\n      <td>0.5</td>\n      <td>1.0</td>\n      <td>2.0</td>\n    </tr>\n    <tr>\n      <th>Afghanistan</th>\n      <td>42.0</td>\n      <td>1.285714</td>\n      <td>1.330427</td>\n      <td>0.0</td>\n      <td>0.0</td>\n      <td>1.0</td>\n      <td>2.0</td>\n      <td>5.0</td>\n      <td>42.0</td>\n      <td>1.547619</td>\n      <td>1.655772</td>\n      <td>0.0</td>\n      <td>0.0</td>\n      <td>1.0</td>\n      <td>2.0</td>\n      <td>6.0</td>\n    </tr>\n    <tr>\n      <th>Albania</th>\n      <td>192.0</td>\n      <td>1.130208</td>\n      <td>1.166156</td>\n      <td>0.0</td>\n      <td>0.0</td>\n      <td>1.0</td>\n      <td>2.0</td>\n      <td>6.0</td>\n      <td>192.0</td>\n      <td>1.130208</td>\n      <td>1.106253</td>\n      <td>0.0</td>\n      <td>0.0</td>\n      <td>1.0</td>\n      <td>2.0</td>\n      <td>5.0</td>\n    </tr>\n    <tr>\n      <th>Alderney</th>\n      <td>7.0</td>\n      <td>0.714286</td>\n      <td>0.951190</td>\n      <td>0.0</td>\n      <td>0.0</td>\n      <td>0.0</td>\n      <td>1.5</td>\n      <td>2.0</td>\n      <td>7.0</td>\n      <td>3.857143</td>\n      <td>1.214986</td>\n      <td>3.0</td>\n      <td>3.0</td>\n      <td>3.0</td>\n      <td>4.5</td>\n      <td>6.0</td>\n    </tr>\n    <tr>\n      <th>Algeria</th>\n      <td>312.0</td>\n      <td>1.855769</td>\n      <td>1.718548</td>\n      <td>0.0</td>\n      <td>1.0</td>\n      <td>1.0</td>\n      <td>3.0</td>\n      <td>15.0</td>\n      <td>312.0</td>\n      <td>0.849359</td>\n      <td>0.945322</td>\n      <td>0.0</td>\n      <td>0.0</td>\n      <td>1.0</td>\n      <td>1.0</td>\n      <td>5.0</td>\n    </tr>\n    <tr>\n      <th>...</th>\n      <td>...</td>\n      <td>...</td>\n      <td>...</td>\n      <td>...</td>\n      <td>...</td>\n      <td>...</td>\n      <td>...</td>\n      <td>...</td>\n      <td>...</td>\n      <td>...</td>\n      <td>...</td>\n      <td>...</td>\n      <td>...</td>\n      <td>...</td>\n      <td>...</td>\n      <td>...</td>\n    </tr>\n    <tr>\n      <th>Yugoslavia</th>\n      <td>190.0</td>\n      <td>2.310526</td>\n      <td>1.955428</td>\n      <td>0.0</td>\n      <td>1.0</td>\n      <td>2.0</td>\n      <td>3.0</td>\n      <td>9.0</td>\n      <td>190.0</td>\n      <td>1.242105</td>\n      <td>1.244805</td>\n      <td>0.0</td>\n      <td>0.0</td>\n      <td>1.0</td>\n      <td>2.0</td>\n      <td>6.0</td>\n    </tr>\n    <tr>\n      <th>Zambia</th>\n      <td>323.0</td>\n      <td>1.897833</td>\n      <td>1.667769</td>\n      <td>0.0</td>\n      <td>1.0</td>\n      <td>2.0</td>\n      <td>3.0</td>\n      <td>11.0</td>\n      <td>323.0</td>\n      <td>0.857585</td>\n      <td>0.964347</td>\n      <td>0.0</td>\n      <td>0.0</td>\n      <td>1.0</td>\n      <td>1.0</td>\n      <td>5.0</td>\n    </tr>\n    <tr>\n      <th>Zanzibar</th>\n      <td>58.0</td>\n      <td>1.086207</td>\n      <td>1.274369</td>\n      <td>0.0</td>\n      <td>0.0</td>\n      <td>1.0</td>\n      <td>2.0</td>\n      <td>6.0</td>\n      <td>58.0</td>\n      <td>1.724138</td>\n      <td>1.587154</td>\n      <td>0.0</td>\n      <td>1.0</td>\n      <td>1.0</td>\n      <td>3.0</td>\n      <td>7.0</td>\n    </tr>\n    <tr>\n      <th>Zimbabwe</th>\n      <td>202.0</td>\n      <td>1.564356</td>\n      <td>1.284549</td>\n      <td>0.0</td>\n      <td>1.0</td>\n      <td>1.0</td>\n      <td>2.0</td>\n      <td>6.0</td>\n      <td>202.0</td>\n      <td>0.935644</td>\n      <td>1.070089</td>\n      <td>0.0</td>\n      <td>0.0</td>\n      <td>1.0</td>\n      <td>1.0</td>\n      <td>5.0</td>\n    </tr>\n    <tr>\n      <th>Åland Islands</th>\n      <td>27.0</td>\n      <td>1.740741</td>\n      <td>1.347151</td>\n      <td>0.0</td>\n      <td>0.5</td>\n      <td>2.0</td>\n      <td>3.0</td>\n      <td>4.0</td>\n      <td>27.0</td>\n      <td>1.518519</td>\n      <td>1.311792</td>\n      <td>0.0</td>\n      <td>1.0</td>\n      <td>1.0</td>\n      <td>2.0</td>\n      <td>5.0</td>\n    </tr>\n  </tbody>\n</table>\n<p>311 rows × 16 columns</p>\n</div>"
     },
     "execution_count": 16,
     "metadata": {},
     "output_type": "execute_result"
    }
   ],
   "source": [
    "df_resultados.groupby(\"home_team\").describe()"
   ],
   "metadata": {
    "collapsed": false,
    "ExecuteTime": {
     "end_time": "2023-07-21T17:04:53.421113Z",
     "start_time": "2023-07-21T17:04:52.645937500Z"
    }
   }
  }
 ],
 "metadata": {
  "kernelspec": {
   "display_name": "Python 3",
   "language": "python",
   "name": "python3"
  },
  "language_info": {
   "codemirror_mode": {
    "name": "ipython",
    "version": 2
   },
   "file_extension": ".py",
   "mimetype": "text/x-python",
   "name": "python",
   "nbconvert_exporter": "python",
   "pygments_lexer": "ipython2",
   "version": "2.7.6"
  }
 },
 "nbformat": 4,
 "nbformat_minor": 0
}
