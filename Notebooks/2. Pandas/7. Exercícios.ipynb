{
 "cells": [
  {
   "cell_type": "markdown",
   "source": [
    "# 7. Exercícios"
   ],
   "metadata": {
    "collapsed": false
   }
  },
  {
   "cell_type": "markdown",
   "source": [
    "#### 1. Importe pandas"
   ],
   "metadata": {
    "collapsed": false
   }
  },
  {
   "cell_type": "markdown",
   "source": [
    "#### 2. Leia a tabela com os resultados de seleção"
   ],
   "metadata": {
    "collapsed": false
   }
  },
  {
   "cell_type": "markdown",
   "source": [
    "Use a variável df_resultados e mostre as 5 primeiras linhas"
   ],
   "metadata": {
    "collapsed": false
   }
  },
  {
   "cell_type": "markdown",
   "source": [
    "#### 3. Perguntas rápidas:"
   ],
   "metadata": {
    "collapsed": false
   }
  },
  {
   "cell_type": "markdown",
   "source": [
    "##### 3.1. Qual a maior quantia de gols que um time mandante fez? E a maior quantia que um time visitante marcou?"
   ],
   "metadata": {
    "collapsed": false
   }
  },
  {
   "cell_type": "markdown",
   "source": [
    "##### 3.2 Quais foram esses jogos?"
   ],
   "metadata": {
    "collapsed": false
   }
  },
  {
   "cell_type": "markdown",
   "source": [
    "#### 4. Crie colunas"
   ],
   "metadata": {
    "collapsed": false
   }
  },
  {
   "cell_type": "markdown",
   "source": [
    "##### 4.1. Primeiramente crie um dataframe auxiliar, para que não precise importar caso faça algo errado"
   ],
   "metadata": {
    "collapsed": false
   }
  },
  {
   "cell_type": "markdown",
   "source": [
    "##### 4.2 Crie uma coluna com a quantia total de gols em cada partida, chamada \"total_goals\""
   ],
   "metadata": {
    "collapsed": false
   }
  },
  {
   "cell_type": "markdown",
   "source": [
    "##### 4.3 Crie uma coluna indicando se o time mandante ganhou o jogo retornando true ou false chamada \"win?\""
   ],
   "metadata": {
    "collapsed": false
   }
  },
  {
   "cell_type": "markdown",
   "source": [
    "##### 4.4 Coluna que indica se virou passeio, se diferença de gols entre os times >= 4 retorne True na coluna \"Passeio?\""
   ],
   "metadata": {
    "collapsed": false
   }
  },
  {
   "cell_type": "markdown",
   "source": [
    "Caso precise de ajuda com módulo, consulte a <a href=\"https://pandas.pydata.org/docs/reference/api/pandas.Series.abs.html\"> biblioteca </a>"
   ],
   "metadata": {
    "collapsed": false
   }
  },
  {
   "cell_type": "markdown",
   "source": [
    "##### 4.5 Coluna que indica se o time da casa Ganhou, Perdeu ou empatou, chamada \"result\""
   ],
   "metadata": {
    "collapsed": false
   }
  },
  {
   "cell_type": "markdown",
   "source": [
    "#### 5. Perguntas rápidas"
   ],
   "metadata": {
    "collapsed": false
   }
  },
  {
   "cell_type": "markdown",
   "source": [
    "##### 5.1 Quantas vz o time vencedor foi o mandante?"
   ],
   "metadata": {
    "collapsed": false
   }
  },
  {
   "cell_type": "markdown",
   "source": [
    "##### 5.2 Faça uma tabela dinâmica contando linhas, com resultado no índice e passeio nas colunas. Chame o DF novo de df_paises_pt"
   ],
   "metadata": {
    "collapsed": false
   }
  },
  {
   "cell_type": "markdown",
   "source": [
    "##### 5.3 Quantas vezes Galvão falou \"Virou passeio!!!\"?"
   ],
   "metadata": {
    "collapsed": false
   }
  },
  {
   "cell_type": "markdown",
   "source": [
    "##### 5.4 Plote estatísticas sobre a quantia de gols nos jogos do Brasil"
   ],
   "metadata": {
    "collapsed": false
   }
  },
  {
   "cell_type": "markdown",
   "source": [
    "##### 5.5 Quantas vezes o Brasil ganhou, perdeu ou empatou jogos?"
   ],
   "metadata": {
    "collapsed": false
   }
  },
  {
   "cell_type": "markdown",
   "source": [
    "##### 5.6 E em porcentagem de jogos?"
   ],
   "metadata": {
    "collapsed": false
   }
  },
  {
   "cell_type": "markdown",
   "source": [
    "#### 6 Merge"
   ],
   "metadata": {
    "collapsed": false
   }
  },
  {
   "cell_type": "markdown",
   "source": [
    "##### 6.1 Importe os .json(): continent e names da pasta dados/Países em dois dataframes"
   ],
   "metadata": {
    "collapsed": false
   }
  },
  {
   "cell_type": "markdown",
   "source": [
    "##### 6.2 Una os dois dataframes"
   ],
   "metadata": {
    "collapsed": false
   }
  },
  {
   "cell_type": "markdown",
   "source": [
    "##### 6.3 Crie uma coluna chamada \"Continente\" que representa o continente onde a partida foi jogada"
   ],
   "metadata": {
    "collapsed": false
   }
  },
  {
   "cell_type": "markdown",
   "source": [
    "##### 6.4 Há valores nulos? Trate-os"
   ],
   "metadata": {
    "collapsed": false
   }
  },
  {
   "cell_type": "markdown",
   "source": [
    "#### 7 Perguntas não tão rápidas"
   ],
   "metadata": {
    "collapsed": false
   }
  },
  {
   "cell_type": "markdown",
   "source": [
    "##### 7.1 Quantas seleções únicas ja jogaram como mandante?"
   ],
   "metadata": {
    "collapsed": false
   }
  },
  {
   "cell_type": "markdown",
   "source": [
    "##### 7.2 Quantas seleções únicas estão na bases (mandante e visitante)?"
   ],
   "metadata": {
    "collapsed": false
   }
  },
  {
   "cell_type": "markdown",
   "source": [
    "##### 7.3 Faça uma tabela indicando as vitórias empates e derrotas do Brasil em cada continente jogado"
   ],
   "metadata": {
    "collapsed": false
   }
  },
  {
   "cell_type": "markdown",
   "source": [
    "##### 7.4 Crie uma coluna ano representando o ano em que foi jogado"
   ],
   "metadata": {
    "collapsed": false
   }
  },
  {
   "cell_type": "markdown",
   "source": [
    "##### 7.5 Filtrando apenas de 1958 para frente, como ficam as estatísticas do Brasil? E 1957 para trás?"
   ],
   "metadata": {
    "collapsed": false
   }
  },
  {
   "cell_type": "markdown",
   "source": [
    "##### 7.6 Exporte essas tabelas como after_pele.xlsx e before_pele.xlsx para a pasta \"outputs\""
   ],
   "metadata": {
    "collapsed": false
   }
  },
  {
   "cell_type": "markdown",
   "source": [
    "##### 7.7 Crie um excel template e exporte a tabela indicando as estatísticas do Brasil por continente"
   ],
   "metadata": {
    "collapsed": false
   }
  }
 ],
 "metadata": {
  "kernelspec": {
   "display_name": "Python 3",
   "language": "python",
   "name": "python3"
  },
  "language_info": {
   "codemirror_mode": {
    "name": "ipython",
    "version": 2
   },
   "file_extension": ".py",
   "mimetype": "text/x-python",
   "name": "python",
   "nbconvert_exporter": "python",
   "pygments_lexer": "ipython2",
   "version": "2.7.6"
  }
 },
 "nbformat": 4,
 "nbformat_minor": 0
}
