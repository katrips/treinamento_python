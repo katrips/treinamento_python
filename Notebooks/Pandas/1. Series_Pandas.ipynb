{
 "cells": [
  {
   "cell_type": "markdown",
   "source": [
    "# Pandas"
   ],
   "metadata": {
    "collapsed": false
   }
  },
  {
   "cell_type": "markdown",
   "source": [
    "\n",
    "pandas é um biblioteca de python com o foco em manipulação e análise de dados. O nome vem do termo \"<b>pa</b>nel <b>da</b>ta\".\n",
    "\n",
    "A biblioteca é construida a partir do NumPy, uma outra biblioteca que permite cálculos de formas mais rápidas do que o padrão do python (Usa C para realizar a maioria das contas)\n"
   ],
   "metadata": {
    "collapsed": false
   }
  },
  {
   "cell_type": "markdown",
   "source": [
    "O uso do pandas é realizado a partir de Series e DataFrames, a ideia é trazer para o python a visualização que é possível via Excel, PowerBI ou R"
   ],
   "metadata": {
    "collapsed": false
   }
  },
  {
   "cell_type": "code",
   "execution_count": 2,
   "outputs": [],
   "source": [
    "# Primeiro passo importação da biblioteca\n",
    "import pandas as pd\n",
    "\n",
    "import numpy as np"
   ],
   "metadata": {
    "collapsed": false,
    "ExecuteTime": {
     "end_time": "2023-07-23T02:33:28.330551Z",
     "start_time": "2023-07-23T02:33:27.884691600Z"
    }
   }
  },
  {
   "cell_type": "markdown",
   "source": [
    "## Criando uma série"
   ],
   "metadata": {
    "collapsed": false
   }
  },
  {
   "cell_type": "markdown",
   "source": [
    "Você pode converter listas, numpy Arrays ou dicionários para Séries:"
   ],
   "metadata": {
    "collapsed": false
   }
  },
  {
   "cell_type": "code",
   "execution_count": 3,
   "outputs": [],
   "source": [
    "legenda = [\"a\", \"b\", \"c\"]\n",
    "valores = [10, 20, 30]\n",
    "vetor = np.array([10, 20, 30])\n",
    "dicionario = {\n",
    "    \"a\": 10,\n",
    "    \"b\": 20,\n",
    "    \"c\": 30,\n",
    "}"
   ],
   "metadata": {
    "collapsed": false,
    "ExecuteTime": {
     "end_time": "2023-07-23T02:33:28.493104400Z",
     "start_time": "2023-07-23T02:33:28.459709Z"
    }
   }
  },
  {
   "cell_type": "code",
   "execution_count": 4,
   "outputs": [
    {
     "data": {
      "text/plain": "0    10\n1    20\n2    30\ndtype: int64"
     },
     "execution_count": 4,
     "metadata": {},
     "output_type": "execute_result"
    }
   ],
   "source": [
    "## Usando Listas\n",
    "\n",
    "pd.Series(data=valores)"
   ],
   "metadata": {
    "collapsed": false,
    "ExecuteTime": {
     "end_time": "2023-07-23T02:33:28.716621100Z",
     "start_time": "2023-07-23T02:33:28.649714300Z"
    }
   }
  },
  {
   "cell_type": "code",
   "execution_count": 5,
   "outputs": [
    {
     "data": {
      "text/plain": "a    10\nb    20\nc    30\ndtype: int64"
     },
     "execution_count": 5,
     "metadata": {},
     "output_type": "execute_result"
    }
   ],
   "source": [
    "## Definindo o índice\n",
    "\n",
    "pd.Series(data=valores, index=legenda)"
   ],
   "metadata": {
    "collapsed": false,
    "ExecuteTime": {
     "end_time": "2023-07-23T02:33:28.955470700Z",
     "start_time": "2023-07-23T02:33:28.865598100Z"
    }
   }
  },
  {
   "cell_type": "code",
   "execution_count": 6,
   "outputs": [
    {
     "data": {
      "text/plain": "a    10\nb    20\nc    30\ndtype: int64"
     },
     "execution_count": 6,
     "metadata": {},
     "output_type": "execute_result"
    }
   ],
   "source": [
    "## Definindo o índice\n",
    "\n",
    "pd.Series(valores, legenda) # Se colocado na ordem, nomear os parâmetros demonstra opcional"
   ],
   "metadata": {
    "collapsed": false,
    "ExecuteTime": {
     "end_time": "2023-07-23T02:33:29.145091200Z",
     "start_time": "2023-07-23T02:33:29.039793Z"
    }
   }
  },
  {
   "cell_type": "code",
   "execution_count": 7,
   "outputs": [
    {
     "data": {
      "text/plain": "a    10\nb    20\nc    30\nName: Valores, dtype: int64"
     },
     "execution_count": 7,
     "metadata": {},
     "output_type": "execute_result"
    }
   ],
   "source": [
    "## Renomeando a Série\n",
    "\n",
    "pd.Series(data=valores, index=legenda).rename(\"Valores\")"
   ],
   "metadata": {
    "collapsed": false,
    "ExecuteTime": {
     "end_time": "2023-07-23T02:33:29.357582700Z",
     "start_time": "2023-07-23T02:33:29.190860200Z"
    }
   }
  },
  {
   "cell_type": "code",
   "execution_count": 8,
   "outputs": [
    {
     "data": {
      "text/plain": "a    10\nb    20\nc    30\ndtype: int64"
     },
     "execution_count": 8,
     "metadata": {},
     "output_type": "execute_result"
    }
   ],
   "source": [
    "## Utilizando um dicionário\n",
    "\n",
    "pd.Series(dicionario)"
   ],
   "metadata": {
    "collapsed": false,
    "ExecuteTime": {
     "end_time": "2023-07-23T02:33:29.555380300Z",
     "start_time": "2023-07-23T02:33:29.396808700Z"
    }
   }
  },
  {
   "cell_type": "code",
   "execution_count": 9,
   "outputs": [
    {
     "data": {
      "text/plain": "0    10\n1    20\n2    30\ndtype: int32"
     },
     "execution_count": 9,
     "metadata": {},
     "output_type": "execute_result"
    }
   ],
   "source": [
    "## Utilizando um Numpy array\n",
    "\n",
    "pd.Series(vetor)"
   ],
   "metadata": {
    "collapsed": false,
    "ExecuteTime": {
     "end_time": "2023-07-23T02:33:29.637334200Z",
     "start_time": "2023-07-23T02:33:29.552386900Z"
    }
   }
  },
  {
   "cell_type": "markdown",
   "source": [
    "## Usando Index"
   ],
   "metadata": {
    "collapsed": false
   }
  },
  {
   "cell_type": "markdown",
   "source": [
    "Os index definidos anteriormente podem ser utilizados para rápidas obtenções de valores. A forma de uso é muito semelhante ao jeito que é utilizado para dicionários."
   ],
   "metadata": {
    "collapsed": false
   }
  },
  {
   "cell_type": "code",
   "execution_count": 10,
   "outputs": [
    {
     "data": {
      "text/plain": "Pizza      1\nPastel     2\nCoxinha    3\nAlface     5\ndtype: int64"
     },
     "execution_count": 10,
     "metadata": {},
     "output_type": "execute_result"
    }
   ],
   "source": [
    "serie1 = pd.Series([1, 2, 3, 5], index = [\"Pizza\", \"Pastel\", \"Coxinha\", \"Alface\"])\n",
    "serie2 = pd.Series([6, 8, 9, 11], index = [\"Pizza\", \"Pastel\", \"Coxinha\", \"Tomate\"])\n",
    "\n",
    "serie1"
   ],
   "metadata": {
    "collapsed": false,
    "ExecuteTime": {
     "end_time": "2023-07-23T02:33:30.029865200Z",
     "start_time": "2023-07-23T02:33:30.008135400Z"
    }
   }
  },
  {
   "cell_type": "code",
   "execution_count": 11,
   "outputs": [
    {
     "data": {
      "text/plain": "1"
     },
     "execution_count": 11,
     "metadata": {},
     "output_type": "execute_result"
    }
   ],
   "source": [
    "serie1[\"Pizza\"]"
   ],
   "metadata": {
    "collapsed": false,
    "ExecuteTime": {
     "end_time": "2023-07-23T02:33:30.313372Z",
     "start_time": "2023-07-23T02:33:30.240294Z"
    }
   }
  },
  {
   "cell_type": "code",
   "execution_count": 12,
   "outputs": [
    {
     "data": {
      "text/plain": "8"
     },
     "execution_count": 12,
     "metadata": {},
     "output_type": "execute_result"
    }
   ],
   "source": [
    "serie2[\"Pastel\"]"
   ],
   "metadata": {
    "collapsed": false,
    "ExecuteTime": {
     "end_time": "2023-07-23T02:33:30.640858500Z",
     "start_time": "2023-07-23T02:33:30.603346600Z"
    }
   }
  },
  {
   "cell_type": "code",
   "execution_count": 13,
   "outputs": [
    {
     "data": {
      "text/plain": "Alface      NaN\nCoxinha    12.0\nPastel     10.0\nPizza       7.0\nTomate      NaN\ndtype: float64"
     },
     "execution_count": 13,
     "metadata": {},
     "output_type": "execute_result"
    }
   ],
   "source": [
    "serie1 + serie2"
   ],
   "metadata": {
    "collapsed": false,
    "ExecuteTime": {
     "end_time": "2023-07-23T02:33:30.811353700Z",
     "start_time": "2023-07-23T02:33:30.767937300Z"
    }
   }
  },
  {
   "cell_type": "markdown",
   "source": [
    "## 1.3 Algumas operações"
   ],
   "metadata": {
    "collapsed": false
   }
  },
  {
   "cell_type": "markdown",
   "source": [
    "Há diversas funções pré-defindas para séries, algumas estão abaixo.\n",
    "\n",
    "Para todas as funções: <a href=\"https://pandas.pydata.org/docs/reference/series.html\">Series</a>"
   ],
   "metadata": {
    "collapsed": false
   }
  },
  {
   "cell_type": "code",
   "execution_count": 14,
   "outputs": [
    {
     "data": {
      "text/plain": "11"
     },
     "execution_count": 14,
     "metadata": {},
     "output_type": "execute_result"
    }
   ],
   "source": [
    "serie1.sum()"
   ],
   "metadata": {
    "collapsed": false,
    "ExecuteTime": {
     "end_time": "2023-07-23T02:33:31.981106100Z",
     "start_time": "2023-07-23T02:33:31.946513100Z"
    }
   }
  },
  {
   "cell_type": "code",
   "execution_count": 15,
   "outputs": [
    {
     "data": {
      "text/plain": "2.75"
     },
     "execution_count": 15,
     "metadata": {},
     "output_type": "execute_result"
    }
   ],
   "source": [
    "serie1.mean()"
   ],
   "metadata": {
    "collapsed": false,
    "ExecuteTime": {
     "end_time": "2023-07-23T02:33:36.169663700Z",
     "start_time": "2023-07-23T02:33:36.141177800Z"
    }
   }
  },
  {
   "cell_type": "code",
   "execution_count": 16,
   "outputs": [
    {
     "data": {
      "text/plain": "5"
     },
     "execution_count": 16,
     "metadata": {},
     "output_type": "execute_result"
    }
   ],
   "source": [
    "serie1.max()"
   ],
   "metadata": {
    "collapsed": false,
    "ExecuteTime": {
     "end_time": "2023-07-23T02:34:00.850030200Z",
     "start_time": "2023-07-23T02:34:00.812520Z"
    }
   }
  },
  {
   "cell_type": "code",
   "execution_count": 17,
   "outputs": [
    {
     "data": {
      "text/plain": "1"
     },
     "execution_count": 17,
     "metadata": {},
     "output_type": "execute_result"
    }
   ],
   "source": [
    "serie1.min()"
   ],
   "metadata": {
    "collapsed": false,
    "ExecuteTime": {
     "end_time": "2023-07-23T02:34:04.819036400Z",
     "start_time": "2023-07-23T02:34:04.792304800Z"
    }
   }
  },
  {
   "cell_type": "code",
   "execution_count": 18,
   "outputs": [
    {
     "data": {
      "text/plain": "Pizza       1\nPastel      3\nCoxinha     6\nAlface     11\ndtype: int64"
     },
     "execution_count": 18,
     "metadata": {},
     "output_type": "execute_result"
    }
   ],
   "source": [
    "serie1.cumsum()"
   ],
   "metadata": {
    "collapsed": false,
    "ExecuteTime": {
     "end_time": "2023-07-23T02:35:34.350602700Z",
     "start_time": "2023-07-23T02:35:34.318397900Z"
    }
   }
  }
 ],
 "metadata": {
  "kernelspec": {
   "display_name": "Python 3",
   "language": "python",
   "name": "python3"
  },
  "language_info": {
   "codemirror_mode": {
    "name": "ipython",
    "version": 2
   },
   "file_extension": ".py",
   "mimetype": "text/x-python",
   "name": "python",
   "nbconvert_exporter": "python",
   "pygments_lexer": "ipython2",
   "version": "2.7.6"
  }
 },
 "nbformat": 4,
 "nbformat_minor": 0
}
