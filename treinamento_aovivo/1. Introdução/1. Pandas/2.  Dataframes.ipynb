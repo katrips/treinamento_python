{
 "cells": [
  {
   "cell_type": "markdown",
   "source": [
    "# 2. Dataframes"
   ],
   "metadata": {
    "collapsed": false
   }
  },
  {
   "cell_type": "code",
   "execution_count": 1,
   "outputs": [],
   "source": [
    "import pandas as pd\n",
    "import numpy as np"
   ],
   "metadata": {
    "collapsed": false,
    "ExecuteTime": {
     "end_time": "2023-07-25T17:54:22.014881900Z",
     "start_time": "2023-07-25T17:54:21.584049100Z"
    }
   }
  },
  {
   "cell_type": "code",
   "execution_count": 2,
   "outputs": [],
   "source": [
    "from numpy.random import randn\n",
    "np.random.seed(101)"
   ],
   "metadata": {
    "collapsed": false,
    "ExecuteTime": {
     "end_time": "2023-07-25T17:55:13.001694600Z",
     "start_time": "2023-07-25T17:55:12.929289600Z"
    }
   }
  },
  {
   "cell_type": "code",
   "execution_count": 7,
   "outputs": [
    {
     "data": {
      "text/plain": "   Coluna1  Coluna2\na        0        4\nb        1        5\nc        2        6\nd        3        7",
      "text/html": "<div>\n<style scoped>\n    .dataframe tbody tr th:only-of-type {\n        vertical-align: middle;\n    }\n\n    .dataframe tbody tr th {\n        vertical-align: top;\n    }\n\n    .dataframe thead th {\n        text-align: right;\n    }\n</style>\n<table border=\"1\" class=\"dataframe\">\n  <thead>\n    <tr style=\"text-align: right;\">\n      <th></th>\n      <th>Coluna1</th>\n      <th>Coluna2</th>\n    </tr>\n  </thead>\n  <tbody>\n    <tr>\n      <th>a</th>\n      <td>0</td>\n      <td>4</td>\n    </tr>\n    <tr>\n      <th>b</th>\n      <td>1</td>\n      <td>5</td>\n    </tr>\n    <tr>\n      <th>c</th>\n      <td>2</td>\n      <td>6</td>\n    </tr>\n    <tr>\n      <th>d</th>\n      <td>3</td>\n      <td>7</td>\n    </tr>\n  </tbody>\n</table>\n</div>"
     },
     "execution_count": 7,
     "metadata": {},
     "output_type": "execute_result"
    }
   ],
   "source": [
    "df_dict = pd.DataFrame(\n",
    "    data={\n",
    "        \"Coluna1\": [0, 1, 2, 3],\n",
    "        \"Coluna2\": [4, 5, 6, 7]\n",
    "    },\n",
    "    index=[\"a\", \"b\", \"c\", \"d\"]\n",
    ")\n",
    "df_dict"
   ],
   "metadata": {
    "collapsed": false,
    "ExecuteTime": {
     "end_time": "2023-07-25T17:58:30.801925Z",
     "start_time": "2023-07-25T17:58:30.779201700Z"
    }
   }
  },
  {
   "cell_type": "code",
   "execution_count": 106,
   "outputs": [
    {
     "data": {
      "text/plain": "         date home_team away_team  home_score  away_score tournament     city  \\\n0  1872-11-30  Scotland   England           0           0   Friendly  Glasgow   \n1  1873-03-08   England  Scotland           4           2   Friendly   London   \n2  1874-03-07  Scotland   England           2           1   Friendly  Glasgow   \n3  1875-03-06   England  Scotland           2           2   Friendly   London   \n4  1876-03-04  Scotland   England           3           0   Friendly  Glasgow   \n\n    country  neutral  \n0  Scotland    False  \n1   England    False  \n2  Scotland    False  \n3   England    False  \n4  Scotland    False  ",
      "text/html": "<div>\n<style scoped>\n    .dataframe tbody tr th:only-of-type {\n        vertical-align: middle;\n    }\n\n    .dataframe tbody tr th {\n        vertical-align: top;\n    }\n\n    .dataframe thead th {\n        text-align: right;\n    }\n</style>\n<table border=\"1\" class=\"dataframe\">\n  <thead>\n    <tr style=\"text-align: right;\">\n      <th></th>\n      <th>date</th>\n      <th>home_team</th>\n      <th>away_team</th>\n      <th>home_score</th>\n      <th>away_score</th>\n      <th>tournament</th>\n      <th>city</th>\n      <th>country</th>\n      <th>neutral</th>\n    </tr>\n  </thead>\n  <tbody>\n    <tr>\n      <th>0</th>\n      <td>1872-11-30</td>\n      <td>Scotland</td>\n      <td>England</td>\n      <td>0</td>\n      <td>0</td>\n      <td>Friendly</td>\n      <td>Glasgow</td>\n      <td>Scotland</td>\n      <td>False</td>\n    </tr>\n    <tr>\n      <th>1</th>\n      <td>1873-03-08</td>\n      <td>England</td>\n      <td>Scotland</td>\n      <td>4</td>\n      <td>2</td>\n      <td>Friendly</td>\n      <td>London</td>\n      <td>England</td>\n      <td>False</td>\n    </tr>\n    <tr>\n      <th>2</th>\n      <td>1874-03-07</td>\n      <td>Scotland</td>\n      <td>England</td>\n      <td>2</td>\n      <td>1</td>\n      <td>Friendly</td>\n      <td>Glasgow</td>\n      <td>Scotland</td>\n      <td>False</td>\n    </tr>\n    <tr>\n      <th>3</th>\n      <td>1875-03-06</td>\n      <td>England</td>\n      <td>Scotland</td>\n      <td>2</td>\n      <td>2</td>\n      <td>Friendly</td>\n      <td>London</td>\n      <td>England</td>\n      <td>False</td>\n    </tr>\n    <tr>\n      <th>4</th>\n      <td>1876-03-04</td>\n      <td>Scotland</td>\n      <td>England</td>\n      <td>3</td>\n      <td>0</td>\n      <td>Friendly</td>\n      <td>Glasgow</td>\n      <td>Scotland</td>\n      <td>False</td>\n    </tr>\n  </tbody>\n</table>\n</div>"
     },
     "execution_count": 106,
     "metadata": {},
     "output_type": "execute_result"
    }
   ],
   "source": [
    "path_copa = \"../../../Notebooks/dados/Copa/results.csv\"\n",
    "\n",
    "df_copa = pd.read_csv(path_copa)\n",
    "\n",
    "df_copa.head()"
   ],
   "metadata": {
    "collapsed": false,
    "ExecuteTime": {
     "end_time": "2023-07-25T19:25:22.747362300Z",
     "start_time": "2023-07-25T19:25:22.662256100Z"
    }
   }
  },
  {
   "cell_type": "code",
   "execution_count": 20,
   "outputs": [
    {
     "data": {
      "text/plain": "0    Scotland\n1     England\n2    Scotland\n3     England\n4    Scotland\nName: home_team, dtype: object"
     },
     "execution_count": 20,
     "metadata": {},
     "output_type": "execute_result"
    }
   ],
   "source": [
    "df_copa[\"home_team\"].head()"
   ],
   "metadata": {
    "collapsed": false,
    "ExecuteTime": {
     "end_time": "2023-07-25T18:21:50.407943200Z",
     "start_time": "2023-07-25T18:21:50.381177600Z"
    }
   }
  },
  {
   "cell_type": "code",
   "execution_count": 21,
   "outputs": [
    {
     "data": {
      "text/plain": "  home_team\n0  Scotland\n1   England\n2  Scotland\n3   England\n4  Scotland",
      "text/html": "<div>\n<style scoped>\n    .dataframe tbody tr th:only-of-type {\n        vertical-align: middle;\n    }\n\n    .dataframe tbody tr th {\n        vertical-align: top;\n    }\n\n    .dataframe thead th {\n        text-align: right;\n    }\n</style>\n<table border=\"1\" class=\"dataframe\">\n  <thead>\n    <tr style=\"text-align: right;\">\n      <th></th>\n      <th>home_team</th>\n    </tr>\n  </thead>\n  <tbody>\n    <tr>\n      <th>0</th>\n      <td>Scotland</td>\n    </tr>\n    <tr>\n      <th>1</th>\n      <td>England</td>\n    </tr>\n    <tr>\n      <th>2</th>\n      <td>Scotland</td>\n    </tr>\n    <tr>\n      <th>3</th>\n      <td>England</td>\n    </tr>\n    <tr>\n      <th>4</th>\n      <td>Scotland</td>\n    </tr>\n  </tbody>\n</table>\n</div>"
     },
     "execution_count": 21,
     "metadata": {},
     "output_type": "execute_result"
    }
   ],
   "source": [
    "df_copa[[\"home_team\"]].head()"
   ],
   "metadata": {
    "collapsed": false,
    "ExecuteTime": {
     "end_time": "2023-07-25T18:22:06.602881Z",
     "start_time": "2023-07-25T18:22:06.563228500Z"
    }
   }
  },
  {
   "cell_type": "code",
   "execution_count": 17,
   "outputs": [
    {
     "data": {
      "text/plain": "pandas.core.series.Series"
     },
     "execution_count": 17,
     "metadata": {},
     "output_type": "execute_result"
    }
   ],
   "source": [
    "type(df_copa[\"home_team\"])"
   ],
   "metadata": {
    "collapsed": false,
    "ExecuteTime": {
     "end_time": "2023-07-25T18:21:10.429822700Z",
     "start_time": "2023-07-25T18:21:10.390356900Z"
    }
   }
  },
  {
   "cell_type": "code",
   "execution_count": 18,
   "outputs": [
    {
     "data": {
      "text/plain": "pandas.core.frame.DataFrame"
     },
     "execution_count": 18,
     "metadata": {},
     "output_type": "execute_result"
    }
   ],
   "source": [
    "type(df_copa[[\"home_team\"]])"
   ],
   "metadata": {
    "collapsed": false,
    "ExecuteTime": {
     "end_time": "2023-07-25T18:21:17.023414600Z",
     "start_time": "2023-07-25T18:21:16.985191Z"
    }
   }
  },
  {
   "cell_type": "code",
   "execution_count": 23,
   "outputs": [
    {
     "data": {
      "text/plain": "  home_team away_team  home_score\n0  Scotland   England           0\n1   England  Scotland           4\n2  Scotland   England           2\n3   England  Scotland           2\n4  Scotland   England           3",
      "text/html": "<div>\n<style scoped>\n    .dataframe tbody tr th:only-of-type {\n        vertical-align: middle;\n    }\n\n    .dataframe tbody tr th {\n        vertical-align: top;\n    }\n\n    .dataframe thead th {\n        text-align: right;\n    }\n</style>\n<table border=\"1\" class=\"dataframe\">\n  <thead>\n    <tr style=\"text-align: right;\">\n      <th></th>\n      <th>home_team</th>\n      <th>away_team</th>\n      <th>home_score</th>\n    </tr>\n  </thead>\n  <tbody>\n    <tr>\n      <th>0</th>\n      <td>Scotland</td>\n      <td>England</td>\n      <td>0</td>\n    </tr>\n    <tr>\n      <th>1</th>\n      <td>England</td>\n      <td>Scotland</td>\n      <td>4</td>\n    </tr>\n    <tr>\n      <th>2</th>\n      <td>Scotland</td>\n      <td>England</td>\n      <td>2</td>\n    </tr>\n    <tr>\n      <th>3</th>\n      <td>England</td>\n      <td>Scotland</td>\n      <td>2</td>\n    </tr>\n    <tr>\n      <th>4</th>\n      <td>Scotland</td>\n      <td>England</td>\n      <td>3</td>\n    </tr>\n  </tbody>\n</table>\n</div>"
     },
     "execution_count": 23,
     "metadata": {},
     "output_type": "execute_result"
    }
   ],
   "source": [
    "df_copa[[\"home_team\", \"away_team\", \"home_score\"]].head()"
   ],
   "metadata": {
    "collapsed": false,
    "ExecuteTime": {
     "end_time": "2023-07-25T18:22:37.282567700Z",
     "start_time": "2023-07-25T18:22:37.250779800Z"
    }
   }
  },
  {
   "cell_type": "code",
   "execution_count": 16,
   "outputs": [
    {
     "data": {
      "text/plain": "  home_team  home_score\n0  Scotland           0\n1   England           4\n2  Scotland           2\n3   England           2\n4  Scotland           3",
      "text/html": "<div>\n<style scoped>\n    .dataframe tbody tr th:only-of-type {\n        vertical-align: middle;\n    }\n\n    .dataframe tbody tr th {\n        vertical-align: top;\n    }\n\n    .dataframe thead th {\n        text-align: right;\n    }\n</style>\n<table border=\"1\" class=\"dataframe\">\n  <thead>\n    <tr style=\"text-align: right;\">\n      <th></th>\n      <th>home_team</th>\n      <th>home_score</th>\n    </tr>\n  </thead>\n  <tbody>\n    <tr>\n      <th>0</th>\n      <td>Scotland</td>\n      <td>0</td>\n    </tr>\n    <tr>\n      <th>1</th>\n      <td>England</td>\n      <td>4</td>\n    </tr>\n    <tr>\n      <th>2</th>\n      <td>Scotland</td>\n      <td>2</td>\n    </tr>\n    <tr>\n      <th>3</th>\n      <td>England</td>\n      <td>2</td>\n    </tr>\n    <tr>\n      <th>4</th>\n      <td>Scotland</td>\n      <td>3</td>\n    </tr>\n  </tbody>\n</table>\n</div>"
     },
     "execution_count": 16,
     "metadata": {},
     "output_type": "execute_result"
    }
   ],
   "source": [
    "df_copa[[coluna for coluna in df_copa.columns if \"home\" in coluna]].head()"
   ],
   "metadata": {
    "collapsed": false,
    "ExecuteTime": {
     "end_time": "2023-07-25T18:20:30.265939600Z",
     "start_time": "2023-07-25T18:20:30.230093300Z"
    }
   }
  },
  {
   "cell_type": "code",
   "execution_count": 24,
   "outputs": [
    {
     "data": {
      "text/plain": "         date home_team away_team  home_score  away_score tournament     city  \\\n0  1872-11-30  Scotland   England           0           0   Friendly  Glasgow   \n1  1873-03-08   England  Scotland           4           2   Friendly   London   \n2  1874-03-07  Scotland   England           2           1   Friendly  Glasgow   \n3  1875-03-06   England  Scotland           2           2   Friendly   London   \n4  1876-03-04  Scotland   England           3           0   Friendly  Glasgow   \n\n    country  neutral  \n0  Scotland    False  \n1   England    False  \n2  Scotland    False  \n3   England    False  \n4  Scotland    False  ",
      "text/html": "<div>\n<style scoped>\n    .dataframe tbody tr th:only-of-type {\n        vertical-align: middle;\n    }\n\n    .dataframe tbody tr th {\n        vertical-align: top;\n    }\n\n    .dataframe thead th {\n        text-align: right;\n    }\n</style>\n<table border=\"1\" class=\"dataframe\">\n  <thead>\n    <tr style=\"text-align: right;\">\n      <th></th>\n      <th>date</th>\n      <th>home_team</th>\n      <th>away_team</th>\n      <th>home_score</th>\n      <th>away_score</th>\n      <th>tournament</th>\n      <th>city</th>\n      <th>country</th>\n      <th>neutral</th>\n    </tr>\n  </thead>\n  <tbody>\n    <tr>\n      <th>0</th>\n      <td>1872-11-30</td>\n      <td>Scotland</td>\n      <td>England</td>\n      <td>0</td>\n      <td>0</td>\n      <td>Friendly</td>\n      <td>Glasgow</td>\n      <td>Scotland</td>\n      <td>False</td>\n    </tr>\n    <tr>\n      <th>1</th>\n      <td>1873-03-08</td>\n      <td>England</td>\n      <td>Scotland</td>\n      <td>4</td>\n      <td>2</td>\n      <td>Friendly</td>\n      <td>London</td>\n      <td>England</td>\n      <td>False</td>\n    </tr>\n    <tr>\n      <th>2</th>\n      <td>1874-03-07</td>\n      <td>Scotland</td>\n      <td>England</td>\n      <td>2</td>\n      <td>1</td>\n      <td>Friendly</td>\n      <td>Glasgow</td>\n      <td>Scotland</td>\n      <td>False</td>\n    </tr>\n    <tr>\n      <th>3</th>\n      <td>1875-03-06</td>\n      <td>England</td>\n      <td>Scotland</td>\n      <td>2</td>\n      <td>2</td>\n      <td>Friendly</td>\n      <td>London</td>\n      <td>England</td>\n      <td>False</td>\n    </tr>\n    <tr>\n      <th>4</th>\n      <td>1876-03-04</td>\n      <td>Scotland</td>\n      <td>England</td>\n      <td>3</td>\n      <td>0</td>\n      <td>Friendly</td>\n      <td>Glasgow</td>\n      <td>Scotland</td>\n      <td>False</td>\n    </tr>\n  </tbody>\n</table>\n</div>"
     },
     "execution_count": 24,
     "metadata": {},
     "output_type": "execute_result"
    }
   ],
   "source": [
    "df_copa.head()"
   ],
   "metadata": {
    "collapsed": false,
    "ExecuteTime": {
     "end_time": "2023-07-25T18:23:01.527305500Z",
     "start_time": "2023-07-25T18:23:01.504507100Z"
    }
   }
  },
  {
   "cell_type": "code",
   "execution_count": 52,
   "outputs": [
    {
     "data": {
      "text/plain": "         date home_team away_team  home_score  away_score tournament     city  \\\n0  1872-11-30  Scotland   England           0           0   Friendly  Glasgow   \n1  1873-03-08   England  Scotland           4           2   Friendly   London   \n3  1875-03-06   England  Scotland           2           2   Friendly   London   \n4  1876-03-04  Scotland   England           3           0   Friendly  Glasgow   \n5  1876-03-25  Scotland     Wales           4           0   Friendly  Glasgow   \n\n    country  neutral  total_goals               Versus  gols acumulados  \n0  Scotland    False            0  Scotland Vs England                0  \n1   England    False            6  England Vs Scotland                6  \n3   England    False            4  England Vs Scotland               13  \n4  Scotland    False            3  Scotland Vs England               16  \n5  Scotland    False            4    Scotland Vs Wales               20  ",
      "text/html": "<div>\n<style scoped>\n    .dataframe tbody tr th:only-of-type {\n        vertical-align: middle;\n    }\n\n    .dataframe tbody tr th {\n        vertical-align: top;\n    }\n\n    .dataframe thead th {\n        text-align: right;\n    }\n</style>\n<table border=\"1\" class=\"dataframe\">\n  <thead>\n    <tr style=\"text-align: right;\">\n      <th></th>\n      <th>date</th>\n      <th>home_team</th>\n      <th>away_team</th>\n      <th>home_score</th>\n      <th>away_score</th>\n      <th>tournament</th>\n      <th>city</th>\n      <th>country</th>\n      <th>neutral</th>\n      <th>total_goals</th>\n      <th>Versus</th>\n      <th>gols acumulados</th>\n    </tr>\n  </thead>\n  <tbody>\n    <tr>\n      <th>0</th>\n      <td>1872-11-30</td>\n      <td>Scotland</td>\n      <td>England</td>\n      <td>0</td>\n      <td>0</td>\n      <td>Friendly</td>\n      <td>Glasgow</td>\n      <td>Scotland</td>\n      <td>False</td>\n      <td>0</td>\n      <td>Scotland Vs England</td>\n      <td>0</td>\n    </tr>\n    <tr>\n      <th>1</th>\n      <td>1873-03-08</td>\n      <td>England</td>\n      <td>Scotland</td>\n      <td>4</td>\n      <td>2</td>\n      <td>Friendly</td>\n      <td>London</td>\n      <td>England</td>\n      <td>False</td>\n      <td>6</td>\n      <td>England Vs Scotland</td>\n      <td>6</td>\n    </tr>\n    <tr>\n      <th>3</th>\n      <td>1875-03-06</td>\n      <td>England</td>\n      <td>Scotland</td>\n      <td>2</td>\n      <td>2</td>\n      <td>Friendly</td>\n      <td>London</td>\n      <td>England</td>\n      <td>False</td>\n      <td>4</td>\n      <td>England Vs Scotland</td>\n      <td>13</td>\n    </tr>\n    <tr>\n      <th>4</th>\n      <td>1876-03-04</td>\n      <td>Scotland</td>\n      <td>England</td>\n      <td>3</td>\n      <td>0</td>\n      <td>Friendly</td>\n      <td>Glasgow</td>\n      <td>Scotland</td>\n      <td>False</td>\n      <td>3</td>\n      <td>Scotland Vs England</td>\n      <td>16</td>\n    </tr>\n    <tr>\n      <th>5</th>\n      <td>1876-03-25</td>\n      <td>Scotland</td>\n      <td>Wales</td>\n      <td>4</td>\n      <td>0</td>\n      <td>Friendly</td>\n      <td>Glasgow</td>\n      <td>Scotland</td>\n      <td>False</td>\n      <td>4</td>\n      <td>Scotland Vs Wales</td>\n      <td>20</td>\n    </tr>\n  </tbody>\n</table>\n</div>"
     },
     "execution_count": 52,
     "metadata": {},
     "output_type": "execute_result"
    }
   ],
   "source": [
    "df_copa_aux = df_copa.copy()\n",
    "\n",
    "df_copa_aux[\"total_goals\"] = df_copa_aux[\"home_score\"] + df_copa_aux[\"away_score\"]\n",
    "df_copa_aux[\"Versus\"] = df_copa_aux[\"home_team\"] + \" Vs \" + df_copa_aux[\"away_team\"]\n",
    "df_copa_aux[\"gols acumulados\"] = df_copa_aux[\"total_goals\"].cumsum()\n",
    "# df_copa_aux = df_copa_aux.drop(\"total_goals\", axis=1)\n",
    "df_copa_aux = df_copa_aux.drop(2, axis=0)\n",
    "# df_copa_aux.drop(\"total_goals\", axis=1, inplace=True)\n",
    "\n",
    "df_copa_aux.head()"
   ],
   "metadata": {
    "collapsed": false,
    "ExecuteTime": {
     "end_time": "2023-07-25T18:38:34.495630200Z",
     "start_time": "2023-07-25T18:38:34.450187200Z"
    }
   }
  },
  {
   "cell_type": "code",
   "execution_count": 46,
   "outputs": [
    {
     "data": {
      "text/plain": "date                           1976-08-11\nhome_team                       Australia\naway_team                       Hong Kong\nhome_score                              0\naway_score                              1\ntournament                       Friendly\ncity                             Canberra\ncountry                         Australia\nneutral                             False\nVersus             Australia Vs Hong Kong\ngols acumulados                     36482\nName: 10000, dtype: object"
     },
     "execution_count": 46,
     "metadata": {},
     "output_type": "execute_result"
    }
   ],
   "source": [
    "df_copa_aux.loc[10000]"
   ],
   "metadata": {
    "collapsed": false,
    "ExecuteTime": {
     "end_time": "2023-07-25T18:35:26.528495100Z",
     "start_time": "2023-07-25T18:35:26.509097700Z"
    }
   }
  },
  {
   "cell_type": "code",
   "execution_count": 47,
   "outputs": [
    {
     "data": {
      "text/plain": "'Belarus'"
     },
     "execution_count": 47,
     "metadata": {},
     "output_type": "execute_result"
    }
   ],
   "source": [
    "df_copa_aux.loc[30000, \"home_team\"]"
   ],
   "metadata": {
    "collapsed": false,
    "ExecuteTime": {
     "end_time": "2023-07-25T18:36:10.109843600Z",
     "start_time": "2023-07-25T18:36:10.086699900Z"
    }
   }
  },
  {
   "cell_type": "code",
   "execution_count": 50,
   "outputs": [
    {
     "data": {
      "text/plain": "      home_team   away_team\n30000   Belarus  Luxembourg\n30001   Belgium     Finland\n40000    Guinea       Sudan",
      "text/html": "<div>\n<style scoped>\n    .dataframe tbody tr th:only-of-type {\n        vertical-align: middle;\n    }\n\n    .dataframe tbody tr th {\n        vertical-align: top;\n    }\n\n    .dataframe thead th {\n        text-align: right;\n    }\n</style>\n<table border=\"1\" class=\"dataframe\">\n  <thead>\n    <tr style=\"text-align: right;\">\n      <th></th>\n      <th>home_team</th>\n      <th>away_team</th>\n    </tr>\n  </thead>\n  <tbody>\n    <tr>\n      <th>30000</th>\n      <td>Belarus</td>\n      <td>Luxembourg</td>\n    </tr>\n    <tr>\n      <th>30001</th>\n      <td>Belgium</td>\n      <td>Finland</td>\n    </tr>\n    <tr>\n      <th>40000</th>\n      <td>Guinea</td>\n      <td>Sudan</td>\n    </tr>\n  </tbody>\n</table>\n</div>"
     },
     "execution_count": 50,
     "metadata": {},
     "output_type": "execute_result"
    }
   ],
   "source": [
    "df_copa_aux.loc[[30000, 30001, 40000], [\"home_team\", \"away_team\"]]"
   ],
   "metadata": {
    "collapsed": false,
    "ExecuteTime": {
     "end_time": "2023-07-25T18:37:00.045860700Z",
     "start_time": "2023-07-25T18:37:00.025346Z"
    }
   }
  },
  {
   "cell_type": "markdown",
   "source": [
    "## Filtro"
   ],
   "metadata": {
    "collapsed": false
   }
  },
  {
   "cell_type": "code",
   "execution_count": 56,
   "outputs": [
    {
     "data": {
      "text/plain": "   Coluna1  Coluna2\na        0        4\nb        1        5\nc        2        6\nd        3        7",
      "text/html": "<div>\n<style scoped>\n    .dataframe tbody tr th:only-of-type {\n        vertical-align: middle;\n    }\n\n    .dataframe tbody tr th {\n        vertical-align: top;\n    }\n\n    .dataframe thead th {\n        text-align: right;\n    }\n</style>\n<table border=\"1\" class=\"dataframe\">\n  <thead>\n    <tr style=\"text-align: right;\">\n      <th></th>\n      <th>Coluna1</th>\n      <th>Coluna2</th>\n    </tr>\n  </thead>\n  <tbody>\n    <tr>\n      <th>a</th>\n      <td>0</td>\n      <td>4</td>\n    </tr>\n    <tr>\n      <th>b</th>\n      <td>1</td>\n      <td>5</td>\n    </tr>\n    <tr>\n      <th>c</th>\n      <td>2</td>\n      <td>6</td>\n    </tr>\n    <tr>\n      <th>d</th>\n      <td>3</td>\n      <td>7</td>\n    </tr>\n  </tbody>\n</table>\n</div>"
     },
     "execution_count": 56,
     "metadata": {},
     "output_type": "execute_result"
    }
   ],
   "source": [
    "df_dict"
   ],
   "metadata": {
    "collapsed": false,
    "ExecuteTime": {
     "end_time": "2023-07-25T18:39:44.595627Z",
     "start_time": "2023-07-25T18:39:44.560494600Z"
    }
   }
  },
  {
   "cell_type": "code",
   "execution_count": 57,
   "outputs": [
    {
     "data": {
      "text/plain": "   Coluna1  Coluna2\na    False     True\nb    False     True\nc    False     True\nd     True     True",
      "text/html": "<div>\n<style scoped>\n    .dataframe tbody tr th:only-of-type {\n        vertical-align: middle;\n    }\n\n    .dataframe tbody tr th {\n        vertical-align: top;\n    }\n\n    .dataframe thead th {\n        text-align: right;\n    }\n</style>\n<table border=\"1\" class=\"dataframe\">\n  <thead>\n    <tr style=\"text-align: right;\">\n      <th></th>\n      <th>Coluna1</th>\n      <th>Coluna2</th>\n    </tr>\n  </thead>\n  <tbody>\n    <tr>\n      <th>a</th>\n      <td>False</td>\n      <td>True</td>\n    </tr>\n    <tr>\n      <th>b</th>\n      <td>False</td>\n      <td>True</td>\n    </tr>\n    <tr>\n      <th>c</th>\n      <td>False</td>\n      <td>True</td>\n    </tr>\n    <tr>\n      <th>d</th>\n      <td>True</td>\n      <td>True</td>\n    </tr>\n  </tbody>\n</table>\n</div>"
     },
     "execution_count": 57,
     "metadata": {},
     "output_type": "execute_result"
    }
   ],
   "source": [
    "df_dict > 2"
   ],
   "metadata": {
    "collapsed": false,
    "ExecuteTime": {
     "end_time": "2023-07-25T18:40:03.319222400Z",
     "start_time": "2023-07-25T18:40:03.289881Z"
    }
   }
  },
  {
   "cell_type": "code",
   "execution_count": 58,
   "outputs": [
    {
     "data": {
      "text/plain": "a    False\nb    False\nc    False\nd     True\nName: Coluna1, dtype: bool"
     },
     "execution_count": 58,
     "metadata": {},
     "output_type": "execute_result"
    }
   ],
   "source": [
    "df_dict[\"Coluna1\"] > 2"
   ],
   "metadata": {
    "collapsed": false,
    "ExecuteTime": {
     "end_time": "2023-07-25T18:40:50.650318300Z",
     "start_time": "2023-07-25T18:40:50.623834400Z"
    }
   }
  },
  {
   "cell_type": "code",
   "execution_count": 64,
   "outputs": [
    {
     "data": {
      "text/plain": "   Coluna1  Coluna2\nd        3        7",
      "text/html": "<div>\n<style scoped>\n    .dataframe tbody tr th:only-of-type {\n        vertical-align: middle;\n    }\n\n    .dataframe tbody tr th {\n        vertical-align: top;\n    }\n\n    .dataframe thead th {\n        text-align: right;\n    }\n</style>\n<table border=\"1\" class=\"dataframe\">\n  <thead>\n    <tr style=\"text-align: right;\">\n      <th></th>\n      <th>Coluna1</th>\n      <th>Coluna2</th>\n    </tr>\n  </thead>\n  <tbody>\n    <tr>\n      <th>d</th>\n      <td>3</td>\n      <td>7</td>\n    </tr>\n  </tbody>\n</table>\n</div>"
     },
     "execution_count": 64,
     "metadata": {},
     "output_type": "execute_result"
    }
   ],
   "source": [
    "df_dict[df_dict[\"Coluna1\"] > 2]"
   ],
   "metadata": {
    "collapsed": false,
    "ExecuteTime": {
     "end_time": "2023-07-25T18:42:46.604162600Z",
     "start_time": "2023-07-25T18:42:46.582373800Z"
    }
   }
  },
  {
   "cell_type": "code",
   "execution_count": 65,
   "outputs": [
    {
     "data": {
      "text/plain": "         date home_team away_team  home_score  away_score tournament     city  \\\n0  1872-11-30  Scotland   England           0           0   Friendly  Glasgow   \n1  1873-03-08   England  Scotland           4           2   Friendly   London   \n3  1875-03-06   England  Scotland           2           2   Friendly   London   \n4  1876-03-04  Scotland   England           3           0   Friendly  Glasgow   \n5  1876-03-25  Scotland     Wales           4           0   Friendly  Glasgow   \n\n    country  neutral  total_goals               Versus  gols acumulados  \n0  Scotland    False            0  Scotland Vs England                0  \n1   England    False            6  England Vs Scotland                6  \n3   England    False            4  England Vs Scotland               13  \n4  Scotland    False            3  Scotland Vs England               16  \n5  Scotland    False            4    Scotland Vs Wales               20  ",
      "text/html": "<div>\n<style scoped>\n    .dataframe tbody tr th:only-of-type {\n        vertical-align: middle;\n    }\n\n    .dataframe tbody tr th {\n        vertical-align: top;\n    }\n\n    .dataframe thead th {\n        text-align: right;\n    }\n</style>\n<table border=\"1\" class=\"dataframe\">\n  <thead>\n    <tr style=\"text-align: right;\">\n      <th></th>\n      <th>date</th>\n      <th>home_team</th>\n      <th>away_team</th>\n      <th>home_score</th>\n      <th>away_score</th>\n      <th>tournament</th>\n      <th>city</th>\n      <th>country</th>\n      <th>neutral</th>\n      <th>total_goals</th>\n      <th>Versus</th>\n      <th>gols acumulados</th>\n    </tr>\n  </thead>\n  <tbody>\n    <tr>\n      <th>0</th>\n      <td>1872-11-30</td>\n      <td>Scotland</td>\n      <td>England</td>\n      <td>0</td>\n      <td>0</td>\n      <td>Friendly</td>\n      <td>Glasgow</td>\n      <td>Scotland</td>\n      <td>False</td>\n      <td>0</td>\n      <td>Scotland Vs England</td>\n      <td>0</td>\n    </tr>\n    <tr>\n      <th>1</th>\n      <td>1873-03-08</td>\n      <td>England</td>\n      <td>Scotland</td>\n      <td>4</td>\n      <td>2</td>\n      <td>Friendly</td>\n      <td>London</td>\n      <td>England</td>\n      <td>False</td>\n      <td>6</td>\n      <td>England Vs Scotland</td>\n      <td>6</td>\n    </tr>\n    <tr>\n      <th>3</th>\n      <td>1875-03-06</td>\n      <td>England</td>\n      <td>Scotland</td>\n      <td>2</td>\n      <td>2</td>\n      <td>Friendly</td>\n      <td>London</td>\n      <td>England</td>\n      <td>False</td>\n      <td>4</td>\n      <td>England Vs Scotland</td>\n      <td>13</td>\n    </tr>\n    <tr>\n      <th>4</th>\n      <td>1876-03-04</td>\n      <td>Scotland</td>\n      <td>England</td>\n      <td>3</td>\n      <td>0</td>\n      <td>Friendly</td>\n      <td>Glasgow</td>\n      <td>Scotland</td>\n      <td>False</td>\n      <td>3</td>\n      <td>Scotland Vs England</td>\n      <td>16</td>\n    </tr>\n    <tr>\n      <th>5</th>\n      <td>1876-03-25</td>\n      <td>Scotland</td>\n      <td>Wales</td>\n      <td>4</td>\n      <td>0</td>\n      <td>Friendly</td>\n      <td>Glasgow</td>\n      <td>Scotland</td>\n      <td>False</td>\n      <td>4</td>\n      <td>Scotland Vs Wales</td>\n      <td>20</td>\n    </tr>\n  </tbody>\n</table>\n</div>"
     },
     "execution_count": 65,
     "metadata": {},
     "output_type": "execute_result"
    }
   ],
   "source": [
    "df_copa_aux.head()"
   ],
   "metadata": {
    "collapsed": false,
    "ExecuteTime": {
     "end_time": "2023-07-25T18:43:01.628937200Z",
     "start_time": "2023-07-25T18:43:01.490569Z"
    }
   }
  },
  {
   "cell_type": "code",
   "execution_count": 67,
   "outputs": [
    {
     "data": {
      "text/plain": "             date home_team    away_team  home_score  away_score  \\\n441    1916-07-08    Brazil        Chile           1           1   \n444    1916-07-12    Brazil      Uruguay           1           2   \n477    1917-10-12    Brazil        Chile           5           0   \n503    1919-05-11    Brazil        Chile           6           0   \n508    1919-05-18    Brazil    Argentina           3           1   \n...           ...       ...          ...         ...         ...   \n44302  2022-11-24    Brazil       Serbia           2           0   \n44318  2022-11-28    Brazil  Switzerland           1           0   \n44342  2022-12-05    Brazil  South Korea           4           1   \n44640  2023-06-17    Brazil       Guinea           4           1   \n44688  2023-06-20    Brazil      Senegal           2           4   \n\n           tournament            city    country  neutral  total_goals  \\\n441      Copa América    Buenos Aires  Argentina     True            2   \n444      Copa América    Buenos Aires  Argentina     True            3   \n477      Copa América      Montevideo    Uruguay     True            5   \n503      Copa América  Rio de Janeiro     Brazil    False            6   \n508      Copa América  Rio de Janeiro     Brazil    False            4   \n...               ...             ...        ...      ...          ...   \n44302  FIFA World Cup          Lusail      Qatar     True            2   \n44318  FIFA World Cup            Doha      Qatar     True            1   \n44342  FIFA World Cup            Doha      Qatar     True            5   \n44640        Friendly       Barcelona      Spain     True            5   \n44688        Friendly          Lisbon   Portugal     True            6   \n\n                      Versus  gols acumulados  \n441          Brazil Vs Chile             1973  \n444        Brazil Vs Uruguay             1979  \n477          Brazil Vs Chile             2120  \n503          Brazil Vs Chile             2198  \n508      Brazil Vs Argentina             2218  \n...                      ...              ...  \n44302       Brazil Vs Serbia           129350  \n44318  Brazil Vs Switzerland           129388  \n44342  Brazil Vs South Korea           129455  \n44640       Brazil Vs Guinea           130242  \n44688      Brazil Vs Senegal           130369  \n\n[597 rows x 12 columns]",
      "text/html": "<div>\n<style scoped>\n    .dataframe tbody tr th:only-of-type {\n        vertical-align: middle;\n    }\n\n    .dataframe tbody tr th {\n        vertical-align: top;\n    }\n\n    .dataframe thead th {\n        text-align: right;\n    }\n</style>\n<table border=\"1\" class=\"dataframe\">\n  <thead>\n    <tr style=\"text-align: right;\">\n      <th></th>\n      <th>date</th>\n      <th>home_team</th>\n      <th>away_team</th>\n      <th>home_score</th>\n      <th>away_score</th>\n      <th>tournament</th>\n      <th>city</th>\n      <th>country</th>\n      <th>neutral</th>\n      <th>total_goals</th>\n      <th>Versus</th>\n      <th>gols acumulados</th>\n    </tr>\n  </thead>\n  <tbody>\n    <tr>\n      <th>441</th>\n      <td>1916-07-08</td>\n      <td>Brazil</td>\n      <td>Chile</td>\n      <td>1</td>\n      <td>1</td>\n      <td>Copa América</td>\n      <td>Buenos Aires</td>\n      <td>Argentina</td>\n      <td>True</td>\n      <td>2</td>\n      <td>Brazil Vs Chile</td>\n      <td>1973</td>\n    </tr>\n    <tr>\n      <th>444</th>\n      <td>1916-07-12</td>\n      <td>Brazil</td>\n      <td>Uruguay</td>\n      <td>1</td>\n      <td>2</td>\n      <td>Copa América</td>\n      <td>Buenos Aires</td>\n      <td>Argentina</td>\n      <td>True</td>\n      <td>3</td>\n      <td>Brazil Vs Uruguay</td>\n      <td>1979</td>\n    </tr>\n    <tr>\n      <th>477</th>\n      <td>1917-10-12</td>\n      <td>Brazil</td>\n      <td>Chile</td>\n      <td>5</td>\n      <td>0</td>\n      <td>Copa América</td>\n      <td>Montevideo</td>\n      <td>Uruguay</td>\n      <td>True</td>\n      <td>5</td>\n      <td>Brazil Vs Chile</td>\n      <td>2120</td>\n    </tr>\n    <tr>\n      <th>503</th>\n      <td>1919-05-11</td>\n      <td>Brazil</td>\n      <td>Chile</td>\n      <td>6</td>\n      <td>0</td>\n      <td>Copa América</td>\n      <td>Rio de Janeiro</td>\n      <td>Brazil</td>\n      <td>False</td>\n      <td>6</td>\n      <td>Brazil Vs Chile</td>\n      <td>2198</td>\n    </tr>\n    <tr>\n      <th>508</th>\n      <td>1919-05-18</td>\n      <td>Brazil</td>\n      <td>Argentina</td>\n      <td>3</td>\n      <td>1</td>\n      <td>Copa América</td>\n      <td>Rio de Janeiro</td>\n      <td>Brazil</td>\n      <td>False</td>\n      <td>4</td>\n      <td>Brazil Vs Argentina</td>\n      <td>2218</td>\n    </tr>\n    <tr>\n      <th>...</th>\n      <td>...</td>\n      <td>...</td>\n      <td>...</td>\n      <td>...</td>\n      <td>...</td>\n      <td>...</td>\n      <td>...</td>\n      <td>...</td>\n      <td>...</td>\n      <td>...</td>\n      <td>...</td>\n      <td>...</td>\n    </tr>\n    <tr>\n      <th>44302</th>\n      <td>2022-11-24</td>\n      <td>Brazil</td>\n      <td>Serbia</td>\n      <td>2</td>\n      <td>0</td>\n      <td>FIFA World Cup</td>\n      <td>Lusail</td>\n      <td>Qatar</td>\n      <td>True</td>\n      <td>2</td>\n      <td>Brazil Vs Serbia</td>\n      <td>129350</td>\n    </tr>\n    <tr>\n      <th>44318</th>\n      <td>2022-11-28</td>\n      <td>Brazil</td>\n      <td>Switzerland</td>\n      <td>1</td>\n      <td>0</td>\n      <td>FIFA World Cup</td>\n      <td>Doha</td>\n      <td>Qatar</td>\n      <td>True</td>\n      <td>1</td>\n      <td>Brazil Vs Switzerland</td>\n      <td>129388</td>\n    </tr>\n    <tr>\n      <th>44342</th>\n      <td>2022-12-05</td>\n      <td>Brazil</td>\n      <td>South Korea</td>\n      <td>4</td>\n      <td>1</td>\n      <td>FIFA World Cup</td>\n      <td>Doha</td>\n      <td>Qatar</td>\n      <td>True</td>\n      <td>5</td>\n      <td>Brazil Vs South Korea</td>\n      <td>129455</td>\n    </tr>\n    <tr>\n      <th>44640</th>\n      <td>2023-06-17</td>\n      <td>Brazil</td>\n      <td>Guinea</td>\n      <td>4</td>\n      <td>1</td>\n      <td>Friendly</td>\n      <td>Barcelona</td>\n      <td>Spain</td>\n      <td>True</td>\n      <td>5</td>\n      <td>Brazil Vs Guinea</td>\n      <td>130242</td>\n    </tr>\n    <tr>\n      <th>44688</th>\n      <td>2023-06-20</td>\n      <td>Brazil</td>\n      <td>Senegal</td>\n      <td>2</td>\n      <td>4</td>\n      <td>Friendly</td>\n      <td>Lisbon</td>\n      <td>Portugal</td>\n      <td>True</td>\n      <td>6</td>\n      <td>Brazil Vs Senegal</td>\n      <td>130369</td>\n    </tr>\n  </tbody>\n</table>\n<p>597 rows × 12 columns</p>\n</div>"
     },
     "execution_count": 67,
     "metadata": {},
     "output_type": "execute_result"
    }
   ],
   "source": [
    "df_copa_aux[df_copa_aux[\"home_team\"] == \"Brazil\"]"
   ],
   "metadata": {
    "collapsed": false,
    "ExecuteTime": {
     "end_time": "2023-07-25T18:43:25.854638600Z",
     "start_time": "2023-07-25T18:43:25.817311700Z"
    }
   }
  },
  {
   "cell_type": "code",
   "execution_count": 68,
   "outputs": [
    {
     "data": {
      "text/plain": "             date  home_team    away_team  home_score  away_score  \\\n410    1914-09-20  Argentina       Brazil           3           0   \n411    1914-09-27  Argentina       Brazil           0           1   \n441    1916-07-08     Brazil        Chile           1           1   \n442    1916-07-10  Argentina       Brazil           1           1   \n444    1916-07-12     Brazil      Uruguay           1           2   \n...           ...        ...          ...         ...         ...   \n44342  2022-12-05     Brazil  South Korea           4           1   \n44345  2022-12-09    Croatia       Brazil           1           1   \n44469  2023-03-25    Morocco       Brazil           2           1   \n44640  2023-06-17     Brazil       Guinea           4           1   \n44688  2023-06-20     Brazil      Senegal           2           4   \n\n           tournament          city    country  neutral  total_goals  \\\n410          Friendly  Buenos Aires  Argentina    False            3   \n411         Copa Roca  Buenos Aires  Argentina    False            1   \n441      Copa América  Buenos Aires  Argentina     True            2   \n442      Copa América  Buenos Aires  Argentina    False            2   \n444      Copa América  Buenos Aires  Argentina     True            3   \n...               ...           ...        ...      ...          ...   \n44342  FIFA World Cup          Doha      Qatar     True            5   \n44345  FIFA World Cup     Al Rayyan      Qatar     True            2   \n44469        Friendly       Tangier    Morocco    False            3   \n44640        Friendly     Barcelona      Spain     True            5   \n44688        Friendly        Lisbon   Portugal     True            6   \n\n                      Versus  gols acumulados  \n410      Argentina Vs Brazil             1847  \n411      Argentina Vs Brazil             1848  \n441          Brazil Vs Chile             1973  \n442      Argentina Vs Brazil             1975  \n444        Brazil Vs Uruguay             1979  \n...                      ...              ...  \n44342  Brazil Vs South Korea           129455  \n44345      Croatia Vs Brazil           129464  \n44469      Morocco Vs Brazil           129782  \n44640       Brazil Vs Guinea           130242  \n44688      Brazil Vs Senegal           130369  \n\n[1026 rows x 12 columns]",
      "text/html": "<div>\n<style scoped>\n    .dataframe tbody tr th:only-of-type {\n        vertical-align: middle;\n    }\n\n    .dataframe tbody tr th {\n        vertical-align: top;\n    }\n\n    .dataframe thead th {\n        text-align: right;\n    }\n</style>\n<table border=\"1\" class=\"dataframe\">\n  <thead>\n    <tr style=\"text-align: right;\">\n      <th></th>\n      <th>date</th>\n      <th>home_team</th>\n      <th>away_team</th>\n      <th>home_score</th>\n      <th>away_score</th>\n      <th>tournament</th>\n      <th>city</th>\n      <th>country</th>\n      <th>neutral</th>\n      <th>total_goals</th>\n      <th>Versus</th>\n      <th>gols acumulados</th>\n    </tr>\n  </thead>\n  <tbody>\n    <tr>\n      <th>410</th>\n      <td>1914-09-20</td>\n      <td>Argentina</td>\n      <td>Brazil</td>\n      <td>3</td>\n      <td>0</td>\n      <td>Friendly</td>\n      <td>Buenos Aires</td>\n      <td>Argentina</td>\n      <td>False</td>\n      <td>3</td>\n      <td>Argentina Vs Brazil</td>\n      <td>1847</td>\n    </tr>\n    <tr>\n      <th>411</th>\n      <td>1914-09-27</td>\n      <td>Argentina</td>\n      <td>Brazil</td>\n      <td>0</td>\n      <td>1</td>\n      <td>Copa Roca</td>\n      <td>Buenos Aires</td>\n      <td>Argentina</td>\n      <td>False</td>\n      <td>1</td>\n      <td>Argentina Vs Brazil</td>\n      <td>1848</td>\n    </tr>\n    <tr>\n      <th>441</th>\n      <td>1916-07-08</td>\n      <td>Brazil</td>\n      <td>Chile</td>\n      <td>1</td>\n      <td>1</td>\n      <td>Copa América</td>\n      <td>Buenos Aires</td>\n      <td>Argentina</td>\n      <td>True</td>\n      <td>2</td>\n      <td>Brazil Vs Chile</td>\n      <td>1973</td>\n    </tr>\n    <tr>\n      <th>442</th>\n      <td>1916-07-10</td>\n      <td>Argentina</td>\n      <td>Brazil</td>\n      <td>1</td>\n      <td>1</td>\n      <td>Copa América</td>\n      <td>Buenos Aires</td>\n      <td>Argentina</td>\n      <td>False</td>\n      <td>2</td>\n      <td>Argentina Vs Brazil</td>\n      <td>1975</td>\n    </tr>\n    <tr>\n      <th>444</th>\n      <td>1916-07-12</td>\n      <td>Brazil</td>\n      <td>Uruguay</td>\n      <td>1</td>\n      <td>2</td>\n      <td>Copa América</td>\n      <td>Buenos Aires</td>\n      <td>Argentina</td>\n      <td>True</td>\n      <td>3</td>\n      <td>Brazil Vs Uruguay</td>\n      <td>1979</td>\n    </tr>\n    <tr>\n      <th>...</th>\n      <td>...</td>\n      <td>...</td>\n      <td>...</td>\n      <td>...</td>\n      <td>...</td>\n      <td>...</td>\n      <td>...</td>\n      <td>...</td>\n      <td>...</td>\n      <td>...</td>\n      <td>...</td>\n      <td>...</td>\n    </tr>\n    <tr>\n      <th>44342</th>\n      <td>2022-12-05</td>\n      <td>Brazil</td>\n      <td>South Korea</td>\n      <td>4</td>\n      <td>1</td>\n      <td>FIFA World Cup</td>\n      <td>Doha</td>\n      <td>Qatar</td>\n      <td>True</td>\n      <td>5</td>\n      <td>Brazil Vs South Korea</td>\n      <td>129455</td>\n    </tr>\n    <tr>\n      <th>44345</th>\n      <td>2022-12-09</td>\n      <td>Croatia</td>\n      <td>Brazil</td>\n      <td>1</td>\n      <td>1</td>\n      <td>FIFA World Cup</td>\n      <td>Al Rayyan</td>\n      <td>Qatar</td>\n      <td>True</td>\n      <td>2</td>\n      <td>Croatia Vs Brazil</td>\n      <td>129464</td>\n    </tr>\n    <tr>\n      <th>44469</th>\n      <td>2023-03-25</td>\n      <td>Morocco</td>\n      <td>Brazil</td>\n      <td>2</td>\n      <td>1</td>\n      <td>Friendly</td>\n      <td>Tangier</td>\n      <td>Morocco</td>\n      <td>False</td>\n      <td>3</td>\n      <td>Morocco Vs Brazil</td>\n      <td>129782</td>\n    </tr>\n    <tr>\n      <th>44640</th>\n      <td>2023-06-17</td>\n      <td>Brazil</td>\n      <td>Guinea</td>\n      <td>4</td>\n      <td>1</td>\n      <td>Friendly</td>\n      <td>Barcelona</td>\n      <td>Spain</td>\n      <td>True</td>\n      <td>5</td>\n      <td>Brazil Vs Guinea</td>\n      <td>130242</td>\n    </tr>\n    <tr>\n      <th>44688</th>\n      <td>2023-06-20</td>\n      <td>Brazil</td>\n      <td>Senegal</td>\n      <td>2</td>\n      <td>4</td>\n      <td>Friendly</td>\n      <td>Lisbon</td>\n      <td>Portugal</td>\n      <td>True</td>\n      <td>6</td>\n      <td>Brazil Vs Senegal</td>\n      <td>130369</td>\n    </tr>\n  </tbody>\n</table>\n<p>1026 rows × 12 columns</p>\n</div>"
     },
     "execution_count": 68,
     "metadata": {},
     "output_type": "execute_result"
    }
   ],
   "source": [
    "df_copa_aux[(df_copa_aux[\"home_team\"] == \"Brazil\") | (df_copa_aux[\"away_team\"] == \"Brazil\")]"
   ],
   "metadata": {
    "collapsed": false,
    "ExecuteTime": {
     "end_time": "2023-07-25T18:45:21.741278100Z",
     "start_time": "2023-07-25T18:45:21.688933100Z"
    }
   }
  },
  {
   "cell_type": "code",
   "execution_count": 79,
   "outputs": [
    {
     "data": {
      "text/plain": "             date  home_team    away_team  home_score  away_score  \\\n410    1914-09-20  Argentina       Brazil           3           0   \n411    1914-09-27  Argentina       Brazil           0           1   \n441    1916-07-08     Brazil        Chile           1           1   \n442    1916-07-10  Argentina       Brazil           1           1   \n444    1916-07-12     Brazil      Uruguay           1           2   \n...           ...        ...          ...         ...         ...   \n44342  2022-12-05     Brazil  South Korea           4           1   \n44345  2022-12-09    Croatia       Brazil           1           1   \n44469  2023-03-25    Morocco       Brazil           2           1   \n44640  2023-06-17     Brazil       Guinea           4           1   \n44688  2023-06-20     Brazil      Senegal           2           4   \n\n           tournament          city    country  neutral  total_goals  \\\n410          Friendly  Buenos Aires  Argentina    False            3   \n411         Copa Roca  Buenos Aires  Argentina    False            1   \n441      Copa América  Buenos Aires  Argentina     True            2   \n442      Copa América  Buenos Aires  Argentina    False            2   \n444      Copa América  Buenos Aires  Argentina     True            3   \n...               ...           ...        ...      ...          ...   \n44342  FIFA World Cup          Doha      Qatar     True            5   \n44345  FIFA World Cup     Al Rayyan      Qatar     True            2   \n44469        Friendly       Tangier    Morocco    False            3   \n44640        Friendly     Barcelona      Spain     True            5   \n44688        Friendly        Lisbon   Portugal     True            6   \n\n                      Versus  gols acumulados  \n410      Argentina Vs Brazil             1847  \n411      Argentina Vs Brazil             1848  \n441          Brazil Vs Chile             1973  \n442      Argentina Vs Brazil             1975  \n444        Brazil Vs Uruguay             1979  \n...                      ...              ...  \n44342  Brazil Vs South Korea           129455  \n44345      Croatia Vs Brazil           129464  \n44469      Morocco Vs Brazil           129782  \n44640       Brazil Vs Guinea           130242  \n44688      Brazil Vs Senegal           130369  \n\n[880 rows x 12 columns]",
      "text/html": "<div>\n<style scoped>\n    .dataframe tbody tr th:only-of-type {\n        vertical-align: middle;\n    }\n\n    .dataframe tbody tr th {\n        vertical-align: top;\n    }\n\n    .dataframe thead th {\n        text-align: right;\n    }\n</style>\n<table border=\"1\" class=\"dataframe\">\n  <thead>\n    <tr style=\"text-align: right;\">\n      <th></th>\n      <th>date</th>\n      <th>home_team</th>\n      <th>away_team</th>\n      <th>home_score</th>\n      <th>away_score</th>\n      <th>tournament</th>\n      <th>city</th>\n      <th>country</th>\n      <th>neutral</th>\n      <th>total_goals</th>\n      <th>Versus</th>\n      <th>gols acumulados</th>\n    </tr>\n  </thead>\n  <tbody>\n    <tr>\n      <th>410</th>\n      <td>1914-09-20</td>\n      <td>Argentina</td>\n      <td>Brazil</td>\n      <td>3</td>\n      <td>0</td>\n      <td>Friendly</td>\n      <td>Buenos Aires</td>\n      <td>Argentina</td>\n      <td>False</td>\n      <td>3</td>\n      <td>Argentina Vs Brazil</td>\n      <td>1847</td>\n    </tr>\n    <tr>\n      <th>411</th>\n      <td>1914-09-27</td>\n      <td>Argentina</td>\n      <td>Brazil</td>\n      <td>0</td>\n      <td>1</td>\n      <td>Copa Roca</td>\n      <td>Buenos Aires</td>\n      <td>Argentina</td>\n      <td>False</td>\n      <td>1</td>\n      <td>Argentina Vs Brazil</td>\n      <td>1848</td>\n    </tr>\n    <tr>\n      <th>441</th>\n      <td>1916-07-08</td>\n      <td>Brazil</td>\n      <td>Chile</td>\n      <td>1</td>\n      <td>1</td>\n      <td>Copa América</td>\n      <td>Buenos Aires</td>\n      <td>Argentina</td>\n      <td>True</td>\n      <td>2</td>\n      <td>Brazil Vs Chile</td>\n      <td>1973</td>\n    </tr>\n    <tr>\n      <th>442</th>\n      <td>1916-07-10</td>\n      <td>Argentina</td>\n      <td>Brazil</td>\n      <td>1</td>\n      <td>1</td>\n      <td>Copa América</td>\n      <td>Buenos Aires</td>\n      <td>Argentina</td>\n      <td>False</td>\n      <td>2</td>\n      <td>Argentina Vs Brazil</td>\n      <td>1975</td>\n    </tr>\n    <tr>\n      <th>444</th>\n      <td>1916-07-12</td>\n      <td>Brazil</td>\n      <td>Uruguay</td>\n      <td>1</td>\n      <td>2</td>\n      <td>Copa América</td>\n      <td>Buenos Aires</td>\n      <td>Argentina</td>\n      <td>True</td>\n      <td>3</td>\n      <td>Brazil Vs Uruguay</td>\n      <td>1979</td>\n    </tr>\n    <tr>\n      <th>...</th>\n      <td>...</td>\n      <td>...</td>\n      <td>...</td>\n      <td>...</td>\n      <td>...</td>\n      <td>...</td>\n      <td>...</td>\n      <td>...</td>\n      <td>...</td>\n      <td>...</td>\n      <td>...</td>\n      <td>...</td>\n    </tr>\n    <tr>\n      <th>44342</th>\n      <td>2022-12-05</td>\n      <td>Brazil</td>\n      <td>South Korea</td>\n      <td>4</td>\n      <td>1</td>\n      <td>FIFA World Cup</td>\n      <td>Doha</td>\n      <td>Qatar</td>\n      <td>True</td>\n      <td>5</td>\n      <td>Brazil Vs South Korea</td>\n      <td>129455</td>\n    </tr>\n    <tr>\n      <th>44345</th>\n      <td>2022-12-09</td>\n      <td>Croatia</td>\n      <td>Brazil</td>\n      <td>1</td>\n      <td>1</td>\n      <td>FIFA World Cup</td>\n      <td>Al Rayyan</td>\n      <td>Qatar</td>\n      <td>True</td>\n      <td>2</td>\n      <td>Croatia Vs Brazil</td>\n      <td>129464</td>\n    </tr>\n    <tr>\n      <th>44469</th>\n      <td>2023-03-25</td>\n      <td>Morocco</td>\n      <td>Brazil</td>\n      <td>2</td>\n      <td>1</td>\n      <td>Friendly</td>\n      <td>Tangier</td>\n      <td>Morocco</td>\n      <td>False</td>\n      <td>3</td>\n      <td>Morocco Vs Brazil</td>\n      <td>129782</td>\n    </tr>\n    <tr>\n      <th>44640</th>\n      <td>2023-06-17</td>\n      <td>Brazil</td>\n      <td>Guinea</td>\n      <td>4</td>\n      <td>1</td>\n      <td>Friendly</td>\n      <td>Barcelona</td>\n      <td>Spain</td>\n      <td>True</td>\n      <td>5</td>\n      <td>Brazil Vs Guinea</td>\n      <td>130242</td>\n    </tr>\n    <tr>\n      <th>44688</th>\n      <td>2023-06-20</td>\n      <td>Brazil</td>\n      <td>Senegal</td>\n      <td>2</td>\n      <td>4</td>\n      <td>Friendly</td>\n      <td>Lisbon</td>\n      <td>Portugal</td>\n      <td>True</td>\n      <td>6</td>\n      <td>Brazil Vs Senegal</td>\n      <td>130369</td>\n    </tr>\n  </tbody>\n</table>\n<p>880 rows × 12 columns</p>\n</div>"
     },
     "execution_count": 79,
     "metadata": {},
     "output_type": "execute_result"
    }
   ],
   "source": [
    "df_copa_aux[((df_copa_aux[\"home_team\"] == \"Brazil\") | (df_copa_aux[\"away_team\"] == \"Brazil\")) & (df_copa_aux[\"city\"] != \"Rio de Janeiro\")]"
   ],
   "metadata": {
    "collapsed": false,
    "ExecuteTime": {
     "end_time": "2023-07-25T18:52:12.318084400Z",
     "start_time": "2023-07-25T18:52:12.265118400Z"
    }
   }
  },
  {
   "cell_type": "code",
   "execution_count": 78,
   "outputs": [
    {
     "data": {
      "text/plain": "             date  home_team        away_team  home_score  away_score  \\\n1      1873-03-08    England         Scotland           4           2   \n3      1875-03-06    England         Scotland           2           2   \n6      1877-03-03    England         Scotland           1           3   \n10     1879-01-18    England            Wales           2           1   \n11     1879-04-05    England         Scotland           5           4   \n...           ...        ...              ...         ...         ...   \n44530  2023-03-28  Argentina          Curaçao           7           0   \n44603  2023-06-15  Argentina        Australia           2           0   \n44640  2023-06-17     Brazil           Guinea           4           1   \n44674  2023-06-19    England  North Macedonia           7           0   \n44688  2023-06-20     Brazil          Senegal           2           4   \n\n                    tournament                 city    country  neutral  \\\n1                     Friendly               London    England    False   \n3                     Friendly               London    England    False   \n6                     Friendly               London    England    False   \n10                    Friendly               London    England    False   \n11                    Friendly               London    England    False   \n...                        ...                  ...        ...      ...   \n44530                 Friendly  Santiago del Estero  Argentina    False   \n44603                 Friendly              Beijing   China PR     True   \n44640                 Friendly            Barcelona      Spain     True   \n44674  UEFA Euro qualification           Manchester    England    False   \n44688                 Friendly               Lisbon   Portugal     True   \n\n       total_goals                      Versus  gols acumulados  \n1                6         England Vs Scotland                6  \n3                4         England Vs Scotland               13  \n6                4         England Vs Scotland               24  \n10               3            England Vs Wales               47  \n11               9         England Vs Scotland               56  \n...            ...                         ...              ...  \n44530            7        Argentina Vs Curaçao           129943  \n44603            2      Argentina Vs Australia           130128  \n44640            5            Brazil Vs Guinea           130242  \n44674            7  England Vs North Macedonia           130331  \n44688            6           Brazil Vs Senegal           130369  \n\n[1701 rows x 12 columns]",
      "text/html": "<div>\n<style scoped>\n    .dataframe tbody tr th:only-of-type {\n        vertical-align: middle;\n    }\n\n    .dataframe tbody tr th {\n        vertical-align: top;\n    }\n\n    .dataframe thead th {\n        text-align: right;\n    }\n</style>\n<table border=\"1\" class=\"dataframe\">\n  <thead>\n    <tr style=\"text-align: right;\">\n      <th></th>\n      <th>date</th>\n      <th>home_team</th>\n      <th>away_team</th>\n      <th>home_score</th>\n      <th>away_score</th>\n      <th>tournament</th>\n      <th>city</th>\n      <th>country</th>\n      <th>neutral</th>\n      <th>total_goals</th>\n      <th>Versus</th>\n      <th>gols acumulados</th>\n    </tr>\n  </thead>\n  <tbody>\n    <tr>\n      <th>1</th>\n      <td>1873-03-08</td>\n      <td>England</td>\n      <td>Scotland</td>\n      <td>4</td>\n      <td>2</td>\n      <td>Friendly</td>\n      <td>London</td>\n      <td>England</td>\n      <td>False</td>\n      <td>6</td>\n      <td>England Vs Scotland</td>\n      <td>6</td>\n    </tr>\n    <tr>\n      <th>3</th>\n      <td>1875-03-06</td>\n      <td>England</td>\n      <td>Scotland</td>\n      <td>2</td>\n      <td>2</td>\n      <td>Friendly</td>\n      <td>London</td>\n      <td>England</td>\n      <td>False</td>\n      <td>4</td>\n      <td>England Vs Scotland</td>\n      <td>13</td>\n    </tr>\n    <tr>\n      <th>6</th>\n      <td>1877-03-03</td>\n      <td>England</td>\n      <td>Scotland</td>\n      <td>1</td>\n      <td>3</td>\n      <td>Friendly</td>\n      <td>London</td>\n      <td>England</td>\n      <td>False</td>\n      <td>4</td>\n      <td>England Vs Scotland</td>\n      <td>24</td>\n    </tr>\n    <tr>\n      <th>10</th>\n      <td>1879-01-18</td>\n      <td>England</td>\n      <td>Wales</td>\n      <td>2</td>\n      <td>1</td>\n      <td>Friendly</td>\n      <td>London</td>\n      <td>England</td>\n      <td>False</td>\n      <td>3</td>\n      <td>England Vs Wales</td>\n      <td>47</td>\n    </tr>\n    <tr>\n      <th>11</th>\n      <td>1879-04-05</td>\n      <td>England</td>\n      <td>Scotland</td>\n      <td>5</td>\n      <td>4</td>\n      <td>Friendly</td>\n      <td>London</td>\n      <td>England</td>\n      <td>False</td>\n      <td>9</td>\n      <td>England Vs Scotland</td>\n      <td>56</td>\n    </tr>\n    <tr>\n      <th>...</th>\n      <td>...</td>\n      <td>...</td>\n      <td>...</td>\n      <td>...</td>\n      <td>...</td>\n      <td>...</td>\n      <td>...</td>\n      <td>...</td>\n      <td>...</td>\n      <td>...</td>\n      <td>...</td>\n      <td>...</td>\n    </tr>\n    <tr>\n      <th>44530</th>\n      <td>2023-03-28</td>\n      <td>Argentina</td>\n      <td>Curaçao</td>\n      <td>7</td>\n      <td>0</td>\n      <td>Friendly</td>\n      <td>Santiago del Estero</td>\n      <td>Argentina</td>\n      <td>False</td>\n      <td>7</td>\n      <td>Argentina Vs Curaçao</td>\n      <td>129943</td>\n    </tr>\n    <tr>\n      <th>44603</th>\n      <td>2023-06-15</td>\n      <td>Argentina</td>\n      <td>Australia</td>\n      <td>2</td>\n      <td>0</td>\n      <td>Friendly</td>\n      <td>Beijing</td>\n      <td>China PR</td>\n      <td>True</td>\n      <td>2</td>\n      <td>Argentina Vs Australia</td>\n      <td>130128</td>\n    </tr>\n    <tr>\n      <th>44640</th>\n      <td>2023-06-17</td>\n      <td>Brazil</td>\n      <td>Guinea</td>\n      <td>4</td>\n      <td>1</td>\n      <td>Friendly</td>\n      <td>Barcelona</td>\n      <td>Spain</td>\n      <td>True</td>\n      <td>5</td>\n      <td>Brazil Vs Guinea</td>\n      <td>130242</td>\n    </tr>\n    <tr>\n      <th>44674</th>\n      <td>2023-06-19</td>\n      <td>England</td>\n      <td>North Macedonia</td>\n      <td>7</td>\n      <td>0</td>\n      <td>UEFA Euro qualification</td>\n      <td>Manchester</td>\n      <td>England</td>\n      <td>False</td>\n      <td>7</td>\n      <td>England Vs North Macedonia</td>\n      <td>130331</td>\n    </tr>\n    <tr>\n      <th>44688</th>\n      <td>2023-06-20</td>\n      <td>Brazil</td>\n      <td>Senegal</td>\n      <td>2</td>\n      <td>4</td>\n      <td>Friendly</td>\n      <td>Lisbon</td>\n      <td>Portugal</td>\n      <td>True</td>\n      <td>6</td>\n      <td>Brazil Vs Senegal</td>\n      <td>130369</td>\n    </tr>\n  </tbody>\n</table>\n<p>1701 rows × 12 columns</p>\n</div>"
     },
     "execution_count": 78,
     "metadata": {},
     "output_type": "execute_result"
    }
   ],
   "source": [
    "df_copa_aux[df_copa_aux[\"home_team\"].isin([\"Argentina\", \"Brazil\", \"England\"])]"
   ],
   "metadata": {
    "collapsed": false,
    "ExecuteTime": {
     "end_time": "2023-07-25T18:51:35.676640Z",
     "start_time": "2023-07-25T18:51:35.596751400Z"
    }
   }
  },
  {
   "cell_type": "markdown",
   "source": [
    "## Indíces"
   ],
   "metadata": {
    "collapsed": false
   }
  },
  {
   "cell_type": "code",
   "execution_count": 80,
   "outputs": [
    {
     "data": {
      "text/plain": "   Coluna1  Coluna2\na        0        4\nb        1        5\nc        2        6\nd        3        7",
      "text/html": "<div>\n<style scoped>\n    .dataframe tbody tr th:only-of-type {\n        vertical-align: middle;\n    }\n\n    .dataframe tbody tr th {\n        vertical-align: top;\n    }\n\n    .dataframe thead th {\n        text-align: right;\n    }\n</style>\n<table border=\"1\" class=\"dataframe\">\n  <thead>\n    <tr style=\"text-align: right;\">\n      <th></th>\n      <th>Coluna1</th>\n      <th>Coluna2</th>\n    </tr>\n  </thead>\n  <tbody>\n    <tr>\n      <th>a</th>\n      <td>0</td>\n      <td>4</td>\n    </tr>\n    <tr>\n      <th>b</th>\n      <td>1</td>\n      <td>5</td>\n    </tr>\n    <tr>\n      <th>c</th>\n      <td>2</td>\n      <td>6</td>\n    </tr>\n    <tr>\n      <th>d</th>\n      <td>3</td>\n      <td>7</td>\n    </tr>\n  </tbody>\n</table>\n</div>"
     },
     "execution_count": 80,
     "metadata": {},
     "output_type": "execute_result"
    }
   ],
   "source": [
    "df_dict"
   ],
   "metadata": {
    "collapsed": false,
    "ExecuteTime": {
     "end_time": "2023-07-25T18:53:20.849383300Z",
     "start_time": "2023-07-25T18:53:20.811535600Z"
    }
   }
  },
  {
   "cell_type": "code",
   "execution_count": 84,
   "outputs": [
    {
     "data": {
      "text/plain": "  index  Coluna1  Coluna2\n0     a        0        4\n1     b        1        5\n2     c        2        6\n3     d        3        7",
      "text/html": "<div>\n<style scoped>\n    .dataframe tbody tr th:only-of-type {\n        vertical-align: middle;\n    }\n\n    .dataframe tbody tr th {\n        vertical-align: top;\n    }\n\n    .dataframe thead th {\n        text-align: right;\n    }\n</style>\n<table border=\"1\" class=\"dataframe\">\n  <thead>\n    <tr style=\"text-align: right;\">\n      <th></th>\n      <th>index</th>\n      <th>Coluna1</th>\n      <th>Coluna2</th>\n    </tr>\n  </thead>\n  <tbody>\n    <tr>\n      <th>0</th>\n      <td>a</td>\n      <td>0</td>\n      <td>4</td>\n    </tr>\n    <tr>\n      <th>1</th>\n      <td>b</td>\n      <td>1</td>\n      <td>5</td>\n    </tr>\n    <tr>\n      <th>2</th>\n      <td>c</td>\n      <td>2</td>\n      <td>6</td>\n    </tr>\n    <tr>\n      <th>3</th>\n      <td>d</td>\n      <td>3</td>\n      <td>7</td>\n    </tr>\n  </tbody>\n</table>\n</div>"
     },
     "execution_count": 84,
     "metadata": {},
     "output_type": "execute_result"
    }
   ],
   "source": [
    "df_dict.reset_index()"
   ],
   "metadata": {
    "collapsed": false,
    "ExecuteTime": {
     "end_time": "2023-07-25T18:53:51.661811500Z",
     "start_time": "2023-07-25T18:53:51.616181800Z"
    }
   }
  },
  {
   "cell_type": "code",
   "execution_count": 90,
   "outputs": [
    {
     "data": {
      "text/plain": "             Coluna1  Coluna2\nindice_novo                  \ne                  0        4\nf                  1        5\ng                  2        6\nh                  3        7",
      "text/html": "<div>\n<style scoped>\n    .dataframe tbody tr th:only-of-type {\n        vertical-align: middle;\n    }\n\n    .dataframe tbody tr th {\n        vertical-align: top;\n    }\n\n    .dataframe thead th {\n        text-align: right;\n    }\n</style>\n<table border=\"1\" class=\"dataframe\">\n  <thead>\n    <tr style=\"text-align: right;\">\n      <th></th>\n      <th>Coluna1</th>\n      <th>Coluna2</th>\n    </tr>\n    <tr>\n      <th>indice_novo</th>\n      <th></th>\n      <th></th>\n    </tr>\n  </thead>\n  <tbody>\n    <tr>\n      <th>e</th>\n      <td>0</td>\n      <td>4</td>\n    </tr>\n    <tr>\n      <th>f</th>\n      <td>1</td>\n      <td>5</td>\n    </tr>\n    <tr>\n      <th>g</th>\n      <td>2</td>\n      <td>6</td>\n    </tr>\n    <tr>\n      <th>h</th>\n      <td>3</td>\n      <td>7</td>\n    </tr>\n  </tbody>\n</table>\n</div>"
     },
     "execution_count": 90,
     "metadata": {},
     "output_type": "execute_result"
    }
   ],
   "source": [
    "index_novo = [\"e\", \"f\", \"g\", \"h\"]\n",
    "df_dict[\"indice_novo\"] = index_novo\n",
    "df_dict.set_index(\"indice_novo\")"
   ],
   "metadata": {
    "collapsed": false,
    "ExecuteTime": {
     "end_time": "2023-07-25T18:55:59.369267900Z",
     "start_time": "2023-07-25T18:55:59.343501600Z"
    }
   }
  },
  {
   "cell_type": "code",
   "execution_count": 89,
   "outputs": [
    {
     "data": {
      "text/plain": "   Coluna1  Coluna2 indice_novo\na        0        4           e\nb        1        5           f\nc        2        6           g\nd        3        7           h",
      "text/html": "<div>\n<style scoped>\n    .dataframe tbody tr th:only-of-type {\n        vertical-align: middle;\n    }\n\n    .dataframe tbody tr th {\n        vertical-align: top;\n    }\n\n    .dataframe thead th {\n        text-align: right;\n    }\n</style>\n<table border=\"1\" class=\"dataframe\">\n  <thead>\n    <tr style=\"text-align: right;\">\n      <th></th>\n      <th>Coluna1</th>\n      <th>Coluna2</th>\n      <th>indice_novo</th>\n    </tr>\n  </thead>\n  <tbody>\n    <tr>\n      <th>a</th>\n      <td>0</td>\n      <td>4</td>\n      <td>e</td>\n    </tr>\n    <tr>\n      <th>b</th>\n      <td>1</td>\n      <td>5</td>\n      <td>f</td>\n    </tr>\n    <tr>\n      <th>c</th>\n      <td>2</td>\n      <td>6</td>\n      <td>g</td>\n    </tr>\n    <tr>\n      <th>d</th>\n      <td>3</td>\n      <td>7</td>\n      <td>h</td>\n    </tr>\n  </tbody>\n</table>\n</div>"
     },
     "execution_count": 89,
     "metadata": {},
     "output_type": "execute_result"
    }
   ],
   "source": [
    "df_dict"
   ],
   "metadata": {
    "collapsed": false,
    "ExecuteTime": {
     "end_time": "2023-07-25T18:55:37.414417300Z",
     "start_time": "2023-07-25T18:55:37.380842300Z"
    }
   }
  },
  {
   "cell_type": "markdown",
   "source": [
    "## Tratando dados Nulos"
   ],
   "metadata": {
    "collapsed": false
   }
  },
  {
   "cell_type": "code",
   "execution_count": 91,
   "outputs": [
    {
     "data": {
      "text/plain": "                  Mundiais  Libertadores  Fundação\nCorinthians            2.0           1.0      1910\nPalmeiras              NaN           3.0      1914\nSantos                 2.0           3.0      1912\nSão Paulo              3.0           3.0      1930\nXV de Piracicaba       NaN           NaN      1913",
      "text/html": "<div>\n<style scoped>\n    .dataframe tbody tr th:only-of-type {\n        vertical-align: middle;\n    }\n\n    .dataframe tbody tr th {\n        vertical-align: top;\n    }\n\n    .dataframe thead th {\n        text-align: right;\n    }\n</style>\n<table border=\"1\" class=\"dataframe\">\n  <thead>\n    <tr style=\"text-align: right;\">\n      <th></th>\n      <th>Mundiais</th>\n      <th>Libertadores</th>\n      <th>Fundação</th>\n    </tr>\n  </thead>\n  <tbody>\n    <tr>\n      <th>Corinthians</th>\n      <td>2.0</td>\n      <td>1.0</td>\n      <td>1910</td>\n    </tr>\n    <tr>\n      <th>Palmeiras</th>\n      <td>NaN</td>\n      <td>3.0</td>\n      <td>1914</td>\n    </tr>\n    <tr>\n      <th>Santos</th>\n      <td>2.0</td>\n      <td>3.0</td>\n      <td>1912</td>\n    </tr>\n    <tr>\n      <th>São Paulo</th>\n      <td>3.0</td>\n      <td>3.0</td>\n      <td>1930</td>\n    </tr>\n    <tr>\n      <th>XV de Piracicaba</th>\n      <td>NaN</td>\n      <td>NaN</td>\n      <td>1913</td>\n    </tr>\n  </tbody>\n</table>\n</div>"
     },
     "execution_count": 91,
     "metadata": {},
     "output_type": "execute_result"
    }
   ],
   "source": [
    "df_campeonatos = pd.DataFrame(\n",
    "    {\n",
    "        \"Mundiais\": [2, np.nan, 2, 3, np.nan],\n",
    "        \"Libertadores\": [1, 3, 3, 3, np.nan],\n",
    "        \"Fundação\": [1910, 1914, 1912, 1930, 1913]\n",
    "    },\n",
    "    index=[\"Corinthians\", \"Palmeiras\", \"Santos\", \"São Paulo\", \"XV de Piracicaba\"]\n",
    ")\n",
    "\n",
    "df_campeonatos"
   ],
   "metadata": {
    "collapsed": false,
    "ExecuteTime": {
     "end_time": "2023-07-25T18:58:27.366268300Z",
     "start_time": "2023-07-25T18:58:27.333935500Z"
    }
   }
  },
  {
   "cell_type": "code",
   "execution_count": 93,
   "outputs": [
    {
     "data": {
      "text/plain": "             Mundiais  Libertadores  Fundação\nCorinthians       2.0           1.0      1910\nSantos            2.0           3.0      1912\nSão Paulo         3.0           3.0      1930",
      "text/html": "<div>\n<style scoped>\n    .dataframe tbody tr th:only-of-type {\n        vertical-align: middle;\n    }\n\n    .dataframe tbody tr th {\n        vertical-align: top;\n    }\n\n    .dataframe thead th {\n        text-align: right;\n    }\n</style>\n<table border=\"1\" class=\"dataframe\">\n  <thead>\n    <tr style=\"text-align: right;\">\n      <th></th>\n      <th>Mundiais</th>\n      <th>Libertadores</th>\n      <th>Fundação</th>\n    </tr>\n  </thead>\n  <tbody>\n    <tr>\n      <th>Corinthians</th>\n      <td>2.0</td>\n      <td>1.0</td>\n      <td>1910</td>\n    </tr>\n    <tr>\n      <th>Santos</th>\n      <td>2.0</td>\n      <td>3.0</td>\n      <td>1912</td>\n    </tr>\n    <tr>\n      <th>São Paulo</th>\n      <td>3.0</td>\n      <td>3.0</td>\n      <td>1930</td>\n    </tr>\n  </tbody>\n</table>\n</div>"
     },
     "execution_count": 93,
     "metadata": {},
     "output_type": "execute_result"
    }
   ],
   "source": [
    "df_campeonatos_novo = df_campeonatos.dropna()\n",
    "df_campeonatos_novo"
   ],
   "metadata": {
    "collapsed": false,
    "ExecuteTime": {
     "end_time": "2023-07-25T19:01:27.899391900Z",
     "start_time": "2023-07-25T19:01:27.869241200Z"
    }
   }
  },
  {
   "cell_type": "code",
   "execution_count": 98,
   "outputs": [
    {
     "data": {
      "text/plain": "             Mundiais  Libertadores  Fundação\nCorinthians       2.0           1.0      1910\nPalmeiras         NaN           3.0      1914\nSantos            2.0           3.0      1912\nSão Paulo         3.0           3.0      1930",
      "text/html": "<div>\n<style scoped>\n    .dataframe tbody tr th:only-of-type {\n        vertical-align: middle;\n    }\n\n    .dataframe tbody tr th {\n        vertical-align: top;\n    }\n\n    .dataframe thead th {\n        text-align: right;\n    }\n</style>\n<table border=\"1\" class=\"dataframe\">\n  <thead>\n    <tr style=\"text-align: right;\">\n      <th></th>\n      <th>Mundiais</th>\n      <th>Libertadores</th>\n      <th>Fundação</th>\n    </tr>\n  </thead>\n  <tbody>\n    <tr>\n      <th>Corinthians</th>\n      <td>2.0</td>\n      <td>1.0</td>\n      <td>1910</td>\n    </tr>\n    <tr>\n      <th>Palmeiras</th>\n      <td>NaN</td>\n      <td>3.0</td>\n      <td>1914</td>\n    </tr>\n    <tr>\n      <th>Santos</th>\n      <td>2.0</td>\n      <td>3.0</td>\n      <td>1912</td>\n    </tr>\n    <tr>\n      <th>São Paulo</th>\n      <td>3.0</td>\n      <td>3.0</td>\n      <td>1930</td>\n    </tr>\n  </tbody>\n</table>\n</div>"
     },
     "execution_count": 98,
     "metadata": {},
     "output_type": "execute_result"
    }
   ],
   "source": [
    "df_campeonatos.dropna(thresh=2)"
   ],
   "metadata": {
    "collapsed": false,
    "ExecuteTime": {
     "end_time": "2023-07-25T19:02:20.884067800Z",
     "start_time": "2023-07-25T19:02:20.859677900Z"
    }
   }
  },
  {
   "cell_type": "code",
   "execution_count": 102,
   "outputs": [
    {
     "data": {
      "text/plain": "                  Mundiais  Libertadores  Fundação\nCorinthians            2.0           1.0      1910\nPalmeiras              0.0           3.0      1914\nSantos                 2.0           3.0      1912\nSão Paulo              3.0           3.0      1930\nXV de Piracicaba       0.0           0.0      1913",
      "text/html": "<div>\n<style scoped>\n    .dataframe tbody tr th:only-of-type {\n        vertical-align: middle;\n    }\n\n    .dataframe tbody tr th {\n        vertical-align: top;\n    }\n\n    .dataframe thead th {\n        text-align: right;\n    }\n</style>\n<table border=\"1\" class=\"dataframe\">\n  <thead>\n    <tr style=\"text-align: right;\">\n      <th></th>\n      <th>Mundiais</th>\n      <th>Libertadores</th>\n      <th>Fundação</th>\n    </tr>\n  </thead>\n  <tbody>\n    <tr>\n      <th>Corinthians</th>\n      <td>2.0</td>\n      <td>1.0</td>\n      <td>1910</td>\n    </tr>\n    <tr>\n      <th>Palmeiras</th>\n      <td>0.0</td>\n      <td>3.0</td>\n      <td>1914</td>\n    </tr>\n    <tr>\n      <th>Santos</th>\n      <td>2.0</td>\n      <td>3.0</td>\n      <td>1912</td>\n    </tr>\n    <tr>\n      <th>São Paulo</th>\n      <td>3.0</td>\n      <td>3.0</td>\n      <td>1930</td>\n    </tr>\n    <tr>\n      <th>XV de Piracicaba</th>\n      <td>0.0</td>\n      <td>0.0</td>\n      <td>1913</td>\n    </tr>\n  </tbody>\n</table>\n</div>"
     },
     "execution_count": 102,
     "metadata": {},
     "output_type": "execute_result"
    }
   ],
   "source": [
    "df_campeonatos_novo = df_campeonatos.fillna(0)\n",
    "df_campeonatos_novo"
   ],
   "metadata": {
    "collapsed": false,
    "ExecuteTime": {
     "end_time": "2023-07-25T19:03:11.320007700Z",
     "start_time": "2023-07-25T19:03:11.283543Z"
    }
   }
  },
  {
   "cell_type": "code",
   "execution_count": 103,
   "outputs": [
    {
     "data": {
      "text/plain": "                  Mundiais  Libertadores  Fundação\nCorinthians            2.0           1.0      1910\nPalmeiras              NaN           3.0      1914\nSantos                 2.0           3.0      1912\nSão Paulo              3.0           3.0      1930\nXV de Piracicaba       NaN           2.5      1913",
      "text/html": "<div>\n<style scoped>\n    .dataframe tbody tr th:only-of-type {\n        vertical-align: middle;\n    }\n\n    .dataframe tbody tr th {\n        vertical-align: top;\n    }\n\n    .dataframe thead th {\n        text-align: right;\n    }\n</style>\n<table border=\"1\" class=\"dataframe\">\n  <thead>\n    <tr style=\"text-align: right;\">\n      <th></th>\n      <th>Mundiais</th>\n      <th>Libertadores</th>\n      <th>Fundação</th>\n    </tr>\n  </thead>\n  <tbody>\n    <tr>\n      <th>Corinthians</th>\n      <td>2.0</td>\n      <td>1.0</td>\n      <td>1910</td>\n    </tr>\n    <tr>\n      <th>Palmeiras</th>\n      <td>NaN</td>\n      <td>3.0</td>\n      <td>1914</td>\n    </tr>\n    <tr>\n      <th>Santos</th>\n      <td>2.0</td>\n      <td>3.0</td>\n      <td>1912</td>\n    </tr>\n    <tr>\n      <th>São Paulo</th>\n      <td>3.0</td>\n      <td>3.0</td>\n      <td>1930</td>\n    </tr>\n    <tr>\n      <th>XV de Piracicaba</th>\n      <td>NaN</td>\n      <td>2.5</td>\n      <td>1913</td>\n    </tr>\n  </tbody>\n</table>\n</div>"
     },
     "execution_count": 103,
     "metadata": {},
     "output_type": "execute_result"
    }
   ],
   "source": [
    "df_campeonatos[\"Libertadores\"] = df_campeonatos[\"Libertadores\"].fillna(df_campeonatos[\"Libertadores\"].mean())\n",
    "df_campeonatos"
   ],
   "metadata": {
    "collapsed": false,
    "ExecuteTime": {
     "end_time": "2023-07-25T19:03:48.460576900Z",
     "start_time": "2023-07-25T19:03:48.427815100Z"
    }
   }
  },
  {
   "cell_type": "code",
   "execution_count": 105,
   "outputs": [
    {
     "data": {
      "text/plain": "              Times  Mundiais  Libertadores  Fundação\n0       Corinthians       2.0           1.0      1910\n1         Palmeiras       NaN           3.0      1914\n2            Santos       2.0           3.0      1912\n3         São Paulo       3.0           3.0      1930\n4  XV de Piracicaba       NaN           2.5      1913",
      "text/html": "<div>\n<style scoped>\n    .dataframe tbody tr th:only-of-type {\n        vertical-align: middle;\n    }\n\n    .dataframe tbody tr th {\n        vertical-align: top;\n    }\n\n    .dataframe thead th {\n        text-align: right;\n    }\n</style>\n<table border=\"1\" class=\"dataframe\">\n  <thead>\n    <tr style=\"text-align: right;\">\n      <th></th>\n      <th>Times</th>\n      <th>Mundiais</th>\n      <th>Libertadores</th>\n      <th>Fundação</th>\n    </tr>\n  </thead>\n  <tbody>\n    <tr>\n      <th>0</th>\n      <td>Corinthians</td>\n      <td>2.0</td>\n      <td>1.0</td>\n      <td>1910</td>\n    </tr>\n    <tr>\n      <th>1</th>\n      <td>Palmeiras</td>\n      <td>NaN</td>\n      <td>3.0</td>\n      <td>1914</td>\n    </tr>\n    <tr>\n      <th>2</th>\n      <td>Santos</td>\n      <td>2.0</td>\n      <td>3.0</td>\n      <td>1912</td>\n    </tr>\n    <tr>\n      <th>3</th>\n      <td>São Paulo</td>\n      <td>3.0</td>\n      <td>3.0</td>\n      <td>1930</td>\n    </tr>\n    <tr>\n      <th>4</th>\n      <td>XV de Piracicaba</td>\n      <td>NaN</td>\n      <td>2.5</td>\n      <td>1913</td>\n    </tr>\n  </tbody>\n</table>\n</div>"
     },
     "execution_count": 105,
     "metadata": {},
     "output_type": "execute_result"
    }
   ],
   "source": [
    "df_campeonatos.reset_index().rename(columns={\"index\": \"Times\"})"
   ],
   "metadata": {
    "collapsed": false,
    "ExecuteTime": {
     "end_time": "2023-07-25T19:04:36.135220100Z",
     "start_time": "2023-07-25T19:04:36.105152900Z"
    }
   }
  }
 ],
 "metadata": {
  "kernelspec": {
   "display_name": "Python 3",
   "language": "python",
   "name": "python3"
  },
  "language_info": {
   "codemirror_mode": {
    "name": "ipython",
    "version": 2
   },
   "file_extension": ".py",
   "mimetype": "text/x-python",
   "name": "python",
   "nbconvert_exporter": "python",
   "pygments_lexer": "ipython2",
   "version": "2.7.6"
  }
 },
 "nbformat": 4,
 "nbformat_minor": 0
}
