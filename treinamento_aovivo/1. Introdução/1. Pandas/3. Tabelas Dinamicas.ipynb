{
 "cells": [
  {
   "cell_type": "code",
   "execution_count": 1,
   "metadata": {
    "collapsed": true,
    "ExecuteTime": {
     "end_time": "2023-07-25T19:25:49.855348800Z",
     "start_time": "2023-07-25T19:25:49.380635700Z"
    }
   },
   "outputs": [],
   "source": [
    "import pandas as pd"
   ]
  },
  {
   "cell_type": "code",
   "execution_count": 2,
   "outputs": [
    {
     "data": {
      "text/plain": "         date home_team away_team  home_score  away_score tournament     city  \\\n0  1872-11-30  Scotland   England           0           0   Friendly  Glasgow   \n1  1873-03-08   England  Scotland           4           2   Friendly   London   \n2  1874-03-07  Scotland   England           2           1   Friendly  Glasgow   \n3  1875-03-06   England  Scotland           2           2   Friendly   London   \n4  1876-03-04  Scotland   England           3           0   Friendly  Glasgow   \n\n    country  neutral  \n0  Scotland    False  \n1   England    False  \n2  Scotland    False  \n3   England    False  \n4  Scotland    False  ",
      "text/html": "<div>\n<style scoped>\n    .dataframe tbody tr th:only-of-type {\n        vertical-align: middle;\n    }\n\n    .dataframe tbody tr th {\n        vertical-align: top;\n    }\n\n    .dataframe thead th {\n        text-align: right;\n    }\n</style>\n<table border=\"1\" class=\"dataframe\">\n  <thead>\n    <tr style=\"text-align: right;\">\n      <th></th>\n      <th>date</th>\n      <th>home_team</th>\n      <th>away_team</th>\n      <th>home_score</th>\n      <th>away_score</th>\n      <th>tournament</th>\n      <th>city</th>\n      <th>country</th>\n      <th>neutral</th>\n    </tr>\n  </thead>\n  <tbody>\n    <tr>\n      <th>0</th>\n      <td>1872-11-30</td>\n      <td>Scotland</td>\n      <td>England</td>\n      <td>0</td>\n      <td>0</td>\n      <td>Friendly</td>\n      <td>Glasgow</td>\n      <td>Scotland</td>\n      <td>False</td>\n    </tr>\n    <tr>\n      <th>1</th>\n      <td>1873-03-08</td>\n      <td>England</td>\n      <td>Scotland</td>\n      <td>4</td>\n      <td>2</td>\n      <td>Friendly</td>\n      <td>London</td>\n      <td>England</td>\n      <td>False</td>\n    </tr>\n    <tr>\n      <th>2</th>\n      <td>1874-03-07</td>\n      <td>Scotland</td>\n      <td>England</td>\n      <td>2</td>\n      <td>1</td>\n      <td>Friendly</td>\n      <td>Glasgow</td>\n      <td>Scotland</td>\n      <td>False</td>\n    </tr>\n    <tr>\n      <th>3</th>\n      <td>1875-03-06</td>\n      <td>England</td>\n      <td>Scotland</td>\n      <td>2</td>\n      <td>2</td>\n      <td>Friendly</td>\n      <td>London</td>\n      <td>England</td>\n      <td>False</td>\n    </tr>\n    <tr>\n      <th>4</th>\n      <td>1876-03-04</td>\n      <td>Scotland</td>\n      <td>England</td>\n      <td>3</td>\n      <td>0</td>\n      <td>Friendly</td>\n      <td>Glasgow</td>\n      <td>Scotland</td>\n      <td>False</td>\n    </tr>\n  </tbody>\n</table>\n</div>"
     },
     "execution_count": 2,
     "metadata": {},
     "output_type": "execute_result"
    }
   ],
   "source": [
    "path_copa = \"../../../Notebooks/dados/Copa/results.csv\"\n",
    "\n",
    "df_copa = pd.read_csv(path_copa)\n",
    "\n",
    "df_copa.head()"
   ],
   "metadata": {
    "collapsed": false,
    "ExecuteTime": {
     "end_time": "2023-07-25T19:25:49.938805400Z",
     "start_time": "2023-07-25T19:25:49.856348Z"
    }
   }
  },
  {
   "cell_type": "code",
   "execution_count": 5,
   "outputs": [
    {
     "data": {
      "text/plain": "           home_score\nhome_team            \nBrazil           1476\nGermany          1308\nArgentina        1274\nEngland          1214\nSweden           1178",
      "text/html": "<div>\n<style scoped>\n    .dataframe tbody tr th:only-of-type {\n        vertical-align: middle;\n    }\n\n    .dataframe tbody tr th {\n        vertical-align: top;\n    }\n\n    .dataframe thead th {\n        text-align: right;\n    }\n</style>\n<table border=\"1\" class=\"dataframe\">\n  <thead>\n    <tr style=\"text-align: right;\">\n      <th></th>\n      <th>home_score</th>\n    </tr>\n    <tr>\n      <th>home_team</th>\n      <th></th>\n    </tr>\n  </thead>\n  <tbody>\n    <tr>\n      <th>Brazil</th>\n      <td>1476</td>\n    </tr>\n    <tr>\n      <th>Germany</th>\n      <td>1308</td>\n    </tr>\n    <tr>\n      <th>Argentina</th>\n      <td>1274</td>\n    </tr>\n    <tr>\n      <th>England</th>\n      <td>1214</td>\n    </tr>\n    <tr>\n      <th>Sweden</th>\n      <td>1178</td>\n    </tr>\n  </tbody>\n</table>\n</div>"
     },
     "execution_count": 5,
     "metadata": {},
     "output_type": "execute_result"
    }
   ],
   "source": [
    "df_copa.pivot_table(\n",
    "    index = \"home_team\",\n",
    "    columns = None,\n",
    "    values = \"home_score\",\n",
    "    aggfunc = \"sum\"\n",
    ").sort_values(\"home_score\", ascending=False).head()"
   ],
   "metadata": {
    "collapsed": false,
    "ExecuteTime": {
     "end_time": "2023-07-25T19:29:10.975742700Z",
     "start_time": "2023-07-25T19:29:10.931378200Z"
    }
   }
  },
  {
   "cell_type": "code",
   "execution_count": 28,
   "outputs": [
    {
     "data": {
      "text/plain": "           away_score  home_score\nhome_team                        \nArgentina    1.115942    1.608696\nBrazil       1.169014    2.098592\nItaly        0.982143    1.446429\nSpain        0.736842    1.631579\nSweden       1.375000    1.375000",
      "text/html": "<div>\n<style scoped>\n    .dataframe tbody tr th:only-of-type {\n        vertical-align: middle;\n    }\n\n    .dataframe tbody tr th {\n        vertical-align: top;\n    }\n\n    .dataframe thead th {\n        text-align: right;\n    }\n</style>\n<table border=\"1\" class=\"dataframe\">\n  <thead>\n    <tr style=\"text-align: right;\">\n      <th></th>\n      <th>away_score</th>\n      <th>home_score</th>\n    </tr>\n    <tr>\n      <th>home_team</th>\n      <th></th>\n      <th></th>\n    </tr>\n  </thead>\n  <tbody>\n    <tr>\n      <th>Argentina</th>\n      <td>1.115942</td>\n      <td>1.608696</td>\n    </tr>\n    <tr>\n      <th>Brazil</th>\n      <td>1.169014</td>\n      <td>2.098592</td>\n    </tr>\n    <tr>\n      <th>Italy</th>\n      <td>0.982143</td>\n      <td>1.446429</td>\n    </tr>\n    <tr>\n      <th>Spain</th>\n      <td>0.736842</td>\n      <td>1.631579</td>\n    </tr>\n    <tr>\n      <th>Sweden</th>\n      <td>1.375000</td>\n      <td>1.375000</td>\n    </tr>\n  </tbody>\n</table>\n</div>"
     },
     "execution_count": 28,
     "metadata": {},
     "output_type": "execute_result"
    }
   ],
   "source": [
    "lista_paises = [\"Brazil\", \"Sweden\", \"Spain\", \"Argentina\", \"Italy\"]\n",
    "\n",
    "df_copa_aux = df_copa.copy()\n",
    "df_copa_aux = df_copa_aux[(df_copa_aux[\"home_team\"].isin(lista_paises)) & (df_copa_aux[\"away_team\"].isin(lista_paises))]\n",
    "\n",
    "df_copa_aux.pivot_table(\n",
    "    index=\"home_team\",\n",
    "    # columns=\"away_team\",\n",
    "    aggfunc=\"mean\",\n",
    "    values=[\"home_score\", \"away_score\"]\n",
    ")"
   ],
   "metadata": {
    "collapsed": false,
    "ExecuteTime": {
     "end_time": "2023-07-25T19:45:40.721086Z",
     "start_time": "2023-07-25T19:45:40.668192100Z"
    }
   }
  },
  {
   "cell_type": "code",
   "execution_count": 25,
   "outputs": [
    {
     "data": {
      "text/plain": "           date  home_team  away_team  home_score  away_score    tournament  \\\n410  1914-09-20  Argentina     Brazil           3           0      Friendly   \n411  1914-09-27  Argentina     Brazil           0           1     Copa Roca   \n442  1916-07-10  Argentina     Brazil           1           1  Copa América   \n472  1917-10-03  Argentina     Brazil           4           2  Copa América   \n508  1919-05-18     Brazil  Argentina           3           1  Copa América   \n\n               city    country  neutral  \n410    Buenos Aires  Argentina    False  \n411    Buenos Aires  Argentina    False  \n442    Buenos Aires  Argentina    False  \n472      Montevideo    Uruguay     True  \n508  Rio de Janeiro     Brazil    False  ",
      "text/html": "<div>\n<style scoped>\n    .dataframe tbody tr th:only-of-type {\n        vertical-align: middle;\n    }\n\n    .dataframe tbody tr th {\n        vertical-align: top;\n    }\n\n    .dataframe thead th {\n        text-align: right;\n    }\n</style>\n<table border=\"1\" class=\"dataframe\">\n  <thead>\n    <tr style=\"text-align: right;\">\n      <th></th>\n      <th>date</th>\n      <th>home_team</th>\n      <th>away_team</th>\n      <th>home_score</th>\n      <th>away_score</th>\n      <th>tournament</th>\n      <th>city</th>\n      <th>country</th>\n      <th>neutral</th>\n    </tr>\n  </thead>\n  <tbody>\n    <tr>\n      <th>410</th>\n      <td>1914-09-20</td>\n      <td>Argentina</td>\n      <td>Brazil</td>\n      <td>3</td>\n      <td>0</td>\n      <td>Friendly</td>\n      <td>Buenos Aires</td>\n      <td>Argentina</td>\n      <td>False</td>\n    </tr>\n    <tr>\n      <th>411</th>\n      <td>1914-09-27</td>\n      <td>Argentina</td>\n      <td>Brazil</td>\n      <td>0</td>\n      <td>1</td>\n      <td>Copa Roca</td>\n      <td>Buenos Aires</td>\n      <td>Argentina</td>\n      <td>False</td>\n    </tr>\n    <tr>\n      <th>442</th>\n      <td>1916-07-10</td>\n      <td>Argentina</td>\n      <td>Brazil</td>\n      <td>1</td>\n      <td>1</td>\n      <td>Copa América</td>\n      <td>Buenos Aires</td>\n      <td>Argentina</td>\n      <td>False</td>\n    </tr>\n    <tr>\n      <th>472</th>\n      <td>1917-10-03</td>\n      <td>Argentina</td>\n      <td>Brazil</td>\n      <td>4</td>\n      <td>2</td>\n      <td>Copa América</td>\n      <td>Montevideo</td>\n      <td>Uruguay</td>\n      <td>True</td>\n    </tr>\n    <tr>\n      <th>508</th>\n      <td>1919-05-18</td>\n      <td>Brazil</td>\n      <td>Argentina</td>\n      <td>3</td>\n      <td>1</td>\n      <td>Copa América</td>\n      <td>Rio de Janeiro</td>\n      <td>Brazil</td>\n      <td>False</td>\n    </tr>\n  </tbody>\n</table>\n</div>"
     },
     "execution_count": 25,
     "metadata": {},
     "output_type": "execute_result"
    }
   ],
   "source": [
    "df_copa_aux.head()"
   ],
   "metadata": {
    "collapsed": false,
    "ExecuteTime": {
     "end_time": "2023-07-25T19:43:38.215060100Z",
     "start_time": "2023-07-25T19:43:38.170834500Z"
    }
   }
  },
  {
   "cell_type": "code",
   "execution_count": 24,
   "outputs": [
    {
     "name": "stderr",
     "output_type": "stream",
     "text": [
      "C:\\Users\\rickk\\AppData\\Local\\Temp\\ipykernel_14632\\1111651168.py:1: FutureWarning: pivot_table dropped a column because it failed to aggregate. This behavior is deprecated and will raise in a future version of pandas. Select only the columns that can be aggregated.\n",
      "  df_copa_aux.pivot_table(index=\"home_team\")\n"
     ]
    },
    {
     "data": {
      "text/plain": "           away_score  home_score   neutral\nhome_team                                  \nArgentina    1.115942    1.608696  0.391304\nBrazil       1.169014    2.098592  0.338028\nItaly        0.982143    1.446429  0.303571\nSpain        0.736842    1.631579  0.210526\nSweden       1.375000    1.375000  0.125000",
      "text/html": "<div>\n<style scoped>\n    .dataframe tbody tr th:only-of-type {\n        vertical-align: middle;\n    }\n\n    .dataframe tbody tr th {\n        vertical-align: top;\n    }\n\n    .dataframe thead th {\n        text-align: right;\n    }\n</style>\n<table border=\"1\" class=\"dataframe\">\n  <thead>\n    <tr style=\"text-align: right;\">\n      <th></th>\n      <th>away_score</th>\n      <th>home_score</th>\n      <th>neutral</th>\n    </tr>\n    <tr>\n      <th>home_team</th>\n      <th></th>\n      <th></th>\n      <th></th>\n    </tr>\n  </thead>\n  <tbody>\n    <tr>\n      <th>Argentina</th>\n      <td>1.115942</td>\n      <td>1.608696</td>\n      <td>0.391304</td>\n    </tr>\n    <tr>\n      <th>Brazil</th>\n      <td>1.169014</td>\n      <td>2.098592</td>\n      <td>0.338028</td>\n    </tr>\n    <tr>\n      <th>Italy</th>\n      <td>0.982143</td>\n      <td>1.446429</td>\n      <td>0.303571</td>\n    </tr>\n    <tr>\n      <th>Spain</th>\n      <td>0.736842</td>\n      <td>1.631579</td>\n      <td>0.210526</td>\n    </tr>\n    <tr>\n      <th>Sweden</th>\n      <td>1.375000</td>\n      <td>1.375000</td>\n      <td>0.125000</td>\n    </tr>\n  </tbody>\n</table>\n</div>"
     },
     "execution_count": 24,
     "metadata": {},
     "output_type": "execute_result"
    }
   ],
   "source": [
    "df_copa_aux.pivot_table(index=\"home_team\")"
   ],
   "metadata": {
    "collapsed": false,
    "ExecuteTime": {
     "end_time": "2023-07-25T19:43:16.118913100Z",
     "start_time": "2023-07-25T19:43:16.078648700Z"
    }
   }
  },
  {
   "cell_type": "code",
   "execution_count": 26,
   "outputs": [
    {
     "name": "stderr",
     "output_type": "stream",
     "text": [
      "C:\\Users\\rickk\\AppData\\Local\\Temp\\ipykernel_14632\\936527388.py:1: FutureWarning: The default value of numeric_only in DataFrameGroupBy.mean is deprecated. In a future version, numeric_only will default to False. Either specify numeric_only or select only columns which should be valid for the function.\n",
      "  df_copa_aux.groupby(\"home_team\").mean()\n"
     ]
    },
    {
     "data": {
      "text/plain": "           home_score  away_score   neutral\nhome_team                                  \nArgentina    1.608696    1.115942  0.391304\nBrazil       2.098592    1.169014  0.338028\nItaly        1.446429    0.982143  0.303571\nSpain        1.631579    0.736842  0.210526\nSweden       1.375000    1.375000  0.125000",
      "text/html": "<div>\n<style scoped>\n    .dataframe tbody tr th:only-of-type {\n        vertical-align: middle;\n    }\n\n    .dataframe tbody tr th {\n        vertical-align: top;\n    }\n\n    .dataframe thead th {\n        text-align: right;\n    }\n</style>\n<table border=\"1\" class=\"dataframe\">\n  <thead>\n    <tr style=\"text-align: right;\">\n      <th></th>\n      <th>home_score</th>\n      <th>away_score</th>\n      <th>neutral</th>\n    </tr>\n    <tr>\n      <th>home_team</th>\n      <th></th>\n      <th></th>\n      <th></th>\n    </tr>\n  </thead>\n  <tbody>\n    <tr>\n      <th>Argentina</th>\n      <td>1.608696</td>\n      <td>1.115942</td>\n      <td>0.391304</td>\n    </tr>\n    <tr>\n      <th>Brazil</th>\n      <td>2.098592</td>\n      <td>1.169014</td>\n      <td>0.338028</td>\n    </tr>\n    <tr>\n      <th>Italy</th>\n      <td>1.446429</td>\n      <td>0.982143</td>\n      <td>0.303571</td>\n    </tr>\n    <tr>\n      <th>Spain</th>\n      <td>1.631579</td>\n      <td>0.736842</td>\n      <td>0.210526</td>\n    </tr>\n    <tr>\n      <th>Sweden</th>\n      <td>1.375000</td>\n      <td>1.375000</td>\n      <td>0.125000</td>\n    </tr>\n  </tbody>\n</table>\n</div>"
     },
     "execution_count": 26,
     "metadata": {},
     "output_type": "execute_result"
    }
   ],
   "source": [
    "df_copa_aux.groupby(\"home_team\").mean()"
   ],
   "metadata": {
    "collapsed": false,
    "ExecuteTime": {
     "end_time": "2023-07-25T19:45:15.835499300Z",
     "start_time": "2023-07-25T19:45:15.791317900Z"
    }
   }
  }
 ],
 "metadata": {
  "kernelspec": {
   "display_name": "Python 3",
   "language": "python",
   "name": "python3"
  },
  "language_info": {
   "codemirror_mode": {
    "name": "ipython",
    "version": 2
   },
   "file_extension": ".py",
   "mimetype": "text/x-python",
   "name": "python",
   "nbconvert_exporter": "python",
   "pygments_lexer": "ipython2",
   "version": "2.7.6"
  }
 },
 "nbformat": 4,
 "nbformat_minor": 0
}
