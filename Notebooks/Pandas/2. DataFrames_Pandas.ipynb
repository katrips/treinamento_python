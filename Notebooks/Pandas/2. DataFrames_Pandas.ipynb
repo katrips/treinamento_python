{
 "cells": [
  {
   "cell_type": "markdown",
   "source": [
    "# 2. DataFrames"
   ],
   "metadata": {
    "collapsed": false
   }
  },
  {
   "cell_type": "markdown",
   "source": [
    "DataFrames formam a base do pandas, são diretamente inspirados no R e baseados no pacote NumPy (Caso tenham interesse posso depois fazer um tutorial básico de NumPy). Um DataFrame pode ser considerado como diversas séries"
   ],
   "metadata": {
    "collapsed": false
   }
  },
  {
   "cell_type": "code",
   "execution_count": 54,
   "outputs": [],
   "source": [
    "import pandas as pd\n",
    "import numpy as np"
   ],
   "metadata": {
    "collapsed": false,
    "ExecuteTime": {
     "end_time": "2023-07-21T14:17:12.572375100Z",
     "start_time": "2023-07-21T14:17:12.551361500Z"
    }
   }
  },
  {
   "cell_type": "code",
   "execution_count": 55,
   "outputs": [],
   "source": [
    "from numpy.random import randn\n",
    "np.random.seed(101)"
   ],
   "metadata": {
    "collapsed": false,
    "ExecuteTime": {
     "end_time": "2023-07-21T14:17:12.795988900Z",
     "start_time": "2023-07-21T14:17:12.767186300Z"
    }
   }
  },
  {
   "cell_type": "markdown",
   "source": [
    "## 2.1 Criação de DataFrames"
   ],
   "metadata": {
    "collapsed": false
   }
  },
  {
   "cell_type": "markdown",
   "source": [
    "### Via Python\n",
    "\n",
    "Os DataFrames podem ser criados pelo python ou importados a partir de um arquivo/base de dados externa, algumas das opções de gerar um DataFrame pelo python são mostradas abaixo:\n",
    "\n",
    "- A partir de Dicionários\n",
    "- Matriz do NumPy e nomes de indices e colunas\n",
    "- Criação a partir de um DataFrame vazio (será mostrado nas próximas seções)"
   ],
   "metadata": {
    "collapsed": false
   }
  },
  {
   "cell_type": "code",
   "execution_count": 56,
   "outputs": [
    {
     "data": {
      "text/plain": "              Coluna1   Coluna2\nCorinthians  2.706850  0.651118\nPalmeiras    0.628133 -0.319318\nSantos       0.907969 -0.848077\nSão Paulo    0.503826  0.605965",
      "text/html": "<div>\n<style scoped>\n    .dataframe tbody tr th:only-of-type {\n        vertical-align: middle;\n    }\n\n    .dataframe tbody tr th {\n        vertical-align: top;\n    }\n\n    .dataframe thead th {\n        text-align: right;\n    }\n</style>\n<table border=\"1\" class=\"dataframe\">\n  <thead>\n    <tr style=\"text-align: right;\">\n      <th></th>\n      <th>Coluna1</th>\n      <th>Coluna2</th>\n    </tr>\n  </thead>\n  <tbody>\n    <tr>\n      <th>Corinthians</th>\n      <td>2.706850</td>\n      <td>0.651118</td>\n    </tr>\n    <tr>\n      <th>Palmeiras</th>\n      <td>0.628133</td>\n      <td>-0.319318</td>\n    </tr>\n    <tr>\n      <th>Santos</th>\n      <td>0.907969</td>\n      <td>-0.848077</td>\n    </tr>\n    <tr>\n      <th>São Paulo</th>\n      <td>0.503826</td>\n      <td>0.605965</td>\n    </tr>\n  </tbody>\n</table>\n</div>"
     },
     "execution_count": 56,
     "metadata": {},
     "output_type": "execute_result"
    }
   ],
   "source": [
    "# Criação de colunas com dicionário, as chaves do dicionário serão os nomes das colunas e os valores em formato de lista serão os valores de cada coluna\n",
    "df_dict = pd.DataFrame(\n",
    "    data = {\n",
    "        \"Coluna1\": [randn(1)[0], randn(1)[0], randn(1)[0], randn(1)[0]],\n",
    "        \"Coluna2\": [randn(1)[0], randn(1)[0], randn(1)[0], randn(1)[0]]\n",
    "    },\n",
    "    index = [\"Corinthians\", \"Palmeiras\", \"Santos\", \"São Paulo\"] # Definição de Index\n",
    ")\n",
    "\n",
    "# Criação a partir de matriz\n",
    "df_numpy = pd.DataFrame(\n",
    "    randn(5, 4), # Matriz de dados\n",
    "    index = [\"A\", \"B\", \"C\", \"D\", \"E\"], # Definição dos index - Opcional\n",
    "    columns = [\"W\", \"X\", \"Y\", \"Z\"] # Nome de colunas\n",
    ")\n",
    "\n",
    "df_dict"
   ],
   "metadata": {
    "collapsed": false,
    "ExecuteTime": {
     "end_time": "2023-07-21T14:17:13.380889600Z",
     "start_time": "2023-07-21T14:17:13.346986700Z"
    }
   }
  },
  {
   "cell_type": "code",
   "execution_count": 57,
   "outputs": [
    {
     "data": {
      "text/plain": "          W         X         Y         Z\nA -2.018168  0.740122  0.528813 -0.589001\nB  0.188695 -0.758872 -0.933237  0.955057\nC  0.190794  1.978757  2.605967  0.683509\nD  0.302665  1.693723 -1.706086 -1.159119\nE -0.134841  0.390528  0.166905  0.184502",
      "text/html": "<div>\n<style scoped>\n    .dataframe tbody tr th:only-of-type {\n        vertical-align: middle;\n    }\n\n    .dataframe tbody tr th {\n        vertical-align: top;\n    }\n\n    .dataframe thead th {\n        text-align: right;\n    }\n</style>\n<table border=\"1\" class=\"dataframe\">\n  <thead>\n    <tr style=\"text-align: right;\">\n      <th></th>\n      <th>W</th>\n      <th>X</th>\n      <th>Y</th>\n      <th>Z</th>\n    </tr>\n  </thead>\n  <tbody>\n    <tr>\n      <th>A</th>\n      <td>-2.018168</td>\n      <td>0.740122</td>\n      <td>0.528813</td>\n      <td>-0.589001</td>\n    </tr>\n    <tr>\n      <th>B</th>\n      <td>0.188695</td>\n      <td>-0.758872</td>\n      <td>-0.933237</td>\n      <td>0.955057</td>\n    </tr>\n    <tr>\n      <th>C</th>\n      <td>0.190794</td>\n      <td>1.978757</td>\n      <td>2.605967</td>\n      <td>0.683509</td>\n    </tr>\n    <tr>\n      <th>D</th>\n      <td>0.302665</td>\n      <td>1.693723</td>\n      <td>-1.706086</td>\n      <td>-1.159119</td>\n    </tr>\n    <tr>\n      <th>E</th>\n      <td>-0.134841</td>\n      <td>0.390528</td>\n      <td>0.166905</td>\n      <td>0.184502</td>\n    </tr>\n  </tbody>\n</table>\n</div>"
     },
     "execution_count": 57,
     "metadata": {},
     "output_type": "execute_result"
    }
   ],
   "source": [
    "df_numpy # Df criado a partir de matriz do numpy"
   ],
   "metadata": {
    "collapsed": false,
    "ExecuteTime": {
     "end_time": "2023-07-21T14:17:13.624867800Z",
     "start_time": "2023-07-21T14:17:13.559994900Z"
    }
   }
  },
  {
   "cell_type": "markdown",
   "source": [
    "### Importar arquivos\n",
    "\n",
    "A importação de arquivos externos são feitas com as funções do tipo pd.read_XYZ(path):\n",
    "- Com XYZ sendo <em>normalmente</em> o tipo de arquivo;\n",
    "- e path sendo o caminho do arquivo, podendo ser em string ou formato de path (que não recomendo com exceção de que o fundamento da análise exija algum loop ou função, mas msm assim o caminho por string demonstra-se utilizável;\n",
    "- o path pode ser inclusíve uma url com o arquivo em questão;\n",
    "\n",
    "Exemplos de importações de arquivos\n",
    "- **csv** - **pd.read_csv(path)** - Recomendado para arquivos \"pesados\" armazenados localmente;\n",
    "- **xlsx/excel** - **pd.read_excel(path)** - Ler arquivos do excel;\n",
    "- **json** - **pd.read_json(path)** - Pode ser uma forma de dados que você encontre, bastante utilizada na internet, principalmente em APIs;\n",
    "- **html** - **pd.read_html(path)** - Obtem tabelas que estão indicadas como \"table\" em sites/arquivos html;\n",
    "- **sql** - **pd.read_sql(path)** - Bases/Querys em SQL;\n",
    "- diversos outros, leia a docs caso tenha interesse - <a href=\"https://pandas.pydata.org/docs/reference/io.html\"> Inputs/Outputs - Pandas </a>\n",
    "\n",
    "Essas funções tem alguns parâmetros que podem ser úteis na importação, seguem alguns exemplos com o valor default:\n",
    "- **sep = \",\"** - usado na **read_csv()**, um arquivo \".csv\" não é nada mais que um \".txt\" separado por virgulas, caso a separação não seja virgula (CSV Europeu/Brasileiro) podemos usar **sep = \";\"**, ou algum outro separador (barras, tabs, hífens, etc.);\n",
    "- **decimal = \".\"** - também utilizado na **read_csv()**, define que separador é usado para decimais, caso seja numeros em formato Europeu/Brasileiro use **decimal = \",\"**;\n",
    "- **sheet_name = 0** - usado na **read_excel()**, escolhe a aba que será lida, default é a primeira do arquivo, caso utilize **sheet_name = None** o retorno será um dicionário de DataFrames com as chaves sendo as abas, caso utilize **sheet_name = \"Nome da Aba\"** o retorno será um DataFrame da aba em questão\n",
    "- **skiprows = 0** - tanto excel quanto csv, pode ser usado para pular as primeiras linhas da tabela se estiverem em branco\n",
    "- diversos outros, leia a docs caso tenha interesse - <a href=\"https://pandas.pydata.org/docs/reference/io.html\"> Inputs/Outputs - Pandas </a>"
   ],
   "metadata": {
    "collapsed": false
   }
  },
  {
   "cell_type": "code",
   "execution_count": 58,
   "outputs": [
    {
     "data": {
      "text/plain": "         date home_team away_team  home_score  away_score tournament     city  \\\n0  1872-11-30  Scotland   England           0           0   Friendly  Glasgow   \n1  1873-03-08   England  Scotland           4           2   Friendly   London   \n2  1874-03-07  Scotland   England           2           1   Friendly  Glasgow   \n3  1875-03-06   England  Scotland           2           2   Friendly   London   \n4  1876-03-04  Scotland   England           3           0   Friendly  Glasgow   \n\n    country  neutral  \n0  Scotland    False  \n1   England    False  \n2  Scotland    False  \n3   England    False  \n4  Scotland    False  ",
      "text/html": "<div>\n<style scoped>\n    .dataframe tbody tr th:only-of-type {\n        vertical-align: middle;\n    }\n\n    .dataframe tbody tr th {\n        vertical-align: top;\n    }\n\n    .dataframe thead th {\n        text-align: right;\n    }\n</style>\n<table border=\"1\" class=\"dataframe\">\n  <thead>\n    <tr style=\"text-align: right;\">\n      <th></th>\n      <th>date</th>\n      <th>home_team</th>\n      <th>away_team</th>\n      <th>home_score</th>\n      <th>away_score</th>\n      <th>tournament</th>\n      <th>city</th>\n      <th>country</th>\n      <th>neutral</th>\n    </tr>\n  </thead>\n  <tbody>\n    <tr>\n      <th>0</th>\n      <td>1872-11-30</td>\n      <td>Scotland</td>\n      <td>England</td>\n      <td>0</td>\n      <td>0</td>\n      <td>Friendly</td>\n      <td>Glasgow</td>\n      <td>Scotland</td>\n      <td>False</td>\n    </tr>\n    <tr>\n      <th>1</th>\n      <td>1873-03-08</td>\n      <td>England</td>\n      <td>Scotland</td>\n      <td>4</td>\n      <td>2</td>\n      <td>Friendly</td>\n      <td>London</td>\n      <td>England</td>\n      <td>False</td>\n    </tr>\n    <tr>\n      <th>2</th>\n      <td>1874-03-07</td>\n      <td>Scotland</td>\n      <td>England</td>\n      <td>2</td>\n      <td>1</td>\n      <td>Friendly</td>\n      <td>Glasgow</td>\n      <td>Scotland</td>\n      <td>False</td>\n    </tr>\n    <tr>\n      <th>3</th>\n      <td>1875-03-06</td>\n      <td>England</td>\n      <td>Scotland</td>\n      <td>2</td>\n      <td>2</td>\n      <td>Friendly</td>\n      <td>London</td>\n      <td>England</td>\n      <td>False</td>\n    </tr>\n    <tr>\n      <th>4</th>\n      <td>1876-03-04</td>\n      <td>Scotland</td>\n      <td>England</td>\n      <td>3</td>\n      <td>0</td>\n      <td>Friendly</td>\n      <td>Glasgow</td>\n      <td>Scotland</td>\n      <td>False</td>\n    </tr>\n  </tbody>\n</table>\n</div>"
     },
     "execution_count": 58,
     "metadata": {},
     "output_type": "execute_result"
    }
   ],
   "source": [
    "path_resultados = \"Copa/results.csv\"\n",
    "\n",
    "df_resultados = pd.read_csv(path_resultados)\n",
    "df_resultados.head()"
   ],
   "metadata": {
    "collapsed": false,
    "ExecuteTime": {
     "end_time": "2023-07-21T14:17:14.035843900Z",
     "start_time": "2023-07-21T14:17:13.963756300Z"
    }
   }
  },
  {
   "cell_type": "markdown",
   "source": [
    "## Separação e index"
   ],
   "metadata": {
    "collapsed": false
   }
  },
  {
   "cell_type": "code",
   "execution_count": 59,
   "outputs": [
    {
     "name": "stdout",
     "output_type": "stream",
     "text": [
      "<class 'pandas.core.series.Series'>\n"
     ]
    },
    {
     "data": {
      "text/plain": "0    Scotland\n1     England\n2    Scotland\n3     England\n4    Scotland\nName: home_team, dtype: object"
     },
     "execution_count": 59,
     "metadata": {},
     "output_type": "execute_result"
    }
   ],
   "source": [
    "# Selecionando apenas uma coluna, perceba que a coluna na verdade é uma série, com esse tipo de seleção\n",
    "print(type(df_resultados[\"home_team\"]))\n",
    "df_resultados[\"home_team\"].head()"
   ],
   "metadata": {
    "collapsed": false,
    "ExecuteTime": {
     "end_time": "2023-07-21T14:17:14.422561800Z",
     "start_time": "2023-07-21T14:17:14.389736200Z"
    }
   }
  },
  {
   "cell_type": "code",
   "execution_count": 60,
   "outputs": [
    {
     "data": {
      "text/plain": "  home_team  home_score\n0  Scotland           0\n1   England           4\n2  Scotland           2\n3   England           2\n4  Scotland           3",
      "text/html": "<div>\n<style scoped>\n    .dataframe tbody tr th:only-of-type {\n        vertical-align: middle;\n    }\n\n    .dataframe tbody tr th {\n        vertical-align: top;\n    }\n\n    .dataframe thead th {\n        text-align: right;\n    }\n</style>\n<table border=\"1\" class=\"dataframe\">\n  <thead>\n    <tr style=\"text-align: right;\">\n      <th></th>\n      <th>home_team</th>\n      <th>home_score</th>\n    </tr>\n  </thead>\n  <tbody>\n    <tr>\n      <th>0</th>\n      <td>Scotland</td>\n      <td>0</td>\n    </tr>\n    <tr>\n      <th>1</th>\n      <td>England</td>\n      <td>4</td>\n    </tr>\n    <tr>\n      <th>2</th>\n      <td>Scotland</td>\n      <td>2</td>\n    </tr>\n    <tr>\n      <th>3</th>\n      <td>England</td>\n      <td>2</td>\n    </tr>\n    <tr>\n      <th>4</th>\n      <td>Scotland</td>\n      <td>3</td>\n    </tr>\n  </tbody>\n</table>\n</div>"
     },
     "execution_count": 60,
     "metadata": {},
     "output_type": "execute_result"
    }
   ],
   "source": [
    "# Selecionando mais de uma coluna, passe uma lista dentro das chaves, com essa seleção o retorno é um DataFrame\n",
    "df_resultados[[\"home_team\", \"home_score\"]].head()"
   ],
   "metadata": {
    "collapsed": false,
    "ExecuteTime": {
     "end_time": "2023-07-21T14:17:14.625642800Z",
     "start_time": "2023-07-21T14:17:14.607561800Z"
    }
   }
  },
  {
   "cell_type": "code",
   "execution_count": 61,
   "outputs": [
    {
     "data": {
      "text/plain": "  home_team away_team\n0  Scotland   England\n1   England  Scotland\n2  Scotland   England\n3   England  Scotland\n4  Scotland   England",
      "text/html": "<div>\n<style scoped>\n    .dataframe tbody tr th:only-of-type {\n        vertical-align: middle;\n    }\n\n    .dataframe tbody tr th {\n        vertical-align: top;\n    }\n\n    .dataframe thead th {\n        text-align: right;\n    }\n</style>\n<table border=\"1\" class=\"dataframe\">\n  <thead>\n    <tr style=\"text-align: right;\">\n      <th></th>\n      <th>home_team</th>\n      <th>away_team</th>\n    </tr>\n  </thead>\n  <tbody>\n    <tr>\n      <th>0</th>\n      <td>Scotland</td>\n      <td>England</td>\n    </tr>\n    <tr>\n      <th>1</th>\n      <td>England</td>\n      <td>Scotland</td>\n    </tr>\n    <tr>\n      <th>2</th>\n      <td>Scotland</td>\n      <td>England</td>\n    </tr>\n    <tr>\n      <th>3</th>\n      <td>England</td>\n      <td>Scotland</td>\n    </tr>\n    <tr>\n      <th>4</th>\n      <td>Scotland</td>\n      <td>England</td>\n    </tr>\n  </tbody>\n</table>\n</div>"
     },
     "execution_count": 61,
     "metadata": {},
     "output_type": "execute_result"
    }
   ],
   "source": [
    "# Você pode inclusive usar um list compreension para separar as colunas\n",
    "df_resultados[[coluna for coluna in df_resultados.columns if \"team\" in coluna]].head()"
   ],
   "metadata": {
    "collapsed": false,
    "ExecuteTime": {
     "end_time": "2023-07-21T14:17:14.887008200Z",
     "start_time": "2023-07-21T14:17:14.829435900Z"
    }
   }
  },
  {
   "cell_type": "code",
   "execution_count": 62,
   "outputs": [
    {
     "data": {
      "text/plain": "         date home_team away_team  home_score  away_score tournament     city  \\\n0  1872-11-30  Scotland   England           0           0   Friendly  Glasgow   \n1  1873-03-08   England  Scotland           4           2   Friendly   London   \n2  1874-03-07  Scotland   England           2           1   Friendly  Glasgow   \n3  1875-03-06   England  Scotland           2           2   Friendly   London   \n4  1876-03-04  Scotland   England           3           0   Friendly  Glasgow   \n\n    country  neutral               Versus  \n0  Scotland    False  Scotland Vs England  \n1   England    False  England Vs Scotland  \n2  Scotland    False  Scotland Vs England  \n3   England    False  England Vs Scotland  \n4  Scotland    False  Scotland Vs England  ",
      "text/html": "<div>\n<style scoped>\n    .dataframe tbody tr th:only-of-type {\n        vertical-align: middle;\n    }\n\n    .dataframe tbody tr th {\n        vertical-align: top;\n    }\n\n    .dataframe thead th {\n        text-align: right;\n    }\n</style>\n<table border=\"1\" class=\"dataframe\">\n  <thead>\n    <tr style=\"text-align: right;\">\n      <th></th>\n      <th>date</th>\n      <th>home_team</th>\n      <th>away_team</th>\n      <th>home_score</th>\n      <th>away_score</th>\n      <th>tournament</th>\n      <th>city</th>\n      <th>country</th>\n      <th>neutral</th>\n      <th>Versus</th>\n    </tr>\n  </thead>\n  <tbody>\n    <tr>\n      <th>0</th>\n      <td>1872-11-30</td>\n      <td>Scotland</td>\n      <td>England</td>\n      <td>0</td>\n      <td>0</td>\n      <td>Friendly</td>\n      <td>Glasgow</td>\n      <td>Scotland</td>\n      <td>False</td>\n      <td>Scotland Vs England</td>\n    </tr>\n    <tr>\n      <th>1</th>\n      <td>1873-03-08</td>\n      <td>England</td>\n      <td>Scotland</td>\n      <td>4</td>\n      <td>2</td>\n      <td>Friendly</td>\n      <td>London</td>\n      <td>England</td>\n      <td>False</td>\n      <td>England Vs Scotland</td>\n    </tr>\n    <tr>\n      <th>2</th>\n      <td>1874-03-07</td>\n      <td>Scotland</td>\n      <td>England</td>\n      <td>2</td>\n      <td>1</td>\n      <td>Friendly</td>\n      <td>Glasgow</td>\n      <td>Scotland</td>\n      <td>False</td>\n      <td>Scotland Vs England</td>\n    </tr>\n    <tr>\n      <th>3</th>\n      <td>1875-03-06</td>\n      <td>England</td>\n      <td>Scotland</td>\n      <td>2</td>\n      <td>2</td>\n      <td>Friendly</td>\n      <td>London</td>\n      <td>England</td>\n      <td>False</td>\n      <td>England Vs Scotland</td>\n    </tr>\n    <tr>\n      <th>4</th>\n      <td>1876-03-04</td>\n      <td>Scotland</td>\n      <td>England</td>\n      <td>3</td>\n      <td>0</td>\n      <td>Friendly</td>\n      <td>Glasgow</td>\n      <td>Scotland</td>\n      <td>False</td>\n      <td>Scotland Vs England</td>\n    </tr>\n  </tbody>\n</table>\n</div>"
     },
     "execution_count": 62,
     "metadata": {},
     "output_type": "execute_result"
    }
   ],
   "source": [
    "# Criando nova coluna\n",
    "\n",
    "df_resultados_aux = df_resultados.copy() # Criando uma cópia do dataframe para fazer testes e não ter que importar dnv para resetá-lo (muito útil caso a importação seja de um dataframe grande)\n",
    "\n",
    "df_resultados_aux[\"Versus\"] = df_resultados_aux[\"home_team\"] + \" Vs \" + df_resultados_aux[\"away_team\"]\n",
    "df_resultados_aux.head()"
   ],
   "metadata": {
    "collapsed": false,
    "ExecuteTime": {
     "end_time": "2023-07-21T14:17:15.133510400Z",
     "start_time": "2023-07-21T14:17:15.030112Z"
    }
   }
  },
  {
   "cell_type": "code",
   "execution_count": 63,
   "outputs": [
    {
     "data": {
      "text/plain": "         date home_team away_team  home_score  away_score tournament     city  \\\n0  1872-11-30  Scotland   England           0           0   Friendly  Glasgow   \n1  1873-03-08   England  Scotland           4           2   Friendly   London   \n2  1874-03-07  Scotland   England           2           1   Friendly  Glasgow   \n3  1875-03-06   England  Scotland           2           2   Friendly   London   \n4  1876-03-04  Scotland   England           3           0   Friendly  Glasgow   \n\n    country  neutral  \n0  Scotland    False  \n1   England    False  \n2  Scotland    False  \n3   England    False  \n4  Scotland    False  ",
      "text/html": "<div>\n<style scoped>\n    .dataframe tbody tr th:only-of-type {\n        vertical-align: middle;\n    }\n\n    .dataframe tbody tr th {\n        vertical-align: top;\n    }\n\n    .dataframe thead th {\n        text-align: right;\n    }\n</style>\n<table border=\"1\" class=\"dataframe\">\n  <thead>\n    <tr style=\"text-align: right;\">\n      <th></th>\n      <th>date</th>\n      <th>home_team</th>\n      <th>away_team</th>\n      <th>home_score</th>\n      <th>away_score</th>\n      <th>tournament</th>\n      <th>city</th>\n      <th>country</th>\n      <th>neutral</th>\n    </tr>\n  </thead>\n  <tbody>\n    <tr>\n      <th>0</th>\n      <td>1872-11-30</td>\n      <td>Scotland</td>\n      <td>England</td>\n      <td>0</td>\n      <td>0</td>\n      <td>Friendly</td>\n      <td>Glasgow</td>\n      <td>Scotland</td>\n      <td>False</td>\n    </tr>\n    <tr>\n      <th>1</th>\n      <td>1873-03-08</td>\n      <td>England</td>\n      <td>Scotland</td>\n      <td>4</td>\n      <td>2</td>\n      <td>Friendly</td>\n      <td>London</td>\n      <td>England</td>\n      <td>False</td>\n    </tr>\n    <tr>\n      <th>2</th>\n      <td>1874-03-07</td>\n      <td>Scotland</td>\n      <td>England</td>\n      <td>2</td>\n      <td>1</td>\n      <td>Friendly</td>\n      <td>Glasgow</td>\n      <td>Scotland</td>\n      <td>False</td>\n    </tr>\n    <tr>\n      <th>3</th>\n      <td>1875-03-06</td>\n      <td>England</td>\n      <td>Scotland</td>\n      <td>2</td>\n      <td>2</td>\n      <td>Friendly</td>\n      <td>London</td>\n      <td>England</td>\n      <td>False</td>\n    </tr>\n    <tr>\n      <th>4</th>\n      <td>1876-03-04</td>\n      <td>Scotland</td>\n      <td>England</td>\n      <td>3</td>\n      <td>0</td>\n      <td>Friendly</td>\n      <td>Glasgow</td>\n      <td>Scotland</td>\n      <td>False</td>\n    </tr>\n  </tbody>\n</table>\n</div>"
     },
     "execution_count": 63,
     "metadata": {},
     "output_type": "execute_result"
    }
   ],
   "source": [
    "# Removendo colunas\n",
    "df_resultados_aux.drop(\"Versus\", axis=1).head() # Não é inplace"
   ],
   "metadata": {
    "collapsed": false,
    "ExecuteTime": {
     "end_time": "2023-07-21T14:17:15.378754900Z",
     "start_time": "2023-07-21T14:17:15.306526800Z"
    }
   }
  },
  {
   "cell_type": "code",
   "execution_count": 64,
   "outputs": [
    {
     "data": {
      "text/plain": "         date home_team away_team  home_score  away_score tournament     city  \\\n0  1872-11-30  Scotland   England           0           0   Friendly  Glasgow   \n1  1873-03-08   England  Scotland           4           2   Friendly   London   \n2  1874-03-07  Scotland   England           2           1   Friendly  Glasgow   \n3  1875-03-06   England  Scotland           2           2   Friendly   London   \n4  1876-03-04  Scotland   England           3           0   Friendly  Glasgow   \n\n    country  neutral               Versus  \n0  Scotland    False  Scotland Vs England  \n1   England    False  England Vs Scotland  \n2  Scotland    False  Scotland Vs England  \n3   England    False  England Vs Scotland  \n4  Scotland    False  Scotland Vs England  ",
      "text/html": "<div>\n<style scoped>\n    .dataframe tbody tr th:only-of-type {\n        vertical-align: middle;\n    }\n\n    .dataframe tbody tr th {\n        vertical-align: top;\n    }\n\n    .dataframe thead th {\n        text-align: right;\n    }\n</style>\n<table border=\"1\" class=\"dataframe\">\n  <thead>\n    <tr style=\"text-align: right;\">\n      <th></th>\n      <th>date</th>\n      <th>home_team</th>\n      <th>away_team</th>\n      <th>home_score</th>\n      <th>away_score</th>\n      <th>tournament</th>\n      <th>city</th>\n      <th>country</th>\n      <th>neutral</th>\n      <th>Versus</th>\n    </tr>\n  </thead>\n  <tbody>\n    <tr>\n      <th>0</th>\n      <td>1872-11-30</td>\n      <td>Scotland</td>\n      <td>England</td>\n      <td>0</td>\n      <td>0</td>\n      <td>Friendly</td>\n      <td>Glasgow</td>\n      <td>Scotland</td>\n      <td>False</td>\n      <td>Scotland Vs England</td>\n    </tr>\n    <tr>\n      <th>1</th>\n      <td>1873-03-08</td>\n      <td>England</td>\n      <td>Scotland</td>\n      <td>4</td>\n      <td>2</td>\n      <td>Friendly</td>\n      <td>London</td>\n      <td>England</td>\n      <td>False</td>\n      <td>England Vs Scotland</td>\n    </tr>\n    <tr>\n      <th>2</th>\n      <td>1874-03-07</td>\n      <td>Scotland</td>\n      <td>England</td>\n      <td>2</td>\n      <td>1</td>\n      <td>Friendly</td>\n      <td>Glasgow</td>\n      <td>Scotland</td>\n      <td>False</td>\n      <td>Scotland Vs England</td>\n    </tr>\n    <tr>\n      <th>3</th>\n      <td>1875-03-06</td>\n      <td>England</td>\n      <td>Scotland</td>\n      <td>2</td>\n      <td>2</td>\n      <td>Friendly</td>\n      <td>London</td>\n      <td>England</td>\n      <td>False</td>\n      <td>England Vs Scotland</td>\n    </tr>\n    <tr>\n      <th>4</th>\n      <td>1876-03-04</td>\n      <td>Scotland</td>\n      <td>England</td>\n      <td>3</td>\n      <td>0</td>\n      <td>Friendly</td>\n      <td>Glasgow</td>\n      <td>Scotland</td>\n      <td>False</td>\n      <td>Scotland Vs England</td>\n    </tr>\n  </tbody>\n</table>\n</div>"
     },
     "execution_count": 64,
     "metadata": {},
     "output_type": "execute_result"
    }
   ],
   "source": [
    "df_resultados_aux.head()"
   ],
   "metadata": {
    "collapsed": false,
    "ExecuteTime": {
     "end_time": "2023-07-21T14:17:15.714678600Z",
     "start_time": "2023-07-21T14:17:15.685134300Z"
    }
   }
  },
  {
   "cell_type": "code",
   "execution_count": 65,
   "outputs": [
    {
     "data": {
      "text/plain": "         date home_team away_team  home_score  away_score tournament     city  \\\n0  1872-11-30  Scotland   England           0           0   Friendly  Glasgow   \n1  1873-03-08   England  Scotland           4           2   Friendly   London   \n2  1874-03-07  Scotland   England           2           1   Friendly  Glasgow   \n3  1875-03-06   England  Scotland           2           2   Friendly   London   \n4  1876-03-04  Scotland   England           3           0   Friendly  Glasgow   \n\n    country  neutral  \n0  Scotland    False  \n1   England    False  \n2  Scotland    False  \n3   England    False  \n4  Scotland    False  ",
      "text/html": "<div>\n<style scoped>\n    .dataframe tbody tr th:only-of-type {\n        vertical-align: middle;\n    }\n\n    .dataframe tbody tr th {\n        vertical-align: top;\n    }\n\n    .dataframe thead th {\n        text-align: right;\n    }\n</style>\n<table border=\"1\" class=\"dataframe\">\n  <thead>\n    <tr style=\"text-align: right;\">\n      <th></th>\n      <th>date</th>\n      <th>home_team</th>\n      <th>away_team</th>\n      <th>home_score</th>\n      <th>away_score</th>\n      <th>tournament</th>\n      <th>city</th>\n      <th>country</th>\n      <th>neutral</th>\n    </tr>\n  </thead>\n  <tbody>\n    <tr>\n      <th>0</th>\n      <td>1872-11-30</td>\n      <td>Scotland</td>\n      <td>England</td>\n      <td>0</td>\n      <td>0</td>\n      <td>Friendly</td>\n      <td>Glasgow</td>\n      <td>Scotland</td>\n      <td>False</td>\n    </tr>\n    <tr>\n      <th>1</th>\n      <td>1873-03-08</td>\n      <td>England</td>\n      <td>Scotland</td>\n      <td>4</td>\n      <td>2</td>\n      <td>Friendly</td>\n      <td>London</td>\n      <td>England</td>\n      <td>False</td>\n    </tr>\n    <tr>\n      <th>2</th>\n      <td>1874-03-07</td>\n      <td>Scotland</td>\n      <td>England</td>\n      <td>2</td>\n      <td>1</td>\n      <td>Friendly</td>\n      <td>Glasgow</td>\n      <td>Scotland</td>\n      <td>False</td>\n    </tr>\n    <tr>\n      <th>3</th>\n      <td>1875-03-06</td>\n      <td>England</td>\n      <td>Scotland</td>\n      <td>2</td>\n      <td>2</td>\n      <td>Friendly</td>\n      <td>London</td>\n      <td>England</td>\n      <td>False</td>\n    </tr>\n    <tr>\n      <th>4</th>\n      <td>1876-03-04</td>\n      <td>Scotland</td>\n      <td>England</td>\n      <td>3</td>\n      <td>0</td>\n      <td>Friendly</td>\n      <td>Glasgow</td>\n      <td>Scotland</td>\n      <td>False</td>\n    </tr>\n  </tbody>\n</table>\n</div>"
     },
     "execution_count": 65,
     "metadata": {},
     "output_type": "execute_result"
    }
   ],
   "source": [
    "# Removendo colunas inplace\n",
    "\n",
    "df_resultados_aux.drop(\n",
    "    \"Versus\",\n",
    "    axis=1,\n",
    "    # inplace=True # Não gosto muito de usar o parâmetro inplace, foge da padronização e fica menos legível\n",
    ")\n",
    "\n",
    "df_resultados_aux = df_resultados_aux.drop(\"Versus\", axis=1)\n",
    "df_resultados_aux.head()"
   ],
   "metadata": {
    "collapsed": false,
    "ExecuteTime": {
     "end_time": "2023-07-21T14:17:16.350565200Z",
     "start_time": "2023-07-21T14:17:16.304972300Z"
    }
   }
  },
  {
   "cell_type": "code",
   "execution_count": 66,
   "outputs": [
    {
     "data": {
      "text/plain": "         date home_team away_team  home_score  away_score tournament     city  \\\n1  1873-03-08   England  Scotland           4           2   Friendly   London   \n2  1874-03-07  Scotland   England           2           1   Friendly  Glasgow   \n3  1875-03-06   England  Scotland           2           2   Friendly   London   \n4  1876-03-04  Scotland   England           3           0   Friendly  Glasgow   \n5  1876-03-25  Scotland     Wales           4           0   Friendly  Glasgow   \n\n    country  neutral  \n1   England    False  \n2  Scotland    False  \n3   England    False  \n4  Scotland    False  \n5  Scotland    False  ",
      "text/html": "<div>\n<style scoped>\n    .dataframe tbody tr th:only-of-type {\n        vertical-align: middle;\n    }\n\n    .dataframe tbody tr th {\n        vertical-align: top;\n    }\n\n    .dataframe thead th {\n        text-align: right;\n    }\n</style>\n<table border=\"1\" class=\"dataframe\">\n  <thead>\n    <tr style=\"text-align: right;\">\n      <th></th>\n      <th>date</th>\n      <th>home_team</th>\n      <th>away_team</th>\n      <th>home_score</th>\n      <th>away_score</th>\n      <th>tournament</th>\n      <th>city</th>\n      <th>country</th>\n      <th>neutral</th>\n    </tr>\n  </thead>\n  <tbody>\n    <tr>\n      <th>1</th>\n      <td>1873-03-08</td>\n      <td>England</td>\n      <td>Scotland</td>\n      <td>4</td>\n      <td>2</td>\n      <td>Friendly</td>\n      <td>London</td>\n      <td>England</td>\n      <td>False</td>\n    </tr>\n    <tr>\n      <th>2</th>\n      <td>1874-03-07</td>\n      <td>Scotland</td>\n      <td>England</td>\n      <td>2</td>\n      <td>1</td>\n      <td>Friendly</td>\n      <td>Glasgow</td>\n      <td>Scotland</td>\n      <td>False</td>\n    </tr>\n    <tr>\n      <th>3</th>\n      <td>1875-03-06</td>\n      <td>England</td>\n      <td>Scotland</td>\n      <td>2</td>\n      <td>2</td>\n      <td>Friendly</td>\n      <td>London</td>\n      <td>England</td>\n      <td>False</td>\n    </tr>\n    <tr>\n      <th>4</th>\n      <td>1876-03-04</td>\n      <td>Scotland</td>\n      <td>England</td>\n      <td>3</td>\n      <td>0</td>\n      <td>Friendly</td>\n      <td>Glasgow</td>\n      <td>Scotland</td>\n      <td>False</td>\n    </tr>\n    <tr>\n      <th>5</th>\n      <td>1876-03-25</td>\n      <td>Scotland</td>\n      <td>Wales</td>\n      <td>4</td>\n      <td>0</td>\n      <td>Friendly</td>\n      <td>Glasgow</td>\n      <td>Scotland</td>\n      <td>False</td>\n    </tr>\n  </tbody>\n</table>\n</div>"
     },
     "execution_count": 66,
     "metadata": {},
     "output_type": "execute_result"
    }
   ],
   "source": [
    "# Removendo linhas\n",
    "\n",
    "df_resultados_aux.drop(0, axis=0).head()"
   ],
   "metadata": {
    "collapsed": false,
    "ExecuteTime": {
     "end_time": "2023-07-21T14:17:16.876874700Z",
     "start_time": "2023-07-21T14:17:16.839710400Z"
    }
   }
  },
  {
   "cell_type": "code",
   "execution_count": 67,
   "outputs": [
    {
     "data": {
      "text/plain": "date          1872-11-30\nhome_team       Scotland\naway_team        England\nhome_score             0\naway_score             0\ntournament      Friendly\ncity             Glasgow\ncountry         Scotland\nneutral            False\nName: 0, dtype: object"
     },
     "execution_count": 67,
     "metadata": {},
     "output_type": "execute_result"
    }
   ],
   "source": [
    "# Selecionando linhas\n",
    "\n",
    "df_resultados_aux.loc[0]"
   ],
   "metadata": {
    "collapsed": false,
    "ExecuteTime": {
     "end_time": "2023-07-21T14:17:17.273642500Z",
     "start_time": "2023-07-21T14:17:17.235468Z"
    }
   }
  },
  {
   "cell_type": "code",
   "execution_count": 68,
   "outputs": [
    {
     "data": {
      "text/plain": "Coluna1    2.706850\nColuna2    0.651118\nName: Corinthians, dtype: float64"
     },
     "execution_count": 68,
     "metadata": {},
     "output_type": "execute_result"
    }
   ],
   "source": [
    "df_dict.loc[\"Corinthians\"]"
   ],
   "metadata": {
    "collapsed": false,
    "ExecuteTime": {
     "end_time": "2023-07-21T14:17:17.827886500Z",
     "start_time": "2023-07-21T14:17:17.799327100Z"
    }
   }
  },
  {
   "cell_type": "code",
   "execution_count": 69,
   "outputs": [
    {
     "data": {
      "text/plain": "date          1872-11-30\nhome_team       Scotland\naway_team        England\nhome_score             0\naway_score             0\ntournament      Friendly\ncity             Glasgow\ncountry         Scotland\nneutral            False\nName: 0, dtype: object"
     },
     "execution_count": 69,
     "metadata": {},
     "output_type": "execute_result"
    }
   ],
   "source": [
    "# Caso os indíces não sejam números, vc pode utilizar o iloc para procurar por número\n",
    "\n",
    "df_resultados_aux.iloc[0]"
   ],
   "metadata": {
    "collapsed": false,
    "ExecuteTime": {
     "end_time": "2023-07-21T14:17:18.470142Z",
     "start_time": "2023-07-21T14:17:18.441300500Z"
    }
   }
  },
  {
   "cell_type": "code",
   "execution_count": 70,
   "outputs": [
    {
     "data": {
      "text/plain": "Coluna1    2.706850\nColuna2    0.651118\nName: Corinthians, dtype: float64"
     },
     "execution_count": 70,
     "metadata": {},
     "output_type": "execute_result"
    }
   ],
   "source": [
    "df_dict.iloc[0]"
   ],
   "metadata": {
    "collapsed": false,
    "ExecuteTime": {
     "end_time": "2023-07-21T14:17:19.143218600Z",
     "start_time": "2023-07-21T14:17:19.117679700Z"
    }
   }
  },
  {
   "cell_type": "code",
   "execution_count": 71,
   "outputs": [
    {
     "data": {
      "text/plain": "'Scotland'"
     },
     "execution_count": 71,
     "metadata": {},
     "output_type": "execute_result"
    }
   ],
   "source": [
    "# Selecionando linhas e colunas\n",
    "df_resultados_aux.loc[\n",
    "    0, # Grupo de linhas\n",
    "    \"home_team\" # Grupo de Colunas\n",
    "]"
   ],
   "metadata": {
    "collapsed": false,
    "ExecuteTime": {
     "end_time": "2023-07-21T14:17:19.657832Z",
     "start_time": "2023-07-21T14:17:19.621474200Z"
    }
   }
  },
  {
   "cell_type": "code",
   "execution_count": 72,
   "outputs": [
    {
     "data": {
      "text/plain": "    home_team away_team\n0    Scotland   England\n500    Sweden   Denmark",
      "text/html": "<div>\n<style scoped>\n    .dataframe tbody tr th:only-of-type {\n        vertical-align: middle;\n    }\n\n    .dataframe tbody tr th {\n        vertical-align: top;\n    }\n\n    .dataframe thead th {\n        text-align: right;\n    }\n</style>\n<table border=\"1\" class=\"dataframe\">\n  <thead>\n    <tr style=\"text-align: right;\">\n      <th></th>\n      <th>home_team</th>\n      <th>away_team</th>\n    </tr>\n  </thead>\n  <tbody>\n    <tr>\n      <th>0</th>\n      <td>Scotland</td>\n      <td>England</td>\n    </tr>\n    <tr>\n      <th>500</th>\n      <td>Sweden</td>\n      <td>Denmark</td>\n    </tr>\n  </tbody>\n</table>\n</div>"
     },
     "execution_count": 72,
     "metadata": {},
     "output_type": "execute_result"
    }
   ],
   "source": [
    "df_resultados_aux.loc[\n",
    "    [0, 500],\n",
    "    [\"home_team\", \"away_team\"],\n",
    "]"
   ],
   "metadata": {
    "collapsed": false,
    "ExecuteTime": {
     "end_time": "2023-07-21T14:17:20.397952700Z",
     "start_time": "2023-07-21T14:17:20.332431Z"
    }
   }
  },
  {
   "cell_type": "markdown",
   "source": [
    "## Filtros / Seleção Condicional"
   ],
   "metadata": {
    "collapsed": false
   }
  },
  {
   "cell_type": "markdown",
   "source": [
    "Nessa seção iremos observar como a seleção condicional é realizada no pandas (como tudo no pandas, muito similar ao do NumPy), preste bastante atenção nessa seção que é fundamental"
   ],
   "metadata": {
    "collapsed": false
   }
  },
  {
   "cell_type": "code",
   "execution_count": 73,
   "outputs": [
    {
     "data": {
      "text/plain": "              Coluna1   Coluna2\nCorinthians  2.706850  0.651118\nPalmeiras    0.628133 -0.319318\nSantos       0.907969 -0.848077\nSão Paulo    0.503826  0.605965",
      "text/html": "<div>\n<style scoped>\n    .dataframe tbody tr th:only-of-type {\n        vertical-align: middle;\n    }\n\n    .dataframe tbody tr th {\n        vertical-align: top;\n    }\n\n    .dataframe thead th {\n        text-align: right;\n    }\n</style>\n<table border=\"1\" class=\"dataframe\">\n  <thead>\n    <tr style=\"text-align: right;\">\n      <th></th>\n      <th>Coluna1</th>\n      <th>Coluna2</th>\n    </tr>\n  </thead>\n  <tbody>\n    <tr>\n      <th>Corinthians</th>\n      <td>2.706850</td>\n      <td>0.651118</td>\n    </tr>\n    <tr>\n      <th>Palmeiras</th>\n      <td>0.628133</td>\n      <td>-0.319318</td>\n    </tr>\n    <tr>\n      <th>Santos</th>\n      <td>0.907969</td>\n      <td>-0.848077</td>\n    </tr>\n    <tr>\n      <th>São Paulo</th>\n      <td>0.503826</td>\n      <td>0.605965</td>\n    </tr>\n  </tbody>\n</table>\n</div>"
     },
     "execution_count": 73,
     "metadata": {},
     "output_type": "execute_result"
    }
   ],
   "source": [
    "df_dict"
   ],
   "metadata": {
    "collapsed": false,
    "ExecuteTime": {
     "end_time": "2023-07-21T14:17:21.433248900Z",
     "start_time": "2023-07-21T14:17:21.407765700Z"
    }
   }
  },
  {
   "cell_type": "code",
   "execution_count": 74,
   "outputs": [
    {
     "data": {
      "text/plain": "             Coluna1  Coluna2\nCorinthians     True     True\nPalmeiras       True    False\nSantos          True    False\nSão Paulo       True     True",
      "text/html": "<div>\n<style scoped>\n    .dataframe tbody tr th:only-of-type {\n        vertical-align: middle;\n    }\n\n    .dataframe tbody tr th {\n        vertical-align: top;\n    }\n\n    .dataframe thead th {\n        text-align: right;\n    }\n</style>\n<table border=\"1\" class=\"dataframe\">\n  <thead>\n    <tr style=\"text-align: right;\">\n      <th></th>\n      <th>Coluna1</th>\n      <th>Coluna2</th>\n    </tr>\n  </thead>\n  <tbody>\n    <tr>\n      <th>Corinthians</th>\n      <td>True</td>\n      <td>True</td>\n    </tr>\n    <tr>\n      <th>Palmeiras</th>\n      <td>True</td>\n      <td>False</td>\n    </tr>\n    <tr>\n      <th>Santos</th>\n      <td>True</td>\n      <td>False</td>\n    </tr>\n    <tr>\n      <th>São Paulo</th>\n      <td>True</td>\n      <td>True</td>\n    </tr>\n  </tbody>\n</table>\n</div>"
     },
     "execution_count": 74,
     "metadata": {},
     "output_type": "execute_result"
    }
   ],
   "source": [
    "# Filtro no DataFrame inteiro pode ser utilizado da seguinte forma:\n",
    "# Esse filtro é raramente utilizado, normalmente fazemos por coluna\n",
    "\n",
    "df_dict > 0"
   ],
   "metadata": {
    "collapsed": false,
    "ExecuteTime": {
     "end_time": "2023-07-21T14:17:21.953807900Z",
     "start_time": "2023-07-21T14:17:21.928473100Z"
    }
   }
  },
  {
   "cell_type": "code",
   "execution_count": 75,
   "outputs": [
    {
     "data": {
      "text/plain": "              Coluna1   Coluna2\nCorinthians  2.706850  0.651118\nPalmeiras    0.628133       NaN\nSantos       0.907969       NaN\nSão Paulo    0.503826  0.605965",
      "text/html": "<div>\n<style scoped>\n    .dataframe tbody tr th:only-of-type {\n        vertical-align: middle;\n    }\n\n    .dataframe tbody tr th {\n        vertical-align: top;\n    }\n\n    .dataframe thead th {\n        text-align: right;\n    }\n</style>\n<table border=\"1\" class=\"dataframe\">\n  <thead>\n    <tr style=\"text-align: right;\">\n      <th></th>\n      <th>Coluna1</th>\n      <th>Coluna2</th>\n    </tr>\n  </thead>\n  <tbody>\n    <tr>\n      <th>Corinthians</th>\n      <td>2.706850</td>\n      <td>0.651118</td>\n    </tr>\n    <tr>\n      <th>Palmeiras</th>\n      <td>0.628133</td>\n      <td>NaN</td>\n    </tr>\n    <tr>\n      <th>Santos</th>\n      <td>0.907969</td>\n      <td>NaN</td>\n    </tr>\n    <tr>\n      <th>São Paulo</th>\n      <td>0.503826</td>\n      <td>0.605965</td>\n    </tr>\n  </tbody>\n</table>\n</div>"
     },
     "execution_count": 75,
     "metadata": {},
     "output_type": "execute_result"
    }
   ],
   "source": [
    "# Aplicando o filtro na seleção do DataFrame\n",
    "# Perceba que os valores < 0 ainda\n",
    "\n",
    "df_dict[df_dict > 0]"
   ],
   "metadata": {
    "collapsed": false,
    "ExecuteTime": {
     "end_time": "2023-07-21T14:17:22.369028100Z",
     "start_time": "2023-07-21T14:17:22.337660300Z"
    }
   }
  },
  {
   "cell_type": "code",
   "execution_count": 77,
   "outputs": [
    {
     "data": {
      "text/plain": "Corinthians     True\nPalmeiras      False\nSantos         False\nSão Paulo       True\nName: Coluna2, dtype: bool"
     },
     "execution_count": 77,
     "metadata": {},
     "output_type": "execute_result"
    }
   ],
   "source": [
    "# Filtro por coluna\n",
    "\n",
    "df_dict[\"Coluna2\"] > 0"
   ],
   "metadata": {
    "collapsed": false,
    "ExecuteTime": {
     "end_time": "2023-07-21T14:18:19.480023400Z",
     "start_time": "2023-07-21T14:18:19.443626100Z"
    }
   }
  },
  {
   "cell_type": "code",
   "execution_count": 78,
   "outputs": [
    {
     "data": {
      "text/plain": "              Coluna1   Coluna2\nCorinthians  2.706850  0.651118\nSão Paulo    0.503826  0.605965",
      "text/html": "<div>\n<style scoped>\n    .dataframe tbody tr th:only-of-type {\n        vertical-align: middle;\n    }\n\n    .dataframe tbody tr th {\n        vertical-align: top;\n    }\n\n    .dataframe thead th {\n        text-align: right;\n    }\n</style>\n<table border=\"1\" class=\"dataframe\">\n  <thead>\n    <tr style=\"text-align: right;\">\n      <th></th>\n      <th>Coluna1</th>\n      <th>Coluna2</th>\n    </tr>\n  </thead>\n  <tbody>\n    <tr>\n      <th>Corinthians</th>\n      <td>2.706850</td>\n      <td>0.651118</td>\n    </tr>\n    <tr>\n      <th>São Paulo</th>\n      <td>0.503826</td>\n      <td>0.605965</td>\n    </tr>\n  </tbody>\n</table>\n</div>"
     },
     "execution_count": 78,
     "metadata": {},
     "output_type": "execute_result"
    }
   ],
   "source": [
    "# Aplicando filtro na seleção\n",
    "\n",
    "df_dict[df_dict[\"Coluna2\"] > 0]"
   ],
   "metadata": {
    "collapsed": false,
    "ExecuteTime": {
     "end_time": "2023-07-21T14:18:44.216446100Z",
     "start_time": "2023-07-21T14:18:44.190358700Z"
    }
   }
  },
  {
   "cell_type": "markdown",
   "source": [
    "Perceba que foi feita uma \"máscara\" em formato de série com valores True e False, quando passamos essa seleção no DataFrame, apenas as linhas com True continuam"
   ],
   "metadata": {
    "collapsed": false
   }
  },
  {
   "cell_type": "code",
   "execution_count": 79,
   "outputs": [
    {
     "data": {
      "text/plain": "             Coluna1   Coluna2\nCorinthians  2.70685  0.651118",
      "text/html": "<div>\n<style scoped>\n    .dataframe tbody tr th:only-of-type {\n        vertical-align: middle;\n    }\n\n    .dataframe tbody tr th {\n        vertical-align: top;\n    }\n\n    .dataframe thead th {\n        text-align: right;\n    }\n</style>\n<table border=\"1\" class=\"dataframe\">\n  <thead>\n    <tr style=\"text-align: right;\">\n      <th></th>\n      <th>Coluna1</th>\n      <th>Coluna2</th>\n    </tr>\n  </thead>\n  <tbody>\n    <tr>\n      <th>Corinthians</th>\n      <td>2.70685</td>\n      <td>0.651118</td>\n    </tr>\n  </tbody>\n</table>\n</div>"
     },
     "execution_count": 79,
     "metadata": {},
     "output_type": "execute_result"
    }
   ],
   "source": [
    "# Você pode juntar dois ou mais filtros com & (AND/E), | (OR/OU), ~ (NOT/NÃO) e parenteses\n",
    "# Os filtros de operador são os msms operadores lógicos do python, (==, !=, >, <, >=, <=)\n",
    "\n",
    "df_dict[(df_dict[\"Coluna2\"] > 0) & (df_dict[\"Coluna1\"] > 1)]\n"
   ],
   "metadata": {
    "collapsed": false,
    "ExecuteTime": {
     "end_time": "2023-07-21T14:22:46.445352100Z",
     "start_time": "2023-07-21T14:22:46.416197Z"
    }
   }
  },
  {
   "cell_type": "code",
   "execution_count": 82,
   "outputs": [
    {
     "data": {
      "text/plain": "              Coluna1   Coluna2\nCorinthians  2.706850  0.651118\nSantos       0.907969 -0.848077\nSão Paulo    0.503826  0.605965",
      "text/html": "<div>\n<style scoped>\n    .dataframe tbody tr th:only-of-type {\n        vertical-align: middle;\n    }\n\n    .dataframe tbody tr th {\n        vertical-align: top;\n    }\n\n    .dataframe thead th {\n        text-align: right;\n    }\n</style>\n<table border=\"1\" class=\"dataframe\">\n  <thead>\n    <tr style=\"text-align: right;\">\n      <th></th>\n      <th>Coluna1</th>\n      <th>Coluna2</th>\n    </tr>\n  </thead>\n  <tbody>\n    <tr>\n      <th>Corinthians</th>\n      <td>2.706850</td>\n      <td>0.651118</td>\n    </tr>\n    <tr>\n      <th>Santos</th>\n      <td>0.907969</td>\n      <td>-0.848077</td>\n    </tr>\n    <tr>\n      <th>São Paulo</th>\n      <td>0.503826</td>\n      <td>0.605965</td>\n    </tr>\n  </tbody>\n</table>\n</div>"
     },
     "execution_count": 82,
     "metadata": {},
     "output_type": "execute_result"
    }
   ],
   "source": [
    "df_dict[(df_dict[\"Coluna2\"] > 0) | (df_dict[\"Coluna1\"] > 0.8)]"
   ],
   "metadata": {
    "collapsed": false,
    "ExecuteTime": {
     "end_time": "2023-07-21T14:23:44.351408500Z",
     "start_time": "2023-07-21T14:23:44.320672900Z"
    }
   }
  },
  {
   "cell_type": "code",
   "execution_count": 83,
   "outputs": [
    {
     "data": {
      "text/plain": "            Coluna1   Coluna2\nSão Paulo  0.503826  0.605965",
      "text/html": "<div>\n<style scoped>\n    .dataframe tbody tr th:only-of-type {\n        vertical-align: middle;\n    }\n\n    .dataframe tbody tr th {\n        vertical-align: top;\n    }\n\n    .dataframe thead th {\n        text-align: right;\n    }\n</style>\n<table border=\"1\" class=\"dataframe\">\n  <thead>\n    <tr style=\"text-align: right;\">\n      <th></th>\n      <th>Coluna1</th>\n      <th>Coluna2</th>\n    </tr>\n  </thead>\n  <tbody>\n    <tr>\n      <th>São Paulo</th>\n      <td>0.503826</td>\n      <td>0.605965</td>\n    </tr>\n  </tbody>\n</table>\n</div>"
     },
     "execution_count": 83,
     "metadata": {},
     "output_type": "execute_result"
    }
   ],
   "source": [
    "df_dict[(df_dict[\"Coluna2\"] > 0) & ~(df_dict[\"Coluna1\"] > 1)]"
   ],
   "metadata": {
    "collapsed": false,
    "ExecuteTime": {
     "end_time": "2023-07-21T14:23:52.917324700Z",
     "start_time": "2023-07-21T14:23:52.893220500Z"
    }
   }
  },
  {
   "cell_type": "markdown",
   "source": [
    "Em DataFrames maiores"
   ],
   "metadata": {
    "collapsed": false
   }
  },
  {
   "cell_type": "code",
   "execution_count": 85,
   "outputs": [
    {
     "data": {
      "text/plain": "             date home_team    away_team  home_score  away_score  \\\n441    1916-07-08    Brazil        Chile           1           1   \n444    1916-07-12    Brazil      Uruguay           1           2   \n477    1917-10-12    Brazil        Chile           5           0   \n503    1919-05-11    Brazil        Chile           6           0   \n508    1919-05-18    Brazil    Argentina           3           1   \n...           ...       ...          ...         ...         ...   \n44302  2022-11-24    Brazil       Serbia           2           0   \n44318  2022-11-28    Brazil  Switzerland           1           0   \n44342  2022-12-05    Brazil  South Korea           4           1   \n44640  2023-06-17    Brazil       Guinea           4           1   \n44688  2023-06-20    Brazil      Senegal           2           4   \n\n           tournament            city    country  neutral  \n441      Copa América    Buenos Aires  Argentina     True  \n444      Copa América    Buenos Aires  Argentina     True  \n477      Copa América      Montevideo    Uruguay     True  \n503      Copa América  Rio de Janeiro     Brazil    False  \n508      Copa América  Rio de Janeiro     Brazil    False  \n...               ...             ...        ...      ...  \n44302  FIFA World Cup          Lusail      Qatar     True  \n44318  FIFA World Cup            Doha      Qatar     True  \n44342  FIFA World Cup            Doha      Qatar     True  \n44640        Friendly       Barcelona      Spain     True  \n44688        Friendly          Lisbon   Portugal     True  \n\n[597 rows x 9 columns]",
      "text/html": "<div>\n<style scoped>\n    .dataframe tbody tr th:only-of-type {\n        vertical-align: middle;\n    }\n\n    .dataframe tbody tr th {\n        vertical-align: top;\n    }\n\n    .dataframe thead th {\n        text-align: right;\n    }\n</style>\n<table border=\"1\" class=\"dataframe\">\n  <thead>\n    <tr style=\"text-align: right;\">\n      <th></th>\n      <th>date</th>\n      <th>home_team</th>\n      <th>away_team</th>\n      <th>home_score</th>\n      <th>away_score</th>\n      <th>tournament</th>\n      <th>city</th>\n      <th>country</th>\n      <th>neutral</th>\n    </tr>\n  </thead>\n  <tbody>\n    <tr>\n      <th>441</th>\n      <td>1916-07-08</td>\n      <td>Brazil</td>\n      <td>Chile</td>\n      <td>1</td>\n      <td>1</td>\n      <td>Copa América</td>\n      <td>Buenos Aires</td>\n      <td>Argentina</td>\n      <td>True</td>\n    </tr>\n    <tr>\n      <th>444</th>\n      <td>1916-07-12</td>\n      <td>Brazil</td>\n      <td>Uruguay</td>\n      <td>1</td>\n      <td>2</td>\n      <td>Copa América</td>\n      <td>Buenos Aires</td>\n      <td>Argentina</td>\n      <td>True</td>\n    </tr>\n    <tr>\n      <th>477</th>\n      <td>1917-10-12</td>\n      <td>Brazil</td>\n      <td>Chile</td>\n      <td>5</td>\n      <td>0</td>\n      <td>Copa América</td>\n      <td>Montevideo</td>\n      <td>Uruguay</td>\n      <td>True</td>\n    </tr>\n    <tr>\n      <th>503</th>\n      <td>1919-05-11</td>\n      <td>Brazil</td>\n      <td>Chile</td>\n      <td>6</td>\n      <td>0</td>\n      <td>Copa América</td>\n      <td>Rio de Janeiro</td>\n      <td>Brazil</td>\n      <td>False</td>\n    </tr>\n    <tr>\n      <th>508</th>\n      <td>1919-05-18</td>\n      <td>Brazil</td>\n      <td>Argentina</td>\n      <td>3</td>\n      <td>1</td>\n      <td>Copa América</td>\n      <td>Rio de Janeiro</td>\n      <td>Brazil</td>\n      <td>False</td>\n    </tr>\n    <tr>\n      <th>...</th>\n      <td>...</td>\n      <td>...</td>\n      <td>...</td>\n      <td>...</td>\n      <td>...</td>\n      <td>...</td>\n      <td>...</td>\n      <td>...</td>\n      <td>...</td>\n    </tr>\n    <tr>\n      <th>44302</th>\n      <td>2022-11-24</td>\n      <td>Brazil</td>\n      <td>Serbia</td>\n      <td>2</td>\n      <td>0</td>\n      <td>FIFA World Cup</td>\n      <td>Lusail</td>\n      <td>Qatar</td>\n      <td>True</td>\n    </tr>\n    <tr>\n      <th>44318</th>\n      <td>2022-11-28</td>\n      <td>Brazil</td>\n      <td>Switzerland</td>\n      <td>1</td>\n      <td>0</td>\n      <td>FIFA World Cup</td>\n      <td>Doha</td>\n      <td>Qatar</td>\n      <td>True</td>\n    </tr>\n    <tr>\n      <th>44342</th>\n      <td>2022-12-05</td>\n      <td>Brazil</td>\n      <td>South Korea</td>\n      <td>4</td>\n      <td>1</td>\n      <td>FIFA World Cup</td>\n      <td>Doha</td>\n      <td>Qatar</td>\n      <td>True</td>\n    </tr>\n    <tr>\n      <th>44640</th>\n      <td>2023-06-17</td>\n      <td>Brazil</td>\n      <td>Guinea</td>\n      <td>4</td>\n      <td>1</td>\n      <td>Friendly</td>\n      <td>Barcelona</td>\n      <td>Spain</td>\n      <td>True</td>\n    </tr>\n    <tr>\n      <th>44688</th>\n      <td>2023-06-20</td>\n      <td>Brazil</td>\n      <td>Senegal</td>\n      <td>2</td>\n      <td>4</td>\n      <td>Friendly</td>\n      <td>Lisbon</td>\n      <td>Portugal</td>\n      <td>True</td>\n    </tr>\n  </tbody>\n</table>\n<p>597 rows × 9 columns</p>\n</div>"
     },
     "execution_count": 85,
     "metadata": {},
     "output_type": "execute_result"
    }
   ],
   "source": [
    "df_resultados[df_resultados[\"home_team\"] == \"Brazil\"]"
   ],
   "metadata": {
    "collapsed": false,
    "ExecuteTime": {
     "end_time": "2023-07-21T14:25:31.912052600Z",
     "start_time": "2023-07-21T14:25:31.881856600Z"
    }
   }
  },
  {
   "cell_type": "code",
   "execution_count": 86,
   "outputs": [
    {
     "data": {
      "text/plain": "             date home_team  away_team  home_score  away_score  \\\n508    1919-05-18    Brazil  Argentina           3           1   \n515    1919-06-01    Brazil  Argentina           3           3   \n673    1922-10-15    Brazil  Argentina           2           0   \n678    1922-10-22    Brazil  Argentina           2           1   \n2189   1939-01-15    Brazil  Argentina           1           5   \n2192   1939-01-22    Brazil  Argentina           3           2   \n2275   1940-02-18    Brazil  Argentina           2           2   \n2278   1940-02-25    Brazil  Argentina           0           3   \n2565   1945-12-16    Brazil  Argentina           3           4   \n2566   1945-12-20    Brazil  Argentina           6           2   \n2567   1945-12-23    Brazil  Argentina           3           1   \n4204   1957-07-07    Brazil  Argentina           1           2   \n4207   1957-07-10    Brazil  Argentina           2           0   \n4753   1960-07-12    Brazil  Argentina           5           1   \n5400   1963-04-13    Brazil  Argentina           2           3   \n5401   1963-04-16    Brazil  Argentina           5           2   \n5651   1964-06-03    Brazil  Argentina           0           3   \n5912   1965-06-09    Brazil  Argentina           0           0   \n6910   1968-08-07    Brazil  Argentina           4           1   \n6914   1968-08-11    Brazil  Argentina           3           2   \n7499   1970-03-04    Brazil  Argentina           0           2   \n7501   1970-03-08    Brazil  Argentina           2           1   \n9637   1975-08-06    Brazil  Argentina           2           1   \n9927   1976-05-19    Brazil  Argentina           2           0   \n11196  1979-08-02    Brazil  Argentina           2           1   \n13059  1983-09-14    Brazil  Argentina           0           0   \n13379  1984-06-17    Brazil  Argentina           0           0   \n13998  1985-05-05    Brazil  Argentina           2           1   \n15962  1989-07-12    Brazil  Argentina           2           0   \n16866  1991-06-27    Brazil  Argentina           1           1   \n18552  1994-03-23    Brazil  Argentina           2           0   \n21579  1998-04-29    Brazil  Argentina           0           1   \n22621  1999-09-07    Brazil  Argentina           4           2   \n23504  2000-07-26    Brazil  Argentina           3           1   \n26933  2004-06-02    Brazil  Argentina           3           1   \n30765  2008-06-18    Brazil  Argentina           0           0   \n33883  2011-09-28    Brazil  Argentina           2           0   \n34874  2012-09-19    Brazil  Argentina           2           1   \n38903  2016-11-10    Brazil  Argentina           3           0   \n41380  2019-07-02    Brazil  Argentina           2           0   \n42870  2021-07-10    Brazil  Argentina           0           1   \n\n                         tournament            city country  neutral  \n508                    Copa América  Rio de Janeiro  Brazil    False  \n515                        Friendly  Rio de Janeiro  Brazil    False  \n673                    Copa América  Rio de Janeiro  Brazil    False  \n678                       Copa Roca       São Paulo  Brazil    False  \n2189                      Copa Roca  Rio de Janeiro  Brazil    False  \n2192                      Copa Roca  Rio de Janeiro  Brazil    False  \n2275                      Copa Roca       São Paulo  Brazil    False  \n2278                      Copa Roca       São Paulo  Brazil    False  \n2565                      Copa Roca       São Paulo  Brazil    False  \n2566                      Copa Roca  Rio de Janeiro  Brazil    False  \n2567                      Copa Roca  Rio de Janeiro  Brazil    False  \n4204                      Copa Roca  Rio de Janeiro  Brazil    False  \n4207                      Copa Roca       São Paulo  Brazil    False  \n4753                   Atlantic Cup  Rio de Janeiro  Brazil    False  \n5400                      Copa Roca       São Paulo  Brazil    False  \n5401                      Copa Roca  Rio de Janeiro  Brazil    False  \n5651                       Friendly       São Paulo  Brazil    False  \n5912                       Friendly  Rio de Janeiro  Brazil    False  \n6910                       Friendly  Rio de Janeiro  Brazil    False  \n6914                       Friendly  Belo Horizonte  Brazil    False  \n7499                       Friendly    Porto Alegre  Brazil    False  \n7501                       Friendly  Rio de Janeiro  Brazil    False  \n9637                   Copa América  Belo Horizonte  Brazil    False  \n9927                      Copa Roca  Rio de Janeiro  Brazil    False  \n11196                  Copa América  Rio de Janeiro  Brazil    False  \n13059                  Copa América  Rio de Janeiro  Brazil    False  \n13379                      Friendly       São Paulo  Brazil    False  \n13998                      Friendly        Salvador  Brazil    False  \n15962                  Copa América  Rio de Janeiro  Brazil    False  \n16866                      Friendly        Curitiba  Brazil    False  \n18552                      Friendly          Recife  Brazil    False  \n21579                      Friendly  Rio de Janeiro  Brazil    False  \n22621                      Friendly    Porto Alegre  Brazil    False  \n23504  FIFA World Cup qualification       São Paulo  Brazil    False  \n26933  FIFA World Cup qualification  Belo Horizonte  Brazil    False  \n30765  FIFA World Cup qualification  Belo Horizonte  Brazil    False  \n33883  Superclásico de las Américas           Belém  Brazil    False  \n34874  Superclásico de las Américas         Goiânia  Brazil    False  \n38903  FIFA World Cup qualification  Belo Horizonte  Brazil    False  \n41380                  Copa América  Belo Horizonte  Brazil    False  \n42870                  Copa América  Rio de Janeiro  Brazil    False  ",
      "text/html": "<div>\n<style scoped>\n    .dataframe tbody tr th:only-of-type {\n        vertical-align: middle;\n    }\n\n    .dataframe tbody tr th {\n        vertical-align: top;\n    }\n\n    .dataframe thead th {\n        text-align: right;\n    }\n</style>\n<table border=\"1\" class=\"dataframe\">\n  <thead>\n    <tr style=\"text-align: right;\">\n      <th></th>\n      <th>date</th>\n      <th>home_team</th>\n      <th>away_team</th>\n      <th>home_score</th>\n      <th>away_score</th>\n      <th>tournament</th>\n      <th>city</th>\n      <th>country</th>\n      <th>neutral</th>\n    </tr>\n  </thead>\n  <tbody>\n    <tr>\n      <th>508</th>\n      <td>1919-05-18</td>\n      <td>Brazil</td>\n      <td>Argentina</td>\n      <td>3</td>\n      <td>1</td>\n      <td>Copa América</td>\n      <td>Rio de Janeiro</td>\n      <td>Brazil</td>\n      <td>False</td>\n    </tr>\n    <tr>\n      <th>515</th>\n      <td>1919-06-01</td>\n      <td>Brazil</td>\n      <td>Argentina</td>\n      <td>3</td>\n      <td>3</td>\n      <td>Friendly</td>\n      <td>Rio de Janeiro</td>\n      <td>Brazil</td>\n      <td>False</td>\n    </tr>\n    <tr>\n      <th>673</th>\n      <td>1922-10-15</td>\n      <td>Brazil</td>\n      <td>Argentina</td>\n      <td>2</td>\n      <td>0</td>\n      <td>Copa América</td>\n      <td>Rio de Janeiro</td>\n      <td>Brazil</td>\n      <td>False</td>\n    </tr>\n    <tr>\n      <th>678</th>\n      <td>1922-10-22</td>\n      <td>Brazil</td>\n      <td>Argentina</td>\n      <td>2</td>\n      <td>1</td>\n      <td>Copa Roca</td>\n      <td>São Paulo</td>\n      <td>Brazil</td>\n      <td>False</td>\n    </tr>\n    <tr>\n      <th>2189</th>\n      <td>1939-01-15</td>\n      <td>Brazil</td>\n      <td>Argentina</td>\n      <td>1</td>\n      <td>5</td>\n      <td>Copa Roca</td>\n      <td>Rio de Janeiro</td>\n      <td>Brazil</td>\n      <td>False</td>\n    </tr>\n    <tr>\n      <th>2192</th>\n      <td>1939-01-22</td>\n      <td>Brazil</td>\n      <td>Argentina</td>\n      <td>3</td>\n      <td>2</td>\n      <td>Copa Roca</td>\n      <td>Rio de Janeiro</td>\n      <td>Brazil</td>\n      <td>False</td>\n    </tr>\n    <tr>\n      <th>2275</th>\n      <td>1940-02-18</td>\n      <td>Brazil</td>\n      <td>Argentina</td>\n      <td>2</td>\n      <td>2</td>\n      <td>Copa Roca</td>\n      <td>São Paulo</td>\n      <td>Brazil</td>\n      <td>False</td>\n    </tr>\n    <tr>\n      <th>2278</th>\n      <td>1940-02-25</td>\n      <td>Brazil</td>\n      <td>Argentina</td>\n      <td>0</td>\n      <td>3</td>\n      <td>Copa Roca</td>\n      <td>São Paulo</td>\n      <td>Brazil</td>\n      <td>False</td>\n    </tr>\n    <tr>\n      <th>2565</th>\n      <td>1945-12-16</td>\n      <td>Brazil</td>\n      <td>Argentina</td>\n      <td>3</td>\n      <td>4</td>\n      <td>Copa Roca</td>\n      <td>São Paulo</td>\n      <td>Brazil</td>\n      <td>False</td>\n    </tr>\n    <tr>\n      <th>2566</th>\n      <td>1945-12-20</td>\n      <td>Brazil</td>\n      <td>Argentina</td>\n      <td>6</td>\n      <td>2</td>\n      <td>Copa Roca</td>\n      <td>Rio de Janeiro</td>\n      <td>Brazil</td>\n      <td>False</td>\n    </tr>\n    <tr>\n      <th>2567</th>\n      <td>1945-12-23</td>\n      <td>Brazil</td>\n      <td>Argentina</td>\n      <td>3</td>\n      <td>1</td>\n      <td>Copa Roca</td>\n      <td>Rio de Janeiro</td>\n      <td>Brazil</td>\n      <td>False</td>\n    </tr>\n    <tr>\n      <th>4204</th>\n      <td>1957-07-07</td>\n      <td>Brazil</td>\n      <td>Argentina</td>\n      <td>1</td>\n      <td>2</td>\n      <td>Copa Roca</td>\n      <td>Rio de Janeiro</td>\n      <td>Brazil</td>\n      <td>False</td>\n    </tr>\n    <tr>\n      <th>4207</th>\n      <td>1957-07-10</td>\n      <td>Brazil</td>\n      <td>Argentina</td>\n      <td>2</td>\n      <td>0</td>\n      <td>Copa Roca</td>\n      <td>São Paulo</td>\n      <td>Brazil</td>\n      <td>False</td>\n    </tr>\n    <tr>\n      <th>4753</th>\n      <td>1960-07-12</td>\n      <td>Brazil</td>\n      <td>Argentina</td>\n      <td>5</td>\n      <td>1</td>\n      <td>Atlantic Cup</td>\n      <td>Rio de Janeiro</td>\n      <td>Brazil</td>\n      <td>False</td>\n    </tr>\n    <tr>\n      <th>5400</th>\n      <td>1963-04-13</td>\n      <td>Brazil</td>\n      <td>Argentina</td>\n      <td>2</td>\n      <td>3</td>\n      <td>Copa Roca</td>\n      <td>São Paulo</td>\n      <td>Brazil</td>\n      <td>False</td>\n    </tr>\n    <tr>\n      <th>5401</th>\n      <td>1963-04-16</td>\n      <td>Brazil</td>\n      <td>Argentina</td>\n      <td>5</td>\n      <td>2</td>\n      <td>Copa Roca</td>\n      <td>Rio de Janeiro</td>\n      <td>Brazil</td>\n      <td>False</td>\n    </tr>\n    <tr>\n      <th>5651</th>\n      <td>1964-06-03</td>\n      <td>Brazil</td>\n      <td>Argentina</td>\n      <td>0</td>\n      <td>3</td>\n      <td>Friendly</td>\n      <td>São Paulo</td>\n      <td>Brazil</td>\n      <td>False</td>\n    </tr>\n    <tr>\n      <th>5912</th>\n      <td>1965-06-09</td>\n      <td>Brazil</td>\n      <td>Argentina</td>\n      <td>0</td>\n      <td>0</td>\n      <td>Friendly</td>\n      <td>Rio de Janeiro</td>\n      <td>Brazil</td>\n      <td>False</td>\n    </tr>\n    <tr>\n      <th>6910</th>\n      <td>1968-08-07</td>\n      <td>Brazil</td>\n      <td>Argentina</td>\n      <td>4</td>\n      <td>1</td>\n      <td>Friendly</td>\n      <td>Rio de Janeiro</td>\n      <td>Brazil</td>\n      <td>False</td>\n    </tr>\n    <tr>\n      <th>6914</th>\n      <td>1968-08-11</td>\n      <td>Brazil</td>\n      <td>Argentina</td>\n      <td>3</td>\n      <td>2</td>\n      <td>Friendly</td>\n      <td>Belo Horizonte</td>\n      <td>Brazil</td>\n      <td>False</td>\n    </tr>\n    <tr>\n      <th>7499</th>\n      <td>1970-03-04</td>\n      <td>Brazil</td>\n      <td>Argentina</td>\n      <td>0</td>\n      <td>2</td>\n      <td>Friendly</td>\n      <td>Porto Alegre</td>\n      <td>Brazil</td>\n      <td>False</td>\n    </tr>\n    <tr>\n      <th>7501</th>\n      <td>1970-03-08</td>\n      <td>Brazil</td>\n      <td>Argentina</td>\n      <td>2</td>\n      <td>1</td>\n      <td>Friendly</td>\n      <td>Rio de Janeiro</td>\n      <td>Brazil</td>\n      <td>False</td>\n    </tr>\n    <tr>\n      <th>9637</th>\n      <td>1975-08-06</td>\n      <td>Brazil</td>\n      <td>Argentina</td>\n      <td>2</td>\n      <td>1</td>\n      <td>Copa América</td>\n      <td>Belo Horizonte</td>\n      <td>Brazil</td>\n      <td>False</td>\n    </tr>\n    <tr>\n      <th>9927</th>\n      <td>1976-05-19</td>\n      <td>Brazil</td>\n      <td>Argentina</td>\n      <td>2</td>\n      <td>0</td>\n      <td>Copa Roca</td>\n      <td>Rio de Janeiro</td>\n      <td>Brazil</td>\n      <td>False</td>\n    </tr>\n    <tr>\n      <th>11196</th>\n      <td>1979-08-02</td>\n      <td>Brazil</td>\n      <td>Argentina</td>\n      <td>2</td>\n      <td>1</td>\n      <td>Copa América</td>\n      <td>Rio de Janeiro</td>\n      <td>Brazil</td>\n      <td>False</td>\n    </tr>\n    <tr>\n      <th>13059</th>\n      <td>1983-09-14</td>\n      <td>Brazil</td>\n      <td>Argentina</td>\n      <td>0</td>\n      <td>0</td>\n      <td>Copa América</td>\n      <td>Rio de Janeiro</td>\n      <td>Brazil</td>\n      <td>False</td>\n    </tr>\n    <tr>\n      <th>13379</th>\n      <td>1984-06-17</td>\n      <td>Brazil</td>\n      <td>Argentina</td>\n      <td>0</td>\n      <td>0</td>\n      <td>Friendly</td>\n      <td>São Paulo</td>\n      <td>Brazil</td>\n      <td>False</td>\n    </tr>\n    <tr>\n      <th>13998</th>\n      <td>1985-05-05</td>\n      <td>Brazil</td>\n      <td>Argentina</td>\n      <td>2</td>\n      <td>1</td>\n      <td>Friendly</td>\n      <td>Salvador</td>\n      <td>Brazil</td>\n      <td>False</td>\n    </tr>\n    <tr>\n      <th>15962</th>\n      <td>1989-07-12</td>\n      <td>Brazil</td>\n      <td>Argentina</td>\n      <td>2</td>\n      <td>0</td>\n      <td>Copa América</td>\n      <td>Rio de Janeiro</td>\n      <td>Brazil</td>\n      <td>False</td>\n    </tr>\n    <tr>\n      <th>16866</th>\n      <td>1991-06-27</td>\n      <td>Brazil</td>\n      <td>Argentina</td>\n      <td>1</td>\n      <td>1</td>\n      <td>Friendly</td>\n      <td>Curitiba</td>\n      <td>Brazil</td>\n      <td>False</td>\n    </tr>\n    <tr>\n      <th>18552</th>\n      <td>1994-03-23</td>\n      <td>Brazil</td>\n      <td>Argentina</td>\n      <td>2</td>\n      <td>0</td>\n      <td>Friendly</td>\n      <td>Recife</td>\n      <td>Brazil</td>\n      <td>False</td>\n    </tr>\n    <tr>\n      <th>21579</th>\n      <td>1998-04-29</td>\n      <td>Brazil</td>\n      <td>Argentina</td>\n      <td>0</td>\n      <td>1</td>\n      <td>Friendly</td>\n      <td>Rio de Janeiro</td>\n      <td>Brazil</td>\n      <td>False</td>\n    </tr>\n    <tr>\n      <th>22621</th>\n      <td>1999-09-07</td>\n      <td>Brazil</td>\n      <td>Argentina</td>\n      <td>4</td>\n      <td>2</td>\n      <td>Friendly</td>\n      <td>Porto Alegre</td>\n      <td>Brazil</td>\n      <td>False</td>\n    </tr>\n    <tr>\n      <th>23504</th>\n      <td>2000-07-26</td>\n      <td>Brazil</td>\n      <td>Argentina</td>\n      <td>3</td>\n      <td>1</td>\n      <td>FIFA World Cup qualification</td>\n      <td>São Paulo</td>\n      <td>Brazil</td>\n      <td>False</td>\n    </tr>\n    <tr>\n      <th>26933</th>\n      <td>2004-06-02</td>\n      <td>Brazil</td>\n      <td>Argentina</td>\n      <td>3</td>\n      <td>1</td>\n      <td>FIFA World Cup qualification</td>\n      <td>Belo Horizonte</td>\n      <td>Brazil</td>\n      <td>False</td>\n    </tr>\n    <tr>\n      <th>30765</th>\n      <td>2008-06-18</td>\n      <td>Brazil</td>\n      <td>Argentina</td>\n      <td>0</td>\n      <td>0</td>\n      <td>FIFA World Cup qualification</td>\n      <td>Belo Horizonte</td>\n      <td>Brazil</td>\n      <td>False</td>\n    </tr>\n    <tr>\n      <th>33883</th>\n      <td>2011-09-28</td>\n      <td>Brazil</td>\n      <td>Argentina</td>\n      <td>2</td>\n      <td>0</td>\n      <td>Superclásico de las Américas</td>\n      <td>Belém</td>\n      <td>Brazil</td>\n      <td>False</td>\n    </tr>\n    <tr>\n      <th>34874</th>\n      <td>2012-09-19</td>\n      <td>Brazil</td>\n      <td>Argentina</td>\n      <td>2</td>\n      <td>1</td>\n      <td>Superclásico de las Américas</td>\n      <td>Goiânia</td>\n      <td>Brazil</td>\n      <td>False</td>\n    </tr>\n    <tr>\n      <th>38903</th>\n      <td>2016-11-10</td>\n      <td>Brazil</td>\n      <td>Argentina</td>\n      <td>3</td>\n      <td>0</td>\n      <td>FIFA World Cup qualification</td>\n      <td>Belo Horizonte</td>\n      <td>Brazil</td>\n      <td>False</td>\n    </tr>\n    <tr>\n      <th>41380</th>\n      <td>2019-07-02</td>\n      <td>Brazil</td>\n      <td>Argentina</td>\n      <td>2</td>\n      <td>0</td>\n      <td>Copa América</td>\n      <td>Belo Horizonte</td>\n      <td>Brazil</td>\n      <td>False</td>\n    </tr>\n    <tr>\n      <th>42870</th>\n      <td>2021-07-10</td>\n      <td>Brazil</td>\n      <td>Argentina</td>\n      <td>0</td>\n      <td>1</td>\n      <td>Copa América</td>\n      <td>Rio de Janeiro</td>\n      <td>Brazil</td>\n      <td>False</td>\n    </tr>\n  </tbody>\n</table>\n</div>"
     },
     "execution_count": 86,
     "metadata": {},
     "output_type": "execute_result"
    }
   ],
   "source": [
    "df_resultados[(df_resultados[\"home_team\"] == \"Brazil\") & (df_resultados[\"away_team\"] == \"Argentina\") & (df_resultados[\"country\"] == \"Brazil\")]"
   ],
   "metadata": {
    "collapsed": false,
    "ExecuteTime": {
     "end_time": "2023-07-21T14:26:28.278996900Z",
     "start_time": "2023-07-21T14:26:28.240875600Z"
    }
   }
  },
  {
   "cell_type": "code",
   "execution_count": 87,
   "outputs": [
    {
     "data": {
      "text/plain": "508      Rio de Janeiro\n515      Rio de Janeiro\n673      Rio de Janeiro\n678           São Paulo\n2189     Rio de Janeiro\n2192     Rio de Janeiro\n2275          São Paulo\n2278          São Paulo\n2565          São Paulo\n2566     Rio de Janeiro\n2567     Rio de Janeiro\n4204     Rio de Janeiro\n4207          São Paulo\n4753     Rio de Janeiro\n5400          São Paulo\n5401     Rio de Janeiro\n5651          São Paulo\n5912     Rio de Janeiro\n6910     Rio de Janeiro\n6914     Belo Horizonte\n7499       Porto Alegre\n7501     Rio de Janeiro\n9637     Belo Horizonte\n9927     Rio de Janeiro\n11196    Rio de Janeiro\n13059    Rio de Janeiro\n13379         São Paulo\n13998          Salvador\n15962    Rio de Janeiro\n16866          Curitiba\n18552            Recife\n21579    Rio de Janeiro\n22621      Porto Alegre\n23504         São Paulo\n26933    Belo Horizonte\n30765    Belo Horizonte\n33883             Belém\n34874           Goiânia\n38903    Belo Horizonte\n41380    Belo Horizonte\n42870    Rio de Janeiro\nName: city, dtype: object"
     },
     "execution_count": 87,
     "metadata": {},
     "output_type": "execute_result"
    }
   ],
   "source": [
    "# O resultado do filtro é um DataFrame, você pode continuar selecionando colunas a partir do filtro\n",
    "\n",
    "df_resultados[(df_resultados[\"home_team\"] == \"Brazil\") & (df_resultados[\"away_team\"] == \"Argentina\") & (df_resultados[\"country\"] == \"Brazil\")][\"city\"]"
   ],
   "metadata": {
    "collapsed": false,
    "ExecuteTime": {
     "end_time": "2023-07-21T14:27:36.528266800Z",
     "start_time": "2023-07-21T14:27:36.503836800Z"
    }
   }
  },
  {
   "cell_type": "code",
   "execution_count": 95,
   "outputs": [
    {
     "data": {
      "text/plain": "0    False\n1    False\n2    False\n3    False\n4    False\ndtype: bool"
     },
     "execution_count": 95,
     "metadata": {},
     "output_type": "execute_result"
    }
   ],
   "source": [
    "# Também é possível comparar colunas no filtro\n",
    "(df_resultados[\"away_team\"] == df_resultados[\"country\"]).head() # Separando os jogos que o time visitante jogou em seu país"
   ],
   "metadata": {
    "collapsed": false,
    "ExecuteTime": {
     "end_time": "2023-07-21T14:31:31.274708400Z",
     "start_time": "2023-07-21T14:31:31.251640500Z"
    }
   }
  },
  {
   "cell_type": "code",
   "execution_count": 96,
   "outputs": [
    {
     "data": {
      "text/plain": "             date  home_team away_team  home_score  away_score tournament  \\\n785    1924-03-13  Catalonia     Spain           0           7   Friendly   \n1615   1933-10-04    Silesia    Poland           1           2   Friendly   \n1647   1934-02-02  Catalonia     Spain           0           2   Friendly   \n2753   1947-10-19  Catalonia     Spain           3           1   Friendly   \n3486   1953-04-26    Silesia    Poland           2           3   Friendly   \n3526   1953-08-09  Catalonia     Spain           0           6   Friendly   \n3539   1953-09-13    Silesia    Poland           3           3   Friendly   \n29242  2006-12-09    Silesia    Poland           1           1   Friendly   \n\n            city country  neutral  \n785    Barcelona   Spain    False  \n1615    Katowice  Poland    False  \n1647   Barcelona   Spain    False  \n2753   Barcelona   Spain    False  \n3486     Chorzów  Poland    False  \n3526   Barcelona   Spain    False  \n3539       Byton  Poland    False  \n29242    Chorzów  Poland    False  ",
      "text/html": "<div>\n<style scoped>\n    .dataframe tbody tr th:only-of-type {\n        vertical-align: middle;\n    }\n\n    .dataframe tbody tr th {\n        vertical-align: top;\n    }\n\n    .dataframe thead th {\n        text-align: right;\n    }\n</style>\n<table border=\"1\" class=\"dataframe\">\n  <thead>\n    <tr style=\"text-align: right;\">\n      <th></th>\n      <th>date</th>\n      <th>home_team</th>\n      <th>away_team</th>\n      <th>home_score</th>\n      <th>away_score</th>\n      <th>tournament</th>\n      <th>city</th>\n      <th>country</th>\n      <th>neutral</th>\n    </tr>\n  </thead>\n  <tbody>\n    <tr>\n      <th>785</th>\n      <td>1924-03-13</td>\n      <td>Catalonia</td>\n      <td>Spain</td>\n      <td>0</td>\n      <td>7</td>\n      <td>Friendly</td>\n      <td>Barcelona</td>\n      <td>Spain</td>\n      <td>False</td>\n    </tr>\n    <tr>\n      <th>1615</th>\n      <td>1933-10-04</td>\n      <td>Silesia</td>\n      <td>Poland</td>\n      <td>1</td>\n      <td>2</td>\n      <td>Friendly</td>\n      <td>Katowice</td>\n      <td>Poland</td>\n      <td>False</td>\n    </tr>\n    <tr>\n      <th>1647</th>\n      <td>1934-02-02</td>\n      <td>Catalonia</td>\n      <td>Spain</td>\n      <td>0</td>\n      <td>2</td>\n      <td>Friendly</td>\n      <td>Barcelona</td>\n      <td>Spain</td>\n      <td>False</td>\n    </tr>\n    <tr>\n      <th>2753</th>\n      <td>1947-10-19</td>\n      <td>Catalonia</td>\n      <td>Spain</td>\n      <td>3</td>\n      <td>1</td>\n      <td>Friendly</td>\n      <td>Barcelona</td>\n      <td>Spain</td>\n      <td>False</td>\n    </tr>\n    <tr>\n      <th>3486</th>\n      <td>1953-04-26</td>\n      <td>Silesia</td>\n      <td>Poland</td>\n      <td>2</td>\n      <td>3</td>\n      <td>Friendly</td>\n      <td>Chorzów</td>\n      <td>Poland</td>\n      <td>False</td>\n    </tr>\n    <tr>\n      <th>3526</th>\n      <td>1953-08-09</td>\n      <td>Catalonia</td>\n      <td>Spain</td>\n      <td>0</td>\n      <td>6</td>\n      <td>Friendly</td>\n      <td>Barcelona</td>\n      <td>Spain</td>\n      <td>False</td>\n    </tr>\n    <tr>\n      <th>3539</th>\n      <td>1953-09-13</td>\n      <td>Silesia</td>\n      <td>Poland</td>\n      <td>3</td>\n      <td>3</td>\n      <td>Friendly</td>\n      <td>Byton</td>\n      <td>Poland</td>\n      <td>False</td>\n    </tr>\n    <tr>\n      <th>29242</th>\n      <td>2006-12-09</td>\n      <td>Silesia</td>\n      <td>Poland</td>\n      <td>1</td>\n      <td>1</td>\n      <td>Friendly</td>\n      <td>Chorzów</td>\n      <td>Poland</td>\n      <td>False</td>\n    </tr>\n  </tbody>\n</table>\n</div>"
     },
     "execution_count": 96,
     "metadata": {},
     "output_type": "execute_result"
    }
   ],
   "source": [
    "df_resultados[df_resultados[\"away_team\"] == df_resultados[\"country\"]]"
   ],
   "metadata": {
    "collapsed": false,
    "ExecuteTime": {
     "end_time": "2023-07-21T14:31:37.366666800Z",
     "start_time": "2023-07-21T14:31:37.336680300Z"
    }
   }
  },
  {
   "cell_type": "code",
   "execution_count": 98,
   "outputs": [
    {
     "data": {
      "text/plain": "0    False\n1    False\n2    False\n3    False\n4    False\nName: home_team, dtype: bool"
     },
     "execution_count": 98,
     "metadata": {},
     "output_type": "execute_result"
    }
   ],
   "source": [
    "## Também é possível utilizar funções nos filtros\n",
    "\n",
    "df_resultados[\"home_team\"].isin([\"Brazil\", \"Argentina\"]).head() # Essa função retorna true caso o país esteja na lista"
   ],
   "metadata": {
    "collapsed": false,
    "ExecuteTime": {
     "end_time": "2023-07-21T14:33:14.216331800Z",
     "start_time": "2023-07-21T14:33:14.188475Z"
    }
   }
  },
  {
   "cell_type": "code",
   "execution_count": 102,
   "outputs": [
    {
     "data": {
      "text/plain": "       home_team  away_team                   tournament\n155    Argentina    Uruguay                     Friendly\n177    Argentina    Uruguay                  Copa Lipton\n190    Argentina    Uruguay                  Copa Newton\n226    Argentina    Uruguay                  Copa Newton\n227    Argentina    Uruguay  Copa Premio Honor Argentino\n...          ...        ...                          ...\n44402  Argentina     Panama                     Friendly\n44530  Argentina    Curaçao                     Friendly\n44603  Argentina  Australia                     Friendly\n44640     Brazil     Guinea                     Friendly\n44688     Brazil    Senegal                     Friendly\n\n[1174 rows x 3 columns]",
      "text/html": "<div>\n<style scoped>\n    .dataframe tbody tr th:only-of-type {\n        vertical-align: middle;\n    }\n\n    .dataframe tbody tr th {\n        vertical-align: top;\n    }\n\n    .dataframe thead th {\n        text-align: right;\n    }\n</style>\n<table border=\"1\" class=\"dataframe\">\n  <thead>\n    <tr style=\"text-align: right;\">\n      <th></th>\n      <th>home_team</th>\n      <th>away_team</th>\n      <th>tournament</th>\n    </tr>\n  </thead>\n  <tbody>\n    <tr>\n      <th>155</th>\n      <td>Argentina</td>\n      <td>Uruguay</td>\n      <td>Friendly</td>\n    </tr>\n    <tr>\n      <th>177</th>\n      <td>Argentina</td>\n      <td>Uruguay</td>\n      <td>Copa Lipton</td>\n    </tr>\n    <tr>\n      <th>190</th>\n      <td>Argentina</td>\n      <td>Uruguay</td>\n      <td>Copa Newton</td>\n    </tr>\n    <tr>\n      <th>226</th>\n      <td>Argentina</td>\n      <td>Uruguay</td>\n      <td>Copa Newton</td>\n    </tr>\n    <tr>\n      <th>227</th>\n      <td>Argentina</td>\n      <td>Uruguay</td>\n      <td>Copa Premio Honor Argentino</td>\n    </tr>\n    <tr>\n      <th>...</th>\n      <td>...</td>\n      <td>...</td>\n      <td>...</td>\n    </tr>\n    <tr>\n      <th>44402</th>\n      <td>Argentina</td>\n      <td>Panama</td>\n      <td>Friendly</td>\n    </tr>\n    <tr>\n      <th>44530</th>\n      <td>Argentina</td>\n      <td>Curaçao</td>\n      <td>Friendly</td>\n    </tr>\n    <tr>\n      <th>44603</th>\n      <td>Argentina</td>\n      <td>Australia</td>\n      <td>Friendly</td>\n    </tr>\n    <tr>\n      <th>44640</th>\n      <td>Brazil</td>\n      <td>Guinea</td>\n      <td>Friendly</td>\n    </tr>\n    <tr>\n      <th>44688</th>\n      <td>Brazil</td>\n      <td>Senegal</td>\n      <td>Friendly</td>\n    </tr>\n  </tbody>\n</table>\n<p>1174 rows × 3 columns</p>\n</div>"
     },
     "execution_count": 102,
     "metadata": {},
     "output_type": "execute_result"
    }
   ],
   "source": [
    "df_resultados[df_resultados[\"home_team\"].isin([\"Brazil\", \"Argentina\"])][[\"home_team\", \"away_team\", \"tournament\"]]"
   ],
   "metadata": {
    "collapsed": false,
    "ExecuteTime": {
     "end_time": "2023-07-21T14:38:34.943041Z",
     "start_time": "2023-07-21T14:38:34.908428900Z"
    }
   }
  },
  {
   "cell_type": "markdown",
   "source": [
    "Para usar pandas/python em análise de dados como ferramente principal é de fundamental importancia que vc esteja *MUITO CONFORTÁVEL* com filtros/seleção, separe um tempo e faça testes com os filtros por conta própria, caso necessário, leia novamente a seção anterior, qualquer dúvida pode me procurar"
   ],
   "metadata": {
    "collapsed": false
   }
  },
  {
   "cell_type": "markdown",
   "source": [
    "## Operações com Index"
   ],
   "metadata": {
    "collapsed": false
   }
  },
  {
   "cell_type": "markdown",
   "source": [
    "Algumas operações com index são mostradas abaixo, tenho o costume de utilizar mais filtro em colunas, porém há operações úteis com index"
   ],
   "metadata": {
    "collapsed": false
   }
  },
  {
   "cell_type": "code",
   "execution_count": 103,
   "outputs": [
    {
     "data": {
      "text/plain": "              Coluna1   Coluna2\nCorinthians  2.706850  0.651118\nPalmeiras    0.628133 -0.319318\nSantos       0.907969 -0.848077\nSão Paulo    0.503826  0.605965",
      "text/html": "<div>\n<style scoped>\n    .dataframe tbody tr th:only-of-type {\n        vertical-align: middle;\n    }\n\n    .dataframe tbody tr th {\n        vertical-align: top;\n    }\n\n    .dataframe thead th {\n        text-align: right;\n    }\n</style>\n<table border=\"1\" class=\"dataframe\">\n  <thead>\n    <tr style=\"text-align: right;\">\n      <th></th>\n      <th>Coluna1</th>\n      <th>Coluna2</th>\n    </tr>\n  </thead>\n  <tbody>\n    <tr>\n      <th>Corinthians</th>\n      <td>2.706850</td>\n      <td>0.651118</td>\n    </tr>\n    <tr>\n      <th>Palmeiras</th>\n      <td>0.628133</td>\n      <td>-0.319318</td>\n    </tr>\n    <tr>\n      <th>Santos</th>\n      <td>0.907969</td>\n      <td>-0.848077</td>\n    </tr>\n    <tr>\n      <th>São Paulo</th>\n      <td>0.503826</td>\n      <td>0.605965</td>\n    </tr>\n  </tbody>\n</table>\n</div>"
     },
     "execution_count": 103,
     "metadata": {},
     "output_type": "execute_result"
    }
   ],
   "source": [
    "df_dict"
   ],
   "metadata": {
    "collapsed": false,
    "ExecuteTime": {
     "end_time": "2023-07-21T14:51:04.980853300Z",
     "start_time": "2023-07-21T14:51:04.949487600Z"
    }
   }
  },
  {
   "cell_type": "markdown",
   "source": [
    "Nenhuma das mudanças abaixo são inplace, caso queira use reassing:\n",
    "df_dict = df_dict.reset_index()"
   ],
   "metadata": {
    "collapsed": false
   }
  },
  {
   "cell_type": "code",
   "execution_count": 104,
   "outputs": [
    {
     "data": {
      "text/plain": "         index   Coluna1   Coluna2\n0  Corinthians  2.706850  0.651118\n1    Palmeiras  0.628133 -0.319318\n2       Santos  0.907969 -0.848077\n3    São Paulo  0.503826  0.605965",
      "text/html": "<div>\n<style scoped>\n    .dataframe tbody tr th:only-of-type {\n        vertical-align: middle;\n    }\n\n    .dataframe tbody tr th {\n        vertical-align: top;\n    }\n\n    .dataframe thead th {\n        text-align: right;\n    }\n</style>\n<table border=\"1\" class=\"dataframe\">\n  <thead>\n    <tr style=\"text-align: right;\">\n      <th></th>\n      <th>index</th>\n      <th>Coluna1</th>\n      <th>Coluna2</th>\n    </tr>\n  </thead>\n  <tbody>\n    <tr>\n      <th>0</th>\n      <td>Corinthians</td>\n      <td>2.706850</td>\n      <td>0.651118</td>\n    </tr>\n    <tr>\n      <th>1</th>\n      <td>Palmeiras</td>\n      <td>0.628133</td>\n      <td>-0.319318</td>\n    </tr>\n    <tr>\n      <th>2</th>\n      <td>Santos</td>\n      <td>0.907969</td>\n      <td>-0.848077</td>\n    </tr>\n    <tr>\n      <th>3</th>\n      <td>São Paulo</td>\n      <td>0.503826</td>\n      <td>0.605965</td>\n    </tr>\n  </tbody>\n</table>\n</div>"
     },
     "execution_count": 104,
     "metadata": {},
     "output_type": "execute_result"
    }
   ],
   "source": [
    "# resetar o indíce\n",
    "df_dict.reset_index()\n",
    "# perceba que o índice anterior virou uma coluna chamada \"index\""
   ],
   "metadata": {
    "collapsed": false,
    "ExecuteTime": {
     "end_time": "2023-07-21T14:51:11.881097400Z",
     "start_time": "2023-07-21T14:51:11.835648300Z"
    }
   }
  },
  {
   "cell_type": "code",
   "execution_count": 105,
   "outputs": [
    {
     "data": {
      "text/plain": "    Coluna1   Coluna2\n0  2.706850  0.651118\n1  0.628133 -0.319318\n2  0.907969 -0.848077\n3  0.503826  0.605965",
      "text/html": "<div>\n<style scoped>\n    .dataframe tbody tr th:only-of-type {\n        vertical-align: middle;\n    }\n\n    .dataframe tbody tr th {\n        vertical-align: top;\n    }\n\n    .dataframe thead th {\n        text-align: right;\n    }\n</style>\n<table border=\"1\" class=\"dataframe\">\n  <thead>\n    <tr style=\"text-align: right;\">\n      <th></th>\n      <th>Coluna1</th>\n      <th>Coluna2</th>\n    </tr>\n  </thead>\n  <tbody>\n    <tr>\n      <th>0</th>\n      <td>2.706850</td>\n      <td>0.651118</td>\n    </tr>\n    <tr>\n      <th>1</th>\n      <td>0.628133</td>\n      <td>-0.319318</td>\n    </tr>\n    <tr>\n      <th>2</th>\n      <td>0.907969</td>\n      <td>-0.848077</td>\n    </tr>\n    <tr>\n      <th>3</th>\n      <td>0.503826</td>\n      <td>0.605965</td>\n    </tr>\n  </tbody>\n</table>\n</div>"
     },
     "execution_count": 105,
     "metadata": {},
     "output_type": "execute_result"
    }
   ],
   "source": [
    "df_dict.reset_index(drop=True) # Também é possível resetar o index sem manter o anterior"
   ],
   "metadata": {
    "collapsed": false,
    "ExecuteTime": {
     "end_time": "2023-07-21T14:51:48.898345200Z",
     "start_time": "2023-07-21T14:51:48.853246800Z"
    }
   }
  },
  {
   "cell_type": "code",
   "execution_count": 119,
   "outputs": [],
   "source": [
    "novo_indice = [\"Timão\", \"Porco\", \"Peixe\", \"Trikas\"]"
   ],
   "metadata": {
    "collapsed": false,
    "ExecuteTime": {
     "end_time": "2023-07-21T14:58:39.802617700Z",
     "start_time": "2023-07-21T14:58:39.766227400Z"
    }
   }
  },
  {
   "cell_type": "code",
   "execution_count": 120,
   "outputs": [
    {
     "data": {
      "text/plain": "              Coluna1   Coluna2 Apelido\nCorinthians  2.706850  0.651118   Timão\nPalmeiras    0.628133 -0.319318   Porco\nSantos       0.907969 -0.848077   Peixe\nSão Paulo    0.503826  0.605965  Trikas",
      "text/html": "<div>\n<style scoped>\n    .dataframe tbody tr th:only-of-type {\n        vertical-align: middle;\n    }\n\n    .dataframe tbody tr th {\n        vertical-align: top;\n    }\n\n    .dataframe thead th {\n        text-align: right;\n    }\n</style>\n<table border=\"1\" class=\"dataframe\">\n  <thead>\n    <tr style=\"text-align: right;\">\n      <th></th>\n      <th>Coluna1</th>\n      <th>Coluna2</th>\n      <th>Apelido</th>\n    </tr>\n  </thead>\n  <tbody>\n    <tr>\n      <th>Corinthians</th>\n      <td>2.706850</td>\n      <td>0.651118</td>\n      <td>Timão</td>\n    </tr>\n    <tr>\n      <th>Palmeiras</th>\n      <td>0.628133</td>\n      <td>-0.319318</td>\n      <td>Porco</td>\n    </tr>\n    <tr>\n      <th>Santos</th>\n      <td>0.907969</td>\n      <td>-0.848077</td>\n      <td>Peixe</td>\n    </tr>\n    <tr>\n      <th>São Paulo</th>\n      <td>0.503826</td>\n      <td>0.605965</td>\n      <td>Trikas</td>\n    </tr>\n  </tbody>\n</table>\n</div>"
     },
     "execution_count": 120,
     "metadata": {},
     "output_type": "execute_result"
    }
   ],
   "source": [
    "df_dict_aux = df_dict.copy()\n",
    "df_dict_aux[\"Apelido\"] = novo_indice\n",
    "df_dict_aux"
   ],
   "metadata": {
    "collapsed": false,
    "ExecuteTime": {
     "end_time": "2023-07-21T14:58:39.985235700Z",
     "start_time": "2023-07-21T14:58:39.936170500Z"
    }
   }
  },
  {
   "cell_type": "code",
   "execution_count": 121,
   "outputs": [
    {
     "data": {
      "text/plain": "          Coluna1   Coluna2\nApelido                    \nTimão    2.706850  0.651118\nPorco    0.628133 -0.319318\nPeixe    0.907969 -0.848077\nTrikas   0.503826  0.605965",
      "text/html": "<div>\n<style scoped>\n    .dataframe tbody tr th:only-of-type {\n        vertical-align: middle;\n    }\n\n    .dataframe tbody tr th {\n        vertical-align: top;\n    }\n\n    .dataframe thead th {\n        text-align: right;\n    }\n</style>\n<table border=\"1\" class=\"dataframe\">\n  <thead>\n    <tr style=\"text-align: right;\">\n      <th></th>\n      <th>Coluna1</th>\n      <th>Coluna2</th>\n    </tr>\n    <tr>\n      <th>Apelido</th>\n      <th></th>\n      <th></th>\n    </tr>\n  </thead>\n  <tbody>\n    <tr>\n      <th>Timão</th>\n      <td>2.706850</td>\n      <td>0.651118</td>\n    </tr>\n    <tr>\n      <th>Porco</th>\n      <td>0.628133</td>\n      <td>-0.319318</td>\n    </tr>\n    <tr>\n      <th>Peixe</th>\n      <td>0.907969</td>\n      <td>-0.848077</td>\n    </tr>\n    <tr>\n      <th>Trikas</th>\n      <td>0.503826</td>\n      <td>0.605965</td>\n    </tr>\n  </tbody>\n</table>\n</div>"
     },
     "execution_count": 121,
     "metadata": {},
     "output_type": "execute_result"
    }
   ],
   "source": [
    "df_dict_aux.set_index(\"Apelido\")"
   ],
   "metadata": {
    "collapsed": false,
    "ExecuteTime": {
     "end_time": "2023-07-21T14:58:40.266776400Z",
     "start_time": "2023-07-21T14:58:40.160884600Z"
    }
   }
  },
  {
   "cell_type": "markdown",
   "source": [
    "## Multi-Index - (Opcional)"
   ],
   "metadata": {
    "collapsed": false
   }
  },
  {
   "cell_type": "markdown",
   "source": [
    "Multi-index pode ser utilizado para filtros/seleção, tenho o costume de colocar tudo em colunas com .reset_index() e usar os filtros comentados na seção interior, porém fica a documentação"
   ],
   "metadata": {
    "collapsed": false
   }
  },
  {
   "cell_type": "code",
   "execution_count": 122,
   "outputs": [
    {
     "data": {
      "text/plain": "[('Corinthians', 'Mundiais'),\n ('Flamengo', 'Mundiais'),\n ('Corinthians', 'Libertadores'),\n ('Flamengo', 'Libertadores')]"
     },
     "execution_count": 122,
     "metadata": {},
     "output_type": "execute_result"
    }
   ],
   "source": [
    "# Nívei de índice\n",
    "exterior = [\"Corinthians\", \"Flamengo\", \"Corinthians\", \"Flamengo\"]\n",
    "interior = [\"Mundiais\", \"Mundiais\", \"Libertadores\", \"Libertadores\"]\n",
    "multi_index = list(zip(exterior, interior)) # Criando lista de tuplas\n",
    "multi_index"
   ],
   "metadata": {
    "collapsed": false,
    "ExecuteTime": {
     "end_time": "2023-07-21T15:03:31.061184800Z",
     "start_time": "2023-07-21T15:03:31.014458100Z"
    }
   }
  },
  {
   "cell_type": "code",
   "execution_count": 123,
   "outputs": [
    {
     "data": {
      "text/plain": "MultiIndex([('Corinthians',     'Mundiais'),\n            (   'Flamengo',     'Mundiais'),\n            ('Corinthians', 'Libertadores'),\n            (   'Flamengo', 'Libertadores')],\n           )"
     },
     "execution_count": 123,
     "metadata": {},
     "output_type": "execute_result"
    }
   ],
   "source": [
    "multi_index = pd.MultiIndex.from_tuples(multi_index)\n",
    "multi_index"
   ],
   "metadata": {
    "collapsed": false,
    "ExecuteTime": {
     "end_time": "2023-07-21T15:03:56.173879100Z",
     "start_time": "2023-07-21T15:03:56.090518100Z"
    }
   }
  },
  {
   "cell_type": "code",
   "execution_count": 138,
   "outputs": [
    {
     "data": {
      "text/plain": "                         Qtd.              Anos\nTimes       Campeonatos                        \nCorinthians Mundiais        2        2000, 2012\nFlamengo    Mundiais        1              1981\nCorinthians Libertadores    1              2012\nFlamengo    Libertadores    3  1981, 2019, 2022",
      "text/html": "<div>\n<style scoped>\n    .dataframe tbody tr th:only-of-type {\n        vertical-align: middle;\n    }\n\n    .dataframe tbody tr th {\n        vertical-align: top;\n    }\n\n    .dataframe thead th {\n        text-align: right;\n    }\n</style>\n<table border=\"1\" class=\"dataframe\">\n  <thead>\n    <tr style=\"text-align: right;\">\n      <th></th>\n      <th></th>\n      <th>Qtd.</th>\n      <th>Anos</th>\n    </tr>\n    <tr>\n      <th>Times</th>\n      <th>Campeonatos</th>\n      <th></th>\n      <th></th>\n    </tr>\n  </thead>\n  <tbody>\n    <tr>\n      <th>Corinthians</th>\n      <th>Mundiais</th>\n      <td>2</td>\n      <td>2000, 2012</td>\n    </tr>\n    <tr>\n      <th>Flamengo</th>\n      <th>Mundiais</th>\n      <td>1</td>\n      <td>1981</td>\n    </tr>\n    <tr>\n      <th>Corinthians</th>\n      <th>Libertadores</th>\n      <td>1</td>\n      <td>2012</td>\n    </tr>\n    <tr>\n      <th>Flamengo</th>\n      <th>Libertadores</th>\n      <td>3</td>\n      <td>1981, 2019, 2022</td>\n    </tr>\n  </tbody>\n</table>\n</div>"
     },
     "execution_count": 138,
     "metadata": {},
     "output_type": "execute_result"
    }
   ],
   "source": [
    "df = pd.DataFrame(\n",
    "    np.array(\n",
    "        [\n",
    "            [2, \"2000, 2012\"],\n",
    "            [1, \"1981\"],\n",
    "            [1, \"2012\"],\n",
    "            [3, \"1981, 2019, 2022\"]\n",
    "        ]\n",
    "    ),\n",
    "    index=multi_index,\n",
    "    columns=[\"Qtd.\", \"Anos\"]\n",
    ")\n",
    "df.index.names = [\"Times\", \"Campeonatos\"] # Nomeando indíces\n",
    "df"
   ],
   "metadata": {
    "collapsed": false,
    "ExecuteTime": {
     "end_time": "2023-07-21T15:12:19.783946Z",
     "start_time": "2023-07-21T15:12:19.732734600Z"
    }
   }
  },
  {
   "cell_type": "markdown",
   "source": [
    "Com o DataFrame criado é possível utilizar loc para navegar pelos índices"
   ],
   "metadata": {
    "collapsed": false
   }
  },
  {
   "cell_type": "code",
   "execution_count": 139,
   "outputs": [
    {
     "data": {
      "text/plain": "             Qtd.        Anos\nCampeonatos                  \nMundiais        2  2000, 2012\nLibertadores    1        2012",
      "text/html": "<div>\n<style scoped>\n    .dataframe tbody tr th:only-of-type {\n        vertical-align: middle;\n    }\n\n    .dataframe tbody tr th {\n        vertical-align: top;\n    }\n\n    .dataframe thead th {\n        text-align: right;\n    }\n</style>\n<table border=\"1\" class=\"dataframe\">\n  <thead>\n    <tr style=\"text-align: right;\">\n      <th></th>\n      <th>Qtd.</th>\n      <th>Anos</th>\n    </tr>\n    <tr>\n      <th>Campeonatos</th>\n      <th></th>\n      <th></th>\n    </tr>\n  </thead>\n  <tbody>\n    <tr>\n      <th>Mundiais</th>\n      <td>2</td>\n      <td>2000, 2012</td>\n    </tr>\n    <tr>\n      <th>Libertadores</th>\n      <td>1</td>\n      <td>2012</td>\n    </tr>\n  </tbody>\n</table>\n</div>"
     },
     "execution_count": 139,
     "metadata": {},
     "output_type": "execute_result"
    }
   ],
   "source": [
    "df.loc[\"Corinthians\"]"
   ],
   "metadata": {
    "collapsed": false,
    "ExecuteTime": {
     "end_time": "2023-07-21T15:12:20.587903Z",
     "start_time": "2023-07-21T15:12:20.551868500Z"
    }
   }
  },
  {
   "cell_type": "code",
   "execution_count": 140,
   "outputs": [
    {
     "data": {
      "text/plain": "Qtd.             2\nAnos    2000, 2012\nName: Mundiais, dtype: object"
     },
     "execution_count": 140,
     "metadata": {},
     "output_type": "execute_result"
    }
   ],
   "source": [
    "df.loc[\"Corinthians\"].loc[\"Mundiais\"]"
   ],
   "metadata": {
    "collapsed": false,
    "ExecuteTime": {
     "end_time": "2023-07-21T15:12:20.965447400Z",
     "start_time": "2023-07-21T15:12:20.927236800Z"
    }
   }
  },
  {
   "cell_type": "markdown",
   "source": [
    "Para multi-índices a ideia de usar o cross section (xs) é melhor utilizado, segue os exemplos"
   ],
   "metadata": {
    "collapsed": false
   }
  },
  {
   "cell_type": "code",
   "execution_count": 146,
   "outputs": [
    {
     "data": {
      "text/plain": "             Qtd.        Anos\nCampeonatos                  \nMundiais        2  2000, 2012\nLibertadores    1        2012",
      "text/html": "<div>\n<style scoped>\n    .dataframe tbody tr th:only-of-type {\n        vertical-align: middle;\n    }\n\n    .dataframe tbody tr th {\n        vertical-align: top;\n    }\n\n    .dataframe thead th {\n        text-align: right;\n    }\n</style>\n<table border=\"1\" class=\"dataframe\">\n  <thead>\n    <tr style=\"text-align: right;\">\n      <th></th>\n      <th>Qtd.</th>\n      <th>Anos</th>\n    </tr>\n    <tr>\n      <th>Campeonatos</th>\n      <th></th>\n      <th></th>\n    </tr>\n  </thead>\n  <tbody>\n    <tr>\n      <th>Mundiais</th>\n      <td>2</td>\n      <td>2000, 2012</td>\n    </tr>\n    <tr>\n      <th>Libertadores</th>\n      <td>1</td>\n      <td>2012</td>\n    </tr>\n  </tbody>\n</table>\n</div>"
     },
     "execution_count": 146,
     "metadata": {},
     "output_type": "execute_result"
    }
   ],
   "source": [
    "df.xs(\"Corinthians\")"
   ],
   "metadata": {
    "collapsed": false,
    "ExecuteTime": {
     "end_time": "2023-07-21T15:14:17.110189Z",
     "start_time": "2023-07-21T15:14:17.074642300Z"
    }
   }
  },
  {
   "cell_type": "code",
   "execution_count": 147,
   "outputs": [
    {
     "data": {
      "text/plain": "Qtd.             2\nAnos    2000, 2012\nName: (Corinthians, Mundiais), dtype: object"
     },
     "execution_count": 147,
     "metadata": {},
     "output_type": "execute_result"
    }
   ],
   "source": [
    "df.xs((\"Corinthians\", \"Mundiais\"))"
   ],
   "metadata": {
    "collapsed": false,
    "ExecuteTime": {
     "end_time": "2023-07-21T15:14:17.374251600Z",
     "start_time": "2023-07-21T15:14:17.335896500Z"
    }
   }
  },
  {
   "cell_type": "code",
   "execution_count": 148,
   "outputs": [
    {
     "data": {
      "text/plain": "            Qtd.        Anos\nTimes                       \nCorinthians    2  2000, 2012\nFlamengo       1        1981",
      "text/html": "<div>\n<style scoped>\n    .dataframe tbody tr th:only-of-type {\n        vertical-align: middle;\n    }\n\n    .dataframe tbody tr th {\n        vertical-align: top;\n    }\n\n    .dataframe thead th {\n        text-align: right;\n    }\n</style>\n<table border=\"1\" class=\"dataframe\">\n  <thead>\n    <tr style=\"text-align: right;\">\n      <th></th>\n      <th>Qtd.</th>\n      <th>Anos</th>\n    </tr>\n    <tr>\n      <th>Times</th>\n      <th></th>\n      <th></th>\n    </tr>\n  </thead>\n  <tbody>\n    <tr>\n      <th>Corinthians</th>\n      <td>2</td>\n      <td>2000, 2012</td>\n    </tr>\n    <tr>\n      <th>Flamengo</th>\n      <td>1</td>\n      <td>1981</td>\n    </tr>\n  </tbody>\n</table>\n</div>"
     },
     "execution_count": 148,
     "metadata": {},
     "output_type": "execute_result"
    }
   ],
   "source": [
    "df.xs(\"Mundiais\", level=\"Campeonatos\")"
   ],
   "metadata": {
    "collapsed": false,
    "ExecuteTime": {
     "end_time": "2023-07-21T15:14:17.580702400Z",
     "start_time": "2023-07-21T15:14:17.536436900Z"
    }
   }
  },
  {
   "cell_type": "code",
   "execution_count": null,
   "outputs": [],
   "source": [],
   "metadata": {
    "collapsed": false
   }
  }
 ],
 "metadata": {
  "kernelspec": {
   "display_name": "Python 3",
   "language": "python",
   "name": "python3"
  },
  "language_info": {
   "codemirror_mode": {
    "name": "ipython",
    "version": 2
   },
   "file_extension": ".py",
   "mimetype": "text/x-python",
   "name": "python",
   "nbconvert_exporter": "python",
   "pygments_lexer": "ipython2",
   "version": "2.7.6"
  }
 },
 "nbformat": 4,
 "nbformat_minor": 0
}
